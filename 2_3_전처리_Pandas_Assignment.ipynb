{
  "nbformat": 4,
  "nbformat_minor": 0,
  "metadata": {
    "colab": {
      "name": "2-3.전처리 - Pandas Assignment.ipynb",
      "private_outputs": true,
      "provenance": [],
      "authorship_tag": "ABX9TyONTz+xUry7GDlK6UCjF3v1",
      "include_colab_link": true
    },
    "kernelspec": {
      "name": "python3",
      "display_name": "Python 3"
    }
  },
  "cells": [
    {
      "cell_type": "markdown",
      "metadata": {
        "id": "view-in-github",
        "colab_type": "text"
      },
      "source": [
        "<a href=\"https://colab.research.google.com/github/junheeyoon/colab/blob/main/2_3_%EC%A0%84%EC%B2%98%EB%A6%AC_Pandas_Assignment.ipynb\" target=\"_parent\"><img src=\"https://colab.research.google.com/assets/colab-badge.svg\" alt=\"Open In Colab\"/></a>"
      ]
    },
    {
      "cell_type": "markdown",
      "metadata": {
        "id": "LOCica5Q3mRW"
      },
      "source": [
        "# 데이터 읽기"
      ]
    },
    {
      "cell_type": "code",
      "metadata": {
        "id": "jaL-UtJk3WuS"
      },
      "source": [
        "from google.colab import drive\n",
        "drive.mount('/content/drive')"
      ],
      "execution_count": null,
      "outputs": []
    },
    {
      "cell_type": "code",
      "metadata": {
        "id": "fpX274--4VoX"
      },
      "source": [
        "# 현재 경로 확인\n",
        "import os\n",
        "print(os.path.abspath(os.curdir))\n",
        "\n",
        "# Root 경로 설정\n",
        "import os\n",
        "os.chdir('/content/drive/MyDrive/데이터분석')"
      ],
      "execution_count": null,
      "outputs": []
    },
    {
      "cell_type": "markdown",
      "metadata": {
        "id": "S10R4sy24mNq"
      },
      "source": [
        "1) 데이터 읽기"
      ]
    },
    {
      "cell_type": "code",
      "metadata": {
        "id": "9zNs9mLc4juC"
      },
      "source": [
        "import pandas as pd\n",
        "path_to_data = './data/Titanic/train.csv'\n",
        "df = pd.read_csv(path_to_data, encoding='cp949')\n",
        "\n",
        "# DataFrame type 확인\n",
        "df.head()"
      ],
      "execution_count": null,
      "outputs": []
    },
    {
      "cell_type": "markdown",
      "metadata": {
        "id": "AiAICXlt5TPK"
      },
      "source": [
        "## 1. 타이타닉 데이터, '나이'에 대해서, z-score nomalization 할 것\n",
        "  - 표 & plot로 출력"
      ]
    },
    {
      "cell_type": "code",
      "metadata": {
        "id": "8LOUlsrODjai"
      },
      "source": [
        "#Age NaN 값 제거\n",
        "import numpy as np\n",
        "age_remove_nan = np.array(df['Age'].dropna())\n",
        "import scipy.stats as ss\n",
        "\n",
        "#zscore 값 출력\n",
        "age_zscore = ss.zscore(age_remove_nan)\n",
        "age_zscore"
      ],
      "execution_count": null,
      "outputs": []
    },
    {
      "cell_type": "code",
      "metadata": {
        "id": "3QpB10XOH3ym"
      },
      "source": [
        "#np_array -> DataFrame 변환(표)\n",
        "df_zscore = pd.DataFrame(age_zscore, columns=['AgeZscore'])\n",
        "df_zscore"
      ],
      "execution_count": null,
      "outputs": []
    },
    {
      "cell_type": "code",
      "metadata": {
        "id": "KfcFdC5iJubQ"
      },
      "source": [
        "#plot 형식으로 출력\n",
        "df_zscore.plot.hist(\n",
        "  bins = 100,\n",
        "  title = \"Histogram of the age_zscore variable\"\n",
        ")"
      ],
      "execution_count": null,
      "outputs": []
    },
    {
      "cell_type": "markdown",
      "metadata": {
        "id": "WGRK3bJWKhaJ"
      },
      "source": [
        "## 2. 타이타닉 데이터, '이름'을 제외한 나머지 feature들의 correlation 구하기\n",
        "  - Category 요소들의 encoding은 좋은 방법으로 알아서 할 것\n",
        "  - 'Survived'와 상관계수 가장 높은 feature와 가장 낮은 feature 찾기"
      ]
    },
    {
      "cell_type": "code",
      "metadata": {
        "id": "Za68qpH0VlpU"
      },
      "source": [
        "df.head()"
      ],
      "execution_count": null,
      "outputs": []
    },
    {
      "cell_type": "code",
      "metadata": {
        "id": "VB_7JfIMMlc6"
      },
      "source": [
        "#상관관계 표시 \n",
        "#(-1 : 음의 상관관계 / 0 : 상관없음 / 1 : 양의 상관관계)\n",
        "df.corr()"
      ],
      "execution_count": null,
      "outputs": []
    },
    {
      "cell_type": "code",
      "metadata": {
        "id": "jYHM5qbePM8L"
      },
      "source": [
        "#heatmap으로 상관관계를 표시\n",
        "import seaborn as sb\n",
        "from matplotlib import pyplot as plt\n",
        "plt.rcParams[\"figure.figsize\"] = (7,7)\n",
        "sb.heatmap(df.corr(),\n",
        "           annot = True, #실제 값 화면에 나타내기\n",
        "           cmap = 'Greens', #색상\n",
        "           vmin = -1, vmax=1 , #컬러차트 영역 -1 ~ +1\n",
        "          )"
      ],
      "execution_count": null,
      "outputs": []
    },
    {
      "cell_type": "markdown",
      "metadata": {
        "id": "gg7TedacDAJA"
      },
      "source": [
        "### 'Survived'와 상관계수 가장 높은 feature : Pclass\r\n",
        "### 'Survived'와 상관계수 가장 낮은 feature : PassengerId"
      ]
    },
    {
      "cell_type": "code",
      "metadata": {
        "id": "RlT-88sOUIBy"
      },
      "source": [
        "#등급(pclass)와의 관계\n",
        "plt.rcParams[\"figure.figsize\"] = (20,10)\n",
        "plt.rcParams['axes.grid'] = True \n",
        "\n",
        "def bar_chart(feature):\n",
        "    survived = df[df['Survived']==1][feature].value_counts()\n",
        "    dead = df[df['Survived']==0][feature].value_counts()\n",
        "    df_feature = pd.DataFrame([survived,dead])\n",
        "    df_feature.index = ['survived','dead']\n",
        "    df_feature.plot(kind='bar',stacked=True)\n",
        "bar_chart('Pclass')"
      ],
      "execution_count": null,
      "outputs": []
    }
  ]
}