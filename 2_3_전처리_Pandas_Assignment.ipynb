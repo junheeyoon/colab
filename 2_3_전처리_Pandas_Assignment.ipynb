{
  "nbformat": 4,
  "nbformat_minor": 0,
  "metadata": {
    "colab": {
      "name": "2-3.전처리 - Pandas Assignment.ipynb",
      "provenance": [],
      "authorship_tag": "ABX9TyPpPdWJzwmRe1wUETMYblI6",
      "include_colab_link": true
    },
    "kernelspec": {
      "name": "python3",
      "display_name": "Python 3"
    },
    "accelerator": "GPU"
  },
  "cells": [
    {
      "cell_type": "markdown",
      "metadata": {
        "id": "view-in-github",
        "colab_type": "text"
      },
      "source": [
        "<a href=\"https://colab.research.google.com/github/junheeyoon/colab/blob/master/2_3_%EC%A0%84%EC%B2%98%EB%A6%AC_Pandas_Assignment.ipynb\" target=\"_parent\"><img src=\"https://colab.research.google.com/assets/colab-badge.svg\" alt=\"Open In Colab\"/></a>"
      ]
    },
    {
      "cell_type": "markdown",
      "metadata": {
        "id": "LOCica5Q3mRW"
      },
      "source": [
        "# 데이터 읽기"
      ]
    },
    {
      "cell_type": "code",
      "metadata": {
        "id": "jaL-UtJk3WuS",
        "colab": {
          "base_uri": "https://localhost:8080/"
        },
        "outputId": "88ba5697-5f2b-458a-d753-8966a869a00c"
      },
      "source": [
        "from google.colab import drive\n",
        "drive.mount('/content/drive')"
      ],
      "execution_count": null,
      "outputs": [
        {
          "output_type": "stream",
          "text": [
            "Mounted at /content/drive\n"
          ],
          "name": "stdout"
        }
      ]
    },
    {
      "cell_type": "code",
      "metadata": {
        "id": "fpX274--4VoX",
        "colab": {
          "base_uri": "https://localhost:8080/"
        },
        "outputId": "db3ba684-c9cc-4404-e29a-ccd8583b9ea4"
      },
      "source": [
        "# 현재 경로 확인\n",
        "import os\n",
        "print(os.path.abspath(os.curdir))\n",
        "\n",
        "# Root 경로 설정\n",
        "import os\n",
        "os.chdir('/content/drive/MyDrive/데이터분석')"
      ],
      "execution_count": null,
      "outputs": [
        {
          "output_type": "stream",
          "text": [
            "/content\n"
          ],
          "name": "stdout"
        }
      ]
    },
    {
      "cell_type": "markdown",
      "metadata": {
        "id": "S10R4sy24mNq"
      },
      "source": [
        "1) 데이터 읽기"
      ]
    },
    {
      "cell_type": "code",
      "metadata": {
        "id": "9zNs9mLc4juC",
        "colab": {
          "base_uri": "https://localhost:8080/",
          "height": 202
        },
        "outputId": "ea35166b-a9b4-4049-d632-c5449ffdd782"
      },
      "source": [
        "import pandas as pd\n",
        "path_to_data = './data/Titanic/train.csv'\n",
        "df = pd.read_csv(path_to_data, encoding='cp949')\n",
        "\n",
        "# DataFrame type 확인\n",
        "df.head()"
      ],
      "execution_count": null,
      "outputs": [
        {
          "output_type": "execute_result",
          "data": {
            "text/html": [
              "<div>\n",
              "<style scoped>\n",
              "    .dataframe tbody tr th:only-of-type {\n",
              "        vertical-align: middle;\n",
              "    }\n",
              "\n",
              "    .dataframe tbody tr th {\n",
              "        vertical-align: top;\n",
              "    }\n",
              "\n",
              "    .dataframe thead th {\n",
              "        text-align: right;\n",
              "    }\n",
              "</style>\n",
              "<table border=\"1\" class=\"dataframe\">\n",
              "  <thead>\n",
              "    <tr style=\"text-align: right;\">\n",
              "      <th></th>\n",
              "      <th>PassengerId</th>\n",
              "      <th>Survived</th>\n",
              "      <th>Pclass</th>\n",
              "      <th>Name</th>\n",
              "      <th>Sex</th>\n",
              "      <th>Age</th>\n",
              "      <th>SibSp</th>\n",
              "      <th>Parch</th>\n",
              "      <th>Ticket</th>\n",
              "      <th>Fare</th>\n",
              "      <th>Cabin</th>\n",
              "      <th>Embarked</th>\n",
              "    </tr>\n",
              "  </thead>\n",
              "  <tbody>\n",
              "    <tr>\n",
              "      <th>0</th>\n",
              "      <td>1</td>\n",
              "      <td>0</td>\n",
              "      <td>3</td>\n",
              "      <td>Braund, Mr. Owen Harris</td>\n",
              "      <td>male</td>\n",
              "      <td>22.0</td>\n",
              "      <td>1</td>\n",
              "      <td>0</td>\n",
              "      <td>A/5 21171</td>\n",
              "      <td>7.2500</td>\n",
              "      <td>NaN</td>\n",
              "      <td>S</td>\n",
              "    </tr>\n",
              "    <tr>\n",
              "      <th>1</th>\n",
              "      <td>2</td>\n",
              "      <td>1</td>\n",
              "      <td>1</td>\n",
              "      <td>Cumings, Mrs. John Bradley (Florence Briggs Th...</td>\n",
              "      <td>female</td>\n",
              "      <td>38.0</td>\n",
              "      <td>1</td>\n",
              "      <td>0</td>\n",
              "      <td>PC 17599</td>\n",
              "      <td>71.2833</td>\n",
              "      <td>C85</td>\n",
              "      <td>C</td>\n",
              "    </tr>\n",
              "    <tr>\n",
              "      <th>2</th>\n",
              "      <td>3</td>\n",
              "      <td>1</td>\n",
              "      <td>3</td>\n",
              "      <td>Heikkinen, Miss. Laina</td>\n",
              "      <td>female</td>\n",
              "      <td>26.0</td>\n",
              "      <td>0</td>\n",
              "      <td>0</td>\n",
              "      <td>STON/O2. 3101282</td>\n",
              "      <td>7.9250</td>\n",
              "      <td>NaN</td>\n",
              "      <td>S</td>\n",
              "    </tr>\n",
              "    <tr>\n",
              "      <th>3</th>\n",
              "      <td>4</td>\n",
              "      <td>1</td>\n",
              "      <td>1</td>\n",
              "      <td>Futrelle, Mrs. Jacques Heath (Lily May Peel)</td>\n",
              "      <td>female</td>\n",
              "      <td>35.0</td>\n",
              "      <td>1</td>\n",
              "      <td>0</td>\n",
              "      <td>113803</td>\n",
              "      <td>53.1000</td>\n",
              "      <td>C123</td>\n",
              "      <td>S</td>\n",
              "    </tr>\n",
              "    <tr>\n",
              "      <th>4</th>\n",
              "      <td>5</td>\n",
              "      <td>0</td>\n",
              "      <td>3</td>\n",
              "      <td>Allen, Mr. William Henry</td>\n",
              "      <td>male</td>\n",
              "      <td>35.0</td>\n",
              "      <td>0</td>\n",
              "      <td>0</td>\n",
              "      <td>373450</td>\n",
              "      <td>8.0500</td>\n",
              "      <td>NaN</td>\n",
              "      <td>S</td>\n",
              "    </tr>\n",
              "  </tbody>\n",
              "</table>\n",
              "</div>"
            ],
            "text/plain": [
              "   PassengerId  Survived  Pclass  ...     Fare Cabin  Embarked\n",
              "0            1         0       3  ...   7.2500   NaN         S\n",
              "1            2         1       1  ...  71.2833   C85         C\n",
              "2            3         1       3  ...   7.9250   NaN         S\n",
              "3            4         1       1  ...  53.1000  C123         S\n",
              "4            5         0       3  ...   8.0500   NaN         S\n",
              "\n",
              "[5 rows x 12 columns]"
            ]
          },
          "metadata": {
            "tags": []
          },
          "execution_count": 3
        }
      ]
    },
    {
      "cell_type": "markdown",
      "metadata": {
        "id": "AiAICXlt5TPK"
      },
      "source": [
        "## 1. 타이타닉 데이터, '나이'에 대해서, z-score nomalization 할 것\n",
        "  - 표 & plot로 출력"
      ]
    },
    {
      "cell_type": "code",
      "metadata": {
        "id": "8LOUlsrODjai",
        "colab": {
          "base_uri": "https://localhost:8080/"
        },
        "outputId": "ce08f538-0846-4c31-ad9d-46de4309e9a7"
      },
      "source": [
        "#Age NaN 값 제거\n",
        "import numpy as np\n",
        "age_remove_nan = np.array(df['Age'].dropna())\n",
        "import scipy.stats as ss\n",
        "\n",
        "#zscore 값 출력\n",
        "age_zscore = ss.zscore(age_remove_nan)\n",
        "age_zscore"
      ],
      "execution_count": null,
      "outputs": [
        {
          "output_type": "execute_result",
          "data": {
            "text/plain": [
              "array([-0.53037664,  0.57183099, -0.25482473,  0.36516706,  0.36516706,\n",
              "        1.67403863, -1.90813618, -0.18593675, -1.08148046, -1.77036023,\n",
              "        1.94959054, -0.6681526 ,  0.64071897, -1.08148046,  1.74292661,\n",
              "       -1.90813618,  0.08961515,  0.36516706,  0.29627909, -1.01259248,\n",
              "       -0.11704878, -1.49480832,  0.57183099, -0.73704057,  0.70960695,\n",
              "        2.50069435, -0.11704878,  0.8473829 , -0.59926462, -0.80592855,\n",
              "       -1.08148046,  0.70960695, -0.18593675, -1.83924821, -0.73704057,\n",
              "       -0.80592855, -1.5636963 , -0.59926462,  1.32959874, -0.0481608 ,\n",
              "        2.43180638, -0.59926462, -0.08260479, -1.70147225, -1.28814439,\n",
              "       -0.53037664,  0.57183099,  1.05404683, -1.77036023, -0.0481608 ,\n",
              "       -0.73704057, -0.87481653, -0.25482473,  0.15850313, -0.9437045 ,\n",
              "       -0.59926462, -0.25482473,  0.15850313, -0.32371271, -1.98873512,\n",
              "        0.02072718, -0.53037664, -0.0481608 , -0.11704878, -0.87481653,\n",
              "        0.22739111, -0.9437045 , -0.46148866, -0.39260069, -0.0481608 ,\n",
              "       -0.6681526 ,  1.12293481, -0.25482473,  2.01847851,  2.84513424,\n",
              "       -0.46148866,  0.29627909,  0.29627909, -0.11704878, -0.59926462,\n",
              "        0.22739111,  0.50294302, -0.11704878, -0.59926462,  0.57183099,\n",
              "        1.19182279, -1.04703647, -0.53037664, -0.6681526 , -0.87481653,\n",
              "       -0.59926462,  2.81069025, -0.0481608 , -0.39260069, -1.90813618,\n",
              "       -0.59926462,  0.19294712,  0.19294712,  1.67403863, -1.21925641,\n",
              "       -0.39260069,  1.05404683,  0.22739111, -0.6681526 ,  1.19182279,\n",
              "       -0.0481608 , -0.32371271, -0.46148866, -0.73704057,  0.50294302,\n",
              "       -0.9437045 , -0.39260069, -0.53037664, -0.39260069, -0.73704057,\n",
              "       -0.80592855, -0.73704057, -0.18593675, -1.42592034,  0.46849903,\n",
              "        0.8473829 ,  1.4673747 , -0.53037664,  1.77737059,  0.74405094,\n",
              "        1.4673747 , -0.9437045 ,  0.02072718,  0.98515886,  0.70960695,\n",
              "       -0.25482473, -0.87481653, -1.97702416, -1.42592034,  1.05404683,\n",
              "       -0.11704878,  2.15625447, -1.77036023, -1.97702416, -0.59926462,\n",
              "        1.81181458, -0.80592855,  1.39848672,  0.02072718,  0.43405504,\n",
              "       -1.42592034, -1.97702416, -1.77036023,  1.05404683,  0.70960695,\n",
              "        0.43405504,  0.15850313, -0.73704057, -0.73704057, -1.83924821,\n",
              "        0.98515886,  1.94959054,  0.8473829 , -0.39260069, -0.11704878,\n",
              "        0.29627909,  1.08849082, -0.80592855, -1.90813618,  0.15850313,\n",
              "       -0.25482473, -0.9437045 ,  0.70960695, -0.39260069,  0.36516706,\n",
              "       -0.53037664,  0.02072718,  0.08961515, -0.18593675,  0.8473829 ,\n",
              "        0.15850313,  0.02072718, -0.9437045 , -0.18593675,  1.4673747 ,\n",
              "        0.57183099, -0.53037664, -0.73704057, -0.63370861, -0.80592855,\n",
              "        0.36516706, -0.0481608 ,  2.01847851, -1.70147225, -0.39260069,\n",
              "        0.98515886, -1.49480832, -0.73704057,  0.22739111, -0.0481608 ,\n",
              "       -0.53037664,  0.02072718,  0.98515886, -0.32371271, -0.39260069,\n",
              "        0.50294302,  1.67403863, -0.0481608 ,  2.22514245,  0.02072718,\n",
              "        0.77849493, -0.0481608 ,  0.02072718,  0.36516706,  1.39848672,\n",
              "       -1.83924821,  1.53626267,  0.70960695,  0.43405504, -0.9437045 ,\n",
              "       -0.32371271,  1.94959054,  0.36516706, -0.32371271,  0.77849493,\n",
              "        0.50294302,  2.29403042,  1.05404683, -1.5636963 ,  0.36516706,\n",
              "        2.43180638, -0.11704878, -0.9437045 , -0.73704057,  0.22739111,\n",
              "        0.02072718, -0.53037664,  0.8473829 , -0.53037664, -0.25482473,\n",
              "       -0.73704057,  0.43405504, -0.39260069, -0.39260069, -0.42704467,\n",
              "       -1.90813618,  1.39848672, -0.73704057, -1.9825352 , -0.87481653,\n",
              "        0.02072718,  0.02072718, -0.39260069, -0.80592855, -0.25482473,\n",
              "       -0.11704878,  0.91627088, -0.25482473, -0.39260069,  1.67403863,\n",
              "        0.08961515,  0.70960695, -0.53037664, -0.18593675,  0.02072718,\n",
              "       -0.53037664,  0.43405504,  2.15625447,  0.43405504,  0.08961515,\n",
              "       -0.9437045 ,  1.08849082,  0.57183099, -0.9437045 , -0.0481608 ,\n",
              "        0.77849493,  1.05404683,  1.05404683, -1.90813618, -0.39260069,\n",
              "       -0.11704878, -0.32371271,  0.43405504, -0.39260069,  0.70960695,\n",
              "       -1.83924821,  0.8473829 , -0.46148866, -1.01259248, -0.32371271,\n",
              "       -0.11704878, -0.53037664,  0.57183099,  0.70960695, -0.0481608 ,\n",
              "        1.05404683,  0.36516706,  0.02072718,  2.08736649, -0.39260069,\n",
              "       -0.32371271, -0.80592855, -0.73704057, -0.53037664, -1.83924821,\n",
              "       -0.53037664, -0.18593675, -0.6681526 , -0.73704057,  0.8473829 ,\n",
              "       -1.97702416,  0.15850313,  0.36516706, -0.80592855, -1.97702416,\n",
              "        0.43405504, -0.87481653,  0.43405504, -0.59926462, -0.11704878,\n",
              "       -0.46148866, -0.39260069, -0.53037664,  0.08961515,  1.12293481,\n",
              "       -0.46148866, -0.11704878,  0.64071897, -0.25482473, -0.59926462,\n",
              "       -0.11704878, -0.6681526 ,  0.29627909,  1.4673747 , -1.83924821,\n",
              "       -0.59926462,  0.22739111,  0.98515886,  0.29627909, -0.80592855,\n",
              "        0.02072718, -1.35703237, -0.59926462, -0.0481608 , -0.11704878,\n",
              "       -0.80592855, -0.11704878, -0.73704057,  0.15850313, -0.11704878,\n",
              "        0.8473829 , -0.87481653,  1.39848672, -1.08148046, -0.59926462,\n",
              "       -0.39260069,  2.3629184 ,  0.08961515,  1.05404683, -0.6681526 ,\n",
              "       -0.32371271, -0.11704878, -1.77036023, -1.15036844,  0.29627909,\n",
              "       -1.70147225,  1.53626267,  0.43405504,  0.02072718,  1.32959874,\n",
              "       -0.0481608 ,  2.43180638,  1.39848672,  1.26071077,  0.29627909,\n",
              "        1.19182279,  1.26071077,  0.57183099,  1.81181458, -1.99424616,\n",
              "        0.57183099,  0.22739111, -0.46148866, -0.53037664,  0.29627909,\n",
              "       -0.0481608 , -0.53037664, -1.90813618, -1.42592034,  1.39848672,\n",
              "        2.29403042, -0.32371271,  0.36516706,  1.94959054,  0.02072718,\n",
              "       -1.42592034, -0.59926462,  1.74292661,  2.84513424, -0.59926462,\n",
              "        1.67403863, -0.32371271, -0.39260069, -0.87481653, -0.59926462,\n",
              "        0.50294302, -0.9437045 , -0.80592855,  0.22739111, -0.11704878,\n",
              "       -0.25482473, -0.0481608 ,  0.43405504,  1.67403863, -0.39260069,\n",
              "        1.19182279,  0.29627909,  0.43405504,  0.15850313,  0.02072718,\n",
              "       -0.53037664,  0.98515886,  0.74405094,  1.39848672,  0.64071897,\n",
              "       -0.46148866, -1.90813618, -0.87481653,  0.02072718, -1.5636963 ,\n",
              "        1.05404683,  0.02072718, -0.53037664,  0.43405504, -1.42592034,\n",
              "       -1.28814439,  0.15850313,  1.39848672,  2.3629184 , -0.73704057,\n",
              "        0.22739111, -1.49480832, -0.87481653, -0.18593675, -0.53037664,\n",
              "       -0.53037664,  2.22514245,  1.26071077,  0.64071897,  0.43405504,\n",
              "        0.70960695, -0.11704878, -0.39260069, -0.73704057, -0.0481608 ,\n",
              "        0.15850313,  2.22514245,  1.60515065,  0.43405504, -0.9437045 ,\n",
              "       -0.73704057,  0.29627909,  0.64071897,  0.15850313, -0.32371271,\n",
              "        0.64071897,  1.67403863,  0.43405504, -0.80592855,  1.19182279,\n",
              "        2.08736649, -0.53037664,  0.36516706,  1.53626267,  1.19182279,\n",
              "        0.50294302,  0.43405504,  1.32959874,  1.32959874, -0.39260069,\n",
              "        0.98515886,  0.36516706,  0.43405504,  0.02072718, -0.18593675,\n",
              "       -0.53037664,  0.70960695,  0.64071897,  0.36516706, -0.39260069,\n",
              "        0.29627909, -0.25482473, -1.77036023, -0.25482473, -0.18593675,\n",
              "        0.8473829 , -0.6681526 , -0.59926462, -0.59926462,  2.15625447,\n",
              "        1.88070256, -0.59926462, -0.25482473,  3.46512604,  1.4673747 ,\n",
              "        0.15850313, -1.42592034, -0.11704878,  0.15850313,  0.08961515,\n",
              "        0.77849493, -0.6681526 , -0.39260069, -1.90813618, -1.99424616,\n",
              "        1.26071077, -0.73704057,  1.81181458, -0.46148866, -0.80592855,\n",
              "       -0.59926462, -0.80592855, -0.39260069,  0.15850313, -0.46148866,\n",
              "        1.94959054,  1.39848672,  0.70960695,  1.19182279,  0.43405504,\n",
              "       -0.6681526 ,  0.15850313, -0.32371271,  0.91627088,  0.70960695,\n",
              "        0.08961515,  2.77624626,  0.08961515, -0.80592855, -0.3581567 ,\n",
              "       -0.80592855,  0.91627088,  0.43405504, -0.18593675, -0.6681526 ,\n",
              "       -1.08148046,  2.08736649, -0.32371271, -1.08148046, -0.73704057,\n",
              "       -0.80592855, -1.01259248,  0.08961515, -1.77036023, -0.32371271,\n",
              "        2.08736649,  1.53626267,  0.98515886,  1.32959874,  0.8473829 ,\n",
              "       -0.80592855,  0.36516706, -0.80592855, -0.32371271, -0.25482473,\n",
              "        0.64071897,  1.05404683,  0.8473829 , -0.53037664, -0.39260069,\n",
              "        1.26071077, -0.0481608 ,  1.53626267, -0.73704057,  0.57183099,\n",
              "       -0.18593675,  0.22739111, -1.63258428, -0.87481653,  0.29627909,\n",
              "        1.39848672, -0.18593675, -0.6681526 ,  0.02072718, -0.32371271,\n",
              "       -0.32371271, -0.0481608 , -1.28814439, -0.46148866, -0.46148866,\n",
              "       -0.08260479,  1.26071077,  0.36516706,  0.43405504, -0.59926462,\n",
              "       -0.39260069,  0.08961515,  2.77624626, -0.9437045 ,  0.02072718,\n",
              "       -0.73704057,  0.08961515, -1.77036023, -1.63258428,  0.22739111,\n",
              "       -0.46148866,  1.26071077, -1.99975719, -0.11704878, -0.80592855,\n",
              "        0.29627909,  0.22739111,  0.77849493, -0.6681526 ,  0.43405504,\n",
              "       -0.9437045 ,  1.4673747 ,  0.05517117,  0.15850313, -0.39260069,\n",
              "        1.26071077,  1.88070256,  1.67403863, -0.80592855, -1.70147225,\n",
              "        0.91627088, -1.15036844, -0.87481653, -0.0481608 , -0.32371271,\n",
              "       -0.32371271, -0.80592855, -1.49480832, -1.97702416,  1.12293481,\n",
              "       -0.9437045 , -0.32371271,  0.64071897,  1.32959874,  0.08961515,\n",
              "        0.02072718,  0.02072718,  0.29627909,  0.08961515, -1.28814439,\n",
              "       -2.01697919, -0.18593675,  0.08961515,  0.64071897, -0.80592855,\n",
              "        0.64071897,  0.22739111, -0.25482473,  0.64071897,  0.36516706,\n",
              "       -1.63258428,  0.05517117, -0.46148866,  0.08961515,  0.91627088,\n",
              "       -1.35703237,  1.53626267, -0.18593675,  0.57183099, -0.18593675,\n",
              "       -1.90813618, -1.97702416,  2.22514245, -1.01259248, -1.98873512,\n",
              "       -0.46148866, -0.80592855,  0.64071897, -0.59926462,  0.15850313,\n",
              "       -0.6681526 , -0.9437045 ,  0.02072718,  0.33072307, -0.87481653,\n",
              "        0.8473829 ,  0.36516706, -0.11704878, -1.77036023,  3.05179817,\n",
              "       -1.42592034, -0.9437045 ,  0.98515886, -0.80592855,  1.05404683,\n",
              "        1.4673747 , -0.39260069,  0.77849493, -0.59926462,  1.26071077,\n",
              "       -0.39260069,  0.8473829 , -0.18593675,  0.08961515, -1.77036023,\n",
              "       -0.25482473,  1.19182279,  0.22739111,  1.19182279, -0.11704878,\n",
              "       -1.01259248, -0.6681526 , -0.73704057,  1.81181458, -0.32371271,\n",
              "        0.22739111, -0.53037664, -0.11704878, -0.32371271,  0.64071897,\n",
              "       -0.18593675, -0.73704057, -0.25482473,  0.15850313])"
            ]
          },
          "metadata": {
            "tags": []
          },
          "execution_count": 4
        }
      ]
    },
    {
      "cell_type": "code",
      "metadata": {
        "id": "3QpB10XOH3ym",
        "colab": {
          "base_uri": "https://localhost:8080/",
          "height": 416
        },
        "outputId": "45260776-8a80-4087-b557-8333d105edfb"
      },
      "source": [
        "#np_array -> DataFrame 변환(표)\n",
        "df_zscore = pd.DataFrame(age_zscore, columns=['AgeZscore'])\n",
        "df_zscore"
      ],
      "execution_count": null,
      "outputs": [
        {
          "output_type": "execute_result",
          "data": {
            "text/html": [
              "<div>\n",
              "<style scoped>\n",
              "    .dataframe tbody tr th:only-of-type {\n",
              "        vertical-align: middle;\n",
              "    }\n",
              "\n",
              "    .dataframe tbody tr th {\n",
              "        vertical-align: top;\n",
              "    }\n",
              "\n",
              "    .dataframe thead th {\n",
              "        text-align: right;\n",
              "    }\n",
              "</style>\n",
              "<table border=\"1\" class=\"dataframe\">\n",
              "  <thead>\n",
              "    <tr style=\"text-align: right;\">\n",
              "      <th></th>\n",
              "      <th>AgeZscore</th>\n",
              "    </tr>\n",
              "  </thead>\n",
              "  <tbody>\n",
              "    <tr>\n",
              "      <th>0</th>\n",
              "      <td>-0.530377</td>\n",
              "    </tr>\n",
              "    <tr>\n",
              "      <th>1</th>\n",
              "      <td>0.571831</td>\n",
              "    </tr>\n",
              "    <tr>\n",
              "      <th>2</th>\n",
              "      <td>-0.254825</td>\n",
              "    </tr>\n",
              "    <tr>\n",
              "      <th>3</th>\n",
              "      <td>0.365167</td>\n",
              "    </tr>\n",
              "    <tr>\n",
              "      <th>4</th>\n",
              "      <td>0.365167</td>\n",
              "    </tr>\n",
              "    <tr>\n",
              "      <th>...</th>\n",
              "      <td>...</td>\n",
              "    </tr>\n",
              "    <tr>\n",
              "      <th>709</th>\n",
              "      <td>0.640719</td>\n",
              "    </tr>\n",
              "    <tr>\n",
              "      <th>710</th>\n",
              "      <td>-0.185937</td>\n",
              "    </tr>\n",
              "    <tr>\n",
              "      <th>711</th>\n",
              "      <td>-0.737041</td>\n",
              "    </tr>\n",
              "    <tr>\n",
              "      <th>712</th>\n",
              "      <td>-0.254825</td>\n",
              "    </tr>\n",
              "    <tr>\n",
              "      <th>713</th>\n",
              "      <td>0.158503</td>\n",
              "    </tr>\n",
              "  </tbody>\n",
              "</table>\n",
              "<p>714 rows × 1 columns</p>\n",
              "</div>"
            ],
            "text/plain": [
              "     AgeZscore\n",
              "0    -0.530377\n",
              "1     0.571831\n",
              "2    -0.254825\n",
              "3     0.365167\n",
              "4     0.365167\n",
              "..         ...\n",
              "709   0.640719\n",
              "710  -0.185937\n",
              "711  -0.737041\n",
              "712  -0.254825\n",
              "713   0.158503\n",
              "\n",
              "[714 rows x 1 columns]"
            ]
          },
          "metadata": {
            "tags": []
          },
          "execution_count": 5
        }
      ]
    },
    {
      "cell_type": "code",
      "metadata": {
        "id": "KfcFdC5iJubQ",
        "colab": {
          "base_uri": "https://localhost:8080/",
          "height": 298
        },
        "outputId": "0e49eefd-f6dc-4ed4-ee8b-e384bcd6e4c9"
      },
      "source": [
        "#plot 형식으로 출력\n",
        "df_zscore.plot.hist(\n",
        "  bins = 100,\n",
        "  title = \"Histogram of the age_zscore variable\"\n",
        ")"
      ],
      "execution_count": null,
      "outputs": [
        {
          "output_type": "execute_result",
          "data": {
            "text/plain": [
              "<matplotlib.axes._subplots.AxesSubplot at 0x7f9d87affc88>"
            ]
          },
          "metadata": {
            "tags": []
          },
          "execution_count": 6
        },
        {
          "output_type": "display_data",
          "data": {
            "image/png": "[encoded data removed]",
            "text/plain": [
              "<Figure size 432x288 with 1 Axes>"
            ]
          },
          "metadata": {
            "tags": [],
            "needs_background": "light"
          }
        }
      ]
    },
    {
      "cell_type": "markdown",
      "metadata": {
        "id": "WGRK3bJWKhaJ"
      },
      "source": [
        "## 2. 타이타닉 데이터, '이름'을 제외한 나머지 feature들의 correlation 구하기\n",
        "  - Category 요소들의 encoding은 좋은 방법으로 알아서 할 것\n",
        "  - 'Survived'와 상관계수 가장 높은 feature와 가장 낮은 feature 찾기"
      ]
    },
    {
      "cell_type": "code",
      "metadata": {
        "id": "Za68qpH0VlpU",
        "colab": {
          "base_uri": "https://localhost:8080/",
          "height": 202
        },
        "outputId": "0e6aa2c9-e54d-4ef5-fdc8-94bc99b2d8ac"
      },
      "source": [
        "df.head()"
      ],
      "execution_count": null,
      "outputs": [
        {
          "output_type": "execute_result",
          "data": {
            "text/html": [
              "<div>\n",
              "<style scoped>\n",
              "    .dataframe tbody tr th:only-of-type {\n",
              "        vertical-align: middle;\n",
              "    }\n",
              "\n",
              "    .dataframe tbody tr th {\n",
              "        vertical-align: top;\n",
              "    }\n",
              "\n",
              "    .dataframe thead th {\n",
              "        text-align: right;\n",
              "    }\n",
              "</style>\n",
              "<table border=\"1\" class=\"dataframe\">\n",
              "  <thead>\n",
              "    <tr style=\"text-align: right;\">\n",
              "      <th></th>\n",
              "      <th>PassengerId</th>\n",
              "      <th>Survived</th>\n",
              "      <th>Pclass</th>\n",
              "      <th>Name</th>\n",
              "      <th>Sex</th>\n",
              "      <th>Age</th>\n",
              "      <th>SibSp</th>\n",
              "      <th>Parch</th>\n",
              "      <th>Ticket</th>\n",
              "      <th>Fare</th>\n",
              "      <th>Cabin</th>\n",
              "      <th>Embarked</th>\n",
              "    </tr>\n",
              "  </thead>\n",
              "  <tbody>\n",
              "    <tr>\n",
              "      <th>0</th>\n",
              "      <td>1</td>\n",
              "      <td>0</td>\n",
              "      <td>3</td>\n",
              "      <td>Braund, Mr. Owen Harris</td>\n",
              "      <td>male</td>\n",
              "      <td>22.0</td>\n",
              "      <td>1</td>\n",
              "      <td>0</td>\n",
              "      <td>A/5 21171</td>\n",
              "      <td>7.2500</td>\n",
              "      <td>NaN</td>\n",
              "      <td>S</td>\n",
              "    </tr>\n",
              "    <tr>\n",
              "      <th>1</th>\n",
              "      <td>2</td>\n",
              "      <td>1</td>\n",
              "      <td>1</td>\n",
              "      <td>Cumings, Mrs. John Bradley (Florence Briggs Th...</td>\n",
              "      <td>female</td>\n",
              "      <td>38.0</td>\n",
              "      <td>1</td>\n",
              "      <td>0</td>\n",
              "      <td>PC 17599</td>\n",
              "      <td>71.2833</td>\n",
              "      <td>C85</td>\n",
              "      <td>C</td>\n",
              "    </tr>\n",
              "    <tr>\n",
              "      <th>2</th>\n",
              "      <td>3</td>\n",
              "      <td>1</td>\n",
              "      <td>3</td>\n",
              "      <td>Heikkinen, Miss. Laina</td>\n",
              "      <td>female</td>\n",
              "      <td>26.0</td>\n",
              "      <td>0</td>\n",
              "      <td>0</td>\n",
              "      <td>STON/O2. 3101282</td>\n",
              "      <td>7.9250</td>\n",
              "      <td>NaN</td>\n",
              "      <td>S</td>\n",
              "    </tr>\n",
              "    <tr>\n",
              "      <th>3</th>\n",
              "      <td>4</td>\n",
              "      <td>1</td>\n",
              "      <td>1</td>\n",
              "      <td>Futrelle, Mrs. Jacques Heath (Lily May Peel)</td>\n",
              "      <td>female</td>\n",
              "      <td>35.0</td>\n",
              "      <td>1</td>\n",
              "      <td>0</td>\n",
              "      <td>113803</td>\n",
              "      <td>53.1000</td>\n",
              "      <td>C123</td>\n",
              "      <td>S</td>\n",
              "    </tr>\n",
              "    <tr>\n",
              "      <th>4</th>\n",
              "      <td>5</td>\n",
              "      <td>0</td>\n",
              "      <td>3</td>\n",
              "      <td>Allen, Mr. William Henry</td>\n",
              "      <td>male</td>\n",
              "      <td>35.0</td>\n",
              "      <td>0</td>\n",
              "      <td>0</td>\n",
              "      <td>373450</td>\n",
              "      <td>8.0500</td>\n",
              "      <td>NaN</td>\n",
              "      <td>S</td>\n",
              "    </tr>\n",
              "  </tbody>\n",
              "</table>\n",
              "</div>"
            ],
            "text/plain": [
              "   PassengerId  Survived  Pclass  ...     Fare Cabin  Embarked\n",
              "0            1         0       3  ...   7.2500   NaN         S\n",
              "1            2         1       1  ...  71.2833   C85         C\n",
              "2            3         1       3  ...   7.9250   NaN         S\n",
              "3            4         1       1  ...  53.1000  C123         S\n",
              "4            5         0       3  ...   8.0500   NaN         S\n",
              "\n",
              "[5 rows x 12 columns]"
            ]
          },
          "metadata": {
            "tags": []
          },
          "execution_count": 7
        }
      ]
    },
    {
      "cell_type": "code",
      "metadata": {
        "id": "nG2P6F4noMer"
      },
      "source": [
        "# Label Encoding\r\n",
        "#하나의 라벨을 하나의 정수와 대응시켜 Encoding 한다.\r\n",
        "df['Sex_label'] = pd.Categorical(df['Sex']).codes\r\n",
        "df['Ticket_label'] = pd.Categorical(df['Ticket']).codes\r\n",
        "df['Cabin_label'] = pd.Categorical(df['Cabin']).codes\r\n",
        "df['Embarked_label'] = pd.Categorical(df['Embarked']).codes\r\n",
        "df[['Sex', 'Sex_label', 'Ticket_label', 'Cabin_label', 'Embarked_label']]\r\n",
        "\r\n",
        "df['Age'].fillna(value=df['Age'].mean(), inplace=True)"
      ],
      "execution_count": null,
      "outputs": []
    },
    {
      "cell_type": "code",
      "metadata": {
        "id": "VB_7JfIMMlc6",
        "colab": {
          "base_uri": "https://localhost:8080/",
          "height": 386
        },
        "outputId": "adb466fb-9505-477a-9c24-1fb492ad71d9"
      },
      "source": [
        "#상관관계 표시 \n",
        "#(-1 : 음의 상관관계 / 0 : 상관없음 / 1 : 양의 상관관계)\n",
        "df.corr()"
      ],
      "execution_count": null,
      "outputs": [
        {
          "output_type": "execute_result",
          "data": {
            "text/html": [
              "<div>\n",
              "<style scoped>\n",
              "    .dataframe tbody tr th:only-of-type {\n",
              "        vertical-align: middle;\n",
              "    }\n",
              "\n",
              "    .dataframe tbody tr th {\n",
              "        vertical-align: top;\n",
              "    }\n",
              "\n",
              "    .dataframe thead th {\n",
              "        text-align: right;\n",
              "    }\n",
              "</style>\n",
              "<table border=\"1\" class=\"dataframe\">\n",
              "  <thead>\n",
              "    <tr style=\"text-align: right;\">\n",
              "      <th></th>\n",
              "      <th>PassengerId</th>\n",
              "      <th>Survived</th>\n",
              "      <th>Pclass</th>\n",
              "      <th>Age</th>\n",
              "      <th>SibSp</th>\n",
              "      <th>Parch</th>\n",
              "      <th>Fare</th>\n",
              "      <th>Sex_label</th>\n",
              "      <th>Ticket_label</th>\n",
              "      <th>Cabin_label</th>\n",
              "      <th>Embarked_label</th>\n",
              "    </tr>\n",
              "  </thead>\n",
              "  <tbody>\n",
              "    <tr>\n",
              "      <th>PassengerId</th>\n",
              "      <td>1.000000</td>\n",
              "      <td>-0.005007</td>\n",
              "      <td>-0.035144</td>\n",
              "      <td>0.033207</td>\n",
              "      <td>-0.057527</td>\n",
              "      <td>-0.001652</td>\n",
              "      <td>0.012658</td>\n",
              "      <td>0.042939</td>\n",
              "      <td>-0.056554</td>\n",
              "      <td>-0.000637</td>\n",
              "      <td>0.012985</td>\n",
              "    </tr>\n",
              "    <tr>\n",
              "      <th>Survived</th>\n",
              "      <td>-0.005007</td>\n",
              "      <td>1.000000</td>\n",
              "      <td>-0.338481</td>\n",
              "      <td>-0.069809</td>\n",
              "      <td>-0.035322</td>\n",
              "      <td>0.081629</td>\n",
              "      <td>0.257307</td>\n",
              "      <td>-0.543351</td>\n",
              "      <td>-0.164549</td>\n",
              "      <td>0.276235</td>\n",
              "      <td>-0.176509</td>\n",
              "    </tr>\n",
              "    <tr>\n",
              "      <th>Pclass</th>\n",
              "      <td>-0.035144</td>\n",
              "      <td>-0.338481</td>\n",
              "      <td>1.000000</td>\n",
              "      <td>-0.331339</td>\n",
              "      <td>0.083081</td>\n",
              "      <td>0.018443</td>\n",
              "      <td>-0.549500</td>\n",
              "      <td>0.131900</td>\n",
              "      <td>0.319869</td>\n",
              "      <td>-0.537419</td>\n",
              "      <td>0.173511</td>\n",
              "    </tr>\n",
              "    <tr>\n",
              "      <th>Age</th>\n",
              "      <td>0.033207</td>\n",
              "      <td>-0.069809</td>\n",
              "      <td>-0.331339</td>\n",
              "      <td>1.000000</td>\n",
              "      <td>-0.232625</td>\n",
              "      <td>-0.179191</td>\n",
              "      <td>0.091566</td>\n",
              "      <td>0.084153</td>\n",
              "      <td>-0.068848</td>\n",
              "      <td>0.157950</td>\n",
              "      <td>-0.039610</td>\n",
              "    </tr>\n",
              "    <tr>\n",
              "      <th>SibSp</th>\n",
              "      <td>-0.057527</td>\n",
              "      <td>-0.035322</td>\n",
              "      <td>0.083081</td>\n",
              "      <td>-0.232625</td>\n",
              "      <td>1.000000</td>\n",
              "      <td>0.414838</td>\n",
              "      <td>0.159651</td>\n",
              "      <td>-0.114631</td>\n",
              "      <td>0.079461</td>\n",
              "      <td>-0.024829</td>\n",
              "      <td>0.071480</td>\n",
              "    </tr>\n",
              "    <tr>\n",
              "      <th>Parch</th>\n",
              "      <td>-0.001652</td>\n",
              "      <td>0.081629</td>\n",
              "      <td>0.018443</td>\n",
              "      <td>-0.179191</td>\n",
              "      <td>0.414838</td>\n",
              "      <td>1.000000</td>\n",
              "      <td>0.216225</td>\n",
              "      <td>-0.245489</td>\n",
              "      <td>0.020003</td>\n",
              "      <td>0.033585</td>\n",
              "      <td>0.043351</td>\n",
              "    </tr>\n",
              "    <tr>\n",
              "      <th>Fare</th>\n",
              "      <td>0.012658</td>\n",
              "      <td>0.257307</td>\n",
              "      <td>-0.549500</td>\n",
              "      <td>0.091566</td>\n",
              "      <td>0.159651</td>\n",
              "      <td>0.216225</td>\n",
              "      <td>1.000000</td>\n",
              "      <td>-0.182333</td>\n",
              "      <td>-0.013885</td>\n",
              "      <td>0.310987</td>\n",
              "      <td>-0.230365</td>\n",
              "    </tr>\n",
              "    <tr>\n",
              "      <th>Sex_label</th>\n",
              "      <td>0.042939</td>\n",
              "      <td>-0.543351</td>\n",
              "      <td>0.131900</td>\n",
              "      <td>0.084153</td>\n",
              "      <td>-0.114631</td>\n",
              "      <td>-0.245489</td>\n",
              "      <td>-0.182333</td>\n",
              "      <td>1.000000</td>\n",
              "      <td>0.059372</td>\n",
              "      <td>-0.137704</td>\n",
              "      <td>0.118492</td>\n",
              "    </tr>\n",
              "    <tr>\n",
              "      <th>Ticket_label</th>\n",
              "      <td>-0.056554</td>\n",
              "      <td>-0.164549</td>\n",
              "      <td>0.319869</td>\n",
              "      <td>-0.068848</td>\n",
              "      <td>0.079461</td>\n",
              "      <td>0.020003</td>\n",
              "      <td>-0.013885</td>\n",
              "      <td>0.059372</td>\n",
              "      <td>1.000000</td>\n",
              "      <td>-0.176515</td>\n",
              "      <td>0.011146</td>\n",
              "    </tr>\n",
              "    <tr>\n",
              "      <th>Cabin_label</th>\n",
              "      <td>-0.000637</td>\n",
              "      <td>0.276235</td>\n",
              "      <td>-0.537419</td>\n",
              "      <td>0.157950</td>\n",
              "      <td>-0.024829</td>\n",
              "      <td>0.033585</td>\n",
              "      <td>0.310987</td>\n",
              "      <td>-0.137704</td>\n",
              "      <td>-0.176515</td>\n",
              "      <td>1.000000</td>\n",
              "      <td>-0.070245</td>\n",
              "    </tr>\n",
              "    <tr>\n",
              "      <th>Embarked_label</th>\n",
              "      <td>0.012985</td>\n",
              "      <td>-0.176509</td>\n",
              "      <td>0.173511</td>\n",
              "      <td>-0.039610</td>\n",
              "      <td>0.071480</td>\n",
              "      <td>0.043351</td>\n",
              "      <td>-0.230365</td>\n",
              "      <td>0.118492</td>\n",
              "      <td>0.011146</td>\n",
              "      <td>-0.070245</td>\n",
              "      <td>1.000000</td>\n",
              "    </tr>\n",
              "  </tbody>\n",
              "</table>\n",
              "</div>"
            ],
            "text/plain": [
              "                PassengerId  Survived  ...  Cabin_label  Embarked_label\n",
              "PassengerId        1.000000 -0.005007  ...    -0.000637        0.012985\n",
              "Survived          -0.005007  1.000000  ...     0.276235       -0.176509\n",
              "Pclass            -0.035144 -0.338481  ...    -0.537419        0.173511\n",
              "Age                0.033207 -0.069809  ...     0.157950       -0.039610\n",
              "SibSp             -0.057527 -0.035322  ...    -0.024829        0.071480\n",
              "Parch             -0.001652  0.081629  ...     0.033585        0.043351\n",
              "Fare               0.012658  0.257307  ...     0.310987       -0.230365\n",
              "Sex_label          0.042939 -0.543351  ...    -0.137704        0.118492\n",
              "Ticket_label      -0.056554 -0.164549  ...    -0.176515        0.011146\n",
              "Cabin_label       -0.000637  0.276235  ...     1.000000       -0.070245\n",
              "Embarked_label     0.012985 -0.176509  ...    -0.070245        1.000000\n",
              "\n",
              "[11 rows x 11 columns]"
            ]
          },
          "metadata": {
            "tags": []
          },
          "execution_count": 10
        }
      ]
    },
    {
      "cell_type": "code",
      "metadata": {
        "id": "jYHM5qbePM8L",
        "colab": {
          "base_uri": "https://localhost:8080/",
          "height": 736
        },
        "outputId": "083f1eb9-0366-42e0-f6d8-0e08062431bb"
      },
      "source": [
        "#heatmap으로 상관관계를 표시\n",
        "import seaborn as sb\n",
        "from matplotlib import pyplot as plt\n",
        "plt.rcParams[\"figure.figsize\"] = (11,11)\n",
        "sb.heatmap(df.corr(),\n",
        "           annot = True, #실제 값 화면에 나타내기\n",
        "           cmap = 'Greens', #색상\n",
        "           vmin = -1, vmax=1 , #컬러차트 영역 -1 ~ +1\n",
        "          )"
      ],
      "execution_count": null,
      "outputs": [
        {
          "output_type": "execute_result",
          "data": {
            "text/plain": [
              "<matplotlib.axes._subplots.AxesSubplot at 0x7f9d86c1b668>"
            ]
          },
          "metadata": {
            "tags": []
          },
          "execution_count": 11
        },
        {
          "output_type": "display_data",
          "data": {
            "image/png": "[encoded data removed]",
            "text/plain": [
              "<Figure size 792x792 with 2 Axes>"
            ]
          },
          "metadata": {
            "tags": [],
            "needs_background": "light"
          }
        }
      ]
    },
    {
      "cell_type": "markdown",
      "metadata": {
        "id": "gg7TedacDAJA"
      },
      "source": [
        "### 'Survived'와 상관계수 가장 높은 feature : Sex\r\n",
        "### 'Survived'와 상관계수 가장 낮은 feature : PassengerId"
      ]
    },
    {
      "cell_type": "code",
      "metadata": {
        "id": "RlT-88sOUIBy",
        "colab": {
          "base_uri": "https://localhost:8080/",
          "height": 624
        },
        "outputId": "1b2305a6-c0f2-49fd-e498-a1c55aead3b7"
      },
      "source": [
        "# Survived or Dead 과 성별(Sex)와의 관계\n",
        "plt.rcParams[\"figure.figsize\"] = (20,10)\n",
        "plt.rcParams['axes.grid'] = True \n",
        "\n",
        "def bar_chart(feature):\n",
        "    survived = df[df['Survived']==1][feature].value_counts()\n",
        "    dead = df[df['Survived']==0][feature].value_counts()\n",
        "    df_feature = pd.DataFrame([survived,dead])\n",
        "    df_feature.index = ['survived','dead']\n",
        "    df_feature.plot(kind='bar',stacked=True)\n",
        "bar_chart('Sex')"
      ],
      "execution_count": null,
      "outputs": [
        {
          "output_type": "display_data",
          "data": {
            "image/png": "[encoded data removed]",
            "text/plain": [
              "<Figure size 1440x720 with 1 Axes>"
            ]
          },
          "metadata": {
            "tags": [],
            "needs_background": "light"
          }
        }
      ]
    }
  ]
}