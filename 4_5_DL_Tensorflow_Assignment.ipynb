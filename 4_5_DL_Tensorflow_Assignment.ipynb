{
  "nbformat": 4,
  "nbformat_minor": 0,
  "metadata": {
    "colab": {
      "name": "4-5.DL - Tensorflow Assignment.ipynb",
      "provenance": [],
      "authorship_tag": "ABX9TyOcWjUVnB6ZiDr/rH9oIrgt",
      "include_colab_link": true
    },
    "kernelspec": {
      "name": "python3",
      "display_name": "Python 3"
    },
    "accelerator": "GPU"
  },
  "cells": [
    {
      "cell_type": "markdown",
      "metadata": {
        "id": "view-in-github",
        "colab_type": "text"
      },
      "source": [
        "<a href=\"https://colab.research.google.com/github/junheeyoon/colab/blob/master/4_5_DL_Tensorflow_Assignment.ipynb\" target=\"_parent\"><img src=\"https://colab.research.google.com/assets/colab-badge.svg\" alt=\"Open In Colab\"/></a>"
      ]
    },
    {
      "cell_type": "markdown",
      "metadata": {
        "id": "3JNZV44O2NbP"
      },
      "source": [
        "# Tensorflow 과제\r\n",
        "\r\n",
        "\r\n",
        "\r\n"
      ]
    },
    {
      "cell_type": "markdown",
      "metadata": {
        "id": "XQF2e_Np221F"
      },
      "source": [
        "## CNN기초\r\n",
        "원본 데이터를 2차원으로 놓고 필터(또는 feature detector)라는 사각형 윈도우를 씌운다음에 움직이면서 새로운 값을 만들어 낸다.\r\n",
        "이때 움직이는 과정을 convolution이라고 하고, 필터가 움직이는 방향이 한 방향이면 1D-CNN이고 두 방향이면 2D-CNN이다.\r\n",
        "\r\n",
        "1차원 CNN이라 하더라도 필터의 사각형이 반드시 1차원인건 아니다. 움직이는 콘볼루션 방향및 결과로 나오는 배열이 1차원인지 2차원인지 따지는 것"
      ]
    },
    {
      "cell_type": "markdown",
      "metadata": {
        "id": "8xpsJSF1lLPx"
      },
      "source": [
        "## 2D CNN으로 MNIST 데이터 분류 (워밍업)"
      ]
    },
    {
      "cell_type": "markdown",
      "metadata": {
        "id": "q7pxMEnP64uF"
      },
      "source": [
        "### 데이터 읽기"
      ]
    },
    {
      "cell_type": "code",
      "metadata": {
        "colab": {
          "base_uri": "https://localhost:8080/"
        },
        "id": "jxfPHsi4nGXM",
        "outputId": "b31eb7f5-1ac6-4fac-e150-69e65ec73be2"
      },
      "source": [
        "import warnings\r\n",
        "warnings.simplefilter(action='ignore', category=FutureWarning)\r\n",
        "\r\n",
        "import sys\r\n",
        "import tensorflow as tf\r\n",
        "import keras\r\n",
        "from keras.models import Sequential\r\n",
        "from keras.layers import Dense, Dropout, Flatten\r\n",
        "from keras.layers.convolutional import Conv2D, MaxPooling2D\r\n",
        "import numpy as np\r\n",
        "np.random.seed(7)\r\n",
        "\r\n",
        "print('Python version : ', sys.version)\r\n",
        "print('TensorFlow version : ', tf.__version__)\r\n",
        "print('Keras version : ', keras.__version__)"
      ],
      "execution_count": 1,
      "outputs": [
        {
          "output_type": "stream",
          "text": [
            "Python version :  3.6.9 (default, Oct  8 2020, 12:12:24) \n",
            "[GCC 8.4.0]\n",
            "TensorFlow version :  2.4.1\n",
            "Keras version :  2.4.3\n"
          ],
          "name": "stdout"
        }
      ]
    },
    {
      "cell_type": "code",
      "metadata": {
        "colab": {
          "base_uri": "https://localhost:8080/"
        },
        "id": "3ymRiqtknHfI",
        "outputId": "e5939c59-ef5d-4ea6-be81-906dd738745e"
      },
      "source": [
        "img_rows = 28\r\n",
        "img_cols = 28\r\n",
        "\r\n",
        "(x_train, y_train), (x_test, y_test) = keras.datasets.mnist.load_data()\r\n",
        "\r\n",
        "input_shape = (img_rows, img_cols, 1)\r\n",
        "x_train = x_train.reshape(x_train.shape[0], img_rows, img_cols, 1)\r\n",
        "x_test = x_test.reshape(x_test.shape[0], img_rows, img_cols, 1)\r\n",
        "\r\n",
        "x_train = x_train.astype('float32') / 255.\r\n",
        "x_test = x_test.astype('float32') / 255.\r\n",
        "\r\n",
        "print('x_train shape:', x_train.shape)\r\n",
        "print(x_train.shape[0], 'train samples')\r\n",
        "print(x_test.shape[0], 'test samples')\r\n",
        "\r\n",
        "batch_size = 128\r\n",
        "num_classes = 10\r\n",
        "epochs = 12\r\n",
        "\r\n",
        "y_train = keras.utils.to_categorical(y_train, num_classes)\r\n",
        "y_test = keras.utils.to_categorical(y_test, num_classes)"
      ],
      "execution_count": 2,
      "outputs": [
        {
          "output_type": "stream",
          "text": [
            "Downloading data from https://storage.googleapis.com/tensorflow/tf-keras-datasets/mnist.npz\n",
            "11493376/11490434 [==============================] - 0s 0us/step\n",
            "x_train shape: (60000, 28, 28, 1)\n",
            "60000 train samples\n",
            "10000 test samples\n"
          ],
          "name": "stdout"
        }
      ]
    },
    {
      "cell_type": "code",
      "metadata": {
        "colab": {
          "base_uri": "https://localhost:8080/"
        },
        "id": "kuWq7jgmnORd",
        "outputId": "7d6cb39a-1117-4751-c95a-324b17c1c96e"
      },
      "source": [
        "model = Sequential()\r\n",
        "model.add(Conv2D(32, kernel_size=(5, 5), strides=(1, 1), padding='same',\r\n",
        "                 activation='relu',\r\n",
        "                 input_shape=input_shape))\r\n",
        "model.add(MaxPooling2D(pool_size=(2, 2), strides=(2, 2)))\r\n",
        "model.add(Conv2D(64, (2, 2), activation='relu', padding='same'))\r\n",
        "model.add(MaxPooling2D(pool_size=(2, 2)))\r\n",
        "model.add(Dropout(0.25))\r\n",
        "model.add(Flatten())\r\n",
        "model.add(Dense(1000, activation='relu'))\r\n",
        "model.add(Dropout(0.5))\r\n",
        "model.add(Dense(num_classes, activation='softmax'))\r\n",
        "model.summary()"
      ],
      "execution_count": 3,
      "outputs": [
        {
          "output_type": "stream",
          "text": [
            "Model: \"sequential\"\n",
            "_________________________________________________________________\n",
            "Layer (type)                 Output Shape              Param #   \n",
            "=================================================================\n",
            "conv2d (Conv2D)              (None, 28, 28, 32)        832       \n",
            "_________________________________________________________________\n",
            "max_pooling2d (MaxPooling2D) (None, 14, 14, 32)        0         \n",
            "_________________________________________________________________\n",
            "conv2d_1 (Conv2D)            (None, 14, 14, 64)        8256      \n",
            "_________________________________________________________________\n",
            "max_pooling2d_1 (MaxPooling2 (None, 7, 7, 64)          0         \n",
            "_________________________________________________________________\n",
            "dropout (Dropout)            (None, 7, 7, 64)          0         \n",
            "_________________________________________________________________\n",
            "flatten (Flatten)            (None, 3136)              0         \n",
            "_________________________________________________________________\n",
            "dense (Dense)                (None, 1000)              3137000   \n",
            "_________________________________________________________________\n",
            "dropout_1 (Dropout)          (None, 1000)              0         \n",
            "_________________________________________________________________\n",
            "dense_1 (Dense)              (None, 10)                10010     \n",
            "=================================================================\n",
            "Total params: 3,156,098\n",
            "Trainable params: 3,156,098\n",
            "Non-trainable params: 0\n",
            "_________________________________________________________________\n"
          ],
          "name": "stdout"
        }
      ]
    },
    {
      "cell_type": "code",
      "metadata": {
        "colab": {
          "base_uri": "https://localhost:8080/",
          "height": 1000
        },
        "id": "vhJurcKznf-t",
        "outputId": "56cdf288-2608-4899-a9a5-b5526594b25e"
      },
      "source": [
        "from IPython.display import SVG\r\n",
        "from keras.utils.vis_utils import model_to_dot\r\n",
        "%matplotlib inline\r\n",
        "\r\n",
        "SVG(model_to_dot(model, show_shapes=True).create(prog='dot', format='svg'))"
      ],
      "execution_count": 6,
      "outputs": [
        {
          "output_type": "execute_result",
          "data": {
            "text/plain": [
              "<IPython.core.display.SVG object>"
            ],
            "image/svg+xml": "<svg height=\"1069pt\" viewBox=\"0.00 0.00 412.00 802.00\" width=\"549pt\" xmlns=\"http://www.w3.org/2000/svg\" xmlns:xlink=\"http://www.w3.org/1999/xlink\">\n<g class=\"graph\" id=\"graph0\" transform=\"scale(1.3333 1.3333) rotate(0) translate(4 798)\">\n<title>G</title>\n<polygon fill=\"#ffffff\" points=\"-4,4 -4,-798 408,-798 408,4 -4,4\" stroke=\"transparent\"/>\n<!-- 140585519175384 -->\n<g class=\"node\" id=\"node1\">\n<title>140585519175384</title>\n<polygon fill=\"none\" points=\"25.5,-747.5 25.5,-793.5 378.5,-793.5 378.5,-747.5 25.5,-747.5\" stroke=\"#000000\"/>\n<text fill=\"#000000\" font-family=\"Times,serif\" font-size=\"14.00\" text-anchor=\"middle\" x=\"110\" y=\"-766.8\">conv2d_input: InputLayer</text>\n<polyline fill=\"none\" points=\"194.5,-747.5 194.5,-793.5 \" stroke=\"#000000\"/>\n<text fill=\"#000000\" font-family=\"Times,serif\" font-size=\"14.00\" text-anchor=\"middle\" x=\"223.5\" y=\"-778.3\">input:</text>\n<polyline fill=\"none\" points=\"194.5,-770.5 252.5,-770.5 \" stroke=\"#000000\"/>\n<text fill=\"#000000\" font-family=\"Times,serif\" font-size=\"14.00\" text-anchor=\"middle\" x=\"223.5\" y=\"-755.3\">output:</text>\n<polyline fill=\"none\" points=\"252.5,-747.5 252.5,-793.5 \" stroke=\"#000000\"/>\n<text fill=\"#000000\" font-family=\"Times,serif\" font-size=\"14.00\" text-anchor=\"middle\" x=\"315.5\" y=\"-778.3\">[(None, 28, 28, 1)]</text>\n<polyline fill=\"none\" points=\"252.5,-770.5 378.5,-770.5 \" stroke=\"#000000\"/>\n<text fill=\"#000000\" font-family=\"Times,serif\" font-size=\"14.00\" text-anchor=\"middle\" x=\"315.5\" y=\"-755.3\">[(None, 28, 28, 1)]</text>\n</g>\n<!-- 140586488507360 -->\n<g class=\"node\" id=\"node2\">\n<title>140586488507360</title>\n<polygon fill=\"none\" points=\"51.5,-664.5 51.5,-710.5 352.5,-710.5 352.5,-664.5 51.5,-664.5\" stroke=\"#000000\"/>\n<text fill=\"#000000\" font-family=\"Times,serif\" font-size=\"14.00\" text-anchor=\"middle\" x=\"110.5\" y=\"-683.8\">conv2d: Conv2D</text>\n<polyline fill=\"none\" points=\"169.5,-664.5 169.5,-710.5 \" stroke=\"#000000\"/>\n<text fill=\"#000000\" font-family=\"Times,serif\" font-size=\"14.00\" text-anchor=\"middle\" x=\"198.5\" y=\"-695.3\">input:</text>\n<polyline fill=\"none\" points=\"169.5,-687.5 227.5,-687.5 \" stroke=\"#000000\"/>\n<text fill=\"#000000\" font-family=\"Times,serif\" font-size=\"14.00\" text-anchor=\"middle\" x=\"198.5\" y=\"-672.3\">output:</text>\n<polyline fill=\"none\" points=\"227.5,-664.5 227.5,-710.5 \" stroke=\"#000000\"/>\n<text fill=\"#000000\" font-family=\"Times,serif\" font-size=\"14.00\" text-anchor=\"middle\" x=\"290\" y=\"-695.3\">(None, 28, 28, 1)</text>\n<polyline fill=\"none\" points=\"227.5,-687.5 352.5,-687.5 \" stroke=\"#000000\"/>\n<text fill=\"#000000\" font-family=\"Times,serif\" font-size=\"14.00\" text-anchor=\"middle\" x=\"290\" y=\"-672.3\">(None, 28, 28, 32)</text>\n</g>\n<!-- 140585519175384&#45;&gt;140586488507360 -->\n<g class=\"edge\" id=\"edge1\">\n<title>140585519175384-&gt;140586488507360</title>\n<path d=\"M202,-747.3799C202,-739.1745 202,-729.7679 202,-720.8786\" fill=\"none\" stroke=\"#000000\"/>\n<polygon fill=\"#000000\" points=\"205.5001,-720.784 202,-710.784 198.5001,-720.784 205.5001,-720.784\" stroke=\"#000000\"/>\n</g>\n<!-- 140584012137584 -->\n<g class=\"node\" id=\"node3\">\n<title>140584012137584</title>\n<polygon fill=\"none\" points=\"7.5,-581.5 7.5,-627.5 396.5,-627.5 396.5,-581.5 7.5,-581.5\" stroke=\"#000000\"/>\n<text fill=\"#000000\" font-family=\"Times,serif\" font-size=\"14.00\" text-anchor=\"middle\" x=\"110.5\" y=\"-600.8\">max_pooling2d: MaxPooling2D</text>\n<polyline fill=\"none\" points=\"213.5,-581.5 213.5,-627.5 \" stroke=\"#000000\"/>\n<text fill=\"#000000\" font-family=\"Times,serif\" font-size=\"14.00\" text-anchor=\"middle\" x=\"242.5\" y=\"-612.3\">input:</text>\n<polyline fill=\"none\" points=\"213.5,-604.5 271.5,-604.5 \" stroke=\"#000000\"/>\n<text fill=\"#000000\" font-family=\"Times,serif\" font-size=\"14.00\" text-anchor=\"middle\" x=\"242.5\" y=\"-589.3\">output:</text>\n<polyline fill=\"none\" points=\"271.5,-581.5 271.5,-627.5 \" stroke=\"#000000\"/>\n<text fill=\"#000000\" font-family=\"Times,serif\" font-size=\"14.00\" text-anchor=\"middle\" x=\"334\" y=\"-612.3\">(None, 28, 28, 32)</text>\n<polyline fill=\"none\" points=\"271.5,-604.5 396.5,-604.5 \" stroke=\"#000000\"/>\n<text fill=\"#000000\" font-family=\"Times,serif\" font-size=\"14.00\" text-anchor=\"middle\" x=\"334\" y=\"-589.3\">(None, 14, 14, 32)</text>\n</g>\n<!-- 140586488507360&#45;&gt;140584012137584 -->\n<g class=\"edge\" id=\"edge2\">\n<title>140586488507360-&gt;140584012137584</title>\n<path d=\"M202,-664.3799C202,-656.1745 202,-646.7679 202,-637.8786\" fill=\"none\" stroke=\"#000000\"/>\n<polygon fill=\"#000000\" points=\"205.5001,-637.784 202,-627.784 198.5001,-637.784 205.5001,-637.784\" stroke=\"#000000\"/>\n</g>\n<!-- 140584011793688 -->\n<g class=\"node\" id=\"node4\">\n<title>140584011793688</title>\n<polygon fill=\"none\" points=\"44,-498.5 44,-544.5 360,-544.5 360,-498.5 44,-498.5\" stroke=\"#000000\"/>\n<text fill=\"#000000\" font-family=\"Times,serif\" font-size=\"14.00\" text-anchor=\"middle\" x=\"110.5\" y=\"-517.8\">conv2d_1: Conv2D</text>\n<polyline fill=\"none\" points=\"177,-498.5 177,-544.5 \" stroke=\"#000000\"/>\n<text fill=\"#000000\" font-family=\"Times,serif\" font-size=\"14.00\" text-anchor=\"middle\" x=\"206\" y=\"-529.3\">input:</text>\n<polyline fill=\"none\" points=\"177,-521.5 235,-521.5 \" stroke=\"#000000\"/>\n<text fill=\"#000000\" font-family=\"Times,serif\" font-size=\"14.00\" text-anchor=\"middle\" x=\"206\" y=\"-506.3\">output:</text>\n<polyline fill=\"none\" points=\"235,-498.5 235,-544.5 \" stroke=\"#000000\"/>\n<text fill=\"#000000\" font-family=\"Times,serif\" font-size=\"14.00\" text-anchor=\"middle\" x=\"297.5\" y=\"-529.3\">(None, 14, 14, 32)</text>\n<polyline fill=\"none\" points=\"235,-521.5 360,-521.5 \" stroke=\"#000000\"/>\n<text fill=\"#000000\" font-family=\"Times,serif\" font-size=\"14.00\" text-anchor=\"middle\" x=\"297.5\" y=\"-506.3\">(None, 14, 14, 64)</text>\n</g>\n<!-- 140584012137584&#45;&gt;140584011793688 -->\n<g class=\"edge\" id=\"edge3\">\n<title>140584012137584-&gt;140584011793688</title>\n<path d=\"M202,-581.3799C202,-573.1745 202,-563.7679 202,-554.8786\" fill=\"none\" stroke=\"#000000\"/>\n<polygon fill=\"#000000\" points=\"205.5001,-554.784 202,-544.784 198.5001,-554.784 205.5001,-554.784\" stroke=\"#000000\"/>\n</g>\n<!-- 140584011794360 -->\n<g class=\"node\" id=\"node5\">\n<title>140584011794360</title>\n<polygon fill=\"none\" points=\"0,-415.5 0,-461.5 404,-461.5 404,-415.5 0,-415.5\" stroke=\"#000000\"/>\n<text fill=\"#000000\" font-family=\"Times,serif\" font-size=\"14.00\" text-anchor=\"middle\" x=\"110.5\" y=\"-434.8\">max_pooling2d_1: MaxPooling2D</text>\n<polyline fill=\"none\" points=\"221,-415.5 221,-461.5 \" stroke=\"#000000\"/>\n<text fill=\"#000000\" font-family=\"Times,serif\" font-size=\"14.00\" text-anchor=\"middle\" x=\"250\" y=\"-446.3\">input:</text>\n<polyline fill=\"none\" points=\"221,-438.5 279,-438.5 \" stroke=\"#000000\"/>\n<text fill=\"#000000\" font-family=\"Times,serif\" font-size=\"14.00\" text-anchor=\"middle\" x=\"250\" y=\"-423.3\">output:</text>\n<polyline fill=\"none\" points=\"279,-415.5 279,-461.5 \" stroke=\"#000000\"/>\n<text fill=\"#000000\" font-family=\"Times,serif\" font-size=\"14.00\" text-anchor=\"middle\" x=\"341.5\" y=\"-446.3\">(None, 14, 14, 64)</text>\n<polyline fill=\"none\" points=\"279,-438.5 404,-438.5 \" stroke=\"#000000\"/>\n<text fill=\"#000000\" font-family=\"Times,serif\" font-size=\"14.00\" text-anchor=\"middle\" x=\"341.5\" y=\"-423.3\">(None, 7, 7, 64)</text>\n</g>\n<!-- 140584011793688&#45;&gt;140584011794360 -->\n<g class=\"edge\" id=\"edge4\">\n<title>140584011793688-&gt;140584011794360</title>\n<path d=\"M202,-498.3799C202,-490.1745 202,-480.7679 202,-471.8786\" fill=\"none\" stroke=\"#000000\"/>\n<polygon fill=\"#000000\" points=\"205.5001,-471.784 202,-461.784 198.5001,-471.784 205.5001,-471.784\" stroke=\"#000000\"/>\n</g>\n<!-- 140584011792512 -->\n<g class=\"node\" id=\"node6\">\n<title>140584011792512</title>\n<polygon fill=\"none\" points=\"58.5,-332.5 58.5,-378.5 345.5,-378.5 345.5,-332.5 58.5,-332.5\" stroke=\"#000000\"/>\n<text fill=\"#000000\" font-family=\"Times,serif\" font-size=\"14.00\" text-anchor=\"middle\" x=\"118\" y=\"-351.8\">dropout: Dropout</text>\n<polyline fill=\"none\" points=\"177.5,-332.5 177.5,-378.5 \" stroke=\"#000000\"/>\n<text fill=\"#000000\" font-family=\"Times,serif\" font-size=\"14.00\" text-anchor=\"middle\" x=\"206.5\" y=\"-363.3\">input:</text>\n<polyline fill=\"none\" points=\"177.5,-355.5 235.5,-355.5 \" stroke=\"#000000\"/>\n<text fill=\"#000000\" font-family=\"Times,serif\" font-size=\"14.00\" text-anchor=\"middle\" x=\"206.5\" y=\"-340.3\">output:</text>\n<polyline fill=\"none\" points=\"235.5,-332.5 235.5,-378.5 \" stroke=\"#000000\"/>\n<text fill=\"#000000\" font-family=\"Times,serif\" font-size=\"14.00\" text-anchor=\"middle\" x=\"290.5\" y=\"-363.3\">(None, 7, 7, 64)</text>\n<polyline fill=\"none\" points=\"235.5,-355.5 345.5,-355.5 \" stroke=\"#000000\"/>\n<text fill=\"#000000\" font-family=\"Times,serif\" font-size=\"14.00\" text-anchor=\"middle\" x=\"290.5\" y=\"-340.3\">(None, 7, 7, 64)</text>\n</g>\n<!-- 140584011794360&#45;&gt;140584011792512 -->\n<g class=\"edge\" id=\"edge5\">\n<title>140584011794360-&gt;140584011792512</title>\n<path d=\"M202,-415.3799C202,-407.1745 202,-397.7679 202,-388.8786\" fill=\"none\" stroke=\"#000000\"/>\n<polygon fill=\"#000000\" points=\"205.5001,-388.784 202,-378.784 198.5001,-388.784 205.5001,-388.784\" stroke=\"#000000\"/>\n</g>\n<!-- 140584011825048 -->\n<g class=\"node\" id=\"node7\">\n<title>140584011825048</title>\n<polygon fill=\"none\" points=\"69,-249.5 69,-295.5 335,-295.5 335,-249.5 69,-249.5\" stroke=\"#000000\"/>\n<text fill=\"#000000\" font-family=\"Times,serif\" font-size=\"14.00\" text-anchor=\"middle\" x=\"118\" y=\"-268.8\">flatten: Flatten</text>\n<polyline fill=\"none\" points=\"167,-249.5 167,-295.5 \" stroke=\"#000000\"/>\n<text fill=\"#000000\" font-family=\"Times,serif\" font-size=\"14.00\" text-anchor=\"middle\" x=\"196\" y=\"-280.3\">input:</text>\n<polyline fill=\"none\" points=\"167,-272.5 225,-272.5 \" stroke=\"#000000\"/>\n<text fill=\"#000000\" font-family=\"Times,serif\" font-size=\"14.00\" text-anchor=\"middle\" x=\"196\" y=\"-257.3\">output:</text>\n<polyline fill=\"none\" points=\"225,-249.5 225,-295.5 \" stroke=\"#000000\"/>\n<text fill=\"#000000\" font-family=\"Times,serif\" font-size=\"14.00\" text-anchor=\"middle\" x=\"280\" y=\"-280.3\">(None, 7, 7, 64)</text>\n<polyline fill=\"none\" points=\"225,-272.5 335,-272.5 \" stroke=\"#000000\"/>\n<text fill=\"#000000\" font-family=\"Times,serif\" font-size=\"14.00\" text-anchor=\"middle\" x=\"280\" y=\"-257.3\">(None, 3136)</text>\n</g>\n<!-- 140584011792512&#45;&gt;140584011825048 -->\n<g class=\"edge\" id=\"edge6\">\n<title>140584011792512-&gt;140584011825048</title>\n<path d=\"M202,-332.3799C202,-324.1745 202,-314.7679 202,-305.8786\" fill=\"none\" stroke=\"#000000\"/>\n<polygon fill=\"#000000\" points=\"205.5001,-305.784 202,-295.784 198.5001,-305.784 205.5001,-305.784\" stroke=\"#000000\"/>\n</g>\n<!-- 140584011847832 -->\n<g class=\"node\" id=\"node8\">\n<title>140584011847832</title>\n<polygon fill=\"none\" points=\"79.5,-166.5 79.5,-212.5 324.5,-212.5 324.5,-166.5 79.5,-166.5\" stroke=\"#000000\"/>\n<text fill=\"#000000\" font-family=\"Times,serif\" font-size=\"14.00\" text-anchor=\"middle\" x=\"125.5\" y=\"-185.8\">dense: Dense</text>\n<polyline fill=\"none\" points=\"171.5,-166.5 171.5,-212.5 \" stroke=\"#000000\"/>\n<text fill=\"#000000\" font-family=\"Times,serif\" font-size=\"14.00\" text-anchor=\"middle\" x=\"200.5\" y=\"-197.3\">input:</text>\n<polyline fill=\"none\" points=\"171.5,-189.5 229.5,-189.5 \" stroke=\"#000000\"/>\n<text fill=\"#000000\" font-family=\"Times,serif\" font-size=\"14.00\" text-anchor=\"middle\" x=\"200.5\" y=\"-174.3\">output:</text>\n<polyline fill=\"none\" points=\"229.5,-166.5 229.5,-212.5 \" stroke=\"#000000\"/>\n<text fill=\"#000000\" font-family=\"Times,serif\" font-size=\"14.00\" text-anchor=\"middle\" x=\"277\" y=\"-197.3\">(None, 3136)</text>\n<polyline fill=\"none\" points=\"229.5,-189.5 324.5,-189.5 \" stroke=\"#000000\"/>\n<text fill=\"#000000\" font-family=\"Times,serif\" font-size=\"14.00\" text-anchor=\"middle\" x=\"277\" y=\"-174.3\">(None, 1000)</text>\n</g>\n<!-- 140584011825048&#45;&gt;140584011847832 -->\n<g class=\"edge\" id=\"edge7\">\n<title>140584011825048-&gt;140584011847832</title>\n<path d=\"M202,-249.3799C202,-241.1745 202,-231.7679 202,-222.8786\" fill=\"none\" stroke=\"#000000\"/>\n<polygon fill=\"#000000\" points=\"205.5001,-222.784 202,-212.784 198.5001,-222.784 205.5001,-222.784\" stroke=\"#000000\"/>\n</g>\n<!-- 140584011846152 -->\n<g class=\"node\" id=\"node9\">\n<title>140584011846152</title>\n<polygon fill=\"none\" points=\"58.5,-83.5 58.5,-129.5 345.5,-129.5 345.5,-83.5 58.5,-83.5\" stroke=\"#000000\"/>\n<text fill=\"#000000\" font-family=\"Times,serif\" font-size=\"14.00\" text-anchor=\"middle\" x=\"125.5\" y=\"-102.8\">dropout_1: Dropout</text>\n<polyline fill=\"none\" points=\"192.5,-83.5 192.5,-129.5 \" stroke=\"#000000\"/>\n<text fill=\"#000000\" font-family=\"Times,serif\" font-size=\"14.00\" text-anchor=\"middle\" x=\"221.5\" y=\"-114.3\">input:</text>\n<polyline fill=\"none\" points=\"192.5,-106.5 250.5,-106.5 \" stroke=\"#000000\"/>\n<text fill=\"#000000\" font-family=\"Times,serif\" font-size=\"14.00\" text-anchor=\"middle\" x=\"221.5\" y=\"-91.3\">output:</text>\n<polyline fill=\"none\" points=\"250.5,-83.5 250.5,-129.5 \" stroke=\"#000000\"/>\n<text fill=\"#000000\" font-family=\"Times,serif\" font-size=\"14.00\" text-anchor=\"middle\" x=\"298\" y=\"-114.3\">(None, 1000)</text>\n<polyline fill=\"none\" points=\"250.5,-106.5 345.5,-106.5 \" stroke=\"#000000\"/>\n<text fill=\"#000000\" font-family=\"Times,serif\" font-size=\"14.00\" text-anchor=\"middle\" x=\"298\" y=\"-91.3\">(None, 1000)</text>\n</g>\n<!-- 140584011847832&#45;&gt;140584011846152 -->\n<g class=\"edge\" id=\"edge8\">\n<title>140584011847832-&gt;140584011846152</title>\n<path d=\"M202,-166.3799C202,-158.1745 202,-148.7679 202,-139.8786\" fill=\"none\" stroke=\"#000000\"/>\n<polygon fill=\"#000000\" points=\"205.5001,-139.784 202,-129.784 198.5001,-139.784 205.5001,-139.784\" stroke=\"#000000\"/>\n</g>\n<!-- 140584011944904 -->\n<g class=\"node\" id=\"node10\">\n<title>140584011944904</title>\n<polygon fill=\"none\" points=\"72,-.5 72,-46.5 332,-46.5 332,-.5 72,-.5\" stroke=\"#000000\"/>\n<text fill=\"#000000\" font-family=\"Times,serif\" font-size=\"14.00\" text-anchor=\"middle\" x=\"125.5\" y=\"-19.8\">dense_1: Dense</text>\n<polyline fill=\"none\" points=\"179,-.5 179,-46.5 \" stroke=\"#000000\"/>\n<text fill=\"#000000\" font-family=\"Times,serif\" font-size=\"14.00\" text-anchor=\"middle\" x=\"208\" y=\"-31.3\">input:</text>\n<polyline fill=\"none\" points=\"179,-23.5 237,-23.5 \" stroke=\"#000000\"/>\n<text fill=\"#000000\" font-family=\"Times,serif\" font-size=\"14.00\" text-anchor=\"middle\" x=\"208\" y=\"-8.3\">output:</text>\n<polyline fill=\"none\" points=\"237,-.5 237,-46.5 \" stroke=\"#000000\"/>\n<text fill=\"#000000\" font-family=\"Times,serif\" font-size=\"14.00\" text-anchor=\"middle\" x=\"284.5\" y=\"-31.3\">(None, 1000)</text>\n<polyline fill=\"none\" points=\"237,-23.5 332,-23.5 \" stroke=\"#000000\"/>\n<text fill=\"#000000\" font-family=\"Times,serif\" font-size=\"14.00\" text-anchor=\"middle\" x=\"284.5\" y=\"-8.3\">(None, 10)</text>\n</g>\n<!-- 140584011846152&#45;&gt;140584011944904 -->\n<g class=\"edge\" id=\"edge9\">\n<title>140584011846152-&gt;140584011944904</title>\n<path d=\"M202,-83.3799C202,-75.1745 202,-65.7679 202,-56.8786\" fill=\"none\" stroke=\"#000000\"/>\n<polygon fill=\"#000000\" points=\"205.5001,-56.784 202,-46.784 198.5001,-56.784 205.5001,-56.784\" stroke=\"#000000\"/>\n</g>\n</g>\n</svg>"
          },
          "metadata": {
            "tags": []
          },
          "execution_count": 6
        }
      ]
    },
    {
      "cell_type": "code",
      "metadata": {
        "colab": {
          "base_uri": "https://localhost:8080/"
        },
        "id": "OJ3oXUZxnuE5",
        "outputId": "b6b369c9-3cf9-4c5f-967c-fd44dc9abf24"
      },
      "source": [
        "model.compile(loss='categorical_crossentropy', optimizer='adam', metrics=['accuracy'])\r\n",
        "hist = model.fit(x_train, y_train,\r\n",
        "                 batch_size=batch_size,\r\n",
        "                 epochs=epochs,\r\n",
        "                 verbose=1, \r\n",
        "                 validation_data=(x_test, y_test))"
      ],
      "execution_count": 7,
      "outputs": [
        {
          "output_type": "stream",
          "text": [
            "Epoch 1/12\n",
            "469/469 [==============================] - 10s 6ms/step - loss: 0.4053 - accuracy: 0.8755 - val_loss: 0.0415 - val_accuracy: 0.9867\n",
            "Epoch 2/12\n",
            "469/469 [==============================] - 3s 5ms/step - loss: 0.0601 - accuracy: 0.9814 - val_loss: 0.0327 - val_accuracy: 0.9882\n",
            "Epoch 3/12\n",
            "469/469 [==============================] - 3s 5ms/step - loss: 0.0438 - accuracy: 0.9863 - val_loss: 0.0291 - val_accuracy: 0.9906\n",
            "Epoch 4/12\n",
            "469/469 [==============================] - 3s 5ms/step - loss: 0.0343 - accuracy: 0.9896 - val_loss: 0.0242 - val_accuracy: 0.9923\n",
            "Epoch 5/12\n",
            "469/469 [==============================] - 3s 5ms/step - loss: 0.0295 - accuracy: 0.9908 - val_loss: 0.0258 - val_accuracy: 0.9914\n",
            "Epoch 6/12\n",
            "469/469 [==============================] - 3s 5ms/step - loss: 0.0252 - accuracy: 0.9918 - val_loss: 0.0292 - val_accuracy: 0.9906\n",
            "Epoch 7/12\n",
            "469/469 [==============================] - 3s 5ms/step - loss: 0.0240 - accuracy: 0.9917 - val_loss: 0.0219 - val_accuracy: 0.9931\n",
            "Epoch 8/12\n",
            "469/469 [==============================] - 3s 5ms/step - loss: 0.0198 - accuracy: 0.9935 - val_loss: 0.0248 - val_accuracy: 0.9929\n",
            "Epoch 9/12\n",
            "469/469 [==============================] - 3s 5ms/step - loss: 0.0191 - accuracy: 0.9941 - val_loss: 0.0234 - val_accuracy: 0.9932\n",
            "Epoch 10/12\n",
            "469/469 [==============================] - 3s 5ms/step - loss: 0.0146 - accuracy: 0.9954 - val_loss: 0.0256 - val_accuracy: 0.9925\n",
            "Epoch 11/12\n",
            "469/469 [==============================] - 3s 5ms/step - loss: 0.0153 - accuracy: 0.9949 - val_loss: 0.0281 - val_accuracy: 0.9919\n",
            "Epoch 12/12\n",
            "469/469 [==============================] - 3s 5ms/step - loss: 0.0125 - accuracy: 0.9957 - val_loss: 0.0269 - val_accuracy: 0.9931\n"
          ],
          "name": "stdout"
        }
      ]
    },
    {
      "cell_type": "code",
      "metadata": {
        "colab": {
          "base_uri": "https://localhost:8080/"
        },
        "id": "fw6uEn4sn3cL",
        "outputId": "45b36752-33b1-4e16-f7c4-9441920e7aa9"
      },
      "source": [
        "score = model.evaluate(x_test, y_test, verbose=0)\r\n",
        "print('Test loss:', score[0])\r\n",
        "print('Test accuracy:', score[1])"
      ],
      "execution_count": 8,
      "outputs": [
        {
          "output_type": "stream",
          "text": [
            "Test loss: 0.026887373998761177\n",
            "Test accuracy: 0.9930999875068665\n"
          ],
          "name": "stdout"
        }
      ]
    },
    {
      "cell_type": "markdown",
      "metadata": {
        "id": "h5K6as2mk9PH"
      },
      "source": [
        "## 1D CNN으로 MNIST 데이터 분류 (메인, 인터넷에서 찾지 말고 가능한 자신이 구현해 볼 것)"
      ]
    },
    {
      "cell_type": "code",
      "metadata": {
        "id": "Wj61AJDSZRX-",
        "colab": {
          "base_uri": "https://localhost:8080/"
        },
        "outputId": "4ad64ff0-0f7d-4168-9476-81b7283dc800"
      },
      "source": [
        "(X_train, y_train), (X_test, y_test) = keras.datasets.mnist.load_data()\r\n",
        "\r\n",
        "# 모양 (shape) 확인\r\n",
        "print('X_train shape', X_train.shape)"
      ],
      "execution_count": 10,
      "outputs": [
        {
          "output_type": "stream",
          "text": [
            "X_train shape (60000, 28, 28)\n"
          ],
          "name": "stdout"
        }
      ]
    },
    {
      "cell_type": "code",
      "metadata": {
        "id": "In5HsNjBeQCx",
        "colab": {
          "base_uri": "https://localhost:8080/"
        },
        "outputId": "882f8e5e-c40c-4bbb-d6bc-3b077c18520c"
      },
      "source": [
        "# Train\r\n",
        "X_train_size = X_train.shape[0]\r\n",
        "input_dim = X_train.shape[1] *  X_train.shape[2]\r\n",
        "X_train = np.reshape(X_train, (X_train_size, input_dim))\r\n",
        "print(X_train.shape)\r\n",
        "# Test\r\n",
        "X_test_size = X_test.shape[0]\r\n",
        "input_dim = X_test.shape[1] *  X_test.shape[2]\r\n",
        "X_test = np.reshape(X_test, (X_test_size, input_dim))\r\n",
        "print(X_test.shape)"
      ],
      "execution_count": 11,
      "outputs": [
        {
          "output_type": "stream",
          "text": [
            "(60000, 784)\n",
            "(10000, 784)\n"
          ],
          "name": "stdout"
        }
      ]
    },
    {
      "cell_type": "code",
      "metadata": {
        "id": "uHMExmAg74ag",
        "colab": {
          "base_uri": "https://localhost:8080/"
        },
        "outputId": "bf13147c-3213-4949-8538-23f8af07dae2"
      },
      "source": [
        "from keras.layers import Embedding\r\n",
        "from keras.layers import Conv1D, GlobalMaxPooling1D, MaxPooling1D\r\n",
        "from keras.layers import Dense, Dropout, Activation\r\n",
        "(train_images, train_labels), (test_images, test_labels) = keras.datasets.mnist.load_data()\r\n",
        "\r\n",
        "train_images = train_images.reshape((60000, 784, 1)) \r\n",
        "test_images = test_images.reshape((10000, 784, 1)) \r\n",
        "train_images, test_images = train_images / 255.0, test_images / 255.0\r\n",
        "\r\n",
        "model = Sequential() #모델 생성.\r\n",
        "\r\n",
        "model.add(Conv1D(64, 3, activation='relu', input_shape=(784, 1)))  #Conv1D 모델을 추가한다.\r\n",
        "\r\n",
        "model.add(MaxPooling1D(2)) #Maxpooling 추가를 한다.\r\n",
        "\r\n",
        "model.add(Conv1D(32, 3, activation='relu'))\r\n",
        "\r\n",
        "model.add(MaxPooling1D(2))\r\n",
        "\r\n",
        "model.add(Conv1D(32, 3, activation='relu'))\r\n",
        "\r\n",
        "model.add(Flatten()) \r\n",
        "\r\n",
        "model.add(Dense(32, activation='relu')) \r\n",
        "\r\n",
        "model.add(Dense(10, activation='softmax')) \r\n",
        "\r\n",
        "model.compile(optimizer='adam', loss='sparse_categorical_crossentropy', metrics=['accuracy'])\r\n",
        "\r\n",
        "model.fit(train_images, train_labels, epochs=1,verbose=1) \r\n",
        "\r\n",
        "_, test_acc = model.evaluate(test_images,  test_labels, verbose=2)\r\n"
      ],
      "execution_count": 13,
      "outputs": [
        {
          "output_type": "stream",
          "text": [
            "1875/1875 [==============================] - 6s 3ms/step - loss: 0.3947 - accuracy: 0.8744\n",
            "313/313 - 1s - loss: 0.1240 - accuracy: 0.9631\n"
          ],
          "name": "stdout"
        }
      ]
    }
  ]
}