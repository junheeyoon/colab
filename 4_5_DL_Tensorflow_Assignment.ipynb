{
  "nbformat": 4,
  "nbformat_minor": 0,
  "metadata": {
    "colab": {
      "name": "4-5.DL - Tensorflow Assignment.ipynb",
      "provenance": [],
      "authorship_tag": "ABX9TyOrKtFY/DaMvFsgJZa4MLjM",
      "include_colab_link": true
    },
    "kernelspec": {
      "name": "python3",
      "display_name": "Python 3"
    },
    "accelerator": "GPU"
  },
  "cells": [
    {
      "cell_type": "markdown",
      "metadata": {
        "id": "view-in-github",
        "colab_type": "text"
      },
      "source": [
        "<a href=\"https://colab.research.google.com/github/junheeyoon/colab/blob/master/4_5_DL_Tensorflow_Assignment.ipynb\" target=\"_parent\"><img src=\"https://colab.research.google.com/assets/colab-badge.svg\" alt=\"Open In Colab\"/></a>"
      ]
    },
    {
      "cell_type": "markdown",
      "metadata": {
        "id": "3JNZV44O2NbP"
      },
      "source": [
        "# Tensorflow 과제\r\n",
        "\r\n",
        "\r\n",
        "\r\n"
      ]
    },
    {
      "cell_type": "markdown",
      "metadata": {
        "id": "XQF2e_Np221F"
      },
      "source": [
        "## CNN기초\r\n",
        "원본 데이터를 2차원으로 놓고 필터(또는 feature detector)라는 사각형 윈도우를 씌운다음에 움직이면서 새로운 값을 만들어 낸다.\r\n",
        "이때 움직이는 과정을 convolution이라고 하고, 필터가 움직이는 방향이 한 방향이면 1D-CNN이고 두 방향이면 2D-CNN이다.\r\n",
        "\r\n",
        "1차원 CNN이라 하더라도 필터의 사각형이 반드시 1차원인건 아니다. 움직이는 콘볼루션 방향및 결과로 나오는 배열이 1차원인지 2차원인지 따지는 것"
      ]
    },
    {
      "cell_type": "markdown",
      "metadata": {
        "id": "8xpsJSF1lLPx"
      },
      "source": [
        "## 2D CNN으로 MNIST 데이터 분류 (워밍업)"
      ]
    },
    {
      "cell_type": "markdown",
      "metadata": {
        "id": "q7pxMEnP64uF"
      },
      "source": [
        "### 데이터 읽기"
      ]
    },
    {
      "cell_type": "code",
      "metadata": {
        "colab": {
          "base_uri": "https://localhost:8080/"
        },
        "id": "jxfPHsi4nGXM",
        "outputId": "b31eb7f5-1ac6-4fac-e150-69e65ec73be2"
      },
      "source": [
        "import warnings\r\n",
        "warnings.simplefilter(action='ignore', category=FutureWarning)\r\n",
        "\r\n",
        "import sys\r\n",
        "import tensorflow as tf\r\n",
        "import keras\r\n",
        "from keras.models import Sequential\r\n",
        "from keras.layers import Dense, Dropout, Flatten\r\n",
        "from keras.layers.convolutional import Conv2D, MaxPooling2D\r\n",
        "import numpy as np\r\n",
        "np.random.seed(7)\r\n",
        "\r\n",
        "print('Python version : ', sys.version)\r\n",
        "print('TensorFlow version : ', tf.__version__)\r\n",
        "print('Keras version : ', keras.__version__)"
      ],
      "execution_count": 1,
      "outputs": [
        {
          "output_type": "stream",
          "text": [
            "Python version :  3.6.9 (default, Oct  8 2020, 12:12:24) \n",
            "[GCC 8.4.0]\n",
            "TensorFlow version :  2.4.1\n",
            "Keras version :  2.4.3\n"
          ],
          "name": "stdout"
        }
      ]
    },
    {
      "cell_type": "code",
      "metadata": {
        "colab": {
          "base_uri": "https://localhost:8080/"
        },
        "id": "3ymRiqtknHfI",
        "outputId": "e5939c59-ef5d-4ea6-be81-906dd738745e"
      },
      "source": [
        "img_rows = 28\r\n",
        "img_cols = 28\r\n",
        "\r\n",
        "(x_train, y_train), (x_test, y_test) = keras.datasets.mnist.load_data()\r\n",
        "\r\n",
        "input_shape = (img_rows, img_cols, 1)\r\n",
        "x_train = x_train.reshape(x_train.shape[0], img_rows, img_cols, 1)\r\n",
        "x_test = x_test.reshape(x_test.shape[0], img_rows, img_cols, 1)\r\n",
        "\r\n",
        "x_train = x_train.astype('float32') / 255.\r\n",
        "x_test = x_test.astype('float32') / 255.\r\n",
        "\r\n",
        "print('x_train shape:', x_train.shape)\r\n",
        "print(x_train.shape[0], 'train samples')\r\n",
        "print(x_test.shape[0], 'test samples')\r\n",
        "\r\n",
        "batch_size = 128\r\n",
        "num_classes = 10\r\n",
        "epochs = 12\r\n",
        "\r\n",
        "y_train = keras.utils.to_categorical(y_train, num_classes)\r\n",
        "y_test = keras.utils.to_categorical(y_test, num_classes)"
      ],
      "execution_count": 2,
      "outputs": [
        {
          "output_type": "stream",
          "text": [
            "Downloading data from https://storage.googleapis.com/tensorflow/tf-keras-datasets/mnist.npz\n",
            "11493376/11490434 [==============================] - 0s 0us/step\n",
            "x_train shape: (60000, 28, 28, 1)\n",
            "60000 train samples\n",
            "10000 test samples\n"
          ],
          "name": "stdout"
        }
      ]
    },
    {
      "cell_type": "code",
      "metadata": {
        "colab": {
          "base_uri": "https://localhost:8080/"
        },
        "id": "kuWq7jgmnORd",
        "outputId": "41833ac0-d787-4c34-e0f7-770df8dda780"
      },
      "source": [
        "model = Sequential()\r\n",
        "model.add(Conv2D(32, kernel_size=(5, 5), strides=(1, 1), padding='same',\r\n",
        "                 activation='relu',\r\n",
        "                 input_shape=input_shape))\r\n",
        "model.add(MaxPooling2D(pool_size=(2, 2), strides=(2, 2)))\r\n",
        "model.add(Conv2D(64, (2, 2), activation='relu', padding='same'))\r\n",
        "model.add(MaxPooling2D(pool_size=(2, 2)))\r\n",
        "model.add(Dropout(0.25))\r\n",
        "model.add(Flatten())\r\n",
        "model.add(Dense(1000, activation='relu'))\r\n",
        "model.add(Dropout(0.5))\r\n",
        "model.add(Dense(num_classes, activation='softmax'))\r\n",
        "model.summary()"
      ],
      "execution_count": 18,
      "outputs": [
        {
          "output_type": "stream",
          "text": [
            "Model: \"sequential_2\"\n",
            "_________________________________________________________________\n",
            "Layer (type)                 Output Shape              Param #   \n",
            "=================================================================\n",
            "conv2d_2 (Conv2D)            (None, 28, 28, 32)        832       \n",
            "_________________________________________________________________\n",
            "max_pooling2d_2 (MaxPooling2 (None, 14, 14, 32)        0         \n",
            "_________________________________________________________________\n",
            "conv2d_3 (Conv2D)            (None, 14, 14, 64)        8256      \n",
            "_________________________________________________________________\n",
            "max_pooling2d_3 (MaxPooling2 (None, 7, 7, 64)          0         \n",
            "_________________________________________________________________\n",
            "dropout_2 (Dropout)          (None, 7, 7, 64)          0         \n",
            "_________________________________________________________________\n",
            "flatten_2 (Flatten)          (None, 3136)              0         \n",
            "_________________________________________________________________\n",
            "dense_4 (Dense)              (None, 1000)              3137000   \n",
            "_________________________________________________________________\n",
            "dropout_3 (Dropout)          (None, 1000)              0         \n",
            "_________________________________________________________________\n",
            "dense_5 (Dense)              (None, 10)                10010     \n",
            "=================================================================\n",
            "Total params: 3,156,098\n",
            "Trainable params: 3,156,098\n",
            "Non-trainable params: 0\n",
            "_________________________________________________________________\n"
          ],
          "name": "stdout"
        }
      ]
    },
    {
      "cell_type": "code",
      "metadata": {
        "colab": {
          "base_uri": "https://localhost:8080/",
          "height": 985
        },
        "id": "vhJurcKznf-t",
        "outputId": "9a15016e-a8e1-4d3f-9bfd-e6695e03c041"
      },
      "source": [
        "from IPython.display import SVG\r\n",
        "from keras.utils.vis_utils import model_to_dot\r\n",
        "%matplotlib inline\r\n",
        "\r\n",
        "SVG(model_to_dot(model, show_shapes=True, dpi=65).create(prog='dot', format='svg'))"
      ],
      "execution_count": 19,
      "outputs": [
        {
          "output_type": "execute_result",
          "data": {
            "text/plain": [
              "<IPython.core.display.SVG object>"
            ],
            "image/svg+xml": "<svg height=\"724pt\" viewBox=\"0.00 0.00 412.00 802.00\" width=\"372pt\" xmlns=\"http://www.w3.org/2000/svg\" xmlns:xlink=\"http://www.w3.org/1999/xlink\">\n<g class=\"graph\" id=\"graph0\" transform=\"scale(.9028 .9028) rotate(0) translate(4 798)\">\n<title>G</title>\n<polygon fill=\"#ffffff\" points=\"-4,4 -4,-798 408,-798 408,4 -4,4\" stroke=\"transparent\"/>\n<!-- 140583879107304 -->\n<g class=\"node\" id=\"node1\">\n<title>140583879107304</title>\n<polygon fill=\"none\" points=\"18,-747.5 18,-793.5 386,-793.5 386,-747.5 18,-747.5\" stroke=\"#000000\"/>\n<text fill=\"#000000\" font-family=\"Times,serif\" font-size=\"14.00\" text-anchor=\"middle\" x=\"110\" y=\"-766.8\">conv2d_2_input: InputLayer</text>\n<polyline fill=\"none\" points=\"202,-747.5 202,-793.5 \" stroke=\"#000000\"/>\n<text fill=\"#000000\" font-family=\"Times,serif\" font-size=\"14.00\" text-anchor=\"middle\" x=\"231\" y=\"-778.3\">input:</text>\n<polyline fill=\"none\" points=\"202,-770.5 260,-770.5 \" stroke=\"#000000\"/>\n<text fill=\"#000000\" font-family=\"Times,serif\" font-size=\"14.00\" text-anchor=\"middle\" x=\"231\" y=\"-755.3\">output:</text>\n<polyline fill=\"none\" points=\"260,-747.5 260,-793.5 \" stroke=\"#000000\"/>\n<text fill=\"#000000\" font-family=\"Times,serif\" font-size=\"14.00\" text-anchor=\"middle\" x=\"323\" y=\"-778.3\">[(None, 28, 28, 1)]</text>\n<polyline fill=\"none\" points=\"260,-770.5 386,-770.5 \" stroke=\"#000000\"/>\n<text fill=\"#000000\" font-family=\"Times,serif\" font-size=\"14.00\" text-anchor=\"middle\" x=\"323\" y=\"-755.3\">[(None, 28, 28, 1)]</text>\n</g>\n<!-- 140585780605672 -->\n<g class=\"node\" id=\"node2\">\n<title>140585780605672</title>\n<polygon fill=\"none\" points=\"44,-664.5 44,-710.5 360,-710.5 360,-664.5 44,-664.5\" stroke=\"#000000\"/>\n<text fill=\"#000000\" font-family=\"Times,serif\" font-size=\"14.00\" text-anchor=\"middle\" x=\"110.5\" y=\"-683.8\">conv2d_2: Conv2D</text>\n<polyline fill=\"none\" points=\"177,-664.5 177,-710.5 \" stroke=\"#000000\"/>\n<text fill=\"#000000\" font-family=\"Times,serif\" font-size=\"14.00\" text-anchor=\"middle\" x=\"206\" y=\"-695.3\">input:</text>\n<polyline fill=\"none\" points=\"177,-687.5 235,-687.5 \" stroke=\"#000000\"/>\n<text fill=\"#000000\" font-family=\"Times,serif\" font-size=\"14.00\" text-anchor=\"middle\" x=\"206\" y=\"-672.3\">output:</text>\n<polyline fill=\"none\" points=\"235,-664.5 235,-710.5 \" stroke=\"#000000\"/>\n<text fill=\"#000000\" font-family=\"Times,serif\" font-size=\"14.00\" text-anchor=\"middle\" x=\"297.5\" y=\"-695.3\">(None, 28, 28, 1)</text>\n<polyline fill=\"none\" points=\"235,-687.5 360,-687.5 \" stroke=\"#000000\"/>\n<text fill=\"#000000\" font-family=\"Times,serif\" font-size=\"14.00\" text-anchor=\"middle\" x=\"297.5\" y=\"-672.3\">(None, 28, 28, 32)</text>\n</g>\n<!-- 140583879107304&#45;&gt;140585780605672 -->\n<g class=\"edge\" id=\"edge1\">\n<title>140583879107304-&gt;140585780605672</title>\n<path d=\"M202,-747.3799C202,-739.1745 202,-729.7679 202,-720.8786\" fill=\"none\" stroke=\"#000000\"/>\n<polygon fill=\"#000000\" points=\"205.5001,-720.784 202,-710.784 198.5001,-720.784 205.5001,-720.784\" stroke=\"#000000\"/>\n</g>\n<!-- 140584011796320 -->\n<g class=\"node\" id=\"node3\">\n<title>140584011796320</title>\n<polygon fill=\"none\" points=\"0,-581.5 0,-627.5 404,-627.5 404,-581.5 0,-581.5\" stroke=\"#000000\"/>\n<text fill=\"#000000\" font-family=\"Times,serif\" font-size=\"14.00\" text-anchor=\"middle\" x=\"110.5\" y=\"-600.8\">max_pooling2d_2: MaxPooling2D</text>\n<polyline fill=\"none\" points=\"221,-581.5 221,-627.5 \" stroke=\"#000000\"/>\n<text fill=\"#000000\" font-family=\"Times,serif\" font-size=\"14.00\" text-anchor=\"middle\" x=\"250\" y=\"-612.3\">input:</text>\n<polyline fill=\"none\" points=\"221,-604.5 279,-604.5 \" stroke=\"#000000\"/>\n<text fill=\"#000000\" font-family=\"Times,serif\" font-size=\"14.00\" text-anchor=\"middle\" x=\"250\" y=\"-589.3\">output:</text>\n<polyline fill=\"none\" points=\"279,-581.5 279,-627.5 \" stroke=\"#000000\"/>\n<text fill=\"#000000\" font-family=\"Times,serif\" font-size=\"14.00\" text-anchor=\"middle\" x=\"341.5\" y=\"-612.3\">(None, 28, 28, 32)</text>\n<polyline fill=\"none\" points=\"279,-604.5 404,-604.5 \" stroke=\"#000000\"/>\n<text fill=\"#000000\" font-family=\"Times,serif\" font-size=\"14.00\" text-anchor=\"middle\" x=\"341.5\" y=\"-589.3\">(None, 14, 14, 32)</text>\n</g>\n<!-- 140585780605672&#45;&gt;140584011796320 -->\n<g class=\"edge\" id=\"edge2\">\n<title>140585780605672-&gt;140584011796320</title>\n<path d=\"M202,-664.3799C202,-656.1745 202,-646.7679 202,-637.8786\" fill=\"none\" stroke=\"#000000\"/>\n<polygon fill=\"#000000\" points=\"205.5001,-637.784 202,-627.784 198.5001,-637.784 205.5001,-637.784\" stroke=\"#000000\"/>\n</g>\n<!-- 140583879183944 -->\n<g class=\"node\" id=\"node4\">\n<title>140583879183944</title>\n<polygon fill=\"none\" points=\"44,-498.5 44,-544.5 360,-544.5 360,-498.5 44,-498.5\" stroke=\"#000000\"/>\n<text fill=\"#000000\" font-family=\"Times,serif\" font-size=\"14.00\" text-anchor=\"middle\" x=\"110.5\" y=\"-517.8\">conv2d_3: Conv2D</text>\n<polyline fill=\"none\" points=\"177,-498.5 177,-544.5 \" stroke=\"#000000\"/>\n<text fill=\"#000000\" font-family=\"Times,serif\" font-size=\"14.00\" text-anchor=\"middle\" x=\"206\" y=\"-529.3\">input:</text>\n<polyline fill=\"none\" points=\"177,-521.5 235,-521.5 \" stroke=\"#000000\"/>\n<text fill=\"#000000\" font-family=\"Times,serif\" font-size=\"14.00\" text-anchor=\"middle\" x=\"206\" y=\"-506.3\">output:</text>\n<polyline fill=\"none\" points=\"235,-498.5 235,-544.5 \" stroke=\"#000000\"/>\n<text fill=\"#000000\" font-family=\"Times,serif\" font-size=\"14.00\" text-anchor=\"middle\" x=\"297.5\" y=\"-529.3\">(None, 14, 14, 32)</text>\n<polyline fill=\"none\" points=\"235,-521.5 360,-521.5 \" stroke=\"#000000\"/>\n<text fill=\"#000000\" font-family=\"Times,serif\" font-size=\"14.00\" text-anchor=\"middle\" x=\"297.5\" y=\"-506.3\">(None, 14, 14, 64)</text>\n</g>\n<!-- 140584011796320&#45;&gt;140583879183944 -->\n<g class=\"edge\" id=\"edge3\">\n<title>140584011796320-&gt;140583879183944</title>\n<path d=\"M202,-581.3799C202,-573.1745 202,-563.7679 202,-554.8786\" fill=\"none\" stroke=\"#000000\"/>\n<polygon fill=\"#000000\" points=\"205.5001,-554.784 202,-544.784 198.5001,-554.784 205.5001,-554.784\" stroke=\"#000000\"/>\n</g>\n<!-- 140583879164144 -->\n<g class=\"node\" id=\"node5\">\n<title>140583879164144</title>\n<polygon fill=\"none\" points=\"0,-415.5 0,-461.5 404,-461.5 404,-415.5 0,-415.5\" stroke=\"#000000\"/>\n<text fill=\"#000000\" font-family=\"Times,serif\" font-size=\"14.00\" text-anchor=\"middle\" x=\"110.5\" y=\"-434.8\">max_pooling2d_3: MaxPooling2D</text>\n<polyline fill=\"none\" points=\"221,-415.5 221,-461.5 \" stroke=\"#000000\"/>\n<text fill=\"#000000\" font-family=\"Times,serif\" font-size=\"14.00\" text-anchor=\"middle\" x=\"250\" y=\"-446.3\">input:</text>\n<polyline fill=\"none\" points=\"221,-438.5 279,-438.5 \" stroke=\"#000000\"/>\n<text fill=\"#000000\" font-family=\"Times,serif\" font-size=\"14.00\" text-anchor=\"middle\" x=\"250\" y=\"-423.3\">output:</text>\n<polyline fill=\"none\" points=\"279,-415.5 279,-461.5 \" stroke=\"#000000\"/>\n<text fill=\"#000000\" font-family=\"Times,serif\" font-size=\"14.00\" text-anchor=\"middle\" x=\"341.5\" y=\"-446.3\">(None, 14, 14, 64)</text>\n<polyline fill=\"none\" points=\"279,-438.5 404,-438.5 \" stroke=\"#000000\"/>\n<text fill=\"#000000\" font-family=\"Times,serif\" font-size=\"14.00\" text-anchor=\"middle\" x=\"341.5\" y=\"-423.3\">(None, 7, 7, 64)</text>\n</g>\n<!-- 140583879183944&#45;&gt;140583879164144 -->\n<g class=\"edge\" id=\"edge4\">\n<title>140583879183944-&gt;140583879164144</title>\n<path d=\"M202,-498.3799C202,-490.1745 202,-480.7679 202,-471.8786\" fill=\"none\" stroke=\"#000000\"/>\n<polygon fill=\"#000000\" points=\"205.5001,-471.784 202,-461.784 198.5001,-471.784 205.5001,-471.784\" stroke=\"#000000\"/>\n</g>\n<!-- 140583882267840 -->\n<g class=\"node\" id=\"node6\">\n<title>140583882267840</title>\n<polygon fill=\"none\" points=\"51,-332.5 51,-378.5 353,-378.5 353,-332.5 51,-332.5\" stroke=\"#000000\"/>\n<text fill=\"#000000\" font-family=\"Times,serif\" font-size=\"14.00\" text-anchor=\"middle\" x=\"118\" y=\"-351.8\">dropout_2: Dropout</text>\n<polyline fill=\"none\" points=\"185,-332.5 185,-378.5 \" stroke=\"#000000\"/>\n<text fill=\"#000000\" font-family=\"Times,serif\" font-size=\"14.00\" text-anchor=\"middle\" x=\"214\" y=\"-363.3\">input:</text>\n<polyline fill=\"none\" points=\"185,-355.5 243,-355.5 \" stroke=\"#000000\"/>\n<text fill=\"#000000\" font-family=\"Times,serif\" font-size=\"14.00\" text-anchor=\"middle\" x=\"214\" y=\"-340.3\">output:</text>\n<polyline fill=\"none\" points=\"243,-332.5 243,-378.5 \" stroke=\"#000000\"/>\n<text fill=\"#000000\" font-family=\"Times,serif\" font-size=\"14.00\" text-anchor=\"middle\" x=\"298\" y=\"-363.3\">(None, 7, 7, 64)</text>\n<polyline fill=\"none\" points=\"243,-355.5 353,-355.5 \" stroke=\"#000000\"/>\n<text fill=\"#000000\" font-family=\"Times,serif\" font-size=\"14.00\" text-anchor=\"middle\" x=\"298\" y=\"-340.3\">(None, 7, 7, 64)</text>\n</g>\n<!-- 140583879164144&#45;&gt;140583882267840 -->\n<g class=\"edge\" id=\"edge5\">\n<title>140583879164144-&gt;140583882267840</title>\n<path d=\"M202,-415.3799C202,-407.1745 202,-397.7679 202,-388.8786\" fill=\"none\" stroke=\"#000000\"/>\n<polygon fill=\"#000000\" points=\"205.5001,-388.784 202,-378.784 198.5001,-388.784 205.5001,-388.784\" stroke=\"#000000\"/>\n</g>\n<!-- 140583899652616 -->\n<g class=\"node\" id=\"node7\">\n<title>140583899652616</title>\n<polygon fill=\"none\" points=\"61.5,-249.5 61.5,-295.5 342.5,-295.5 342.5,-249.5 61.5,-249.5\" stroke=\"#000000\"/>\n<text fill=\"#000000\" font-family=\"Times,serif\" font-size=\"14.00\" text-anchor=\"middle\" x=\"118\" y=\"-268.8\">flatten_2: Flatten</text>\n<polyline fill=\"none\" points=\"174.5,-249.5 174.5,-295.5 \" stroke=\"#000000\"/>\n<text fill=\"#000000\" font-family=\"Times,serif\" font-size=\"14.00\" text-anchor=\"middle\" x=\"203.5\" y=\"-280.3\">input:</text>\n<polyline fill=\"none\" points=\"174.5,-272.5 232.5,-272.5 \" stroke=\"#000000\"/>\n<text fill=\"#000000\" font-family=\"Times,serif\" font-size=\"14.00\" text-anchor=\"middle\" x=\"203.5\" y=\"-257.3\">output:</text>\n<polyline fill=\"none\" points=\"232.5,-249.5 232.5,-295.5 \" stroke=\"#000000\"/>\n<text fill=\"#000000\" font-family=\"Times,serif\" font-size=\"14.00\" text-anchor=\"middle\" x=\"287.5\" y=\"-280.3\">(None, 7, 7, 64)</text>\n<polyline fill=\"none\" points=\"232.5,-272.5 342.5,-272.5 \" stroke=\"#000000\"/>\n<text fill=\"#000000\" font-family=\"Times,serif\" font-size=\"14.00\" text-anchor=\"middle\" x=\"287.5\" y=\"-257.3\">(None, 3136)</text>\n</g>\n<!-- 140583882267840&#45;&gt;140583899652616 -->\n<g class=\"edge\" id=\"edge6\">\n<title>140583882267840-&gt;140583899652616</title>\n<path d=\"M202,-332.3799C202,-324.1745 202,-314.7679 202,-305.8786\" fill=\"none\" stroke=\"#000000\"/>\n<polygon fill=\"#000000\" points=\"205.5001,-305.784 202,-295.784 198.5001,-305.784 205.5001,-305.784\" stroke=\"#000000\"/>\n</g>\n<!-- 140583882519048 -->\n<g class=\"node\" id=\"node8\">\n<title>140583882519048</title>\n<polygon fill=\"none\" points=\"72,-166.5 72,-212.5 332,-212.5 332,-166.5 72,-166.5\" stroke=\"#000000\"/>\n<text fill=\"#000000\" font-family=\"Times,serif\" font-size=\"14.00\" text-anchor=\"middle\" x=\"125.5\" y=\"-185.8\">dense_4: Dense</text>\n<polyline fill=\"none\" points=\"179,-166.5 179,-212.5 \" stroke=\"#000000\"/>\n<text fill=\"#000000\" font-family=\"Times,serif\" font-size=\"14.00\" text-anchor=\"middle\" x=\"208\" y=\"-197.3\">input:</text>\n<polyline fill=\"none\" points=\"179,-189.5 237,-189.5 \" stroke=\"#000000\"/>\n<text fill=\"#000000\" font-family=\"Times,serif\" font-size=\"14.00\" text-anchor=\"middle\" x=\"208\" y=\"-174.3\">output:</text>\n<polyline fill=\"none\" points=\"237,-166.5 237,-212.5 \" stroke=\"#000000\"/>\n<text fill=\"#000000\" font-family=\"Times,serif\" font-size=\"14.00\" text-anchor=\"middle\" x=\"284.5\" y=\"-197.3\">(None, 3136)</text>\n<polyline fill=\"none\" points=\"237,-189.5 332,-189.5 \" stroke=\"#000000\"/>\n<text fill=\"#000000\" font-family=\"Times,serif\" font-size=\"14.00\" text-anchor=\"middle\" x=\"284.5\" y=\"-174.3\">(None, 1000)</text>\n</g>\n<!-- 140583899652616&#45;&gt;140583882519048 -->\n<g class=\"edge\" id=\"edge7\">\n<title>140583899652616-&gt;140583882519048</title>\n<path d=\"M202,-249.3799C202,-241.1745 202,-231.7679 202,-222.8786\" fill=\"none\" stroke=\"#000000\"/>\n<polygon fill=\"#000000\" points=\"205.5001,-222.784 202,-212.784 198.5001,-222.784 205.5001,-222.784\" stroke=\"#000000\"/>\n</g>\n<!-- 140583881244456 -->\n<g class=\"node\" id=\"node9\">\n<title>140583881244456</title>\n<polygon fill=\"none\" points=\"58.5,-83.5 58.5,-129.5 345.5,-129.5 345.5,-83.5 58.5,-83.5\" stroke=\"#000000\"/>\n<text fill=\"#000000\" font-family=\"Times,serif\" font-size=\"14.00\" text-anchor=\"middle\" x=\"125.5\" y=\"-102.8\">dropout_3: Dropout</text>\n<polyline fill=\"none\" points=\"192.5,-83.5 192.5,-129.5 \" stroke=\"#000000\"/>\n<text fill=\"#000000\" font-family=\"Times,serif\" font-size=\"14.00\" text-anchor=\"middle\" x=\"221.5\" y=\"-114.3\">input:</text>\n<polyline fill=\"none\" points=\"192.5,-106.5 250.5,-106.5 \" stroke=\"#000000\"/>\n<text fill=\"#000000\" font-family=\"Times,serif\" font-size=\"14.00\" text-anchor=\"middle\" x=\"221.5\" y=\"-91.3\">output:</text>\n<polyline fill=\"none\" points=\"250.5,-83.5 250.5,-129.5 \" stroke=\"#000000\"/>\n<text fill=\"#000000\" font-family=\"Times,serif\" font-size=\"14.00\" text-anchor=\"middle\" x=\"298\" y=\"-114.3\">(None, 1000)</text>\n<polyline fill=\"none\" points=\"250.5,-106.5 345.5,-106.5 \" stroke=\"#000000\"/>\n<text fill=\"#000000\" font-family=\"Times,serif\" font-size=\"14.00\" text-anchor=\"middle\" x=\"298\" y=\"-91.3\">(None, 1000)</text>\n</g>\n<!-- 140583882519048&#45;&gt;140583881244456 -->\n<g class=\"edge\" id=\"edge8\">\n<title>140583882519048-&gt;140583881244456</title>\n<path d=\"M202,-166.3799C202,-158.1745 202,-148.7679 202,-139.8786\" fill=\"none\" stroke=\"#000000\"/>\n<polygon fill=\"#000000\" points=\"205.5001,-139.784 202,-129.784 198.5001,-139.784 205.5001,-139.784\" stroke=\"#000000\"/>\n</g>\n<!-- 140583882508440 -->\n<g class=\"node\" id=\"node10\">\n<title>140583882508440</title>\n<polygon fill=\"none\" points=\"72,-.5 72,-46.5 332,-46.5 332,-.5 72,-.5\" stroke=\"#000000\"/>\n<text fill=\"#000000\" font-family=\"Times,serif\" font-size=\"14.00\" text-anchor=\"middle\" x=\"125.5\" y=\"-19.8\">dense_5: Dense</text>\n<polyline fill=\"none\" points=\"179,-.5 179,-46.5 \" stroke=\"#000000\"/>\n<text fill=\"#000000\" font-family=\"Times,serif\" font-size=\"14.00\" text-anchor=\"middle\" x=\"208\" y=\"-31.3\">input:</text>\n<polyline fill=\"none\" points=\"179,-23.5 237,-23.5 \" stroke=\"#000000\"/>\n<text fill=\"#000000\" font-family=\"Times,serif\" font-size=\"14.00\" text-anchor=\"middle\" x=\"208\" y=\"-8.3\">output:</text>\n<polyline fill=\"none\" points=\"237,-.5 237,-46.5 \" stroke=\"#000000\"/>\n<text fill=\"#000000\" font-family=\"Times,serif\" font-size=\"14.00\" text-anchor=\"middle\" x=\"284.5\" y=\"-31.3\">(None, 1000)</text>\n<polyline fill=\"none\" points=\"237,-23.5 332,-23.5 \" stroke=\"#000000\"/>\n<text fill=\"#000000\" font-family=\"Times,serif\" font-size=\"14.00\" text-anchor=\"middle\" x=\"284.5\" y=\"-8.3\">(None, 10)</text>\n</g>\n<!-- 140583881244456&#45;&gt;140583882508440 -->\n<g class=\"edge\" id=\"edge9\">\n<title>140583881244456-&gt;140583882508440</title>\n<path d=\"M202,-83.3799C202,-75.1745 202,-65.7679 202,-56.8786\" fill=\"none\" stroke=\"#000000\"/>\n<polygon fill=\"#000000\" points=\"205.5001,-56.784 202,-46.784 198.5001,-56.784 205.5001,-56.784\" stroke=\"#000000\"/>\n</g>\n</g>\n</svg>"
          },
          "metadata": {
            "tags": []
          },
          "execution_count": 19
        }
      ]
    },
    {
      "cell_type": "code",
      "metadata": {
        "colab": {
          "base_uri": "https://localhost:8080/"
        },
        "id": "OJ3oXUZxnuE5",
        "outputId": "b6b369c9-3cf9-4c5f-967c-fd44dc9abf24"
      },
      "source": [
        "model.compile(loss='categorical_crossentropy', optimizer='adam', metrics=['accuracy'])\r\n",
        "hist = model.fit(x_train, y_train,\r\n",
        "                 batch_size=batch_size,\r\n",
        "                 epochs=epochs,\r\n",
        "                 verbose=1, \r\n",
        "                 validation_data=(x_test, y_test))"
      ],
      "execution_count": 7,
      "outputs": [
        {
          "output_type": "stream",
          "text": [
            "Epoch 1/12\n",
            "469/469 [==============================] - 10s 6ms/step - loss: 0.4053 - accuracy: 0.8755 - val_loss: 0.0415 - val_accuracy: 0.9867\n",
            "Epoch 2/12\n",
            "469/469 [==============================] - 3s 5ms/step - loss: 0.0601 - accuracy: 0.9814 - val_loss: 0.0327 - val_accuracy: 0.9882\n",
            "Epoch 3/12\n",
            "469/469 [==============================] - 3s 5ms/step - loss: 0.0438 - accuracy: 0.9863 - val_loss: 0.0291 - val_accuracy: 0.9906\n",
            "Epoch 4/12\n",
            "469/469 [==============================] - 3s 5ms/step - loss: 0.0343 - accuracy: 0.9896 - val_loss: 0.0242 - val_accuracy: 0.9923\n",
            "Epoch 5/12\n",
            "469/469 [==============================] - 3s 5ms/step - loss: 0.0295 - accuracy: 0.9908 - val_loss: 0.0258 - val_accuracy: 0.9914\n",
            "Epoch 6/12\n",
            "469/469 [==============================] - 3s 5ms/step - loss: 0.0252 - accuracy: 0.9918 - val_loss: 0.0292 - val_accuracy: 0.9906\n",
            "Epoch 7/12\n",
            "469/469 [==============================] - 3s 5ms/step - loss: 0.0240 - accuracy: 0.9917 - val_loss: 0.0219 - val_accuracy: 0.9931\n",
            "Epoch 8/12\n",
            "469/469 [==============================] - 3s 5ms/step - loss: 0.0198 - accuracy: 0.9935 - val_loss: 0.0248 - val_accuracy: 0.9929\n",
            "Epoch 9/12\n",
            "469/469 [==============================] - 3s 5ms/step - loss: 0.0191 - accuracy: 0.9941 - val_loss: 0.0234 - val_accuracy: 0.9932\n",
            "Epoch 10/12\n",
            "469/469 [==============================] - 3s 5ms/step - loss: 0.0146 - accuracy: 0.9954 - val_loss: 0.0256 - val_accuracy: 0.9925\n",
            "Epoch 11/12\n",
            "469/469 [==============================] - 3s 5ms/step - loss: 0.0153 - accuracy: 0.9949 - val_loss: 0.0281 - val_accuracy: 0.9919\n",
            "Epoch 12/12\n",
            "469/469 [==============================] - 3s 5ms/step - loss: 0.0125 - accuracy: 0.9957 - val_loss: 0.0269 - val_accuracy: 0.9931\n"
          ],
          "name": "stdout"
        }
      ]
    },
    {
      "cell_type": "code",
      "metadata": {
        "colab": {
          "base_uri": "https://localhost:8080/"
        },
        "id": "fw6uEn4sn3cL",
        "outputId": "45b36752-33b1-4e16-f7c4-9441920e7aa9"
      },
      "source": [
        "score = model.evaluate(x_test, y_test, verbose=0)\r\n",
        "print('Test loss:', score[0])\r\n",
        "print('Test accuracy:', score[1])"
      ],
      "execution_count": 8,
      "outputs": [
        {
          "output_type": "stream",
          "text": [
            "Test loss: 0.026887373998761177\n",
            "Test accuracy: 0.9930999875068665\n"
          ],
          "name": "stdout"
        }
      ]
    },
    {
      "cell_type": "markdown",
      "metadata": {
        "id": "h5K6as2mk9PH"
      },
      "source": [
        "## 1D CNN으로 MNIST 데이터 분류 (메인, 인터넷에서 찾지 말고 가능한 자신이 구현해 볼 것)"
      ]
    },
    {
      "cell_type": "code",
      "metadata": {
        "id": "Wj61AJDSZRX-",
        "colab": {
          "base_uri": "https://localhost:8080/"
        },
        "outputId": "4ad64ff0-0f7d-4168-9476-81b7283dc800"
      },
      "source": [
        "(X_train, y_train), (X_test, y_test) = keras.datasets.mnist.load_data()\r\n",
        "\r\n",
        "# 모양 (shape) 확인\r\n",
        "print('X_train shape', X_train.shape)"
      ],
      "execution_count": 10,
      "outputs": [
        {
          "output_type": "stream",
          "text": [
            "X_train shape (60000, 28, 28)\n"
          ],
          "name": "stdout"
        }
      ]
    },
    {
      "cell_type": "code",
      "metadata": {
        "id": "In5HsNjBeQCx",
        "colab": {
          "base_uri": "https://localhost:8080/"
        },
        "outputId": "882f8e5e-c40c-4bbb-d6bc-3b077c18520c"
      },
      "source": [
        "# Train\r\n",
        "X_train_size = X_train.shape[0]\r\n",
        "input_dim = X_train.shape[1] *  X_train.shape[2]\r\n",
        "X_train = np.reshape(X_train, (X_train_size, input_dim))\r\n",
        "print(X_train.shape)\r\n",
        "# Test\r\n",
        "X_test_size = X_test.shape[0]\r\n",
        "input_dim = X_test.shape[1] *  X_test.shape[2]\r\n",
        "X_test = np.reshape(X_test, (X_test_size, input_dim))\r\n",
        "print(X_test.shape)"
      ],
      "execution_count": 11,
      "outputs": [
        {
          "output_type": "stream",
          "text": [
            "(60000, 784)\n",
            "(10000, 784)\n"
          ],
          "name": "stdout"
        }
      ]
    },
    {
      "cell_type": "code",
      "metadata": {
        "id": "uHMExmAg74ag",
        "colab": {
          "base_uri": "https://localhost:8080/"
        },
        "outputId": "5416a846-8844-404a-c871-3891cd6f92e2"
      },
      "source": [
        "from keras.layers import Embedding\r\n",
        "from keras.layers import Conv1D, GlobalMaxPooling1D, MaxPooling1D\r\n",
        "from keras.layers import Dense, Dropout, Activation\r\n",
        "(train_images, train_labels), (test_images, test_labels) = keras.datasets.mnist.load_data()\r\n",
        "\r\n",
        "train_images = train_images.reshape((60000, 784, 1)) \r\n",
        "test_images = test_images.reshape((10000, 784, 1)) \r\n",
        "train_images, test_images = train_images / 255.0, test_images / 255.0\r\n",
        "\r\n",
        "model = Sequential() #모델 생성.\r\n",
        "\r\n",
        "model.add(Conv1D(64, 3, activation='relu', input_shape=(784, 1)))  #Conv1D 모델을 추가한다.\r\n",
        "\r\n",
        "model.add(MaxPooling1D(2)) #Maxpooling 추가를 한다.\r\n",
        "\r\n",
        "model.add(Conv1D(32, 3, activation='relu'))\r\n",
        "\r\n",
        "model.add(MaxPooling1D(2))\r\n",
        "\r\n",
        "model.add(Conv1D(32, 3, activation='relu'))\r\n",
        "\r\n",
        "model.add(Flatten()) \r\n",
        "\r\n",
        "model.add(Dense(32, activation='relu')) \r\n",
        "\r\n",
        "model.add(Dense(10, activation='softmax')) \r\n",
        "\r\n",
        "model.compile(optimizer='adam', loss='sparse_categorical_crossentropy', metrics=['accuracy'])\r\n",
        "\r\n",
        "model.fit(train_images, train_labels, epochs=1,verbose=1) \r\n",
        "\r\n",
        "_, test_acc = model.evaluate(test_images,  test_labels, verbose=2)\r\n"
      ],
      "execution_count": 21,
      "outputs": [
        {
          "output_type": "stream",
          "text": [
            "1875/1875 [==============================] - 5s 3ms/step - loss: 0.3835 - accuracy: 0.8817\n",
            "313/313 - 1s - loss: 0.1217 - accuracy: 0.9637\n"
          ],
          "name": "stdout"
        }
      ]
    },
    {
      "cell_type": "code",
      "metadata": {
        "colab": {
          "base_uri": "https://localhost:8080/",
          "height": 885
        },
        "id": "Zz6E2QEQpUsm",
        "outputId": "e4d12e8b-b780-4acb-a0ac-bd4c9426af76"
      },
      "source": [
        "from IPython.display import SVG\r\n",
        "from keras.utils.vis_utils import model_to_dot\r\n",
        "%matplotlib inline\r\n",
        "\r\n",
        "SVG(model_to_dot(model, show_shapes=True, dpi=65).create(prog='dot', format='svg'))"
      ],
      "execution_count": 22,
      "outputs": [
        {
          "output_type": "execute_result",
          "data": {
            "text/plain": [
              "<IPython.core.display.SVG object>"
            ],
            "image/svg+xml": "<svg height=\"649pt\" viewBox=\"0.00 0.00 397.00 719.00\" width=\"358pt\" xmlns=\"http://www.w3.org/2000/svg\" xmlns:xlink=\"http://www.w3.org/1999/xlink\">\n<g class=\"graph\" id=\"graph0\" transform=\"scale(.9028 .9028) rotate(0) translate(4 715)\">\n<title>G</title>\n<polygon fill=\"#ffffff\" points=\"-4,4 -4,-715 393,-715 393,4 -4,4\" stroke=\"transparent\"/>\n<!-- 140583758000648 -->\n<g class=\"node\" id=\"node1\">\n<title>140583758000648</title>\n<polygon fill=\"none\" points=\"18,-664.5 18,-710.5 371,-710.5 371,-664.5 18,-664.5\" stroke=\"#000000\"/>\n<text fill=\"#000000\" font-family=\"Times,serif\" font-size=\"14.00\" text-anchor=\"middle\" x=\"110\" y=\"-683.8\">conv1d_3_input: InputLayer</text>\n<polyline fill=\"none\" points=\"202,-664.5 202,-710.5 \" stroke=\"#000000\"/>\n<text fill=\"#000000\" font-family=\"Times,serif\" font-size=\"14.00\" text-anchor=\"middle\" x=\"231\" y=\"-695.3\">input:</text>\n<polyline fill=\"none\" points=\"202,-687.5 260,-687.5 \" stroke=\"#000000\"/>\n<text fill=\"#000000\" font-family=\"Times,serif\" font-size=\"14.00\" text-anchor=\"middle\" x=\"231\" y=\"-672.3\">output:</text>\n<polyline fill=\"none\" points=\"260,-664.5 260,-710.5 \" stroke=\"#000000\"/>\n<text fill=\"#000000\" font-family=\"Times,serif\" font-size=\"14.00\" text-anchor=\"middle\" x=\"315.5\" y=\"-695.3\">[(None, 784, 1)]</text>\n<polyline fill=\"none\" points=\"260,-687.5 371,-687.5 \" stroke=\"#000000\"/>\n<text fill=\"#000000\" font-family=\"Times,serif\" font-size=\"14.00\" text-anchor=\"middle\" x=\"315.5\" y=\"-672.3\">[(None, 784, 1)]</text>\n</g>\n<!-- 140584010880896 -->\n<g class=\"node\" id=\"node2\">\n<title>140584010880896</title>\n<polygon fill=\"none\" points=\"44,-581.5 44,-627.5 345,-627.5 345,-581.5 44,-581.5\" stroke=\"#000000\"/>\n<text fill=\"#000000\" font-family=\"Times,serif\" font-size=\"14.00\" text-anchor=\"middle\" x=\"110.5\" y=\"-600.8\">conv1d_3: Conv1D</text>\n<polyline fill=\"none\" points=\"177,-581.5 177,-627.5 \" stroke=\"#000000\"/>\n<text fill=\"#000000\" font-family=\"Times,serif\" font-size=\"14.00\" text-anchor=\"middle\" x=\"206\" y=\"-612.3\">input:</text>\n<polyline fill=\"none\" points=\"177,-604.5 235,-604.5 \" stroke=\"#000000\"/>\n<text fill=\"#000000\" font-family=\"Times,serif\" font-size=\"14.00\" text-anchor=\"middle\" x=\"206\" y=\"-589.3\">output:</text>\n<polyline fill=\"none\" points=\"235,-581.5 235,-627.5 \" stroke=\"#000000\"/>\n<text fill=\"#000000\" font-family=\"Times,serif\" font-size=\"14.00\" text-anchor=\"middle\" x=\"290\" y=\"-612.3\">(None, 784, 1)</text>\n<polyline fill=\"none\" points=\"235,-604.5 345,-604.5 \" stroke=\"#000000\"/>\n<text fill=\"#000000\" font-family=\"Times,serif\" font-size=\"14.00\" text-anchor=\"middle\" x=\"290\" y=\"-589.3\">(None, 782, 64)</text>\n</g>\n<!-- 140583758000648&#45;&gt;140584010880896 -->\n<g class=\"edge\" id=\"edge1\">\n<title>140583758000648-&gt;140584010880896</title>\n<path d=\"M194.5,-664.3799C194.5,-656.1745 194.5,-646.7679 194.5,-637.8786\" fill=\"none\" stroke=\"#000000\"/>\n<polygon fill=\"#000000\" points=\"198.0001,-637.784 194.5,-627.784 191.0001,-637.784 198.0001,-637.784\" stroke=\"#000000\"/>\n</g>\n<!-- 140585520777704 -->\n<g class=\"node\" id=\"node3\">\n<title>140585520777704</title>\n<polygon fill=\"none\" points=\"0,-498.5 0,-544.5 389,-544.5 389,-498.5 0,-498.5\" stroke=\"#000000\"/>\n<text fill=\"#000000\" font-family=\"Times,serif\" font-size=\"14.00\" text-anchor=\"middle\" x=\"110.5\" y=\"-517.8\">max_pooling1d_2: MaxPooling1D</text>\n<polyline fill=\"none\" points=\"221,-498.5 221,-544.5 \" stroke=\"#000000\"/>\n<text fill=\"#000000\" font-family=\"Times,serif\" font-size=\"14.00\" text-anchor=\"middle\" x=\"250\" y=\"-529.3\">input:</text>\n<polyline fill=\"none\" points=\"221,-521.5 279,-521.5 \" stroke=\"#000000\"/>\n<text fill=\"#000000\" font-family=\"Times,serif\" font-size=\"14.00\" text-anchor=\"middle\" x=\"250\" y=\"-506.3\">output:</text>\n<polyline fill=\"none\" points=\"279,-498.5 279,-544.5 \" stroke=\"#000000\"/>\n<text fill=\"#000000\" font-family=\"Times,serif\" font-size=\"14.00\" text-anchor=\"middle\" x=\"334\" y=\"-529.3\">(None, 782, 64)</text>\n<polyline fill=\"none\" points=\"279,-521.5 389,-521.5 \" stroke=\"#000000\"/>\n<text fill=\"#000000\" font-family=\"Times,serif\" font-size=\"14.00\" text-anchor=\"middle\" x=\"334\" y=\"-506.3\">(None, 391, 64)</text>\n</g>\n<!-- 140584010880896&#45;&gt;140585520777704 -->\n<g class=\"edge\" id=\"edge2\">\n<title>140584010880896-&gt;140585520777704</title>\n<path d=\"M194.5,-581.3799C194.5,-573.1745 194.5,-563.7679 194.5,-554.8786\" fill=\"none\" stroke=\"#000000\"/>\n<polygon fill=\"#000000\" points=\"198.0001,-554.784 194.5,-544.784 191.0001,-554.784 198.0001,-554.784\" stroke=\"#000000\"/>\n</g>\n<!-- 140583757297704 -->\n<g class=\"node\" id=\"node4\">\n<title>140583757297704</title>\n<polygon fill=\"none\" points=\"44,-415.5 44,-461.5 345,-461.5 345,-415.5 44,-415.5\" stroke=\"#000000\"/>\n<text fill=\"#000000\" font-family=\"Times,serif\" font-size=\"14.00\" text-anchor=\"middle\" x=\"110.5\" y=\"-434.8\">conv1d_4: Conv1D</text>\n<polyline fill=\"none\" points=\"177,-415.5 177,-461.5 \" stroke=\"#000000\"/>\n<text fill=\"#000000\" font-family=\"Times,serif\" font-size=\"14.00\" text-anchor=\"middle\" x=\"206\" y=\"-446.3\">input:</text>\n<polyline fill=\"none\" points=\"177,-438.5 235,-438.5 \" stroke=\"#000000\"/>\n<text fill=\"#000000\" font-family=\"Times,serif\" font-size=\"14.00\" text-anchor=\"middle\" x=\"206\" y=\"-423.3\">output:</text>\n<polyline fill=\"none\" points=\"235,-415.5 235,-461.5 \" stroke=\"#000000\"/>\n<text fill=\"#000000\" font-family=\"Times,serif\" font-size=\"14.00\" text-anchor=\"middle\" x=\"290\" y=\"-446.3\">(None, 391, 64)</text>\n<polyline fill=\"none\" points=\"235,-438.5 345,-438.5 \" stroke=\"#000000\"/>\n<text fill=\"#000000\" font-family=\"Times,serif\" font-size=\"14.00\" text-anchor=\"middle\" x=\"290\" y=\"-423.3\">(None, 389, 32)</text>\n</g>\n<!-- 140585520777704&#45;&gt;140583757297704 -->\n<g class=\"edge\" id=\"edge3\">\n<title>140585520777704-&gt;140583757297704</title>\n<path d=\"M194.5,-498.3799C194.5,-490.1745 194.5,-480.7679 194.5,-471.8786\" fill=\"none\" stroke=\"#000000\"/>\n<polygon fill=\"#000000\" points=\"198.0001,-471.784 194.5,-461.784 191.0001,-471.784 198.0001,-471.784\" stroke=\"#000000\"/>\n</g>\n<!-- 140583756384856 -->\n<g class=\"node\" id=\"node5\">\n<title>140583756384856</title>\n<polygon fill=\"none\" points=\"0,-332.5 0,-378.5 389,-378.5 389,-332.5 0,-332.5\" stroke=\"#000000\"/>\n<text fill=\"#000000\" font-family=\"Times,serif\" font-size=\"14.00\" text-anchor=\"middle\" x=\"110.5\" y=\"-351.8\">max_pooling1d_3: MaxPooling1D</text>\n<polyline fill=\"none\" points=\"221,-332.5 221,-378.5 \" stroke=\"#000000\"/>\n<text fill=\"#000000\" font-family=\"Times,serif\" font-size=\"14.00\" text-anchor=\"middle\" x=\"250\" y=\"-363.3\">input:</text>\n<polyline fill=\"none\" points=\"221,-355.5 279,-355.5 \" stroke=\"#000000\"/>\n<text fill=\"#000000\" font-family=\"Times,serif\" font-size=\"14.00\" text-anchor=\"middle\" x=\"250\" y=\"-340.3\">output:</text>\n<polyline fill=\"none\" points=\"279,-332.5 279,-378.5 \" stroke=\"#000000\"/>\n<text fill=\"#000000\" font-family=\"Times,serif\" font-size=\"14.00\" text-anchor=\"middle\" x=\"334\" y=\"-363.3\">(None, 389, 32)</text>\n<polyline fill=\"none\" points=\"279,-355.5 389,-355.5 \" stroke=\"#000000\"/>\n<text fill=\"#000000\" font-family=\"Times,serif\" font-size=\"14.00\" text-anchor=\"middle\" x=\"334\" y=\"-340.3\">(None, 194, 32)</text>\n</g>\n<!-- 140583757297704&#45;&gt;140583756384856 -->\n<g class=\"edge\" id=\"edge4\">\n<title>140583757297704-&gt;140583756384856</title>\n<path d=\"M194.5,-415.3799C194.5,-407.1745 194.5,-397.7679 194.5,-388.8786\" fill=\"none\" stroke=\"#000000\"/>\n<polygon fill=\"#000000\" points=\"198.0001,-388.784 194.5,-378.784 191.0001,-388.784 198.0001,-388.784\" stroke=\"#000000\"/>\n</g>\n<!-- 140583880551168 -->\n<g class=\"node\" id=\"node6\">\n<title>140583880551168</title>\n<polygon fill=\"none\" points=\"44,-249.5 44,-295.5 345,-295.5 345,-249.5 44,-249.5\" stroke=\"#000000\"/>\n<text fill=\"#000000\" font-family=\"Times,serif\" font-size=\"14.00\" text-anchor=\"middle\" x=\"110.5\" y=\"-268.8\">conv1d_5: Conv1D</text>\n<polyline fill=\"none\" points=\"177,-249.5 177,-295.5 \" stroke=\"#000000\"/>\n<text fill=\"#000000\" font-family=\"Times,serif\" font-size=\"14.00\" text-anchor=\"middle\" x=\"206\" y=\"-280.3\">input:</text>\n<polyline fill=\"none\" points=\"177,-272.5 235,-272.5 \" stroke=\"#000000\"/>\n<text fill=\"#000000\" font-family=\"Times,serif\" font-size=\"14.00\" text-anchor=\"middle\" x=\"206\" y=\"-257.3\">output:</text>\n<polyline fill=\"none\" points=\"235,-249.5 235,-295.5 \" stroke=\"#000000\"/>\n<text fill=\"#000000\" font-family=\"Times,serif\" font-size=\"14.00\" text-anchor=\"middle\" x=\"290\" y=\"-280.3\">(None, 194, 32)</text>\n<polyline fill=\"none\" points=\"235,-272.5 345,-272.5 \" stroke=\"#000000\"/>\n<text fill=\"#000000\" font-family=\"Times,serif\" font-size=\"14.00\" text-anchor=\"middle\" x=\"290\" y=\"-257.3\">(None, 192, 32)</text>\n</g>\n<!-- 140583756384856&#45;&gt;140583880551168 -->\n<g class=\"edge\" id=\"edge5\">\n<title>140583756384856-&gt;140583880551168</title>\n<path d=\"M194.5,-332.3799C194.5,-324.1745 194.5,-314.7679 194.5,-305.8786\" fill=\"none\" stroke=\"#000000\"/>\n<polygon fill=\"#000000\" points=\"198.0001,-305.784 194.5,-295.784 191.0001,-305.784 198.0001,-305.784\" stroke=\"#000000\"/>\n</g>\n<!-- 140583880479576 -->\n<g class=\"node\" id=\"node7\">\n<title>140583880479576</title>\n<polygon fill=\"none\" points=\"54,-166.5 54,-212.5 335,-212.5 335,-166.5 54,-166.5\" stroke=\"#000000\"/>\n<text fill=\"#000000\" font-family=\"Times,serif\" font-size=\"14.00\" text-anchor=\"middle\" x=\"110.5\" y=\"-185.8\">flatten_3: Flatten</text>\n<polyline fill=\"none\" points=\"167,-166.5 167,-212.5 \" stroke=\"#000000\"/>\n<text fill=\"#000000\" font-family=\"Times,serif\" font-size=\"14.00\" text-anchor=\"middle\" x=\"196\" y=\"-197.3\">input:</text>\n<polyline fill=\"none\" points=\"167,-189.5 225,-189.5 \" stroke=\"#000000\"/>\n<text fill=\"#000000\" font-family=\"Times,serif\" font-size=\"14.00\" text-anchor=\"middle\" x=\"196\" y=\"-174.3\">output:</text>\n<polyline fill=\"none\" points=\"225,-166.5 225,-212.5 \" stroke=\"#000000\"/>\n<text fill=\"#000000\" font-family=\"Times,serif\" font-size=\"14.00\" text-anchor=\"middle\" x=\"280\" y=\"-197.3\">(None, 192, 32)</text>\n<polyline fill=\"none\" points=\"225,-189.5 335,-189.5 \" stroke=\"#000000\"/>\n<text fill=\"#000000\" font-family=\"Times,serif\" font-size=\"14.00\" text-anchor=\"middle\" x=\"280\" y=\"-174.3\">(None, 6144)</text>\n</g>\n<!-- 140583880551168&#45;&gt;140583880479576 -->\n<g class=\"edge\" id=\"edge6\">\n<title>140583880551168-&gt;140583880479576</title>\n<path d=\"M194.5,-249.3799C194.5,-241.1745 194.5,-231.7679 194.5,-222.8786\" fill=\"none\" stroke=\"#000000\"/>\n<polygon fill=\"#000000\" points=\"198.0001,-222.784 194.5,-212.784 191.0001,-222.784 198.0001,-222.784\" stroke=\"#000000\"/>\n</g>\n<!-- 140583879127560 -->\n<g class=\"node\" id=\"node8\">\n<title>140583879127560</title>\n<polygon fill=\"none\" points=\"64.5,-83.5 64.5,-129.5 324.5,-129.5 324.5,-83.5 64.5,-83.5\" stroke=\"#000000\"/>\n<text fill=\"#000000\" font-family=\"Times,serif\" font-size=\"14.00\" text-anchor=\"middle\" x=\"118\" y=\"-102.8\">dense_6: Dense</text>\n<polyline fill=\"none\" points=\"171.5,-83.5 171.5,-129.5 \" stroke=\"#000000\"/>\n<text fill=\"#000000\" font-family=\"Times,serif\" font-size=\"14.00\" text-anchor=\"middle\" x=\"200.5\" y=\"-114.3\">input:</text>\n<polyline fill=\"none\" points=\"171.5,-106.5 229.5,-106.5 \" stroke=\"#000000\"/>\n<text fill=\"#000000\" font-family=\"Times,serif\" font-size=\"14.00\" text-anchor=\"middle\" x=\"200.5\" y=\"-91.3\">output:</text>\n<polyline fill=\"none\" points=\"229.5,-83.5 229.5,-129.5 \" stroke=\"#000000\"/>\n<text fill=\"#000000\" font-family=\"Times,serif\" font-size=\"14.00\" text-anchor=\"middle\" x=\"277\" y=\"-114.3\">(None, 6144)</text>\n<polyline fill=\"none\" points=\"229.5,-106.5 324.5,-106.5 \" stroke=\"#000000\"/>\n<text fill=\"#000000\" font-family=\"Times,serif\" font-size=\"14.00\" text-anchor=\"middle\" x=\"277\" y=\"-91.3\">(None, 32)</text>\n</g>\n<!-- 140583880479576&#45;&gt;140583879127560 -->\n<g class=\"edge\" id=\"edge7\">\n<title>140583880479576-&gt;140583879127560</title>\n<path d=\"M194.5,-166.3799C194.5,-158.1745 194.5,-148.7679 194.5,-139.8786\" fill=\"none\" stroke=\"#000000\"/>\n<polygon fill=\"#000000\" points=\"198.0001,-139.784 194.5,-129.784 191.0001,-139.784 198.0001,-139.784\" stroke=\"#000000\"/>\n</g>\n<!-- 140583879127504 -->\n<g class=\"node\" id=\"node9\">\n<title>140583879127504</title>\n<polygon fill=\"none\" points=\"72,-.5 72,-46.5 317,-46.5 317,-.5 72,-.5\" stroke=\"#000000\"/>\n<text fill=\"#000000\" font-family=\"Times,serif\" font-size=\"14.00\" text-anchor=\"middle\" x=\"125.5\" y=\"-19.8\">dense_7: Dense</text>\n<polyline fill=\"none\" points=\"179,-.5 179,-46.5 \" stroke=\"#000000\"/>\n<text fill=\"#000000\" font-family=\"Times,serif\" font-size=\"14.00\" text-anchor=\"middle\" x=\"208\" y=\"-31.3\">input:</text>\n<polyline fill=\"none\" points=\"179,-23.5 237,-23.5 \" stroke=\"#000000\"/>\n<text fill=\"#000000\" font-family=\"Times,serif\" font-size=\"14.00\" text-anchor=\"middle\" x=\"208\" y=\"-8.3\">output:</text>\n<polyline fill=\"none\" points=\"237,-.5 237,-46.5 \" stroke=\"#000000\"/>\n<text fill=\"#000000\" font-family=\"Times,serif\" font-size=\"14.00\" text-anchor=\"middle\" x=\"277\" y=\"-31.3\">(None, 32)</text>\n<polyline fill=\"none\" points=\"237,-23.5 317,-23.5 \" stroke=\"#000000\"/>\n<text fill=\"#000000\" font-family=\"Times,serif\" font-size=\"14.00\" text-anchor=\"middle\" x=\"277\" y=\"-8.3\">(None, 10)</text>\n</g>\n<!-- 140583879127560&#45;&gt;140583879127504 -->\n<g class=\"edge\" id=\"edge8\">\n<title>140583879127560-&gt;140583879127504</title>\n<path d=\"M194.5,-83.3799C194.5,-75.1745 194.5,-65.7679 194.5,-56.8786\" fill=\"none\" stroke=\"#000000\"/>\n<polygon fill=\"#000000\" points=\"198.0001,-56.784 194.5,-46.784 191.0001,-56.784 198.0001,-56.784\" stroke=\"#000000\"/>\n</g>\n</g>\n</svg>"
          },
          "metadata": {
            "tags": []
          },
          "execution_count": 22
        }
      ]
    }
  ]
}