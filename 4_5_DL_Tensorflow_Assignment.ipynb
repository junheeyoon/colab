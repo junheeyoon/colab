{
  "nbformat": 4,
  "nbformat_minor": 0,
  "metadata": {
    "colab": {
      "name": "4-5.DL - Tensorflow Assignment.ipynb",
      "provenance": [],
      "authorship_tag": "ABX9TyOr+Bq1pICTMYRtygYS6nFL",
      "include_colab_link": true
    },
    "kernelspec": {
      "name": "python3",
      "display_name": "Python 3"
    },
    "accelerator": "GPU"
  },
  "cells": [
    {
      "cell_type": "markdown",
      "metadata": {
        "id": "view-in-github",
        "colab_type": "text"
      },
      "source": [
        "<a href=\"https://colab.research.google.com/github/junheeyoon/colab/blob/master/4_5_DL_Tensorflow_Assignment.ipynb\" target=\"_parent\"><img src=\"https://colab.research.google.com/assets/colab-badge.svg\" alt=\"Open In Colab\"/></a>"
      ]
    },
    {
      "cell_type": "markdown",
      "metadata": {
        "id": "3JNZV44O2NbP"
      },
      "source": [
        "# Tensorflow 과제\r\n",
        "\r\n",
        "\r\n",
        "\r\n"
      ]
    },
    {
      "cell_type": "markdown",
      "metadata": {
        "id": "XQF2e_Np221F"
      },
      "source": [
        "## CNN기초\r\n",
        "원본 데이터를 2차원으로 놓고 필터(또는 feature detector)라는 사각형 윈도우를 씌운다음에 움직이면서 새로운 값을 만들어 낸다.\r\n",
        "이때 움직이는 과정을 convolution이라고 하고, 필터가 움직이는 방향이 한 방향이면 1D-CNN이고 두 방향이면 2D-CNN이다.\r\n",
        "\r\n",
        "1차원 CNN이라 하더라도 필터의 사각형이 반드시 1차원인건 아니다. 움직이는 콘볼루션 방향및 결과로 나오는 배열이 1차원인지 2차원인지 따지는 것"
      ]
    },
    {
      "cell_type": "markdown",
      "metadata": {
        "id": "8xpsJSF1lLPx"
      },
      "source": [
        "## 2D CNN으로 MNIST 데이터 분류 (워밍업)"
      ]
    },
    {
      "cell_type": "markdown",
      "metadata": {
        "id": "q7pxMEnP64uF"
      },
      "source": [
        "### 데이터 읽기"
      ]
    },
    {
      "cell_type": "code",
      "metadata": {
        "colab": {
          "base_uri": "https://localhost:8080/"
        },
        "id": "jxfPHsi4nGXM",
        "outputId": "b31eb7f5-1ac6-4fac-e150-69e65ec73be2"
      },
      "source": [
        "import warnings\r\n",
        "warnings.simplefilter(action='ignore', category=FutureWarning)\r\n",
        "\r\n",
        "import sys\r\n",
        "import tensorflow as tf\r\n",
        "import keras\r\n",
        "from keras.models import Sequential\r\n",
        "from keras.layers import Dense, Dropout, Flatten\r\n",
        "from keras.layers.convolutional import Conv2D, MaxPooling2D\r\n",
        "import numpy as np\r\n",
        "np.random.seed(7)\r\n",
        "\r\n",
        "print('Python version : ', sys.version)\r\n",
        "print('TensorFlow version : ', tf.__version__)\r\n",
        "print('Keras version : ', keras.__version__)"
      ],
      "execution_count": 1,
      "outputs": [
        {
          "output_type": "stream",
          "text": [
            "Python version :  3.6.9 (default, Oct  8 2020, 12:12:24) \n",
            "[GCC 8.4.0]\n",
            "TensorFlow version :  2.4.1\n",
            "Keras version :  2.4.3\n"
          ],
          "name": "stdout"
        }
      ]
    },
    {
      "cell_type": "code",
      "metadata": {
        "colab": {
          "base_uri": "https://localhost:8080/"
        },
        "id": "3ymRiqtknHfI",
        "outputId": "e5939c59-ef5d-4ea6-be81-906dd738745e"
      },
      "source": [
        "img_rows = 28\r\n",
        "img_cols = 28\r\n",
        "\r\n",
        "(x_train, y_train), (x_test, y_test) = keras.datasets.mnist.load_data()\r\n",
        "\r\n",
        "input_shape = (img_rows, img_cols, 1)\r\n",
        "x_train = x_train.reshape(x_train.shape[0], img_rows, img_cols, 1)\r\n",
        "x_test = x_test.reshape(x_test.shape[0], img_rows, img_cols, 1)\r\n",
        "\r\n",
        "x_train = x_train.astype('float32') / 255.\r\n",
        "x_test = x_test.astype('float32') / 255.\r\n",
        "\r\n",
        "print('x_train shape:', x_train.shape)\r\n",
        "print(x_train.shape[0], 'train samples')\r\n",
        "print(x_test.shape[0], 'test samples')\r\n",
        "\r\n",
        "batch_size = 128\r\n",
        "num_classes = 10\r\n",
        "epochs = 12\r\n",
        "\r\n",
        "y_train = keras.utils.to_categorical(y_train, num_classes)\r\n",
        "y_test = keras.utils.to_categorical(y_test, num_classes)"
      ],
      "execution_count": 2,
      "outputs": [
        {
          "output_type": "stream",
          "text": [
            "Downloading data from https://storage.googleapis.com/tensorflow/tf-keras-datasets/mnist.npz\n",
            "11493376/11490434 [==============================] - 0s 0us/step\n",
            "x_train shape: (60000, 28, 28, 1)\n",
            "60000 train samples\n",
            "10000 test samples\n"
          ],
          "name": "stdout"
        }
      ]
    },
    {
      "cell_type": "code",
      "metadata": {
        "colab": {
          "base_uri": "https://localhost:8080/"
        },
        "id": "kuWq7jgmnORd",
        "outputId": "7d6cb39a-1117-4751-c95a-324b17c1c96e"
      },
      "source": [
        "model = Sequential()\r\n",
        "model.add(Conv2D(32, kernel_size=(5, 5), strides=(1, 1), padding='same',\r\n",
        "                 activation='relu',\r\n",
        "                 input_shape=input_shape))\r\n",
        "model.add(MaxPooling2D(pool_size=(2, 2), strides=(2, 2)))\r\n",
        "model.add(Conv2D(64, (2, 2), activation='relu', padding='same'))\r\n",
        "model.add(MaxPooling2D(pool_size=(2, 2)))\r\n",
        "model.add(Dropout(0.25))\r\n",
        "model.add(Flatten())\r\n",
        "model.add(Dense(1000, activation='relu'))\r\n",
        "model.add(Dropout(0.5))\r\n",
        "model.add(Dense(num_classes, activation='softmax'))\r\n",
        "model.summary()"
      ],
      "execution_count": 3,
      "outputs": [
        {
          "output_type": "stream",
          "text": [
            "Model: \"sequential\"\n",
            "_________________________________________________________________\n",
            "Layer (type)                 Output Shape              Param #   \n",
            "=================================================================\n",
            "conv2d (Conv2D)              (None, 28, 28, 32)        832       \n",
            "_________________________________________________________________\n",
            "max_pooling2d (MaxPooling2D) (None, 14, 14, 32)        0         \n",
            "_________________________________________________________________\n",
            "conv2d_1 (Conv2D)            (None, 14, 14, 64)        8256      \n",
            "_________________________________________________________________\n",
            "max_pooling2d_1 (MaxPooling2 (None, 7, 7, 64)          0         \n",
            "_________________________________________________________________\n",
            "dropout (Dropout)            (None, 7, 7, 64)          0         \n",
            "_________________________________________________________________\n",
            "flatten (Flatten)            (None, 3136)              0         \n",
            "_________________________________________________________________\n",
            "dense (Dense)                (None, 1000)              3137000   \n",
            "_________________________________________________________________\n",
            "dropout_1 (Dropout)          (None, 1000)              0         \n",
            "_________________________________________________________________\n",
            "dense_1 (Dense)              (None, 10)                10010     \n",
            "=================================================================\n",
            "Total params: 3,156,098\n",
            "Trainable params: 3,156,098\n",
            "Non-trainable params: 0\n",
            "_________________________________________________________________\n"
          ],
          "name": "stdout"
        }
      ]
    },
    {
      "cell_type": "code",
      "metadata": {
        "colab": {
          "base_uri": "https://localhost:8080/",
          "height": 885
        },
        "id": "vhJurcKznf-t",
        "outputId": "40836fe6-914d-4828-b0ac-3cfd55287ed6"
      },
      "source": [
        "from IPython.display import SVG\r\n",
        "from keras.utils.vis_utils import model_to_dot\r\n",
        "%matplotlib inline\r\n",
        "\r\n",
        "SVG(model_to_dot(model, show_shapes=True, dpi=65).create(prog='dot', format='svg'))"
      ],
      "execution_count": 16,
      "outputs": [
        {
          "output_type": "execute_result",
          "data": {
            "text/plain": [
              "<IPython.core.display.SVG object>"
            ],
            "image/svg+xml": "<svg height=\"649pt\" viewBox=\"0.00 0.00 397.00 719.00\" width=\"358pt\" xmlns=\"http://www.w3.org/2000/svg\" xmlns:xlink=\"http://www.w3.org/1999/xlink\">\n<g class=\"graph\" id=\"graph0\" transform=\"scale(.9028 .9028) rotate(0) translate(4 715)\">\n<title>G</title>\n<polygon fill=\"#ffffff\" points=\"-4,4 -4,-715 393,-715 393,4 -4,4\" stroke=\"transparent\"/>\n<!-- 140583899652448 -->\n<g class=\"node\" id=\"node1\">\n<title>140583899652448</title>\n<polygon fill=\"none\" points=\"25.5,-664.5 25.5,-710.5 363.5,-710.5 363.5,-664.5 25.5,-664.5\" stroke=\"#000000\"/>\n<text fill=\"#000000\" font-family=\"Times,serif\" font-size=\"14.00\" text-anchor=\"middle\" x=\"110\" y=\"-683.8\">conv1d_input: InputLayer</text>\n<polyline fill=\"none\" points=\"194.5,-664.5 194.5,-710.5 \" stroke=\"#000000\"/>\n<text fill=\"#000000\" font-family=\"Times,serif\" font-size=\"14.00\" text-anchor=\"middle\" x=\"223.5\" y=\"-695.3\">input:</text>\n<polyline fill=\"none\" points=\"194.5,-687.5 252.5,-687.5 \" stroke=\"#000000\"/>\n<text fill=\"#000000\" font-family=\"Times,serif\" font-size=\"14.00\" text-anchor=\"middle\" x=\"223.5\" y=\"-672.3\">output:</text>\n<polyline fill=\"none\" points=\"252.5,-664.5 252.5,-710.5 \" stroke=\"#000000\"/>\n<text fill=\"#000000\" font-family=\"Times,serif\" font-size=\"14.00\" text-anchor=\"middle\" x=\"308\" y=\"-695.3\">[(None, 784, 1)]</text>\n<polyline fill=\"none\" points=\"252.5,-687.5 363.5,-687.5 \" stroke=\"#000000\"/>\n<text fill=\"#000000\" font-family=\"Times,serif\" font-size=\"14.00\" text-anchor=\"middle\" x=\"308\" y=\"-672.3\">[(None, 784, 1)]</text>\n</g>\n<!-- 140585670371704 -->\n<g class=\"node\" id=\"node2\">\n<title>140585670371704</title>\n<polygon fill=\"none\" points=\"51.5,-581.5 51.5,-627.5 337.5,-627.5 337.5,-581.5 51.5,-581.5\" stroke=\"#000000\"/>\n<text fill=\"#000000\" font-family=\"Times,serif\" font-size=\"14.00\" text-anchor=\"middle\" x=\"110.5\" y=\"-600.8\">conv1d: Conv1D</text>\n<polyline fill=\"none\" points=\"169.5,-581.5 169.5,-627.5 \" stroke=\"#000000\"/>\n<text fill=\"#000000\" font-family=\"Times,serif\" font-size=\"14.00\" text-anchor=\"middle\" x=\"198.5\" y=\"-612.3\">input:</text>\n<polyline fill=\"none\" points=\"169.5,-604.5 227.5,-604.5 \" stroke=\"#000000\"/>\n<text fill=\"#000000\" font-family=\"Times,serif\" font-size=\"14.00\" text-anchor=\"middle\" x=\"198.5\" y=\"-589.3\">output:</text>\n<polyline fill=\"none\" points=\"227.5,-581.5 227.5,-627.5 \" stroke=\"#000000\"/>\n<text fill=\"#000000\" font-family=\"Times,serif\" font-size=\"14.00\" text-anchor=\"middle\" x=\"282.5\" y=\"-612.3\">(None, 784, 1)</text>\n<polyline fill=\"none\" points=\"227.5,-604.5 337.5,-604.5 \" stroke=\"#000000\"/>\n<text fill=\"#000000\" font-family=\"Times,serif\" font-size=\"14.00\" text-anchor=\"middle\" x=\"282.5\" y=\"-589.3\">(None, 782, 64)</text>\n</g>\n<!-- 140583899652448&#45;&gt;140585670371704 -->\n<g class=\"edge\" id=\"edge1\">\n<title>140583899652448-&gt;140585670371704</title>\n<path d=\"M194.5,-664.3799C194.5,-656.1745 194.5,-646.7679 194.5,-637.8786\" fill=\"none\" stroke=\"#000000\"/>\n<polygon fill=\"#000000\" points=\"198.0001,-637.784 194.5,-627.784 191.0001,-637.784 198.0001,-637.784\" stroke=\"#000000\"/>\n</g>\n<!-- 140583899656144 -->\n<g class=\"node\" id=\"node3\">\n<title>140583899656144</title>\n<polygon fill=\"none\" points=\"7.5,-498.5 7.5,-544.5 381.5,-544.5 381.5,-498.5 7.5,-498.5\" stroke=\"#000000\"/>\n<text fill=\"#000000\" font-family=\"Times,serif\" font-size=\"14.00\" text-anchor=\"middle\" x=\"110.5\" y=\"-517.8\">max_pooling1d: MaxPooling1D</text>\n<polyline fill=\"none\" points=\"213.5,-498.5 213.5,-544.5 \" stroke=\"#000000\"/>\n<text fill=\"#000000\" font-family=\"Times,serif\" font-size=\"14.00\" text-anchor=\"middle\" x=\"242.5\" y=\"-529.3\">input:</text>\n<polyline fill=\"none\" points=\"213.5,-521.5 271.5,-521.5 \" stroke=\"#000000\"/>\n<text fill=\"#000000\" font-family=\"Times,serif\" font-size=\"14.00\" text-anchor=\"middle\" x=\"242.5\" y=\"-506.3\">output:</text>\n<polyline fill=\"none\" points=\"271.5,-498.5 271.5,-544.5 \" stroke=\"#000000\"/>\n<text fill=\"#000000\" font-family=\"Times,serif\" font-size=\"14.00\" text-anchor=\"middle\" x=\"326.5\" y=\"-529.3\">(None, 782, 64)</text>\n<polyline fill=\"none\" points=\"271.5,-521.5 381.5,-521.5 \" stroke=\"#000000\"/>\n<text fill=\"#000000\" font-family=\"Times,serif\" font-size=\"14.00\" text-anchor=\"middle\" x=\"326.5\" y=\"-506.3\">(None, 391, 64)</text>\n</g>\n<!-- 140585670371704&#45;&gt;140583899656144 -->\n<g class=\"edge\" id=\"edge2\">\n<title>140585670371704-&gt;140583899656144</title>\n<path d=\"M194.5,-581.3799C194.5,-573.1745 194.5,-563.7679 194.5,-554.8786\" fill=\"none\" stroke=\"#000000\"/>\n<polygon fill=\"#000000\" points=\"198.0001,-554.784 194.5,-544.784 191.0001,-554.784 198.0001,-554.784\" stroke=\"#000000\"/>\n</g>\n<!-- 140583899536744 -->\n<g class=\"node\" id=\"node4\">\n<title>140583899536744</title>\n<polygon fill=\"none\" points=\"44,-415.5 44,-461.5 345,-461.5 345,-415.5 44,-415.5\" stroke=\"#000000\"/>\n<text fill=\"#000000\" font-family=\"Times,serif\" font-size=\"14.00\" text-anchor=\"middle\" x=\"110.5\" y=\"-434.8\">conv1d_1: Conv1D</text>\n<polyline fill=\"none\" points=\"177,-415.5 177,-461.5 \" stroke=\"#000000\"/>\n<text fill=\"#000000\" font-family=\"Times,serif\" font-size=\"14.00\" text-anchor=\"middle\" x=\"206\" y=\"-446.3\">input:</text>\n<polyline fill=\"none\" points=\"177,-438.5 235,-438.5 \" stroke=\"#000000\"/>\n<text fill=\"#000000\" font-family=\"Times,serif\" font-size=\"14.00\" text-anchor=\"middle\" x=\"206\" y=\"-423.3\">output:</text>\n<polyline fill=\"none\" points=\"235,-415.5 235,-461.5 \" stroke=\"#000000\"/>\n<text fill=\"#000000\" font-family=\"Times,serif\" font-size=\"14.00\" text-anchor=\"middle\" x=\"290\" y=\"-446.3\">(None, 391, 64)</text>\n<polyline fill=\"none\" points=\"235,-438.5 345,-438.5 \" stroke=\"#000000\"/>\n<text fill=\"#000000\" font-family=\"Times,serif\" font-size=\"14.00\" text-anchor=\"middle\" x=\"290\" y=\"-423.3\">(None, 389, 32)</text>\n</g>\n<!-- 140583899656144&#45;&gt;140583899536744 -->\n<g class=\"edge\" id=\"edge3\">\n<title>140583899656144-&gt;140583899536744</title>\n<path d=\"M194.5,-498.3799C194.5,-490.1745 194.5,-480.7679 194.5,-471.8786\" fill=\"none\" stroke=\"#000000\"/>\n<polygon fill=\"#000000\" points=\"198.0001,-471.784 194.5,-461.784 191.0001,-471.784 198.0001,-471.784\" stroke=\"#000000\"/>\n</g>\n<!-- 140583899537080 -->\n<g class=\"node\" id=\"node5\">\n<title>140583899537080</title>\n<polygon fill=\"none\" points=\"0,-332.5 0,-378.5 389,-378.5 389,-332.5 0,-332.5\" stroke=\"#000000\"/>\n<text fill=\"#000000\" font-family=\"Times,serif\" font-size=\"14.00\" text-anchor=\"middle\" x=\"110.5\" y=\"-351.8\">max_pooling1d_1: MaxPooling1D</text>\n<polyline fill=\"none\" points=\"221,-332.5 221,-378.5 \" stroke=\"#000000\"/>\n<text fill=\"#000000\" font-family=\"Times,serif\" font-size=\"14.00\" text-anchor=\"middle\" x=\"250\" y=\"-363.3\">input:</text>\n<polyline fill=\"none\" points=\"221,-355.5 279,-355.5 \" stroke=\"#000000\"/>\n<text fill=\"#000000\" font-family=\"Times,serif\" font-size=\"14.00\" text-anchor=\"middle\" x=\"250\" y=\"-340.3\">output:</text>\n<polyline fill=\"none\" points=\"279,-332.5 279,-378.5 \" stroke=\"#000000\"/>\n<text fill=\"#000000\" font-family=\"Times,serif\" font-size=\"14.00\" text-anchor=\"middle\" x=\"334\" y=\"-363.3\">(None, 389, 32)</text>\n<polyline fill=\"none\" points=\"279,-355.5 389,-355.5 \" stroke=\"#000000\"/>\n<text fill=\"#000000\" font-family=\"Times,serif\" font-size=\"14.00\" text-anchor=\"middle\" x=\"334\" y=\"-340.3\">(None, 194, 32)</text>\n</g>\n<!-- 140583899536744&#45;&gt;140583899537080 -->\n<g class=\"edge\" id=\"edge4\">\n<title>140583899536744-&gt;140583899537080</title>\n<path d=\"M194.5,-415.3799C194.5,-407.1745 194.5,-397.7679 194.5,-388.8786\" fill=\"none\" stroke=\"#000000\"/>\n<polygon fill=\"#000000\" points=\"198.0001,-388.784 194.5,-378.784 191.0001,-388.784 198.0001,-388.784\" stroke=\"#000000\"/>\n</g>\n<!-- 140583756558744 -->\n<g class=\"node\" id=\"node6\">\n<title>140583756558744</title>\n<polygon fill=\"none\" points=\"44,-249.5 44,-295.5 345,-295.5 345,-249.5 44,-249.5\" stroke=\"#000000\"/>\n<text fill=\"#000000\" font-family=\"Times,serif\" font-size=\"14.00\" text-anchor=\"middle\" x=\"110.5\" y=\"-268.8\">conv1d_2: Conv1D</text>\n<polyline fill=\"none\" points=\"177,-249.5 177,-295.5 \" stroke=\"#000000\"/>\n<text fill=\"#000000\" font-family=\"Times,serif\" font-size=\"14.00\" text-anchor=\"middle\" x=\"206\" y=\"-280.3\">input:</text>\n<polyline fill=\"none\" points=\"177,-272.5 235,-272.5 \" stroke=\"#000000\"/>\n<text fill=\"#000000\" font-family=\"Times,serif\" font-size=\"14.00\" text-anchor=\"middle\" x=\"206\" y=\"-257.3\">output:</text>\n<polyline fill=\"none\" points=\"235,-249.5 235,-295.5 \" stroke=\"#000000\"/>\n<text fill=\"#000000\" font-family=\"Times,serif\" font-size=\"14.00\" text-anchor=\"middle\" x=\"290\" y=\"-280.3\">(None, 194, 32)</text>\n<polyline fill=\"none\" points=\"235,-272.5 345,-272.5 \" stroke=\"#000000\"/>\n<text fill=\"#000000\" font-family=\"Times,serif\" font-size=\"14.00\" text-anchor=\"middle\" x=\"290\" y=\"-257.3\">(None, 192, 32)</text>\n</g>\n<!-- 140583899537080&#45;&gt;140583756558744 -->\n<g class=\"edge\" id=\"edge5\">\n<title>140583899537080-&gt;140583756558744</title>\n<path d=\"M194.5,-332.3799C194.5,-324.1745 194.5,-314.7679 194.5,-305.8786\" fill=\"none\" stroke=\"#000000\"/>\n<polygon fill=\"#000000\" points=\"198.0001,-305.784 194.5,-295.784 191.0001,-305.784 198.0001,-305.784\" stroke=\"#000000\"/>\n</g>\n<!-- 140584011824712 -->\n<g class=\"node\" id=\"node7\">\n<title>140584011824712</title>\n<polygon fill=\"none\" points=\"54,-166.5 54,-212.5 335,-212.5 335,-166.5 54,-166.5\" stroke=\"#000000\"/>\n<text fill=\"#000000\" font-family=\"Times,serif\" font-size=\"14.00\" text-anchor=\"middle\" x=\"110.5\" y=\"-185.8\">flatten_1: Flatten</text>\n<polyline fill=\"none\" points=\"167,-166.5 167,-212.5 \" stroke=\"#000000\"/>\n<text fill=\"#000000\" font-family=\"Times,serif\" font-size=\"14.00\" text-anchor=\"middle\" x=\"196\" y=\"-197.3\">input:</text>\n<polyline fill=\"none\" points=\"167,-189.5 225,-189.5 \" stroke=\"#000000\"/>\n<text fill=\"#000000\" font-family=\"Times,serif\" font-size=\"14.00\" text-anchor=\"middle\" x=\"196\" y=\"-174.3\">output:</text>\n<polyline fill=\"none\" points=\"225,-166.5 225,-212.5 \" stroke=\"#000000\"/>\n<text fill=\"#000000\" font-family=\"Times,serif\" font-size=\"14.00\" text-anchor=\"middle\" x=\"280\" y=\"-197.3\">(None, 192, 32)</text>\n<polyline fill=\"none\" points=\"225,-189.5 335,-189.5 \" stroke=\"#000000\"/>\n<text fill=\"#000000\" font-family=\"Times,serif\" font-size=\"14.00\" text-anchor=\"middle\" x=\"280\" y=\"-174.3\">(None, 6144)</text>\n</g>\n<!-- 140583756558744&#45;&gt;140584011824712 -->\n<g class=\"edge\" id=\"edge6\">\n<title>140583756558744-&gt;140584011824712</title>\n<path d=\"M194.5,-249.3799C194.5,-241.1745 194.5,-231.7679 194.5,-222.8786\" fill=\"none\" stroke=\"#000000\"/>\n<polygon fill=\"#000000\" points=\"198.0001,-222.784 194.5,-212.784 191.0001,-222.784 198.0001,-222.784\" stroke=\"#000000\"/>\n</g>\n<!-- 140583882644280 -->\n<g class=\"node\" id=\"node8\">\n<title>140583882644280</title>\n<polygon fill=\"none\" points=\"64.5,-83.5 64.5,-129.5 324.5,-129.5 324.5,-83.5 64.5,-83.5\" stroke=\"#000000\"/>\n<text fill=\"#000000\" font-family=\"Times,serif\" font-size=\"14.00\" text-anchor=\"middle\" x=\"118\" y=\"-102.8\">dense_2: Dense</text>\n<polyline fill=\"none\" points=\"171.5,-83.5 171.5,-129.5 \" stroke=\"#000000\"/>\n<text fill=\"#000000\" font-family=\"Times,serif\" font-size=\"14.00\" text-anchor=\"middle\" x=\"200.5\" y=\"-114.3\">input:</text>\n<polyline fill=\"none\" points=\"171.5,-106.5 229.5,-106.5 \" stroke=\"#000000\"/>\n<text fill=\"#000000\" font-family=\"Times,serif\" font-size=\"14.00\" text-anchor=\"middle\" x=\"200.5\" y=\"-91.3\">output:</text>\n<polyline fill=\"none\" points=\"229.5,-83.5 229.5,-129.5 \" stroke=\"#000000\"/>\n<text fill=\"#000000\" font-family=\"Times,serif\" font-size=\"14.00\" text-anchor=\"middle\" x=\"277\" y=\"-114.3\">(None, 6144)</text>\n<polyline fill=\"none\" points=\"229.5,-106.5 324.5,-106.5 \" stroke=\"#000000\"/>\n<text fill=\"#000000\" font-family=\"Times,serif\" font-size=\"14.00\" text-anchor=\"middle\" x=\"277\" y=\"-91.3\">(None, 32)</text>\n</g>\n<!-- 140584011824712&#45;&gt;140583882644280 -->\n<g class=\"edge\" id=\"edge7\">\n<title>140584011824712-&gt;140583882644280</title>\n<path d=\"M194.5,-166.3799C194.5,-158.1745 194.5,-148.7679 194.5,-139.8786\" fill=\"none\" stroke=\"#000000\"/>\n<polygon fill=\"#000000\" points=\"198.0001,-139.784 194.5,-129.784 191.0001,-139.784 198.0001,-139.784\" stroke=\"#000000\"/>\n</g>\n<!-- 140583882642768 -->\n<g class=\"node\" id=\"node9\">\n<title>140583882642768</title>\n<polygon fill=\"none\" points=\"72,-.5 72,-46.5 317,-46.5 317,-.5 72,-.5\" stroke=\"#000000\"/>\n<text fill=\"#000000\" font-family=\"Times,serif\" font-size=\"14.00\" text-anchor=\"middle\" x=\"125.5\" y=\"-19.8\">dense_3: Dense</text>\n<polyline fill=\"none\" points=\"179,-.5 179,-46.5 \" stroke=\"#000000\"/>\n<text fill=\"#000000\" font-family=\"Times,serif\" font-size=\"14.00\" text-anchor=\"middle\" x=\"208\" y=\"-31.3\">input:</text>\n<polyline fill=\"none\" points=\"179,-23.5 237,-23.5 \" stroke=\"#000000\"/>\n<text fill=\"#000000\" font-family=\"Times,serif\" font-size=\"14.00\" text-anchor=\"middle\" x=\"208\" y=\"-8.3\">output:</text>\n<polyline fill=\"none\" points=\"237,-.5 237,-46.5 \" stroke=\"#000000\"/>\n<text fill=\"#000000\" font-family=\"Times,serif\" font-size=\"14.00\" text-anchor=\"middle\" x=\"277\" y=\"-31.3\">(None, 32)</text>\n<polyline fill=\"none\" points=\"237,-23.5 317,-23.5 \" stroke=\"#000000\"/>\n<text fill=\"#000000\" font-family=\"Times,serif\" font-size=\"14.00\" text-anchor=\"middle\" x=\"277\" y=\"-8.3\">(None, 10)</text>\n</g>\n<!-- 140583882644280&#45;&gt;140583882642768 -->\n<g class=\"edge\" id=\"edge8\">\n<title>140583882644280-&gt;140583882642768</title>\n<path d=\"M194.5,-83.3799C194.5,-75.1745 194.5,-65.7679 194.5,-56.8786\" fill=\"none\" stroke=\"#000000\"/>\n<polygon fill=\"#000000\" points=\"198.0001,-56.784 194.5,-46.784 191.0001,-56.784 198.0001,-56.784\" stroke=\"#000000\"/>\n</g>\n</g>\n</svg>"
          },
          "metadata": {
            "tags": []
          },
          "execution_count": 16
        }
      ]
    },
    {
      "cell_type": "code",
      "metadata": {
        "colab": {
          "base_uri": "https://localhost:8080/"
        },
        "id": "OJ3oXUZxnuE5",
        "outputId": "b6b369c9-3cf9-4c5f-967c-fd44dc9abf24"
      },
      "source": [
        "model.compile(loss='categorical_crossentropy', optimizer='adam', metrics=['accuracy'])\r\n",
        "hist = model.fit(x_train, y_train,\r\n",
        "                 batch_size=batch_size,\r\n",
        "                 epochs=epochs,\r\n",
        "                 verbose=1, \r\n",
        "                 validation_data=(x_test, y_test))"
      ],
      "execution_count": 7,
      "outputs": [
        {
          "output_type": "stream",
          "text": [
            "Epoch 1/12\n",
            "469/469 [==============================] - 10s 6ms/step - loss: 0.4053 - accuracy: 0.8755 - val_loss: 0.0415 - val_accuracy: 0.9867\n",
            "Epoch 2/12\n",
            "469/469 [==============================] - 3s 5ms/step - loss: 0.0601 - accuracy: 0.9814 - val_loss: 0.0327 - val_accuracy: 0.9882\n",
            "Epoch 3/12\n",
            "469/469 [==============================] - 3s 5ms/step - loss: 0.0438 - accuracy: 0.9863 - val_loss: 0.0291 - val_accuracy: 0.9906\n",
            "Epoch 4/12\n",
            "469/469 [==============================] - 3s 5ms/step - loss: 0.0343 - accuracy: 0.9896 - val_loss: 0.0242 - val_accuracy: 0.9923\n",
            "Epoch 5/12\n",
            "469/469 [==============================] - 3s 5ms/step - loss: 0.0295 - accuracy: 0.9908 - val_loss: 0.0258 - val_accuracy: 0.9914\n",
            "Epoch 6/12\n",
            "469/469 [==============================] - 3s 5ms/step - loss: 0.0252 - accuracy: 0.9918 - val_loss: 0.0292 - val_accuracy: 0.9906\n",
            "Epoch 7/12\n",
            "469/469 [==============================] - 3s 5ms/step - loss: 0.0240 - accuracy: 0.9917 - val_loss: 0.0219 - val_accuracy: 0.9931\n",
            "Epoch 8/12\n",
            "469/469 [==============================] - 3s 5ms/step - loss: 0.0198 - accuracy: 0.9935 - val_loss: 0.0248 - val_accuracy: 0.9929\n",
            "Epoch 9/12\n",
            "469/469 [==============================] - 3s 5ms/step - loss: 0.0191 - accuracy: 0.9941 - val_loss: 0.0234 - val_accuracy: 0.9932\n",
            "Epoch 10/12\n",
            "469/469 [==============================] - 3s 5ms/step - loss: 0.0146 - accuracy: 0.9954 - val_loss: 0.0256 - val_accuracy: 0.9925\n",
            "Epoch 11/12\n",
            "469/469 [==============================] - 3s 5ms/step - loss: 0.0153 - accuracy: 0.9949 - val_loss: 0.0281 - val_accuracy: 0.9919\n",
            "Epoch 12/12\n",
            "469/469 [==============================] - 3s 5ms/step - loss: 0.0125 - accuracy: 0.9957 - val_loss: 0.0269 - val_accuracy: 0.9931\n"
          ],
          "name": "stdout"
        }
      ]
    },
    {
      "cell_type": "code",
      "metadata": {
        "colab": {
          "base_uri": "https://localhost:8080/"
        },
        "id": "fw6uEn4sn3cL",
        "outputId": "45b36752-33b1-4e16-f7c4-9441920e7aa9"
      },
      "source": [
        "score = model.evaluate(x_test, y_test, verbose=0)\r\n",
        "print('Test loss:', score[0])\r\n",
        "print('Test accuracy:', score[1])"
      ],
      "execution_count": 8,
      "outputs": [
        {
          "output_type": "stream",
          "text": [
            "Test loss: 0.026887373998761177\n",
            "Test accuracy: 0.9930999875068665\n"
          ],
          "name": "stdout"
        }
      ]
    },
    {
      "cell_type": "markdown",
      "metadata": {
        "id": "h5K6as2mk9PH"
      },
      "source": [
        "## 1D CNN으로 MNIST 데이터 분류 (메인, 인터넷에서 찾지 말고 가능한 자신이 구현해 볼 것)"
      ]
    },
    {
      "cell_type": "code",
      "metadata": {
        "id": "Wj61AJDSZRX-",
        "colab": {
          "base_uri": "https://localhost:8080/"
        },
        "outputId": "4ad64ff0-0f7d-4168-9476-81b7283dc800"
      },
      "source": [
        "(X_train, y_train), (X_test, y_test) = keras.datasets.mnist.load_data()\r\n",
        "\r\n",
        "# 모양 (shape) 확인\r\n",
        "print('X_train shape', X_train.shape)"
      ],
      "execution_count": 10,
      "outputs": [
        {
          "output_type": "stream",
          "text": [
            "X_train shape (60000, 28, 28)\n"
          ],
          "name": "stdout"
        }
      ]
    },
    {
      "cell_type": "code",
      "metadata": {
        "id": "In5HsNjBeQCx",
        "colab": {
          "base_uri": "https://localhost:8080/"
        },
        "outputId": "882f8e5e-c40c-4bbb-d6bc-3b077c18520c"
      },
      "source": [
        "# Train\r\n",
        "X_train_size = X_train.shape[0]\r\n",
        "input_dim = X_train.shape[1] *  X_train.shape[2]\r\n",
        "X_train = np.reshape(X_train, (X_train_size, input_dim))\r\n",
        "print(X_train.shape)\r\n",
        "# Test\r\n",
        "X_test_size = X_test.shape[0]\r\n",
        "input_dim = X_test.shape[1] *  X_test.shape[2]\r\n",
        "X_test = np.reshape(X_test, (X_test_size, input_dim))\r\n",
        "print(X_test.shape)"
      ],
      "execution_count": 11,
      "outputs": [
        {
          "output_type": "stream",
          "text": [
            "(60000, 784)\n",
            "(10000, 784)\n"
          ],
          "name": "stdout"
        }
      ]
    },
    {
      "cell_type": "code",
      "metadata": {
        "id": "uHMExmAg74ag",
        "colab": {
          "base_uri": "https://localhost:8080/"
        },
        "outputId": "bf13147c-3213-4949-8538-23f8af07dae2"
      },
      "source": [
        "from keras.layers import Embedding\r\n",
        "from keras.layers import Conv1D, GlobalMaxPooling1D, MaxPooling1D\r\n",
        "from keras.layers import Dense, Dropout, Activation\r\n",
        "(train_images, train_labels), (test_images, test_labels) = keras.datasets.mnist.load_data()\r\n",
        "\r\n",
        "train_images = train_images.reshape((60000, 784, 1)) \r\n",
        "test_images = test_images.reshape((10000, 784, 1)) \r\n",
        "train_images, test_images = train_images / 255.0, test_images / 255.0\r\n",
        "\r\n",
        "model = Sequential() #모델 생성.\r\n",
        "\r\n",
        "model.add(Conv1D(64, 3, activation='relu', input_shape=(784, 1)))  #Conv1D 모델을 추가한다.\r\n",
        "\r\n",
        "model.add(MaxPooling1D(2)) #Maxpooling 추가를 한다.\r\n",
        "\r\n",
        "model.add(Conv1D(32, 3, activation='relu'))\r\n",
        "\r\n",
        "model.add(MaxPooling1D(2))\r\n",
        "\r\n",
        "model.add(Conv1D(32, 3, activation='relu'))\r\n",
        "\r\n",
        "model.add(Flatten()) \r\n",
        "\r\n",
        "model.add(Dense(32, activation='relu')) \r\n",
        "\r\n",
        "model.add(Dense(10, activation='softmax')) \r\n",
        "\r\n",
        "model.compile(optimizer='adam', loss='sparse_categorical_crossentropy', metrics=['accuracy'])\r\n",
        "\r\n",
        "model.fit(train_images, train_labels, epochs=1,verbose=1) \r\n",
        "\r\n",
        "_, test_acc = model.evaluate(test_images,  test_labels, verbose=2)\r\n"
      ],
      "execution_count": 13,
      "outputs": [
        {
          "output_type": "stream",
          "text": [
            "1875/1875 [==============================] - 6s 3ms/step - loss: 0.3947 - accuracy: 0.8744\n",
            "313/313 - 1s - loss: 0.1240 - accuracy: 0.9631\n"
          ],
          "name": "stdout"
        }
      ]
    }
  ]
}