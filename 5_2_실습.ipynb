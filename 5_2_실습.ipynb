{
  "nbformat": 4,
  "nbformat_minor": 0,
  "metadata": {
    "colab": {
      "name": "5-2. 실습.ipynb",
      "provenance": [],
      "collapsed_sections": [],
      "toc_visible": true,
      "include_colab_link": true
    },
    "kernelspec": {
      "name": "python3",
      "display_name": "Python 3"
    },
    "accelerator": "GPU"
  },
  "cells": [
    {
      "cell_type": "markdown",
      "metadata": {
        "id": "view-in-github",
        "colab_type": "text"
      },
      "source": [
        "<a href=\"https://colab.research.google.com/github/junheeyoon/colab/blob/main/5_2_%EC%8B%A4%EC%8A%B5.ipynb\" target=\"_parent\"><img src=\"https://colab.research.google.com/assets/colab-badge.svg\" alt=\"Open In Colab\"/></a>"
      ]
    },
    {
      "cell_type": "markdown",
      "metadata": {
        "id": "ulQY7C4vQAEd"
      },
      "source": [
        "# 0. 환경 세팅"
      ]
    },
    {
      "cell_type": "code",
      "metadata": {
        "id": "-rxtTSZCO0EW"
      },
      "source": [
        "import numpy as np\n",
        "import pandas as pd\n",
        "import sklearn\n",
        "import tensorflow as tf"
      ],
      "execution_count": null,
      "outputs": []
    },
    {
      "cell_type": "code",
      "metadata": {
        "colab": {
          "base_uri": "https://localhost:8080/"
        },
        "id": "r9pY9IEPQT0s",
        "outputId": "ba570054-3528-413d-feec-7b634e9913f3"
      },
      "source": [
        "from google.colab import drive\n",
        "drive.mount('/content/drive')"
      ],
      "execution_count": null,
      "outputs": [
        {
          "output_type": "stream",
          "text": [
            "Mounted at /content/drive\n"
          ],
          "name": "stdout"
        }
      ]
    },
    {
      "cell_type": "markdown",
      "metadata": {
        "id": "CM6ZnuOZQFsd"
      },
      "source": [
        "# 1. 데이터 다운로드\n"
      ]
    },
    {
      "cell_type": "code",
      "metadata": {
        "id": "5gSySVUEP0xL",
        "colab": {
          "base_uri": "https://localhost:8080/"
        },
        "outputId": "d02ce5cb-70f4-41f4-9345-0f72de018ff7"
      },
      "source": [
        "!git clone https://github.com/e9t/nsmc.git"
      ],
      "execution_count": null,
      "outputs": [
        {
          "output_type": "stream",
          "text": [
            "Cloning into 'nsmc'...\n",
            "remote: Enumerating objects: 14763, done.\u001b[K\n",
            "remote: Total 14763 (delta 0), reused 0 (delta 0), pack-reused 14763\u001b[K\n",
            "Receiving objects: 100% (14763/14763), 56.19 MiB | 20.17 MiB/s, done.\n",
            "Resolving deltas: 100% (1749/1749), done.\n",
            "Checking out files: 100% (14737/14737), done.\n"
          ],
          "name": "stdout"
        }
      ]
    },
    {
      "cell_type": "code",
      "metadata": {
        "id": "sUnTpFbSP7al"
      },
      "source": [
        "!mv \"/content/nsmc\" \"/content/drive/My Drive/데이터분석/nsmc\""
      ],
      "execution_count": null,
      "outputs": []
    },
    {
      "cell_type": "markdown",
      "metadata": {
        "id": "j8jxWfATqmrr"
      },
      "source": [
        ""
      ]
    },
    {
      "cell_type": "markdown",
      "metadata": {
        "id": "HsiB0kYGiF9I"
      },
      "source": [
        "# 2. 데이터 탐색"
      ]
    },
    {
      "cell_type": "code",
      "metadata": {
        "id": "sSJF9N7E6abn"
      },
      "source": [
        "# import os\n",
        "# os.chdir('/content/drive/My Drive/Colab Notebooks/3days_ml/')"
      ],
      "execution_count": null,
      "outputs": []
    },
    {
      "cell_type": "code",
      "metadata": {
        "id": "sRBqAPyMRC7P"
      },
      "source": [
        "path_to_data = \"/content/drive/My Drive/데이터분석/nsmc/ratings.txt\"\n",
        "df = pd.read_table(path_to_data)"
      ],
      "execution_count": null,
      "outputs": []
    },
    {
      "cell_type": "code",
      "metadata": {
        "colab": {
          "base_uri": "https://localhost:8080/",
          "height": 204
        },
        "id": "hcIKh7a8ieJt",
        "outputId": "876fa3a5-afe8-47ea-b36a-a7596d1a4e2e"
      },
      "source": [
        "df.head()"
      ],
      "execution_count": null,
      "outputs": [
        {
          "output_type": "execute_result",
          "data": {
            "text/html": [
              "<div>\n",
              "<style scoped>\n",
              "    .dataframe tbody tr th:only-of-type {\n",
              "        vertical-align: middle;\n",
              "    }\n",
              "\n",
              "    .dataframe tbody tr th {\n",
              "        vertical-align: top;\n",
              "    }\n",
              "\n",
              "    .dataframe thead th {\n",
              "        text-align: right;\n",
              "    }\n",
              "</style>\n",
              "<table border=\"1\" class=\"dataframe\">\n",
              "  <thead>\n",
              "    <tr style=\"text-align: right;\">\n",
              "      <th></th>\n",
              "      <th>id</th>\n",
              "      <th>document</th>\n",
              "      <th>label</th>\n",
              "    </tr>\n",
              "  </thead>\n",
              "  <tbody>\n",
              "    <tr>\n",
              "      <th>0</th>\n",
              "      <td>8112052</td>\n",
              "      <td>어릴때보고 지금다시봐도 재밌어요ㅋㅋ</td>\n",
              "      <td>1</td>\n",
              "    </tr>\n",
              "    <tr>\n",
              "      <th>1</th>\n",
              "      <td>8132799</td>\n",
              "      <td>디자인을 배우는 학생으로, 외국디자이너와 그들이 일군 전통을 통해 발전해가는 문화산...</td>\n",
              "      <td>1</td>\n",
              "    </tr>\n",
              "    <tr>\n",
              "      <th>2</th>\n",
              "      <td>4655635</td>\n",
              "      <td>폴리스스토리 시리즈는 1부터 뉴까지 버릴께 하나도 없음.. 최고.</td>\n",
              "      <td>1</td>\n",
              "    </tr>\n",
              "    <tr>\n",
              "      <th>3</th>\n",
              "      <td>9251303</td>\n",
              "      <td>와.. 연기가 진짜 개쩔구나.. 지루할거라고 생각했는데 몰입해서 봤다.. 그래 이런...</td>\n",
              "      <td>1</td>\n",
              "    </tr>\n",
              "    <tr>\n",
              "      <th>4</th>\n",
              "      <td>10067386</td>\n",
              "      <td>안개 자욱한 밤하늘에 떠 있는 초승달 같은 영화.</td>\n",
              "      <td>1</td>\n",
              "    </tr>\n",
              "  </tbody>\n",
              "</table>\n",
              "</div>"
            ],
            "text/plain": [
              "         id                                           document  label\n",
              "0   8112052                                어릴때보고 지금다시봐도 재밌어요ㅋㅋ      1\n",
              "1   8132799  디자인을 배우는 학생으로, 외국디자이너와 그들이 일군 전통을 통해 발전해가는 문화산...      1\n",
              "2   4655635               폴리스스토리 시리즈는 1부터 뉴까지 버릴께 하나도 없음.. 최고.      1\n",
              "3   9251303  와.. 연기가 진짜 개쩔구나.. 지루할거라고 생각했는데 몰입해서 봤다.. 그래 이런...      1\n",
              "4  10067386                        안개 자욱한 밤하늘에 떠 있는 초승달 같은 영화.      1"
            ]
          },
          "metadata": {
            "tags": []
          },
          "execution_count": 4
        }
      ]
    },
    {
      "cell_type": "markdown",
      "metadata": {
        "id": "psZMPaLolWZV"
      },
      "source": [
        "라벨 기준 데이터 수 확인"
      ]
    },
    {
      "cell_type": "code",
      "metadata": {
        "colab": {
          "base_uri": "https://localhost:8080/"
        },
        "id": "NKiiud6eioRQ",
        "outputId": "787e3d4a-e734-47f2-d481-aece5100542e"
      },
      "source": [
        "df['label'].value_counts()"
      ],
      "execution_count": null,
      "outputs": [
        {
          "output_type": "execute_result",
          "data": {
            "text/plain": [
              "1    100000\n",
              "0    100000\n",
              "Name: label, dtype: int64"
            ]
          },
          "metadata": {
            "tags": []
          },
          "execution_count": 5
        }
      ]
    },
    {
      "cell_type": "code",
      "metadata": {
        "colab": {
          "base_uri": "https://localhost:8080/"
        },
        "id": "m_GZP-BfkNx7",
        "outputId": "226ca80c-f522-4a2e-a9bd-b9a2d42fa310"
      },
      "source": [
        "df['document'].str.len().sort_values()"
      ],
      "execution_count": null,
      "outputs": [
        {
          "output_type": "execute_result",
          "data": {
            "text/plain": [
              "90561     1.0\n",
              "146968    1.0\n",
              "16740     1.0\n",
              "191185    1.0\n",
              "28214     1.0\n",
              "         ... \n",
              "84098     NaN\n",
              "127017    NaN\n",
              "172375    NaN\n",
              "173526    NaN\n",
              "197279    NaN\n",
              "Name: document, Length: 200000, dtype: float64"
            ]
          },
          "metadata": {
            "tags": []
          },
          "execution_count": 6
        }
      ]
    },
    {
      "cell_type": "markdown",
      "metadata": {
        "id": "1yo-Orr8ldos"
      },
      "source": [
        "입력 데이터 Null 확인 및 제거"
      ]
    },
    {
      "cell_type": "code",
      "metadata": {
        "colab": {
          "base_uri": "https://localhost:8080/"
        },
        "id": "TPRBs0tjkUcn",
        "outputId": "a672152f-5bd2-40e0-9e05-afae8ddbcbae"
      },
      "source": [
        "df['document'].isnull().sum()"
      ],
      "execution_count": null,
      "outputs": [
        {
          "output_type": "execute_result",
          "data": {
            "text/plain": [
              "8"
            ]
          },
          "metadata": {
            "tags": []
          },
          "execution_count": 5
        }
      ]
    },
    {
      "cell_type": "code",
      "metadata": {
        "id": "3KgIYodikZJg"
      },
      "source": [
        "df.dropna(inplace=True)"
      ],
      "execution_count": null,
      "outputs": []
    },
    {
      "cell_type": "markdown",
      "metadata": {
        "id": "s8N0u8qJnsJr"
      },
      "source": [
        "문장 길이별 데이터 빈도수"
      ]
    },
    {
      "cell_type": "code",
      "metadata": {
        "colab": {
          "base_uri": "https://localhost:8080/",
          "height": 346
        },
        "id": "38ZmH8_UnVWq",
        "outputId": "5fb4cc04-cc83-4799-9462-06e75e33c9f8"
      },
      "source": [
        "df['document'].str.len().value_counts().sort_index().plot(kind='bar',figsize=(15,5))"
      ],
      "execution_count": null,
      "outputs": [
        {
          "output_type": "execute_result",
          "data": {
            "text/plain": [
              "<matplotlib.axes._subplots.AxesSubplot at 0x7f9977cd3e48>"
            ]
          },
          "metadata": {
            "tags": []
          },
          "execution_count": 6
        },
        {
          "output_type": "display_data",
          "data": {
            "image/png": "[encoded data removed]",
            "text/plain": [
              "<Figure size 1080x360 with 1 Axes>"
            ]
          },
          "metadata": {
            "tags": [],
            "needs_background": "light"
          }
        }
      ]
    },
    {
      "cell_type": "markdown",
      "metadata": {
        "id": "i0nYfyyTljmz"
      },
      "source": [
        "길이가 짧은 입력 데이터 확인.\n",
        "\n",
        "길이가 짧을 수록 비문(?)인 경우가 많은 것을 유추할 수 있음.\n",
        "짧은 길이의 데이터도 (ex>ㅋ) 분석 및 학습대상에 포함을 시켜야 할지 고민해야함.\n"
      ]
    },
    {
      "cell_type": "code",
      "metadata": {
        "colab": {
          "base_uri": "https://localhost:8080/"
        },
        "id": "BeDbH63Skc7X",
        "outputId": "f3f1d59f-d01a-48bb-f970-e0f12a9bbf43"
      },
      "source": [
        "df.loc[df['document'].str.len() <= 1,'document'].value_counts()"
      ],
      "execution_count": null,
      "outputs": [
        {
          "output_type": "execute_result",
          "data": {
            "text/plain": [
              "굿    237\n",
              "굳     77\n",
              ".     67\n",
              "짱     53\n",
              "ㅋ     49\n",
              "    ... \n",
              "꽉      1\n",
              "로      1\n",
              "진      1\n",
              "허      1\n",
              "웅      1\n",
              "Name: document, Length: 124, dtype: int64"
            ]
          },
          "metadata": {
            "tags": []
          },
          "execution_count": 8
        }
      ]
    },
    {
      "cell_type": "markdown",
      "metadata": {
        "id": "C5fV1_DGooRY"
      },
      "source": [
        "전처리"
      ]
    },
    {
      "cell_type": "markdown",
      "metadata": {
        "id": "7OY9KrEHrAZs"
      },
      "source": [
        "특수문자 확인"
      ]
    },
    {
      "cell_type": "code",
      "metadata": {
        "id": "6Kcuk6wyoe4D"
      },
      "source": [
        "sp_char = df['document'].str.replace('[a-zA-Zㄱ-ㅎㅏ-ㅢ가-힣0-9]','').str.replace(\" \",'')"
      ],
      "execution_count": null,
      "outputs": []
    },
    {
      "cell_type": "code",
      "metadata": {
        "id": "sp-lnhQ9pfvU"
      },
      "source": [
        "import itertools \n",
        "sp_char = \"\".join(itertools.chain(sp_char.values))"
      ],
      "execution_count": null,
      "outputs": []
    },
    {
      "cell_type": "code",
      "metadata": {
        "id": "lFgC_WZIp7u3"
      },
      "source": [
        "tmp = []\n",
        "for i in np.unique(sp_char)[0]:\n",
        "  if i not in tmp:\n",
        "    tmp.append(i)"
      ],
      "execution_count": null,
      "outputs": []
    },
    {
      "cell_type": "markdown",
      "metadata": {
        "id": "Q6yleGohrCOu"
      },
      "source": [
        "특수문자 제거"
      ]
    },
    {
      "cell_type": "code",
      "metadata": {
        "id": "iI4ZSLriqK_Z"
      },
      "source": [
        "df['clean'] = df['document'].str.replace('[^a-zA-Zㄱ-ㅎㅏ-ㅢ가-힣0-9 ]','')"
      ],
      "execution_count": null,
      "outputs": []
    },
    {
      "cell_type": "code",
      "metadata": {
        "colab": {
          "base_uri": "https://localhost:8080/",
          "height": 229
        },
        "id": "02i6OP-WrEZo",
        "outputId": "a86a2763-c5ef-4260-c561-3ad94ec164cc"
      },
      "source": [
        "df[['document','clean']].head()"
      ],
      "execution_count": null,
      "outputs": [
        {
          "output_type": "execute_result",
          "data": {
            "text/html": [
              "<div>\n",
              "<style scoped>\n",
              "    .dataframe tbody tr th:only-of-type {\n",
              "        vertical-align: middle;\n",
              "    }\n",
              "\n",
              "    .dataframe tbody tr th {\n",
              "        vertical-align: top;\n",
              "    }\n",
              "\n",
              "    .dataframe thead th {\n",
              "        text-align: right;\n",
              "    }\n",
              "</style>\n",
              "<table border=\"1\" class=\"dataframe\">\n",
              "  <thead>\n",
              "    <tr style=\"text-align: right;\">\n",
              "      <th></th>\n",
              "      <th>document</th>\n",
              "      <th>clean</th>\n",
              "    </tr>\n",
              "  </thead>\n",
              "  <tbody>\n",
              "    <tr>\n",
              "      <th>0</th>\n",
              "      <td>어릴때보고 지금다시봐도 재밌어요ㅋㅋ</td>\n",
              "      <td>어릴때보고 지금다시봐도 재밌어요ㅋㅋ</td>\n",
              "    </tr>\n",
              "    <tr>\n",
              "      <th>1</th>\n",
              "      <td>디자인을 배우는 학생으로, 외국디자이너와 그들이 일군 전통을 통해 발전해가는 문화산...</td>\n",
              "      <td>디자인을 배우는 학생으로 외국디자이너와 그들이 일군 전통을 통해 발전해가는 문화산업...</td>\n",
              "    </tr>\n",
              "    <tr>\n",
              "      <th>2</th>\n",
              "      <td>폴리스스토리 시리즈는 1부터 뉴까지 버릴께 하나도 없음.. 최고.</td>\n",
              "      <td>폴리스스토리 시리즈는 1부터 뉴까지 버릴께 하나도 없음 최고</td>\n",
              "    </tr>\n",
              "    <tr>\n",
              "      <th>3</th>\n",
              "      <td>와.. 연기가 진짜 개쩔구나.. 지루할거라고 생각했는데 몰입해서 봤다.. 그래 이런...</td>\n",
              "      <td>와 연기가 진짜 개쩔구나 지루할거라고 생각했는데 몰입해서 봤다 그래 이런게 진짜 영화지</td>\n",
              "    </tr>\n",
              "    <tr>\n",
              "      <th>4</th>\n",
              "      <td>안개 자욱한 밤하늘에 떠 있는 초승달 같은 영화.</td>\n",
              "      <td>안개 자욱한 밤하늘에 떠 있는 초승달 같은 영화</td>\n",
              "    </tr>\n",
              "  </tbody>\n",
              "</table>\n",
              "</div>"
            ],
            "text/plain": [
              "                                            document                                              clean\n",
              "0                                어릴때보고 지금다시봐도 재밌어요ㅋㅋ                                어릴때보고 지금다시봐도 재밌어요ㅋㅋ\n",
              "1  디자인을 배우는 학생으로, 외국디자이너와 그들이 일군 전통을 통해 발전해가는 문화산...  디자인을 배우는 학생으로 외국디자이너와 그들이 일군 전통을 통해 발전해가는 문화산업...\n",
              "2               폴리스스토리 시리즈는 1부터 뉴까지 버릴께 하나도 없음.. 최고.                  폴리스스토리 시리즈는 1부터 뉴까지 버릴께 하나도 없음 최고\n",
              "3  와.. 연기가 진짜 개쩔구나.. 지루할거라고 생각했는데 몰입해서 봤다.. 그래 이런...   와 연기가 진짜 개쩔구나 지루할거라고 생각했는데 몰입해서 봤다 그래 이런게 진짜 영화지\n",
              "4                        안개 자욱한 밤하늘에 떠 있는 초승달 같은 영화.                         안개 자욱한 밤하늘에 떠 있는 초승달 같은 영화"
            ]
          },
          "metadata": {
            "tags": []
          },
          "execution_count": 8
        }
      ]
    },
    {
      "cell_type": "code",
      "metadata": {
        "id": "WS0sNt3bwWJ5"
      },
      "source": [
        "df = df.loc[df['clean'].str.len() >= 1].reset_index(drop=True)"
      ],
      "execution_count": null,
      "outputs": []
    },
    {
      "cell_type": "markdown",
      "metadata": {
        "id": "ktBXDwukWVnr"
      },
      "source": [
        "데이터 길이 cut-off"
      ]
    },
    {
      "cell_type": "code",
      "metadata": {
        "colab": {
          "base_uri": "https://localhost:8080/",
          "height": 283
        },
        "id": "y_YPwcnhWn_O",
        "outputId": "ad45eb54-70c2-498c-cd8b-b731ddb903ae"
      },
      "source": [
        "df['clean'].str.len().hist(bins=20)"
      ],
      "execution_count": null,
      "outputs": [
        {
          "output_type": "execute_result",
          "data": {
            "text/plain": [
              "<matplotlib.axes._subplots.AxesSubplot at 0x7f29804535f8>"
            ]
          },
          "metadata": {
            "tags": []
          },
          "execution_count": 28
        },
        {
          "output_type": "display_data",
          "data": {
            "image/png": "[encoded data removed]",
            "text/plain": [
              "<Figure size 432x288 with 1 Axes>"
            ]
          },
          "metadata": {
            "tags": [],
            "needs_background": "light"
          }
        }
      ]
    },
    {
      "cell_type": "code",
      "metadata": {
        "colab": {
          "base_uri": "https://localhost:8080/"
        },
        "id": "0TXdeiSrWwJG",
        "outputId": "c6e926fd-9059-4c96-be6a-415cd960bf7e"
      },
      "source": [
        "df['clean'].str.len().mean(), \\\n",
        "df['clean'].str.len().std()"
      ],
      "execution_count": null,
      "outputs": [
        {
          "output_type": "execute_result",
          "data": {
            "text/plain": [
              "(32.85124927367809, 28.27766949418672)"
            ]
          },
          "metadata": {
            "tags": []
          },
          "execution_count": 30
        }
      ]
    },
    {
      "cell_type": "code",
      "metadata": {
        "id": "gOpi9gadWVJ4"
      },
      "source": [
        "threshold = round(df['clean'].str.len().mean() - 0.5*df['clean'].str.len().std())"
      ],
      "execution_count": null,
      "outputs": []
    },
    {
      "cell_type": "code",
      "metadata": {
        "id": "U4UxTnz0WlgJ"
      },
      "source": [
        "df_cutoff = df.loc[df['clean'].str.len() >= 19]"
      ],
      "execution_count": null,
      "outputs": []
    },
    {
      "cell_type": "code",
      "metadata": {
        "colab": {
          "base_uri": "https://localhost:8080/"
        },
        "id": "sEYLSjyCXBpG",
        "outputId": "a42fa543-757e-4212-ead5-6bcebf2b2b35"
      },
      "source": [
        "df_cutoff.shape"
      ],
      "execution_count": null,
      "outputs": [
        {
          "output_type": "execute_result",
          "data": {
            "text/plain": [
              "(127730, 4)"
            ]
          },
          "metadata": {
            "tags": []
          },
          "execution_count": 37
        }
      ]
    },
    {
      "cell_type": "markdown",
      "metadata": {
        "id": "z3kM6N1gm6u7"
      },
      "source": [
        "# 3. 형태소 분석기\n",
        "1. konlpy: KoNLP의 Python 버전\n",
        "\n"
      ]
    },
    {
      "cell_type": "code",
      "metadata": {
        "colab": {
          "base_uri": "https://localhost:8080/"
        },
        "id": "zDbkFImerehD",
        "outputId": "835ed2a0-2751-479e-a5d8-5d69cea35090"
      },
      "source": [
        "!pip3 install konlpy"
      ],
      "execution_count": null,
      "outputs": [
        {
          "output_type": "stream",
          "text": [
            "Collecting konlpy\n",
            "\u001b[?25l  Downloading https://files.pythonhosted.org/packages/85/0e/f385566fec837c0b83f216b2da65db9997b35dd675e107752005b7d392b1/konlpy-0.5.2-py2.py3-none-any.whl (19.4MB)\n",
            "\u001b[K     |████████████████████████████████| 19.4MB 1.4MB/s \n",
            "\u001b[?25hCollecting JPype1>=0.7.0\n",
            "\u001b[?25l  Downloading https://files.pythonhosted.org/packages/fd/96/1030895dea70855a2e1078e3fe0d6a63dcb7c212309e07dc9ee39d33af54/JPype1-1.1.2-cp36-cp36m-manylinux2010_x86_64.whl (450kB)\n",
            "\u001b[K     |████████████████████████████████| 460kB 45.6MB/s \n",
            "\u001b[?25hCollecting colorama\n",
            "  Downloading https://files.pythonhosted.org/packages/44/98/5b86278fbbf250d239ae0ecb724f8572af1c91f4a11edf4d36a206189440/colorama-0.4.4-py2.py3-none-any.whl\n",
            "Requirement already satisfied: lxml>=4.1.0 in /usr/local/lib/python3.6/dist-packages (from konlpy) (4.2.6)\n",
            "Collecting tweepy>=3.7.0\n",
            "  Downloading https://files.pythonhosted.org/packages/bb/7c/99d51f80f3b77b107ebae2634108717362c059a41384a1810d13e2429a81/tweepy-3.9.0-py2.py3-none-any.whl\n",
            "Collecting beautifulsoup4==4.6.0\n",
            "\u001b[?25l  Downloading https://files.pythonhosted.org/packages/9e/d4/10f46e5cfac773e22707237bfcd51bbffeaf0a576b0a847ec7ab15bd7ace/beautifulsoup4-4.6.0-py3-none-any.whl (86kB)\n",
            "\u001b[K     |████████████████████████████████| 92kB 13.0MB/s \n",
            "\u001b[?25hRequirement already satisfied: numpy>=1.6 in /usr/local/lib/python3.6/dist-packages (from konlpy) (1.18.5)\n",
            "Requirement already satisfied: typing-extensions; python_version < \"3.8\" in /usr/local/lib/python3.6/dist-packages (from JPype1>=0.7.0->konlpy) (3.7.4.3)\n",
            "Requirement already satisfied: requests-oauthlib>=0.7.0 in /usr/local/lib/python3.6/dist-packages (from tweepy>=3.7.0->konlpy) (1.3.0)\n",
            "Requirement already satisfied: requests[socks]>=2.11.1 in /usr/local/lib/python3.6/dist-packages (from tweepy>=3.7.0->konlpy) (2.23.0)\n",
            "Requirement already satisfied: six>=1.10.0 in /usr/local/lib/python3.6/dist-packages (from tweepy>=3.7.0->konlpy) (1.15.0)\n",
            "Requirement already satisfied: oauthlib>=3.0.0 in /usr/local/lib/python3.6/dist-packages (from requests-oauthlib>=0.7.0->tweepy>=3.7.0->konlpy) (3.1.0)\n",
            "Requirement already satisfied: idna<3,>=2.5 in /usr/local/lib/python3.6/dist-packages (from requests[socks]>=2.11.1->tweepy>=3.7.0->konlpy) (2.10)\n",
            "Requirement already satisfied: chardet<4,>=3.0.2 in /usr/local/lib/python3.6/dist-packages (from requests[socks]>=2.11.1->tweepy>=3.7.0->konlpy) (3.0.4)\n",
            "Requirement already satisfied: certifi>=2017.4.17 in /usr/local/lib/python3.6/dist-packages (from requests[socks]>=2.11.1->tweepy>=3.7.0->konlpy) (2020.11.8)\n",
            "Requirement already satisfied: urllib3!=1.25.0,!=1.25.1,<1.26,>=1.21.1 in /usr/local/lib/python3.6/dist-packages (from requests[socks]>=2.11.1->tweepy>=3.7.0->konlpy) (1.24.3)\n",
            "Requirement already satisfied: PySocks!=1.5.7,>=1.5.6; extra == \"socks\" in /usr/local/lib/python3.6/dist-packages (from requests[socks]>=2.11.1->tweepy>=3.7.0->konlpy) (1.7.1)\n",
            "Installing collected packages: JPype1, colorama, tweepy, beautifulsoup4, konlpy\n",
            "  Found existing installation: tweepy 3.6.0\n",
            "    Uninstalling tweepy-3.6.0:\n",
            "      Successfully uninstalled tweepy-3.6.0\n",
            "  Found existing installation: beautifulsoup4 4.6.3\n",
            "    Uninstalling beautifulsoup4-4.6.3:\n",
            "      Successfully uninstalled beautifulsoup4-4.6.3\n",
            "Successfully installed JPype1-1.1.2 beautifulsoup4-4.6.0 colorama-0.4.4 konlpy-0.5.2 tweepy-3.9.0\n"
          ],
          "name": "stdout"
        }
      ]
    },
    {
      "cell_type": "code",
      "metadata": {
        "colab": {
          "base_uri": "https://localhost:8080/"
        },
        "id": "WvEtRKVyjGLR",
        "outputId": "6f51002d-c328-411f-d74a-d8e253d0f030"
      },
      "source": [
        "from konlpy.tag import Okt\n",
        "okt = Okt()\n",
        "okt.pos(\"안녕, 세상.\")"
      ],
      "execution_count": null,
      "outputs": [
        {
          "output_type": "execute_result",
          "data": {
            "text/plain": [
              "[('안녕', 'Noun'), (',', 'Punctuation'), ('세상', 'Noun'), ('.', 'Punctuation')]"
            ]
          },
          "metadata": {
            "tags": []
          },
          "execution_count": 145
        }
      ]
    },
    {
      "cell_type": "markdown",
      "metadata": {
        "id": "8bqfwBd3tlMC"
      },
      "source": [
        "2. Khaiii: 카카오에서 개발한 형태소 분석기\n",
        "\n",
        "  "
      ]
    },
    {
      "cell_type": "code",
      "metadata": {
        "id": "PHSrv6DRw63N"
      },
      "source": [
        "# !git clone https://github.com/kakao/khaiii.git\n",
        "\n",
        "# !pip install cmake\n",
        "\n",
        "# !mkdir build\n",
        "\n",
        "!cd build && cmake /content/khaiii\n",
        "\n",
        "!cd /content/build/ && make all\n",
        "\n",
        "!cd /content/build/ && make resource\n",
        "\n",
        "!cd /content/build && make install\n",
        "\n",
        "!cd /content/build && make package_python\n",
        "\n",
        "!pip install /content/build/package_python"
      ],
      "execution_count": null,
      "outputs": []
    },
    {
      "cell_type": "code",
      "metadata": {
        "id": "YMOQEVIOtKDI"
      },
      "source": [
        "from khaiii import KhaiiiApi\n",
        "api = KhaiiiApi()\n",
        "for word in api.analyze(\"안녕, 세상.\"):\n",
        "    print(word)"
      ],
      "execution_count": null,
      "outputs": []
    },
    {
      "cell_type": "markdown",
      "metadata": {
        "id": "EJ4TTW-K6pjH"
      },
      "source": [
        "데이터 샘플 추출"
      ]
    },
    {
      "cell_type": "code",
      "metadata": {
        "id": "rH8K0R7RuJPG"
      },
      "source": [
        "df_samp = pd.concat([\n",
        "  df_cutoff.loc[df_cutoff['label'] == 0].sample(10000, random_state=1234),\n",
        "  df_cutoff.loc[df_cutoff['label'] == 1].sample(10000, random_state=1234)           \n",
        "])\n"
      ],
      "execution_count": null,
      "outputs": []
    },
    {
      "cell_type": "markdown",
      "metadata": {
        "id": "dETuO0aVvWVq"
      },
      "source": [
        "형태소 분석"
      ]
    },
    {
      "cell_type": "code",
      "metadata": {
        "id": "sUqljNLqjWnu"
      },
      "source": [
        "stopwords = ['의','가','이','은','들','는','좀','잘','걍','과','도','를','으로','자','에','와','한','하다']"
      ],
      "execution_count": null,
      "outputs": []
    },
    {
      "cell_type": "code",
      "metadata": {
        "id": "wQVPmz4ZjMwl"
      },
      "source": [
        "okt = Okt()"
      ],
      "execution_count": null,
      "outputs": []
    },
    {
      "cell_type": "code",
      "metadata": {
        "id": "5gEWlFHY6GCl"
      },
      "source": [
        "token = []\n",
        "for sentence in df_samp['clean']:\n",
        "    temp_X = []\n",
        "    temp_X = okt.morphs(sentence, stem=True) # 토큰화\n",
        "    temp_X = [word for word in temp_X if not word in stopwords] # 불용어 제거\n",
        "    token.append(temp_X)"
      ],
      "execution_count": null,
      "outputs": []
    },
    {
      "cell_type": "code",
      "metadata": {
        "id": "_PTo1jFi6YdX"
      },
      "source": [
        "df_samp['token'] = pd.Series(token).str.join(\" \").values"
      ],
      "execution_count": null,
      "outputs": []
    },
    {
      "cell_type": "code",
      "metadata": {
        "colab": {
          "base_uri": "https://localhost:8080/",
          "height": 272
        },
        "id": "h1OmNuVh6vXn",
        "outputId": "e49d353c-0dc8-4697-85a1-cab510055128"
      },
      "source": [
        "df_samp.head()"
      ],
      "execution_count": null,
      "outputs": [
        {
          "output_type": "execute_result",
          "data": {
            "text/html": [
              "<div>\n",
              "<style scoped>\n",
              "    .dataframe tbody tr th:only-of-type {\n",
              "        vertical-align: middle;\n",
              "    }\n",
              "\n",
              "    .dataframe tbody tr th {\n",
              "        vertical-align: top;\n",
              "    }\n",
              "\n",
              "    .dataframe thead th {\n",
              "        text-align: right;\n",
              "    }\n",
              "</style>\n",
              "<table border=\"1\" class=\"dataframe\">\n",
              "  <thead>\n",
              "    <tr style=\"text-align: right;\">\n",
              "      <th></th>\n",
              "      <th>id</th>\n",
              "      <th>document</th>\n",
              "      <th>label</th>\n",
              "      <th>clean</th>\n",
              "      <th>token</th>\n",
              "    </tr>\n",
              "  </thead>\n",
              "  <tbody>\n",
              "    <tr>\n",
              "      <th>180795</th>\n",
              "      <td>9306323</td>\n",
              "      <td>하나 같이 연기를 못해서.. 무표정이 더 무서웠다 ㅡㅡ 역.대.급. 최악. 영화.</td>\n",
              "      <td>0</td>\n",
              "      <td>하나 같이 연기를 못해서 무표정이 더 무서웠다 ㅡㅡ 역대급 최악 영화</td>\n",
              "      <td>하나 같이 연기 못 무표정 더 무섭다 ㅡㅡ 역대 급 최악 영화</td>\n",
              "    </tr>\n",
              "    <tr>\n",
              "      <th>186719</th>\n",
              "      <td>8425831</td>\n",
              "      <td>10점들 다 알바인가요? 진짜 이만큼 의도를 모르겠고 내용도 조잡하고 이런 영화는 ...</td>\n",
              "      <td>0</td>\n",
              "      <td>10점들 다 알바인가요 진짜 이만큼 의도를 모르겠고 내용도 조잡하고 이런 영화는 처...</td>\n",
              "      <td>10 점 다 알바 인가요 진짜 만큼 의도 모르다 내용 조잡하다 이렇다 영화 처음 임...</td>\n",
              "    </tr>\n",
              "    <tr>\n",
              "      <th>155875</th>\n",
              "      <td>6963836</td>\n",
              "      <td>재미없엇다 좀 지루햇지만 그래도 보는데 나쁘진않앗다</td>\n",
              "      <td>0</td>\n",
              "      <td>재미없엇다 좀 지루햇지만 그래도 보는데 나쁘진않앗다</td>\n",
              "      <td>재미없다 지루 햇 지만 그래도 보다 나쁘다 않다</td>\n",
              "    </tr>\n",
              "    <tr>\n",
              "      <th>177772</th>\n",
              "      <td>7459535</td>\n",
              "      <td>아무리 코믹영화라지만 인간이 다 저렇게 단순한가? 등장인물 성격이 다 똑같고 사건이...</td>\n",
              "      <td>0</td>\n",
              "      <td>아무리 코믹영화라지만 인간이 다 저렇게 단순한가 등장인물 성격이 다 똑같고 사건이 ...</td>\n",
              "      <td>아무리 코믹 영화 라지 만 인간 다 저렇게 단순하다 등장인물 성격 다 똑같다 사건 ...</td>\n",
              "    </tr>\n",
              "    <tr>\n",
              "      <th>135760</th>\n",
              "      <td>4768148</td>\n",
              "      <td>당시엔 획기적이었겠지만 25년후인 지금 보기엔 많이 어설프다.. 7점</td>\n",
              "      <td>0</td>\n",
              "      <td>당시엔 획기적이었겠지만 25년후인 지금 보기엔 많이 어설프다 7점</td>\n",
              "      <td>당시 엔 획기 적 이다 25년 후인 지금 보기 엔 많이 어설프다 7 점</td>\n",
              "    </tr>\n",
              "  </tbody>\n",
              "</table>\n",
              "</div>"
            ],
            "text/plain": [
              "             id  ...                                              token\n",
              "180795  9306323  ...                 하나 같이 연기 못 무표정 더 무섭다 ㅡㅡ 역대 급 최악 영화\n",
              "186719  8425831  ...  10 점 다 알바 인가요 진짜 만큼 의도 모르다 내용 조잡하다 이렇다 영화 처음 임...\n",
              "155875  6963836  ...                         재미없다 지루 햇 지만 그래도 보다 나쁘다 않다\n",
              "177772  7459535  ...  아무리 코믹 영화 라지 만 인간 다 저렇게 단순하다 등장인물 성격 다 똑같다 사건 ...\n",
              "135760  4768148  ...            당시 엔 획기 적 이다 25년 후인 지금 보기 엔 많이 어설프다 7 점\n",
              "\n",
              "[5 rows x 5 columns]"
            ]
          },
          "metadata": {
            "tags": []
          },
          "execution_count": 157
        }
      ]
    },
    {
      "cell_type": "markdown",
      "metadata": {
        "id": "9eB2692yHED7"
      },
      "source": [
        "# 4. 기계학습"
      ]
    },
    {
      "cell_type": "markdown",
      "metadata": {
        "id": "Ax-yMl1FIp-7"
      },
      "source": [
        "### 데이터 분할"
      ]
    },
    {
      "cell_type": "code",
      "metadata": {
        "id": "OBDp4oN9H8fb"
      },
      "source": [
        "from sklearn.model_selection import train_test_split\n",
        "from sklearn.feature_extraction.text import CountVectorizer,TfidfTransformer\n",
        "from sklearn.metrics import f1_score\n",
        "from sklearn.model_selection import cross_val_score\n",
        "from sklearn import svm, tree, linear_model, neighbors, naive_bayes, ensemble, discriminant_analysis, gaussian_process\n",
        "from xgboost import XGBClassifier\n",
        "from sklearn.pipeline import Pipeline"
      ],
      "execution_count": null,
      "outputs": []
    },
    {
      "cell_type": "code",
      "metadata": {
        "id": "ISnlFEosH8iF"
      },
      "source": [
        "X_train, X_test, y_train, y_test = train_test_split(df_samp['clean'], df_samp['label'], stratify=df_samp['label'])"
      ],
      "execution_count": null,
      "outputs": []
    },
    {
      "cell_type": "markdown",
      "metadata": {
        "id": "_bzju9nTIsEU"
      },
      "source": [
        "### Pipeline"
      ]
    },
    {
      "cell_type": "code",
      "metadata": {
        "id": "0y1BgB_1xFpI"
      },
      "source": [
        "vect = CountVectorizer(max_features=1000)\n",
        "tfidf = TfidfTransformer()\n",
        "\n",
        "clf1 = neighbors.KNeighborsClassifier()\n",
        "clf2 = naive_bayes.BernoulliNB()\n",
        "clf3 =  ensemble.RandomForestClassifier()\n",
        "\n",
        "cv_split = model_selection.ShuffleSplit(n_splits = 5, test_size = .3, train_size = .6, random_state = 1234 ) # run model 10x with 60/30 split intentionally leaving out 10%"
      ],
      "execution_count": null,
      "outputs": []
    },
    {
      "cell_type": "code",
      "metadata": {
        "colab": {
          "base_uri": "https://localhost:8080/"
        },
        "id": "kUwK9dgRI5kN",
        "outputId": "3c2a3d9c-faea-4d34-b10d-e7544635912a"
      },
      "source": [
        "scores = []\n",
        "for clf in [clf1, clf2, clf3]:\n",
        "  print(clf)\n",
        "  pipeline =  Pipeline([('vect',vect),\n",
        "                        ('tfidf',tfidf),\n",
        "                        ('clf',clf)])\n",
        "  \n",
        "  pipeline.fit(X_train, y_train)\n",
        "  y_preds = pipeline.predict(X_test)\n",
        "  print(f1_score(y_test, y_preds, average='micro'))\n",
        "  print(cross_val_score(pipeline,df_samp['clean'],df_samp['label'],cv=5,scoring='f1_micro'))"
      ],
      "execution_count": null,
      "outputs": [
        {
          "output_type": "stream",
          "text": [
            "KNeighborsClassifier(algorithm='auto', leaf_size=30, metric='minkowski',\n",
            "                     metric_params=None, n_jobs=None, n_neighbors=5, p=2,\n",
            "                     weights='uniform')\n",
            "0.6599686847599165\n",
            "[0.6195  0.62475 0.62175 0.62125 0.628  ]\n",
            "BernoulliNB(alpha=1.0, binarize=0.0, class_prior=None, fit_prior=True)\n",
            "0.7338204592901879\n",
            "[0.72875 0.7225  0.724   0.71925 0.73325]\n",
            "RandomForestClassifier(bootstrap=True, ccp_alpha=0.0, class_weight=None,\n",
            "                       criterion='gini', max_depth=None, max_features='auto',\n",
            "                       max_leaf_nodes=None, max_samples=None,\n",
            "                       min_impurity_decrease=0.0, min_impurity_split=None,\n",
            "                       min_samples_leaf=1, min_samples_split=2,\n",
            "                       min_weight_fraction_leaf=0.0, n_estimators=100,\n",
            "                       n_jobs=None, oob_score=False, random_state=None,\n",
            "                       verbose=0, warm_start=False)\n",
            "0.7187891440501044\n",
            "[0.69375 0.69575 0.691   0.68425 0.6975 ]\n"
          ],
          "name": "stdout"
        }
      ]
    },
    {
      "cell_type": "code",
      "metadata": {
        "colab": {
          "base_uri": "https://localhost:8080/"
        },
        "id": "-8XXc2xt7RXf",
        "outputId": "86b5551e-aedd-44b3-f36f-ec205a32acf6"
      },
      "source": [
        "scores = []\n",
        "for clf in [clf1, clf2, clf3]:\n",
        "  print(clf)\n",
        "  pipeline =  Pipeline([('vect',vect),\n",
        "                        ('tfidf',tfidf),\n",
        "                        ('clf',clf)])\n",
        "  \n",
        "  pipeline.fit(X_train, y_train)\n",
        "  y_preds = pipeline.predict(X_test)\n",
        "  print(f1_score(y_test, y_preds, average='micro'))\n",
        "  print(cross_val_score(pipeline,df_samp['token'],df_samp['label'],cv=5,scoring='f1_micro'))"
      ],
      "execution_count": null,
      "outputs": [
        {
          "output_type": "stream",
          "text": [
            "KNeighborsClassifier(algorithm='auto', leaf_size=30, metric='minkowski',\n",
            "                     metric_params=None, n_jobs=None, n_neighbors=5, p=2,\n",
            "                     weights='uniform')\n",
            "0.6599686847599165\n",
            "[0.5745  0.6065  0.592   0.59025 0.59725]\n",
            "BernoulliNB(alpha=1.0, binarize=0.0, class_prior=None, fit_prior=True)\n",
            "0.7338204592901879\n",
            "[0.79425 0.797   0.80425 0.79175 0.803  ]\n",
            "RandomForestClassifier(bootstrap=True, ccp_alpha=0.0, class_weight=None,\n",
            "                       criterion='gini', max_depth=None, max_features='auto',\n",
            "                       max_leaf_nodes=None, max_samples=None,\n",
            "                       min_impurity_decrease=0.0, min_impurity_split=None,\n",
            "                       min_samples_leaf=1, min_samples_split=2,\n",
            "                       min_weight_fraction_leaf=0.0, n_estimators=100,\n",
            "                       n_jobs=None, oob_score=False, random_state=None,\n",
            "                       verbose=0, warm_start=False)\n",
            "0.7198851774530272\n",
            "[0.76775 0.77975 0.771   0.7665  0.783  ]\n"
          ],
          "name": "stdout"
        }
      ]
    },
    {
      "cell_type": "markdown",
      "metadata": {
        "id": "tNs6mRWOK4Jg"
      },
      "source": [
        "### 파라미터 최적화"
      ]
    },
    {
      "cell_type": "code",
      "metadata": {
        "id": "H8assMAr6ErD"
      },
      "source": [
        "prep =  Pipeline([('vect',vect), ('tfidf',tfidf)])"
      ],
      "execution_count": null,
      "outputs": []
    },
    {
      "cell_type": "code",
      "metadata": {
        "id": "MhBDzyOR7KJd"
      },
      "source": [
        "X = prep.fit_transform(df_samp['token'])\n",
        "y = df_samp['label'].values"
      ],
      "execution_count": null,
      "outputs": []
    },
    {
      "cell_type": "code",
      "metadata": {
        "id": "G6yl27D7wTjF"
      },
      "source": [
        "grid_param = [\n",
        "  # KN              \n",
        "  [{'leaf_size':[10, 20, 30], 'n_neighbors':[3, 5, 7]}],\n",
        "  # NB\n",
        "  [{'alpha': [0.1, 0.5, 1.0]}],\n",
        "  # SVM\n",
        "  [{'n_estimators': [5, 10, 20]}]\n",
        "]\n",
        "clfs = [clf1, clf2, clf3]"
      ],
      "execution_count": null,
      "outputs": []
    },
    {
      "cell_type": "code",
      "metadata": {
        "id": "AC5RvPmbK6_k",
        "colab": {
          "base_uri": "https://localhost:8080/"
        },
        "outputId": "1768ba5f-a2c4-4d81-9cb0-dc2a8e5dda0f"
      },
      "source": [
        "import time\n",
        "from sklearn import model_selection\n",
        "cv_split = model_selection.ShuffleSplit(n_splits = 5, test_size = .3, train_size = .6, random_state = 0 ) # run model 10x with 60/30 split intentionally leaving out 10%\n",
        "\n",
        "start_total = time.perf_counter()\n",
        "for clf, param in zip (clfs, grid_param):    \n",
        "    \n",
        "    start = time.perf_counter()        \n",
        "    best_search = model_selection.GridSearchCV(estimator = clf, param_grid = param, cv = cv_split, scoring = 'roc_auc')\n",
        "    best_search.fit(X,y)\n",
        "    run = time.perf_counter() - start\n",
        "\n",
        "    best_param = best_search.best_params_\n",
        "    print('The best parameter for {} is {} with a runtime of {:.2f} seconds.'.format(clf.__class__.__name__, best_param, run))\n",
        "    clf.set_params(**best_param) \n",
        "\n",
        "\n",
        "run_total = time.perf_counter() - start_total\n",
        "print('Total optimization time was {:.2f} minutes.'.format(run_total/60))\n",
        "\n",
        "print('-'*10)"
      ],
      "execution_count": null,
      "outputs": [
        {
          "output_type": "stream",
          "text": [
            "The best parameter for KNeighborsClassifier is {'leaf_size': 10, 'n_neighbors': 3} with a runtime of 63.94 seconds.\n",
            "The best parameter for BernoulliNB is {'alpha': 1.0} with a runtime of 0.15 seconds.\n",
            "The best parameter for RandomForestClassifier is {'n_estimators': 20} with a runtime of 16.80 seconds.\n",
            "Total optimization time was 1.35 minutes.\n",
            "----------\n"
          ],
          "name": "stdout"
        }
      ]
    },
    {
      "cell_type": "code",
      "metadata": {
        "colab": {
          "base_uri": "https://localhost:8080/"
        },
        "id": "NRYfXvQJ5ANM",
        "outputId": "fb3151f3-cdd8-40b3-988d-71543a68a8c3"
      },
      "source": [
        "vote_hard = ensemble.VotingClassifier(estimators = [(i.__class__.__name__, i) for i in clfs], voting = 'hard')\n",
        "vote_hard_cv = model_selection.cross_validate(vote_hard, X, y, cv  = cv_split, return_train_score = True)\n",
        "vote_hard.fit(X, y)\n",
        "\n",
        "print(\"Hard Voting Training w/bin score mean: {:.2f}\". format(vote_hard_cv['train_score'].mean()*100)) \n",
        "print(\"Hard Voting Test w/bin score mean: {:.2f}\". format(vote_hard_cv['test_score'].mean()*100))\n",
        "print(\"Hard Voting Test w/bin score 3*std: +/- {:.2f}\". format(vote_hard_cv['test_score'].std()*100*3))"
      ],
      "execution_count": null,
      "outputs": [
        {
          "output_type": "stream",
          "text": [
            "Hard Voting Training w/bin score mean: 93.84\n",
            "Hard Voting Test w/bin score mean: 78.41\n",
            "Hard Voting Test w/bin score 3*std: +/- 1.64\n"
          ],
          "name": "stdout"
        }
      ]
    },
    {
      "cell_type": "code",
      "metadata": {
        "colab": {
          "base_uri": "https://localhost:8080/"
        },
        "id": "bu1XqSh54mGx",
        "outputId": "fe0376ff-1a49-4b0e-8bcb-aa604fb0847a"
      },
      "source": [
        "vote_soft = ensemble.VotingClassifier(estimators = [(i.__class__.__name__, i) for i in clfs], voting = 'soft')\n",
        "vote_soft_cv = model_selection.cross_validate(vote_hard, X, y, cv  = cv_split, return_train_score = True)\n",
        "vote_soft.fit(X, y)\n",
        "\n",
        "print(\"Soft Voting Training w/bin score mean: {:.2f}\". format(vote_soft_cv['train_score'].mean()*100)) \n",
        "print(\"Soft Voting Test w/bin score mean: {:.2f}\". format(vote_soft_cv['test_score'].mean()*100))\n",
        "print(\"Soft Voting Test w/bin score 3*std: +/- {:.2f}\". format(vote_soft_cv['test_score'].std()*100*3))"
      ],
      "execution_count": null,
      "outputs": [
        {
          "output_type": "stream",
          "text": [
            "Soft Voting Training w/bin score mean: 93.88\n",
            "Soft Voting Test w/bin score mean: 78.28\n",
            "Soft Voting Test w/bin score 3*std: +/- 1.20\n"
          ],
          "name": "stdout"
        }
      ]
    },
    {
      "cell_type": "markdown",
      "metadata": {
        "id": "Y1FX_yoAYvNm"
      },
      "source": [
        "# 6. RNN"
      ]
    },
    {
      "cell_type": "markdown",
      "metadata": {
        "id": "ypXi8vRWYvGd"
      },
      "source": [
        "### 전처리"
      ]
    },
    {
      "cell_type": "markdown",
      "metadata": {
        "id": "PF8GicJoEI4P"
      },
      "source": [
        "데이터 분할"
      ]
    },
    {
      "cell_type": "code",
      "metadata": {
        "id": "-uzfzKGuY5VZ"
      },
      "source": [
        "X_train, X_test, y_train, y_test = train_test_split(df_samp['clean'], df_samp['label'], test_size=0.3, stratify=df_samp['label'])\n",
        "X_val, X_test, y_val, y_test = train_test_split(X_test, y_test, test_size=0.5, stratify=y_test)"
      ],
      "execution_count": null,
      "outputs": []
    },
    {
      "cell_type": "code",
      "metadata": {
        "colab": {
          "base_uri": "https://localhost:8080/"
        },
        "id": "Hepw3XAX5PcV",
        "outputId": "2b5057e4-dcd9-4228-8f0a-c4f6af53c3e9"
      },
      "source": [
        "X_train.shape, X_val.shape, X_test.shape"
      ],
      "execution_count": null,
      "outputs": [
        {
          "output_type": "execute_result",
          "data": {
            "text/plain": [
              "((14000,), (3000,), (3000,))"
            ]
          },
          "metadata": {
            "tags": []
          },
          "execution_count": 200
        }
      ]
    },
    {
      "cell_type": "markdown",
      "metadata": {
        "id": "4O-eE8a6B3kq"
      },
      "source": [
        "TF를 이용한 토크나이즈"
      ]
    },
    {
      "cell_type": "code",
      "metadata": {
        "id": "mrKqMp7w5ci1"
      },
      "source": [
        "from tensorflow.keras.preprocessing.text import Tokenizer\n",
        "from tensorflow.keras.preprocessing.sequence import pad_sequences"
      ],
      "execution_count": null,
      "outputs": []
    },
    {
      "cell_type": "code",
      "metadata": {
        "id": "zAyMqphMCubh"
      },
      "source": [
        "tokenizer = Tokenizer()\n",
        "tokenizer.fit_on_texts(df_samp['token'])"
      ],
      "execution_count": null,
      "outputs": []
    },
    {
      "cell_type": "code",
      "metadata": {
        "colab": {
          "base_uri": "https://localhost:8080/"
        },
        "id": "Fo5YUXk4CHdu",
        "outputId": "e204fead-3886-4de7-ab3b-0c8b79c5e0ea"
      },
      "source": [
        "threshold = 3\n",
        "total_cnt = len(tokenizer.word_index) # 단어의 수\n",
        "rare_cnt = 0 # 등장 빈도수가 threshold보다 작은 단어의 개수를 카운트\n",
        "total_freq = 0 # 훈련 데이터의 전체 단어 빈도수 총 합\n",
        "rare_freq = 0 # 등장 빈도수가 threshold보다 작은 단어의 등장 빈도수의 총 합\n",
        "\n",
        "# 단어와 빈도수의 쌍(pair)을 key와 value로 받는다.\n",
        "for key, value in tokenizer.word_counts.items():\n",
        "    total_freq = total_freq + value\n",
        "\n",
        "    # 단어의 등장 빈도수가 threshold보다 작으면\n",
        "    if(value < threshold):\n",
        "        rare_cnt = rare_cnt + 1\n",
        "        rare_freq = rare_freq + value\n",
        "\n",
        "print('단어 집합(vocabulary)의 크기 :',total_cnt)\n",
        "print('등장 빈도가 %s번 이하인 희귀 단어의 수: %s'%(threshold - 1, rare_cnt))\n",
        "print(\"단어 집합에서 희귀 단어의 비율:\", (rare_cnt / total_cnt)*100)\n",
        "print(\"전체 등장 빈도에서 희귀 단어 등장 빈도 비율:\", (rare_freq / total_freq)*100)\n",
        "\n",
        "vocab_size = total_cnt - rare_cnt + 2\n",
        "print('단어 집합의 크기 :',vocab_size)"
      ],
      "execution_count": null,
      "outputs": [
        {
          "output_type": "stream",
          "text": [
            "단어 집합(vocabulary)의 크기 : 20961\n",
            "등장 빈도가 2번 이하인 희귀 단어의 수: 13006\n",
            "단어 집합에서 희귀 단어의 비율: 62.04856638519155\n",
            "전체 등장 빈도에서 희귀 단어 등장 빈도 비율: 5.408358096569899\n",
            "단어 집합의 크기 : 7957\n"
          ],
          "name": "stdout"
        }
      ]
    },
    {
      "cell_type": "code",
      "metadata": {
        "colab": {
          "base_uri": "https://localhost:8080/"
        },
        "id": "GKq1gw7KC2lT",
        "outputId": "a290f323-1168-4723-94b0-56d331eeada8"
      },
      "source": [
        "X_train.head()"
      ],
      "execution_count": null,
      "outputs": [
        {
          "output_type": "execute_result",
          "data": {
            "text/plain": [
              "16438             보기드문 중국 리얼리즘 영화 산업자본화되어가는 중국의 명암을 잘 나타낸 듯\n",
              "90618     독일 바그다드 카페 일본의 카모메 식당 이 생각나네요 일본에서 상을 주는 이유를 알...\n",
              "140626                                  아쉽다지루하다어이없다이건아니잔나정말\n",
              "42219     최고 가슴이 먹먹해지고 영상도너무좋고 여운이남는영화마지막 황제가 하는 대사는 아직도...\n",
              "106946                배부른 휴먼드라마로 시작해 기시감 가득한 헐리웃 멜로드라마로 마무리\n",
              "Name: clean, dtype: object"
            ]
          },
          "metadata": {
            "tags": []
          },
          "execution_count": 206
        }
      ]
    },
    {
      "cell_type": "code",
      "metadata": {
        "id": "d6EOhlZbAd9J"
      },
      "source": [
        "tokenizer = Tokenizer(vocab_size, oov_token = 'OOV') \n",
        "tokenizer.fit_on_texts(df_samp['token'])\n",
        "\n",
        "X_train = tokenizer.texts_to_sequences(X_train)\n",
        "X_val = tokenizer.texts_to_sequences(X_val)\n",
        "X_test = tokenizer.texts_to_sequences(X_test)\n"
      ],
      "execution_count": null,
      "outputs": []
    },
    {
      "cell_type": "code",
      "metadata": {
        "colab": {
          "base_uri": "https://localhost:8080/"
        },
        "id": "xTzvs3yLArsA",
        "outputId": "e9eaa90d-93a7-4db8-b730-e816ec59319e"
      },
      "source": [
        "X_train[:5]"
      ],
      "execution_count": null,
      "outputs": [
        {
          "output_type": "execute_result",
          "data": {
            "text/plain": [
              "[[1, 821, 6550, 2, 1, 1, 1, 1, 1, 128],\n",
              " [3235, 1, 1, 1, 1, 4525, 1, 1, 1, 1, 1, 1, 1, 1, 886, 1, 1],\n",
              " [1],\n",
              " [48, 1, 1, 1, 1, 1, 1, 1, 358, 1],\n",
              " [1, 1, 1, 1, 1, 1548, 1, 796]]"
            ]
          },
          "metadata": {
            "tags": []
          },
          "execution_count": 210
        }
      ]
    },
    {
      "cell_type": "code",
      "metadata": {
        "colab": {
          "base_uri": "https://localhost:8080/"
        },
        "id": "Yc3NSaFqAtJB",
        "outputId": "19ec20c2-26ea-49ec-eeec-f71148b3ea3b"
      },
      "source": [
        "print(tokenizer.word_index)"
      ],
      "execution_count": null,
      "outputs": [
        {
          "output_type": "stream",
          "text": [
            "{'OOV': 1, '영화': 2, '보다': 3, '을': 4, '없다': 5, '있다': 6, '이다': 7, '좋다': 8, '너무': 9, '다': 10, '적': 11, '정말': 12, '되다': 13, '같다': 14, '만': 15, '아니다': 16, '진짜': 17, '로': 18, '않다': 19, '에서': 20, '점': 21, '만들다': 22, '재밌다': 23, '것': 24, '연기': 25, '나오다': 26, '평점': 27, '그': 28, '생각': 29, '인': 30, '내': 31, '안': 32, '사람': 33, '못': 34, '스토리': 35, '나': 36, '보고': 37, '고': 38, '드라마': 39, '때': 40, '왜': 41, '배우': 42, '더': 43, '게': 44, '감동': 45, '이렇다': 46, '감독': 47, '최고': 48, '1': 49, '내용': 50, '말': 51, '주다': 52, '그냥': 53, '까지': 54, '거': 55, '하고': 56, '자다': 57, '아깝다': 58, '아': 59, '수': 60, 'ㅋㅋ': 61, '중': 62, '재미': 63, '가다': 64, '요': 65, '모르다': 66, '들다': 67, '재미있다': 68, '지루하다': 69, '그렇다': 70, '시간': 71, '알다': 72, '뭐': 73, '사랑': 74, '작품': 75, '싶다': 76, '네': 77, '쓰레기': 78, '하나': 79, '지': 80, '재미없다': 81, '마지막': 82, '저': 83, '다시': 84, '오다': 85, '많다': 86, '정도': 87, '처음': 88, '10': 89, '주인공': 90, '볼': 91, '이렇게': 92, '장면': 93, '이야기': 94, '이건': 95, '안되다': 96, '액션': 97, '연출': 98, '2': 99, '걸': 100, '완전': 101, '나다': 102, '3': 103, 'ㅠㅠ': 104, '차다': 105, '지금': 106, '받다': 107, '돈': 108, '하': 109, '인데': 110, '느낌': 111, '좋아하다': 112, '이영화': 113, 'ㅋㅋㅋ': 114, '많이': 115, '느끼다': 116, '개': 117, '그리고': 118, '대': 119, '라': 120, '끝': 121, '임': 122, '남다': 123, '면': 124, '버리다': 125, '해주다': 126, '넘다': 127, '듯': 128, '이해': 129, '여자': 130, '역시': 131, '최악': 132, '별': 133, '서': 134, 'ㅋ': 135, '이런': 136, '두': 137, '이고': 138, '기': 139, '난': 140, '성': 141, 'ㅡㅡ': 142, '라고': 143, '이나': 144, '부터': 145, '명작': 146, '기억': 147, '때문': 148, '에게': 149, '어떻다': 150, '엔': 151, '괜찮다': 152, '또': 153, '랑': 154, '여': 155, '보여주다': 156, '일': 157, '아름답다': 158, '없이': 159, '꼭': 160, '먹다': 161, '결말': 162, '현실': 163, '소재': 164, '끄다': 165, '보기': 166, '무슨': 167, '아쉽다': 168, '인생': 169, '전': 170, '마음': 171, '끝나다': 172, '별로': 173, '한국': 174, '어리다': 175, '애': 176, '전개': 177, '라는': 178, '수준': 179, '매력': 180, '되어다': 181, '급': 182, '속': 183, '편': 184, '씨': 185, '인간': 186, '다른': 187, '아이': 188, '맞다': 189, '낮다': 190, '님': 191, '뻔하다': 192, '영': 193, '반전': 194, '본': 195, '알': 196, '줄': 197, '한번': 198, '모든': 199, '크다': 200, '남자': 201, 'ㅎㅎ': 202, '제': 203, '죽다': 204, '쓰다': 205, '자체': 206, '번': 207, '말다': 208, '지만': 209, '음악': 210, '내다': 211, '가장': 212, '인지': 213, '눈물': 214, '화': 215, '야': 216, '대한': 217, '전혀': 218, '우리': 219, '무섭다': 220, '뿐': 221, '슬프다': 222, '원작': 223, '유치하다': 224, '표현': 225, '하지만': 226, '보이다': 227, '살다': 228, '가슴': 229, '늘다': 230, '솔직하다': 231, '모습': 232, '함': 233, '분': 234, '찍다': 235, '니': 236, '모두': 237, '멋지다': 238, '뭔가': 239, '높다': 240, '눈': 241, '캐릭터': 242, 'oo': 243, '냐': 244, '처럼': 245, '웃기다': 246, '미치다': 247, '연기력': 248, '이랑': 249, '기대하다': 250, '근데': 251, '치다': 252, '이상': 253, '부분': 254, '허다': 255, '영상': 256, '에는': 257, '인가': 258, '기분': 259, '이네': 260, '재다': 261, '그래도': 262, '이라': 263, '지다': 264, '개봉': 265, '야하다': 266, '기대': 267, '공감': 268, '움': 269, '코미디': 270, '시키다': 271, '후': 272, '여운': 273, '이라는': 274, '제목': 275, '떨어지다': 276, '중간': 277, '건지다': 278, '연': 279, '짜증나다': 280, '요즘': 281, 'ㅠ': 282, '계속': 283, '가족': 284, '짱': 285, '일본': 286, '시리즈': 287, '대단하다': 288, '조금': 289, '해보다': 290, '개인': 291, '추천': 292, '영화로': 293, '잔잔하다': 294, '돼다': 295, '건': 296, '빠지다': 297, '극장': 298, '보지': 299, 'ㅜㅜ': 300, '마다': 301, '이쁘다': 302, '애니': 303, '내내': 304, '특히': 305, '당시': 306, '아주': 307, '의미': 308, '웃다': 309, '깊다': 310, '위': 311, '작': 312, '이라고': 313, '제대로': 314, '위해': 315, '느껴지다': 316, '노래': 317, '진심': 318, '알바': 319, '작가': 320, '대사': 321, '놈': 322, '한테': 323, '실망': 324, '밖에': 325, '오랜': 326, 'ㅋㅋㅋㅋ': 327, '이란': 328, '이유': 329, '뭔': 330, '이상하다': 331, '몰입': 332, '공포': 333, '력': 334, '믿다': 335, '욕': 336, '에도': 337, '친구': 338, '다르다': 339, '이지': 340, '시작': 341, '무엇': 342, '어설프다': 343, '빼다': 344, '차라리': 345, '명': 346, '삶': 347, '짜다': 348, '울다': 349, '스릴러': 350, '이제': 351, '훌륭하다': 352, '초반': 353, '아무': 354, '가지': 355, '나름': 356, '대박': 357, '아직도': 358, '귀엽다': 359, '4': 360, '막장': 361, '사실': 362, '잇다': 363, '부족하다': 364, '점수': 365, '점도': 366, '결국': 367, '감': 368, '류': 369, '싫다': 370, '물': 371, '용': 372, '찾다': 373, '식': 374, '예쁘다': 375, '딱': 376, '관객': 377, '분위기': 378, '세': 379, '제일': 380, '시': 381, '세상': 382, '대해': 383, '같이': 384, '긴장감': 385, '출연': 386, '얼마나': 387, '그리다': 388, '몇': 389, '앞': 390, '극': 391, '설정': 392, '자신': 393, '소리': 394, 'ㅎ': 395, '남': 396, '우리나라': 397, '감정': 398, '대다': 399, '엄청': 400, '나쁘다': 401, '절대': 402, '더럽다': 403, '미국': 404, '생각나다': 405, '따뜻하다': 406, '아무리': 407, '죽이다': 408, '데': 409, '이딴': 410, '구성': 411, '신선하다': 412, '7': 413, 'b': 414, '시대': 415, '노잼': 416, '공포영화': 417, 'cg': 418, '기다': 419, '오늘': 420, '너': 421, '오': 422, '애니메이션': 423, '준': 424, '몰입도': 425, '반': 426, '추억': 427, '포스터': 428, '역사': 429, '엄마': 430, '써다': 431, '배우다': 432, '인상': 433, '뭘': 434, '도대체': 435, '신': 436, '엔딩': 437, '이지만': 438, '진부하다': 439, '시나리오': 440, '살': 441, '스럽다': 442, '문제': 443, '웃음': 444, '정신': 445, '라면': 446, '충격': 447, '5': 448, '상황': 449, '팬': 450, '한국영': 451, '기도': 452, '제발': 453, '구': 454, '평가': 455, '잊다': 456, '살리다': 457, '놓다': 458, '개연': 459, '배경': 460, '답답하다': 461, '티비': 462, '집중': 463, '시절': 464, '어': 465, '주': 466, '어색하다': 467, '쓸다': 468, '멀다': 469, '전쟁': 470, 'tv': 471, '봄': 472, '영화관': 473, '들이다': 474, '이름': 475, '졸작': 476, '서다': 477, '그렇게': 478, '이후': 479, '맘': 480, '안타깝다': 481, '0': 482, '비다': 483, '접': 484, '첨': 485, '그것': 486, '함께': 487, '굿': 488, '힘들다': 489, '너무나': 490, '낫다': 491, '아프다': 492, '얼굴': 493, '머리': 494, '행복하다': 495, 'ooo': 496, '완벽하다': 497, '건가': 498, '두다': 499, '원': 500, '유쾌하다': 501, '동안': 502, '보단': 503, '지루함': 504, '아들': 505, '놀라다': 506, '만화': 507, '따다': 508, '수작': 509, '그저': 510, '갈수록': 511, '영화인': 512, '꽤': 513, '얘기': 514, '더빙': 515, '해': 516, '비슷하다': 517, '질': 518, '분들': 519, '생기다': 520, '떠나다': 521, '자기': 522, '날': 523, '혼자': 524, '인물': 525, '캐스팅': 526, '어느': 527, '든': 528, '글': 529, '그대로': 530, '훨씬': 531, '매우': 532, 'ost': 533, '씬': 534, '8': 535, '옛날': 536, '등': 537, '라도': 538, '간': 539, '예술': 540, '다운': 541, '6': 542, '집': 543, '남기다': 544, '나가다': 545, '코믹': 546, '어이없다': 547, '니까': 548, '엉': 549, '누가': 550, '적다': 551, '다큐': 552, '아직': 553, '장르': 554, '멋있다': 555, '어디': 556, '꿈': 557, '망하다': 558, '상당하다': 559, '음': 560, '누구': 561, '그래서': 562, '방송': 563, '잼': 564, '어울리다': 565, '장난': 566, '후반': 567, '상': 568, '감성': 569, '심하다': 570, '로맨스': 571, '보다는': 572, '보': 573, '풀다': 574, '새롭다': 575, '비': 576, '부': 577, '뒤': 578, '조': 579, '소름': 580, '목소리': 581, '그나마': 582, '굉장하다': 583, '여주': 584, '돌리다': 585, '한마디': 586, '만나다': 587, '총': 588, '존나': 589, '킬링타임': 590, '이야': 591, '스릴': 592, '9': 593, '초딩': 594, '여기': 595, '후회': 596, '비교': 597, '순수하다': 598, '해도': 599, '그런': 600, '진': 601, '따르다': 602, '궁금하다': 603, '다음': 604, '예전': 605, '필요하다': 606, '불쌍하다': 607, '약간': 608, '언제': 609, '그러나': 610, '읽다': 611, '억지': 612, '장': 613, '바로': 614, '점주': 615, '주연': 616, '실화': 617, '엄청나다': 618, '시즌': 619, '여배우': 620, '만들어지다': 621, '충분하다': 622, '울': 623, '바꾸다': 624, '주제': 625, '전체': 626, '존재': 627, '아버지': 628, '웃기': 629, '편이': 630, '삼류': 631, '짜증': 632, '바라다': 633, '머': 634, '거의': 635, '지나다': 636, '참고': 637, '걸작': 638, '돋다': 639, '잔인하다': 640, '힘': 641, '나이': 642, '흥미롭다': 643, '코': 644, '넘치다': 645, '쉬다': 646, '소': 647, '전부': 648, '즐겁다': 649, '어렵다': 650, '드리다': 651, '최고다': 652, '첫': 653, 'ㅉㅉ': 654, '빨리': 655, '몇번': 656, '타다': 657, '시청률': 658, '이라도': 659, '책': 660, '화려하다': 661, '잡다': 662, '터지다': 663, '말고': 664, '발': 665, '질질': 666, '평': 667, '줄거리': 668, '세계': 669, '넣다': 670, '평론가': 671, '사랑스럽다': 672, '당하다': 673, '땜': 674, '20': 675, '선택': 676, '성우': 677, '쯤': 678, '죠': 679, '비디오': 680, '년': 681, '편집': 682, '에선': 683, '독특하다': 684, '억지스럽다': 685, '좀비': 686, '필요없다': 687, '듣다': 688, '기다리다': 689, '발연기': 690, '나라': 691, '조차': 692, '에서도': 693, '교훈': 694, '온': 695, '뜨다': 696, '에겐': 697, '단순하다': 698, '상영': 699, '가치': 700, '일단': 701, '그녀': 702, '볼때': 703, '그때': 704, '간만': 705, '만큼': 706, '요소': 707, '둘': 708, '만점': 709, '피': 710, '딸': 711, '판타지': 712, '복수': 713, '밉다': 714, '이냐': 715, '진정하다': 716, '네이버': 717, '이르다': 718, '곳': 719, '들어가다': 720, '에서는': 721, '바': 722, '성하다': 723, '즐기다': 724, '당신': 725, '감사하다': 726, '바람': 727, '오글거리다': 728, '만이': 729, '마르다': 730, '순간': 731, '히': 732, '열': 733, '안보': 734, 'ㅜ': 735, '실제': 736, '역겹다': 737, '군': 738, '거기': 739, '치고': 740, '낭비': 741, '달다': 742, '리뷰': 743, '사': 744, '보내다': 745, '새': 746, '물론': 747, '밑': 748, '찾아보다': 749, '소설': 750, '맞추다': 751, '인거': 752, '죽': 753, '으로도': 754, '각본': 755, '귀신': 756, '올리다': 757, '메다': 758, '사회': 759, '어디서': 760, '저런': 761, '에요': 762, '항상': 763, '간다': 764, '강추': 765, '의도': 766, '역': 767, '지나치다': 768, '그만': 769, '가볍다': 770, '너무하다': 771, '선': 772, '어른': 773, '자극': 774, '제작': 775, '오히려': 776, '확실하다': 777, '싸우다': 778, '갑자기': 779, '이리': 780, '적당하다': 781, '나서다': 782, '흐르다': 783, '설명': 784, '만하': 785, '여서': 786, '관람': 787, 'sf': 788, '대체': 789, '답': 790, '이하': 791, '100': 792, '판': 793, '불편하다': 794, '흥행': 795, '마무리': 796, '키': 797, '억지로': 798, '완성': 799, '현': 800, '이번': 801, '담다': 802, '똑같다': 803, '사건': 804, '성룡': 805, '연기자': 806, '무': 807, '실망하다': 808, '새끼': 809, '촬영': 810, '과정': 811, '다루다': 812, '먼저': 813, '망치다': 814, '라서': 815, '휴': 816, '부르다': 817, '양': 818, '화보': 819, '만에': 820, '중국': 821, '개그': 822, '원래': 823, '착하다': 824, '이기다': 825, '스타일': 826, '스타': 827, '화면': 828, '극장판': 829, '또한': 830, '갖다': 831, '아빠': 832, '라니': 833, '노력': 834, '형': 835, '자꾸': 836, '재': 837, '며': 838, '던지다': 839, '탄탄하다': 840, '대한민국': 841, '살아가다': 842, '힘드다': 843, '뭐라다': 844, '죽음': 845, '한심하다': 846, '중반': 847, '진행': 848, '수가': 849, '한다는': 850, '대로': 851, '병맛': 852, '뻔': 853, '도저히': 854, '점점': 855, '단': 856, '심리': 857, '예상': 858, '영웅': 859, '배': 860, '다소': 861, '귀': 862, '댓글': 863, '거리': 864, '길다': 865, '당': 866, '엉망': 867, '아저씨': 868, '엇': 869, '바보': 870, '그림': 871, '참신하다': 872, '젊다': 873, '우연히': 874, '불륜': 875, '여러': 876, '12': 877, '일이': 878, '걸리다': 879, '초': 880, '표정': 881, '그게': 882, '학교': 883, '동': 884, '소중하다': 885, '감상': 886, '모': 887, '때리다': 888, '제작비': 889, '억': 890, '틀다': 891, '더욱': 892, '상미': 893, '중요하다': 894, '평범하다': 895, '한편': 896, '결혼': 897, '터': 898, '상상': 899, '프랑스': 900, '왠만하다': 901, '이며': 902, '그래픽': 903, '멜로': 904, '과거': 905, '가지다': 906, '필요': 907, '10년': 908, '흘리다': 909, '고민': 910, '햇': 911, '흥미': 912, '공': 913, '땐': 914, '몸': 915, '나중': 916, '오래': 917, '법': 918, '전형': 919, '취향': 920, '막': 921, '괜히': 922, '로맨틱': 923, '특유': 924, '바뀌다': 925, '잃다': 926, '화가': 927, '기억나다': 928, '상상력': 929, '흔하다': 930, '인하다': 931, '잘생기다': 932, '손': 933, '닿다': 934, '최근': 935, '리': 936, '일어나다': 937, '미안하다': 938, '케이블': 939, '프로그램': 940, '고생': 941, '다니다': 942, '안다': 943, '올': 944, '메세지': 945, '살인': 946, '걸다': 947, '짧다': 948, '90년': 949, '맛': 950, '어이': 951, '비추다': 952, 'ㅠㅠㅠ': 953, '관': 954, '역대': 955, '보이': 956, 'd': 957, 'ㅡ': 958, '달': 959, '능력': 960, '회': 961, '낚': 962, '보시': 963, '가보다': 964, '미화': 965, '여성': 966, '잘만': 967, '환상': 968, '빠져들다': 969, '이라니': 970, '란': 971, '잊혀지다': 972, '이면': 973, '그런데': 974, '끼다': 975, '들어오다': 976, '재밋': 977, '만의': 978, '어쩔': 979, '행동': 980, '위대하다': 981, '돋보이다': 982, '여전하다': 983, '짐': 984, '예산': 985, '게임': 986, '척': 987, '영환': 988, '서로': 989, '드': 990, '늙다': 991, '잠': 992, '사라지다': 993, '철학': 994, '다가': 995, '갈다': 996, '고맙다': 997, '챙기다': 998, '청춘': 999, 'ㅋㅋㅋㅋㅋ': 1000, '저렇게': 1001, '거지': 1002, '아쉬움': 1003, '암': 1004, '식상하다': 1005, '노출': 1006, '진지하다': 1007, '주의': 1008, '다행': 1009, '끌다': 1010, '밤': 1011, '전달': 1012, '타임': 1013, '관심': 1014, '리메이크': 1015, '봣': 1016, '용서': 1017, '뜻': 1018, '막판': 1019, '뛰어나다': 1020, '이에요': 1021, '동화': 1022, '등장인물': 1023, '유치': 1024, '차': 1025, '무비': 1026, '졸리다': 1027, '로서': 1028, '작다': 1029, '타': 1030, '2시간': 1031, '효과': 1032, '길': 1033, '술': 1034, '짓': 1035, '래': 1036, '어린이': 1037, '인정': 1038, '열정': 1039, '쏘다': 1040, '보아': 1041, '불다': 1042, '강하다': 1043, '영원하다': 1044, '통해': 1045, '되게': 1046, '남편': 1047, '지도': 1048, '과연': 1049, '마치': 1050, '똥': 1051, '다시다': 1052, 'x': 1053, 'ㄷㄷ': 1054, '끼리': 1055, '덥다': 1056, '지르다': 1057, '푹': 1058, '입': 1059, '유명하다': 1060, '전설': 1061, '흐름': 1062, '깊이': 1063, '성인': 1064, '동생': 1065, '만으로도': 1066, '흥미진진': 1067, '굳다': 1068, '덕분': 1069, '강': 1070, '대작': 1071, '깔다': 1072, '런가': 1073, '조연': 1074, '씩': 1075, '추다': 1076, '라인': 1077, '돌아가다': 1078, '외': 1079, '화이팅': 1080, '스러운': 1081, '마저': 1082, '미소': 1083, '설레다': 1084, '동물': 1085, '역할': 1086, '얼': 1087, '드럽다': 1088, '이라서': 1089, '진실': 1090, '포기': 1091, '계': 1092, '춤': 1093, '산': 1094, '멍청하다': 1095, '심': 1096, '순': 1097, '예': 1098, '퀄리티': 1099, '감탄': 1100, '언': 1101, '발견': 1102, '전작': 1103, '결론': 1104, '신기하다': 1105, '채널': 1106, '소녀': 1107, '시선': 1108, '젠': 1109, '굳이': 1110, '용이': 1111, '천재': 1112, '매': 1113, '30분': 1114, '게다가': 1115, '문': 1116, '수도': 1117, '메시지': 1118, '묻다': 1119, '액션영화': 1120, '지난': 1121, '비극': 1122, '슬픔': 1123, '지루': 1124, '오버': 1125, '겁나다': 1126, '이미': 1127, '정서': 1128, '딱하다': 1129, '조합': 1130, '약하다': 1131, '사극': 1132, '줌': 1133, '불구': 1134, '관계': 1135, '헐다': 1136, '원하다': 1137, '연애': 1138, '가능하다': 1139, '엿': 1140, '나르다': 1141, '잘못': 1142, '예요': 1143, '가끔': 1144, '산만하다': 1145, '에게는': 1146, '너무나도': 1147, '카메라': 1148, '종교': 1149, 'ㅅㅂ': 1150, '깨닫다': 1151, '얻다': 1152, '풋풋하다': 1153, '행복': 1154, '이어지다': 1155, '안나': 1156, '훈훈하다': 1157, '해내다': 1158, '표절': 1159, '티': 1160, '어찌': 1161, '독립영화': 1162, '까지는': 1163, '스스로': 1164, '노': 1165, '는걸': 1166, '황당하다': 1167, '등장': 1168, '빠르다': 1169, '용도': 1170, '와는': 1171, '스케일': 1172, '20년': 1173, '무조건': 1174, '크게': 1175, '어제': 1176, '꼴': 1177, '생애': 1178, '보다도': 1179, 'dvd': 1180, '에서의': 1181, '자리': 1182, '눈물나다': 1183, '리얼': 1184, 'the': 1185, '으로는': 1186, '예고편': 1187, '평생': 1188, '자유': 1189, '태어나다': 1190, '죄': 1191, '정': 1192, '군대': 1193, '생': 1194, '랄': 1195, '권': 1196, '더불다': 1197, '그걸': 1198, '범죄': 1199, '맨': 1200, '방': 1201, '그럭저럭': 1202, 'm': 1203, '졸라': 1204, '프로': 1205, '괴물': 1206, '존': 1207, '현재': 1208, '박수': 1209, '겠다': 1210, '짠하다': 1211, '살짝': 1212, '유머': 1213, '세다': 1214, '눈빛': 1215, '해피엔딩': 1216, '약': 1217, '시청자': 1218, '기르다': 1219, '포장': 1220, '께': 1221, '스럽게': 1222, '1시간': 1223, '게이': 1224, '빌리다': 1225, '부족': 1226, '공간': 1227, '허무하다': 1228, '무시': 1229, '로는': 1230, '묘사': 1231, '주기': 1232, '방법': 1233, '편의': 1234, '쩔다': 1235, '코드': 1236, '조작': 1237, '외국': 1238, '다큐멘터리': 1239, '이루다': 1240, '인가요': 1241, '유일하다': 1242, '지키다': 1243, '해석': 1244, '생활': 1245, '성도': 1246, '짓다': 1247, '범인': 1248, '개다': 1249, '돌아오다': 1250, '하루': 1251, '적절하다': 1252, '지겹다': 1253, '아줌마': 1254, '디즈니': 1255, '기본': 1256, '자막': 1257, '언니': 1258, '누군가': 1259, '실패': 1260, '변하다': 1261, '무겁다': 1262, '희망': 1263, '울리다': 1264, '늘': 1265, '남녀': 1266, '한계': 1267, '팀': 1268, '표': 1269, '자연': 1270, '경찰': 1271, '특별하다': 1272, '개도': 1273, '외계인': 1274, '힐링': 1275, '희생': 1276, '다만': 1277, '뽑다': 1278, '다가오다': 1279, '뿐이다': 1280, '에만': 1281, '말로': 1282, '떠오르다': 1283, '헐리우드': 1284, '참다': 1285, '뒷': 1286, '삼': 1287, '단지': 1288, '본방': 1289, '고통': 1290, '시사회': 1291, '방식': 1292, '벌써': 1293, '담기다': 1294, '싫어하다': 1295, '꿀잼': 1296, '대안': 1297, '소장': 1298, '섬세하다': 1299, '라지': 1300, '말고는': 1301, '당연하다': 1302, 'c': 1303, '소름끼치다': 1304, '대충': 1305, '시도': 1306, '완전하다': 1307, '전편': 1308, '이든': 1309, '외모': 1310, '체': 1311, '줍다': 1312, '반복': 1313, '그닥': 1314, '으': 1315, '18': 1316, '정말로': 1317, '보라': 1318, '고전': 1319, '근': 1320, '젤': 1321, '미래': 1322, '창': 1323, '이기': 1324, '올라가다': 1325, '반개': 1326, '지는': 1327, '과장': 1328, '까지도': 1329, 'ㅎㅎㅎ': 1330, '만으로': 1331, '화나다': 1332, '사다': 1333, '늦다': 1334, '80년': 1335, '자연스럽다': 1336, '평이': 1337, '왕': 1338, '치': 1339, '담': 1340, '국민': 1341, '펑펑': 1342, '롭고': 1343, '혹시': 1344, '양심': 1345, '진정': 1346, '느리다': 1347, '과의': 1348, '결과': 1349, '쪽': 1350, '누나': 1351, '접다': 1352, '확인': 1353, '날다': 1354, '뛰다': 1355, '과는': 1356, '사이': 1357, '드림': 1358, '폭력': 1359, '대화': 1360, '부끄럽다': 1361, '기적': 1362, '악역': 1363, '졸다': 1364, '숨다': 1365, '민망하다': 1366, 'ㅇ': 1367, '검색': 1368, '비주': 1369, '찝찝하다': 1370, '인기': 1371, '오락': 1372, 'a': 1373, '형제': 1374, '빛': 1375, '망작': 1376, '아마': 1377, '문화': 1378, '가득하다': 1379, '감명': 1380, '상처': 1381, '어떤': 1382, '끌': 1383, '소소하다': 1384, '죄다': 1385, '섹스': 1386, '어머니': 1387, '난해하다': 1388, '얼마': 1389, '이끌다': 1390, '색다르다': 1391, '번째': 1392, '마': 1393, '기술': 1394, '거슬리다': 1395, '구리': 1396, '팔': 1397, '싸구려': 1398, '공부': 1399, '본인': 1400, '복잡하다': 1401, '뜬금': 1402, '형님': 1403, '수고': 1404, '세기': 1405, '치밀하다': 1406, '실력': 1407, '아침': 1408, '조폭': 1409, '제로': 1410, '봣는데': 1411, '개판': 1412, '애쓰다': 1413, '밥': 1414, '갈등': 1415, '안좋다': 1416, '하나로': 1417, '시각': 1418, '우정': 1419, '실감': 1420, '오빠': 1421, '일상': 1422, '경험': 1423, '심각하다': 1424, '싸다': 1425, '으로써': 1426, '형편': 1427, '까진': 1428, '분명': 1429, '감다': 1430, '씁쓸하다': 1431, '속편': 1432, '끝내다': 1433, '초등학생': 1434, '가요': 1435, '뛰어넘다': 1436, '투자': 1437, '끌리다': 1438, '10분': 1439, '개성': 1440, '러브': 1441, '놓치다': 1442, '경': 1443, '우': 1444, '스': 1445, '악당': 1446, '전반': 1447, '시청': 1448, '한국인': 1449, '에나': 1450, '부모': 1451, '점준': 1452, '망': 1453, '벗다': 1454, '첫사랑': 1455, '레알': 1456, '그린': 1457, '무언가': 1458, '비판': 1459, '몰다': 1460, '애기': 1461, '생생하다': 1462, '캐리': 1463, '무협': 1464, '낫': 1465, '심심하다': 1466, '패': 1467, '학생': 1468, '칼': 1469, '흘러가다': 1470, '촌스럽다': 1471, '각': 1472, '빨': 1473, '고르다': 1474, '의문': 1475, '녀': 1476, '빡치다': 1477, '심장': 1478, '짝': 1479, '향': 1480, '싸움': 1481, '변화': 1482, '아이돌': 1483, '묘': 1484, '이니': 1485, '형사': 1486, '러닝': 1487, '목': 1488, '멋': 1489, '뮤지컬': 1490, '아련하다': 1491, '찡하다': 1492, '상태': 1493, '잠깐': 1494, '강렬하다': 1495, '광고': 1496, '상업': 1497, '메': 1498, '대부분': 1499, '예능': 1500, '변태': 1501, '왠': 1502, '희다': 1503, '대의': 1504, '전개도': 1505, '내리다': 1506, '흠': 1507, '빨다': 1508, '욕심': 1509, '그건': 1510, '김기덕': 1511, '성장': 1512, '가면': 1513, '오르다': 1514, '아오': 1515, '놀랍다': 1516, '이따위': 1517, '더하다': 1518, '마이클': 1519, '도안': 1520, '따위': 1521, '인내심': 1522, '반성': 1523, '설득': 1524, '관점': 1525, '존경': 1526, '돌아보다': 1527, '돌다': 1528, '오래되다': 1529, '스크린': 1530, '움직이다': 1531, '몇몇': 1532, '허세': 1533, '방금': 1534, '연인': 1535, '로만': 1536, '입장': 1537, '아내': 1538, '쩐다': 1539, '김치': 1540, '긴장': 1541, '개념': 1542, '불쾌하다': 1543, '거짓말': 1544, '자주': 1545, '암튼': 1546, '바다': 1547, '헐리웃': 1548, '그렇다고': 1549, '옛': 1550, '듬': 1551, '이어서': 1552, '대통령': 1553, '선생님': 1554, '얘': 1555, '맨날': 1556, '으론': 1557, '유': 1558, '에로': 1559, '편도': 1560, '오랫': 1561, '무척': 1562, '겁니다': 1563, '다양하다': 1564, '린': 1565, '대표': 1566, '명품': 1567, '바라보다': 1568, '짱짱': 1569, '조잡하다': 1570, '으로서': 1571, '핵': 1572, '좀더': 1573, '무지': 1574, '기자': 1575, '맡다': 1576, '노답': 1577, '스럽지': 1578, '달리': 1579, '지우다': 1580, '지구': 1581, '브루스': 1582, '국내': 1583, '비밀': 1584, '살아나다': 1585, '필름': 1586, '영어': 1587, '모으다': 1588, '쉬': 1589, '미드': 1590, '히어로': 1591, '금': 1592, '깎다': 1593, '낭비하다': 1594, '니깐': 1595, '편견': 1596, '닮다': 1597, '으로만': 1598, '유발': 1599, '남아': 1600, '그거': 1601, '편하다': 1602, '의식': 1603, '홍보': 1604, '로봇': 1605, '심지어': 1606, '왜케': 1607, '배신': 1608, '채우다': 1609, '하하': 1610, '십': 1611, '고등학교': 1612, '냥': 1613, '차이': 1614, '깨': 1615, '카리스마': 1616, '007': 1617, '이자': 1618, '대가': 1619, '학년': 1620, '조용하다': 1621, '이제야': 1622, '판단': 1623, '깔끔하다': 1624, '깨우다': 1625, '마이너스': 1626, '나타나다': 1627, '선동': 1628, '거짓': 1629, '반하다': 1630, '어거지': 1631, '칠': 1632, '영혼': 1633, '특수': 1634, '달달': 1635, '감흥': 1636, '몸매': 1637, '19': 1638, '연예인': 1639, '우울하다': 1640, '나머지': 1641, '이연걸': 1642, '틱': 1643, '극치': 1644, '확': 1645, '나누다': 1646, '자식': 1647, '청소년': 1648, '멈추다': 1649, '열심히': 1650, '낳다': 1651, '데리': 1652, '백': 1653, '포인트': 1654, 'ㅋㅋㅋㅋㅋㅋ': 1655, '그다지': 1656, '꾸다': 1657, '내놓다': 1658, '커플': 1659, '찌다': 1660, '짜임새': 1661, '입다': 1662, '리즈': 1663, '악마': 1664, '톰': 1665, '인형': 1666, '반갑다': 1667, '기법': 1668, '고양이': 1669, '본적': 1670, '면서': 1671, '중독': 1672, '성격': 1673, '만화책': 1674, '흑인': 1675, '피다': 1676, '대중': 1677, '라이': 1678, '감정이입': 1679, '신다': 1680, '깨다': 1681, '추리': 1682, '홍콩': 1683, '15': 1684, '잠들다': 1685, '가수': 1686, '하나같이': 1687, '정체': 1688, '중학교': 1689, '자살': 1690, '이보': 1691, '들어서다': 1692, '교육': 1693, '뇌': 1694, '위로': 1695, '아무렇다': 1696, '분노': 1697, '어휴': 1698, '명성': 1699, '심오하다': 1700, '할머니': 1701, '병': 1702, '정우성': 1703, 'ㅋㅋㅋㅋㅋㅋㅋ': 1704, '겪다': 1705, '웬만하다': 1706, '전문가': 1707, '사진': 1708, '아예': 1709, '기대다': 1710, '쇼': 1711, '땅': 1712, '최': 1713, '절': 1714, '틈': 1715, '수많다': 1716, '꼬마': 1717, '쫌': 1718, '올해': 1719, '막히다': 1720, '아역': 1721, '와의': 1722, '통쾌하다': 1723, '정치': 1724, '초등학교': 1725, '기준': 1726, '어린시절': 1727, '전율': 1728, '결코': 1729, '사수': 1730, '질리': 1731, '감사': 1732, '정신병': 1733, '급하다': 1734, '채': 1735, '자르다': 1736, '아기': 1737, '쓰래': 1738, '글쎄': 1739, '5분': 1740, '신분': 1741, '중심': 1742, '쩝': 1743, '연결': 1744, '결정': 1745, '옷': 1746, '짝퉁': 1747, '배역': 1748, '보구': 1749, '젠장': 1750, '그야말로': 1751, '거나': 1752, '감히': 1753, '아아': 1754, '의하다': 1755, 'ㅉㅉㅉ': 1756, '머릿속': 1757, '구나': 1758, '썩다': 1759, '넘어서다': 1760, '분명하다': 1761, '여러가지': 1762, '틀리다': 1763, '달리다': 1764, '이래서': 1765, '방영': 1766, '운동': 1767, '신의': 1768, '탑': 1769, '왠지': 1770, '겨우': 1771, '이정': 1772, '아픔': 1773, '흑': 1774, '처': 1775, '싸이코': 1776, '사고': 1777, '반대': 1778, '조카': 1779, '놀다': 1780, '명대사': 1781, '크리스마스': 1782, '기회': 1783, '뭉클하다': 1784, '어우러지다': 1785, '앞뒤': 1786, '절대로': 1787, '오그라들다': 1788, '나은': 1789, '각색': 1790, '베스트': 1791, '라기': 1792, '기만': 1793, '선물': 1794, '13': 1795, '탓': 1796, '분량': 1797, '30': 1798, '그만큼': 1799, '이미지': 1800, '단체': 1801, '일본인': 1802, '꿈꾸다': 1803, '근래': 1804, '탄생': 1805, '빵점': 1806, '빛나다': 1807, '난리': 1808, '성의': 1809, '정작': 1810, '덜': 1811, '주변': 1812, '21': 1813, '째다': 1814, '테러': 1815, 'ㅋㅋㅋㅋㅋㅋㅋㅋ': 1816, '손발': 1817, '주기도': 1818, '무술': 1819, '베': 1820, '시점': 1821, '레전드': 1822, '짜지다': 1823, '웃': 1824, '만을': 1825, '카': 1826, '미모': 1827, '운명': 1828, '호러': 1829, '부럽다': 1830, '즈': 1831, '겨': 1832, '부모님': 1833, '비현실적': 1834, '적임': 1835, '따라가다': 1836, '꽝': 1837, '이래': 1838, '새벽': 1839, '드러나다': 1840, '시끄럽다': 1841, '통': 1842, '불가': 1843, '만들기': 1844, '가정': 1845, '불': 1846, '집착': 1847, '제외': 1848, '준비': 1849, '가리다': 1850, '볼거리': 1851, 'ㄷㄷㄷ': 1852, '언제나': 1853, '해결': 1854, '만큼은': 1855, '이만': 1856, '빵': 1857, '등등': 1858, '뜨겁다': 1859, '세번': 1860, 'good': 1861, '사투리': 1862, '벗어나다': 1863, '11': 1864, '째': 1865, '파': 1866, '가족영화': 1867, '마리': 1868, '선정': 1869, '따름': 1870, '옆': 1871, '여행': 1872, '한참': 1873, 'ㅇㅇ': 1874, 'ㅅ': 1875, '고증': 1876, '정의': 1877, '듣기': 1878, '후회되다': 1879, '세월': 1880, '발전': 1881, '보고오다': 1882, '신파': 1883, '이군': 1884, '시트콤': 1885, '붙이다': 1886, '야동': 1887, '껏': 1888, '떼다': 1889, '늘어지다': 1890, '관련': 1891, '이소룡': 1892, '빵빵': 1893, '센스': 1894, '넘기다': 1895, '코난': 1896, '형식': 1897, '피해자': 1898, '추하다': 1899, '밋밋하다': 1900, '냄새': 1901, '저러다': 1902, '색감': 1903, '밖': 1904, '폐지': 1905, '남성': 1906, '윌리스': 1907, '넘어가다': 1908, '조선': 1909, '내면': 1910, '전에': 1911, '웬': 1912, 'of': 1913, '국가': 1914, '헤어지다': 1915, '류승범': 1916, '플롯': 1917, '너무도': 1918, '키우다': 1919, '미가': 1920, '영향': 1921, '야구': 1922, '낮추다': 1923, '막장드라마': 1924, '로써': 1925, '느와르': 1926, '무료': 1927, '달라': 1928, '기독교': 1929, '줄다': 1930, '풍경': 1931, '만족': 1932, '절망': 1933, '은근': 1934, '편안하다': 1935, '클레멘타인': 1936, '거지같다': 1937, '대본': 1938, '때우다': 1939, '시기': 1940, '인들': 1941, '속이다': 1942, '민폐': 1943, '만족하다': 1944, '업다': 1945, '임팩트': 1946, '가깝다': 1947, '견자단': 1948, '물다': 1949, '저리': 1950, '케': 1951, '혐오': 1952, '이도': 1953, '부부': 1954, '여자친구': 1955, '앉다': 1956, '깜짝': 1957, '주말': 1958, '어디가': 1959, '로그인': 1960, '물이': 1961, '리지': 1962, '꽃': 1963, '외롭다': 1964, '무서움': 1965, '20분': 1966, '피해': 1967, '애초': 1968, '구만': 1969, '논리': 1970, '세련되다': 1971, '골': 1972, '어색': 1973, '부활': 1974, '난잡하다': 1975, '여러분': 1976, '동성애': 1977, '심다': 1978, '한개': 1979, '토': 1980, '목숨': 1981, '성은': 1982, '하품': 1983, '배트맨': 1984, '인류': 1985, '성공하다': 1986, '바르다': 1987, '잔뜩': 1988, '재능': 1989, '보이지': 1990, '만도': 1991, '세대': 1992, '색': 1993, '바탕': 1994, '켜다': 1995, '려고': 1996, '로코': 1997, '스트레스': 1998, '쥐': 1999, '참으로': 2000, '우주': 2001, '풍': 2002, '연속': 2003, '동시': 2004, '선생': 2005, '아래': 2006, '만약': 2007, '그립다': 2008, '개뿔': 2009, '좋아지다': 2010, '복선': 2011, '로버트': 2012, '찌질하다': 2013, '중년': 2014, '마루': 2015, '기발하다': 2016, '보신': 2017, '탈': 2018, '이병헌': 2019, '감안': 2020, '레이': 2021, '압권': 2022, '덕': 2023, 'i': 2024, 'ebs': 2025, '쯧쯧': 2026, '화질': 2027, '도에': 2028, '블랙': 2029, '최대': 2030, '이용': 2031, '하이': 2032, '에서만': 2033, '재밋다': 2034, '새삼': 2035, '받아들이다': 2036, '에피소드': 2037, '하늘': 2038, '하자': 2039, '연습': 2040, '도로': 2041, '상어': 2042, '공짜': 2043, '누르다': 2044, '군인': 2045, '끝내주다': 2046, 'ㅉ': 2047, '북한': 2048, '날리다': 2049, '짱구': 2050, 'ㅠㅠㅠㅠ': 2051, '케빈': 2052, '일부러': 2053, '빌다': 2054, '의외로': 2055, '어쩜': 2056, '낚시': 2057, '별하나': 2058, '여지': 2059, '대신': 2060, '러시아': 2061, '단어': 2062, '김': 2063, '감각': 2064, '의상': 2065, '넌': 2066, '안쓰럽다': 2067, '2014년': 2068, '목적': 2069, '말아먹다': 2070, '한정': 2071, '싫어지다': 2072, '갠': 2073, '혹은': 2074, '앤': 2075, '객관': 2076, '만은': 2077, '랑은': 2078, '대결': 2079, '평균': 2080, '작위': 2081, '욕망': 2082, '직접': 2083, '주성치': 2084, '남친': 2085, '발음': 2086, '차별': 2087, '찾기': 2088, '잔': 2089, '노인': 2090, '끊다': 2091, '시원하다': 2092, '갖추다': 2093, '흔': 2094, '고딩': 2095, '패러디': 2096, '억울하다': 2097, '짜릿하다': 2098, '소화': 2099, '미도': 2100, 'kbs': 2101, '쿡': 2102, '트': 2103, '진리': 2104, '광기': 2105, '교과서': 2106, '만남': 2107, '정이': 2108, '신나다': 2109, '응원': 2110, '열연': 2111, '밋': 2112, '쵝오': 2113, '칭찬': 2114, '직업': 2115, '예고': 2116, '잖다': 2117, '철': 2118, '짜내다': 2119, '보통': 2120, '부인': 2121, '베드': 2122, '끼': 2123, '모자라다': 2124, '현대': 2125, '소통': 2126, '에로영화': 2127, '잡히다': 2128, '둘째': 2129, '일반': 2130, '거치다': 2131, '틀어주다': 2132, '훨': 2133, '뭐임': 2134, '비호감': 2135, '배다': 2136, '두번째': 2137, '대사도': 2138, '주제가': 2139, '예측': 2140, '상대': 2141, '널': 2142, '효': 2143, '만드': 2144, '틀': 2145, '섹시하다': 2146, '논': 2147, '가득': 2148, '매번': 2149, '식이': 2150, '따로': 2151, '분장': 2152, '티나': 2153, '승리': 2154, '곡': 2155, '온갖': 2156, '추구': 2157, '무어': 2158, '걱정': 2159, '친': 2160, '아이디어': 2161, '시시하다': 2162, '케릭': 2163, '용다': 2164, '하얗다': 2165, '갓': 2166, '던데': 2167, '벌다': 2168, '범죄자': 2169, '만해': 2170, 'ㄱ': 2171, '기획': 2172, '악': 2173, '쉽다': 2174, '드물다': 2175, '화끈하다': 2176, '펴다': 2177, '터미네이터': 2178, '키스': 2179, '파괴': 2180, '신인': 2181, '컴퓨터': 2182, '새다': 2183, '화란': 2184, '울면': 2185, '종영': 2186, '워': 2187, '낼': 2188, '리가': 2189, '장소': 2190, '상징': 2191, '겨울': 2192, '마냥': 2193, '잠시': 2194, '데뷔': 2195, '조화': 2196, '다시금': 2197, '가히': 2198, '지리다': 2199, '힘내다': 2200, '타란티노': 2201, '류작': 2202, '지나가다': 2203, '호구': 2204, '너희': 2205, '우려': 2206, '도움': 2207, '정상': 2208, '가관': 2209, '부로': 2210, '본능': 2211, '높이다': 2212, '사기': 2213, '끼우다': 2214, '틴': 2215, '속지': 2216, '도전': 2217, '순위': 2218, '방해': 2219, '갑': 2220, '투': 2221, '알리다': 2222, '정확하다': 2223, '의사': 2224, '놀래다': 2225, '깍': 2226, '이여': 2227, '등록': 2228, '매미': 2229, '로맨틱코미디': 2230, '마약': 2231, '일으키다': 2232, '여태': 2233, '조절': 2234, '애가': 2235, '정부': 2236, '이구만': 2237, '그지같다': 2238, '국': 2239, '장가': 2240, '위트': 2241, '실패하다': 2242, '신경': 2243, '떨다': 2244, '담배': 2245, '부터가': 2246, '세계관': 2247, '여기다': 2248, '심형래': 2249, '공유': 2250, '정리': 2251, '판이': 2252, '손가락': 2253, '값': 2254, '의심스럽다': 2255, '소년': 2256, '평소': 2257, '아바타': 2258, '기존': 2259, '섞이다': 2260, '과도': 2261, '미스': 2262, '나타내다': 2263, '50': 2264, '최초': 2265, '영화계': 2266, '도중': 2267, '한숨': 2268, '삭제': 2269, '부실하다': 2270, '베다': 2271, '버튼': 2272, '의리': 2273, '버전': 2274, '한데': 2275, '드러내다': 2276, '무난': 2277, '만큼이나': 2278, '잃어버리다': 2279, '스파이더맨': 2280, '어떻': 2281, '최소한': 2282, '수록': 2283, '인터넷': 2284, '깡패': 2285, '천': 2286, '착각': 2287, '기괴하다': 2288, '쥐다': 2289, '흡입': 2290, '무기': 2291, '일품': 2292, '매다': 2293, '이기도': 2294, '요새': 2295, '질문': 2296, '맥': 2297, '세트': 2298, '오래전': 2299, '링': 2300, '우드': 2301, '자세하다': 2302, '사상': 2303, '많아지다': 2304, '낮': 2305, '짜이다': 2306, '부산': 2307, '장국영': 2308, '업': 2309, '디워': 2310, '레옹': 2311, '람보': 2312, '어쨌든': 2313, '유럽': 2314, '반드시': 2315, '또다른': 2316, '개막': 2317, '담담하다': 2318, '조니뎁': 2319, '잭': 2320, '메이드': 2321, '숨기다': 2322, '울컥': 2323, '아무튼': 2324, '안해': 2325, '위험하다': 2326, '똑같이': 2327, '년전': 2328, '거임': 2329, '딴': 2330, '떡': 2331, '고등학생': 2332, '본질': 2333, '잔혹하다': 2334, '블록버스터': 2335, '께서': 2336, '말씀': 2337, '전투': 2338, '재난': 2339, '금보': 2340, '애로': 2341, '연극': 2342, '깨끗하다': 2343, '왕조현': 2344, '엄정화': 2345, '최강': 2346, '전하': 2347, '루즈': 2348, '춤추다': 2349, '비중': 2350, '픽사': 2351, '말투': 2352, 'ㅄ': 2353, '심사': 2354, '뺨': 2355, '없어지다': 2356, '공룡': 2357, '발랄하다': 2358, '도르다': 2359, '절제': 2360, '출신': 2361, '씹다': 2362, '떠들다': 2363, '민족': 2364, '슈퍼': 2365, '최소': 2366, '상실': 2367, 'ㅋㅋㅋㅋㅋㅋㅋㅋㅋ': 2368, '쏘우': 2369, '흔들다': 2370, '포르노': 2371, '신비': 2372, '붙다': 2373, '묵직하다': 2374, '실': 2375, '탈출': 2376, '발상': 2377, '2000년': 2378, '이상은': 2379, '그동안': 2380, '셋': 2381, '드림웍스': 2382, '학살': 2383, '들리다': 2384, 'ㅁ': 2385, '의외': 2386, '내보내다': 2387, '살인마': 2388, '지경': 2389, '루': 2390, '중딩': 2391, '쓸데없다': 2392, 'you': 2393, '요리': 2394, '옳다': 2395, '리얼리티': 2396, '홍상수': 2397, '배경음악': 2398, '위기': 2399, '빵터지다': 2400, '아누': 2401, '이전': 2402, '왕자': 2403, '해리포터': 2404, '비행기': 2405, '가능성': 2406, '상관없다': 2407, '신고': 2408, '스런': 2409, '밝히다': 2410, '용기': 2411, '절정': 2412, '디': 2413, '추': 2414, '매일': 2415, '곧': 2416, '디카프리오': 2417, '시골': 2418, '애틋하다': 2419, '어둡다': 2420, '탁월하다': 2421, '상큼': 2422, '강동원': 2423, '이구': 2424, '환경': 2425, '고프다': 2426, '손색': 2427, '천사': 2428, '벅차다': 2429, '깨알': 2430, '압도': 2431, '마음속': 2432, '색채': 2433, '다치다': 2434, '70년': 2435, '덩어리': 2436, '쩌': 2437, '에다': 2438, '서양': 2439, '안습': 2440, '무너지다': 2441, '끊기다': 2442, '쓴다': 2443, '원조': 2444, '기세': 2445, '공포물': 2446, '섭외': 2447, '년도': 2448, '익숙하다': 2449, '다리': 2450, '김구라': 2451, '삐': 2452, '연상': 2453, '컷': 2454, '쓸데없이': 2455, '절로': 2456, '설': 2457, '옴': 2458, '폴': 2459, '캐릭': 2460, '샘': 2461, '았': 2462, '잡': 2463, '쓰이다': 2464, '부족함': 2465, '와도': 2466, '리도': 2467, '중국영화': 2468, '주지': 2469, '윤아': 2470, 'cgv': 2471, '인게': 2472, '아치': 2473, '박히다': 2474, '죽지': 2475, '아마추어': 2476, '단편': 2477, '비참하다': 2478, '딸리다': 2479, '진작': 2480, '화장실': 2481, '두운': 2482, '전문': 2483, '의심': 2484, '우와': 2485, '언어': 2486, '신화': 2487, '셈': 2488, '한가지': 2489, '내생': 2490, '건데': 2491, '설마': 2492, '이웃': 2493, '놀이': 2494, '갈리다': 2495, '딱이다': 2496, '풍자': 2497, '아오이': 2498, '명의': 2499, '극단': 2500, '무리': 2501, 'av': 2502, '매니아': 2503, '케이': 2504, '재현': 2505, '오로지': 2506, '할아버지': 2507, '수입': 2508, 'ㅠㅜ': 2509, '무게': 2510, '토나오다': 2511, '주인': 2512, '거부': 2513, '민주화': 2514, 'mbc': 2515, '숨': 2516, '영국': 2517, '매끄럽다': 2518, '밝혀지다': 2519, '찬양': 2520, '달콤하다': 2521, '고스': 2522, '파격': 2523, '들어주다': 2524, '한지': 2525, '점줌': 2526, '호불호': 2527, '미스캐스팅': 2528, '살인자': 2529, '어쩌면': 2530, '무대': 2531, '박진': 2532, '사운드': 2533, '장이': 2534, '한국판': 2535, '극적': 2536, '인셉션': 2537, '평화': 2538, '미스터리': 2539, '빈': 2540, '가르치다': 2541, '론': 2542, '40': 2543, '오프닝': 2544, '아끼다': 2545, '스펙': 2546, '커서': 2547, '박현지': 2548, '동양': 2549, '전성기': 2550, '무한': 2551, '휴가': 2552, '뱀파이어': 2553, '명화': 2554, '길이': 2555, '향수': 2556, '자랑': 2557, '애절하다': 2558, '습': 2559, '내일': 2560, '장애인': 2561, '졸': 2562, '울림': 2563, '망가지다': 2564, '반응': 2565, '일지': 2566, '존스': 2567, '된거': 2568, '주가': 2569, '저지르다': 2570, '에일리언': 2571, '어쩌': 2572, '지내다': 2573, '뜬금없이': 2574, '특': 2575, '유의': 2576, '전화': 2577, '14': 2578, '구경': 2579, '기록': 2580, '박': 2581, '와이프': 2582, '컨셉': 2583, '잘나다': 2584, '남자배우': 2585, '엑스트라': 2586, '션': 2587, '부정': 2588, '반도': 2589, '안감': 2590, '헉': 2591, '성찰': 2592, '차원': 2593, '농담': 2594, '욕먹다': 2595, '집어넣다': 2596, '그려지다': 2597, '따분하다': 2598, '할배': 2599, '불가능하다': 2600, '차리다': 2601, '끔찍하다': 2602, '부턴': 2603, '필': 2604, '합치다': 2605, '김혜수': 2606, '어떠하다': 2607, '지저분하다': 2608, '투자자': 2609, '교회': 2610, '비명': 2611, '난후': 2612, '뒤죽박죽': 2613, '상이': 2614, '다섯': 2615, '뚜렷하다': 2616, '도무지': 2617, '개콘': 2618, '뺏다': 2619, '허준': 2620, '행': 2621, '고인': 2622, '든지': 2623, '껄': 2624, '파다': 2625, '침': 2626, '나루토': 2627, '솔': 2628, '별루': 2629, '시스': 2630, '디자인': 2631, '알아보다': 2632, '호감': 2633, '리암': 2634, '덴젤': 2635, '뒤늦다': 2636, '헛웃음': 2637, '슈퍼맨': 2638, '지옥': 2639, '더니': 2640, '부터는': 2641, '난무': 2642, '90분': 2643, '대비': 2644, '여친': 2645, '폭발': 2646, '어째서': 2647, '워낙': 2648, '에이': 2649, '해봤다': 2650, '침묵': 2651, '전투씬': 2652, '서도': 2653, '하지원': 2654, '푸다': 2655, '스텝': 2656, 'o': 2657, '모독': 2658, '계시다': 2659, '축구': 2660, '자고': 2661, '황당': 2662, '혁명': 2663, '구입': 2664, '최후': 2665, '실수': 2666, '하고프다': 2667, '할리우드': 2668, '장편': 2669, '주윤발': 2670, '대놓고': 2671, '메이': 2672, '작화': 2673, '부탁': 2674, '모이다': 2675, '가하다': 2676, '행크스': 2677, '사망': 2678, '자랑스럽다': 2679, '장점': 2680, '만화영화': 2681, '나레이션': 2682, '무간도': 2683, '단점': 2684, '영화감독': 2685, '떠올리다': 2686, '부작': 2687, '오브': 2688, '부다': 2689, '대에': 2690, '유루유리': 2691, '데이': 2692, '녀석': 2693, '이형': 2694, '중학생': 2695, '성공': 2696, '떡밥': 2697, '영화제': 2698, '게스트': 2699, '꼽': 2700, '제니퍼': 2701, '스타워즈': 2702, '화의': 2703, '마을': 2704, '번은': 2705, '진하다': 2706, '석': 2707, '동심': 2708, '설경구': 2709, '네티즌': 2710, '얼다': 2711, '연주': 2712, '매주': 2713, '달라지다': 2714, '벌어지다': 2715, '단연': 2716, '임창정': 2717, '언젠가': 2718, '이별': 2719, '웰': 2720, '무재': 2721, '흠잡다': 2722, 'best': 2723, '엉뚱하다': 2724, '누군지': 2725, '시장': 2726, '추가': 2727, '첨부': 2728, '짐승': 2729, '살이': 2730, '어차피': 2731, '증명': 2732, '실험': 2733, '아동': 2734, '짜리': 2735, '비쥬': 2736, '커녕': 2737, '이구나': 2738, '애매하다': 2739, '빠순이': 2740, '팔이': 2741, '뒤통수': 2742, '강요': 2743, '유덕화': 2744, 'bgm': 2745, '덮다': 2746, '재난영화': 2747, '금지': 2748, 'pd': 2749, '캐': 2750, '역량': 2751, '인식': 2752, '멜로영화': 2753, '다해': 2754, '정선': 2755, '홍콩영화': 2756, '에가': 2757, '거듭': 2758, '60년': 2759, '도데': 2760, '보임': 2761, '놀란': 2762, '나빠지다': 2763, '권력': 2764, '인종차별': 2765, '도망가다': 2766, '처참하다': 2767, '시종일관': 2768, '빨갱이': 2769, '박다': 2770, '충실하다': 2771, '아기자기하다': 2772, '잡고': 2773, '화판': 2774, '못자다': 2775, '유지': 2776, '처절하다': 2777, '벌리다': 2778, '수없이': 2779, '돌': 2780, '뮤직비디오': 2781, '자동차': 2782, '에다가': 2783, '김태희': 2784, '왜곡': 2785, '풀리다': 2786, '일리': 2787, '도통': 2788, '성경': 2789, '로빈': 2790, '연관': 2791, '아무나': 2792, '뎅': 2793, '곱다': 2794, '타령': 2795, '볼걸': 2796, '암울하다': 2797, '그만하다': 2798, '도둑': 2799, '유치원': 2800, '밝다': 2801, '부자': 2802, '겉멋': 2803, 'ㄴ': 2804, '고뇌': 2805, '자본': 2806, '빈약하다': 2807, '동영상': 2808, '잔인함': 2809, '성적': 2810, '테': 2811, '여름': 2812, '멘탈': 2813, '여자애': 2814, '섬뜩하다': 2815, '잠자다': 2816, '로다': 2817, '샤론스톤': 2818, '30년': 2819, '대학': 2820, '선사': 2821, '이해도': 2822, '호흡': 2823, '졸음': 2824, '킬러': 2825, '난이': 2826, '우뢰매': 2827, '토록': 2828, 'ㅈ': 2829, '늘리다': 2830, '범': 2831, '왤케': 2832, '밀려오다': 2833, '청년': 2834, '땀': 2835, '과잉': 2836, '킹': 2837, '도시': 2838, '일주일': 2839, '다크나이트': 2840, '곰': 2841, '언론': 2842, '덤': 2843, '특이하다': 2844, '박찬욱': 2845, '폰': 2846, '닉': 2847, '차갑다': 2848, '타이틀': 2849, '화중': 2850, '오해': 2851, '전쟁영화': 2852, '서부': 2853, '흔들리다': 2854, '불과하다': 2855, '볼라': 2856, '군더더기': 2857, '감옥': 2858, '이스트': 2859, '아우': 2860, '음식': 2861, '가나': 2862, '리브': 2863, '부리다': 2864, '공허하다': 2865, '외국인': 2866, '레': 2867, '비록': 2868, '인연': 2869, '공주': 2870, '무식하다': 2871, '잘나가다': 2872, '드립': 2873, '졸업': 2874, '체적': 2875, '기타': 2876, '대형': 2877, '스포': 2878, '텐데': 2879, '주위': 2880, '신도': 2881, '커지다': 2882, 'is': 2883, '우연': 2884, '트리': 2885, '섬': 2886, '마블': 2887, '충만': 2888, '튀다': 2889, '극복': 2890, '후속작': 2891, '이정재': 2892, '치고는': 2893, '미학': 2894, '녹다': 2895, '까맣다': 2896, '집단': 2897, '긍정': 2898, '애인': 2899, '지식': 2900, '에드워드': 2901, 'ㅋㅋㅋㅋㅋㅋㅋㅋㅋㅋㅋㅋㅋ': 2902, '노예': 2903, '도하': 2904, '호소': 2905, '즐거움': 2906, '반영': 2907, '한동안': 2908, '가까이': 2909, '드네': 2910, '강력': 2911, '민': 2912, '저녁': 2913, '다니엘': 2914, '조직': 2915, '치유': 2916, '에게도': 2917, '미묘하다': 2918, '간의': 2919, 'ㅈㄴ': 2920, '후속': 2921, '치료': 2922, '마누라': 2923, '소품': 2924, '알려지다': 2925, '나아지다': 2926, '클리셰': 2927, '사이코': 2928, '패스': 2929, '던': 2930, '낭만': 2931, '펼쳐지다': 2932, '시체': 2933, '프레디': 2934, '강시': 2935, '빨갛다': 2936, '늑대인간': 2937, '똑바로': 2938, '허무맹랑': 2939, '어수선하다': 2940, '땜시': 2941, '태': 2942, '신기': 2943, '학창시절': 2944, '밟다': 2945, '찍': 2946, '부자연스럽다': 2947, '꼽히다': 2948, '쌍': 2949, '집다': 2950, '쫓다': 2951, '혹': 2952, '남자라면': 2953, '철저하다': 2954, '출현': 2955, '참나': 2956, '먼지': 2957, '버티다': 2958, '유아': 2959, '향기': 2960, '초월': 2961, '관대하다': 2962, '피디': 2963, '대학생': 2964, '이성재': 2965, '선수': 2966, '대상': 2967, '살기': 2968, '권상우': 2969, '다세포': 2970, '모양': 2971, '미술': 2972, '운전': 2973, '구리다': 2974, '간단하다': 2975, '노골': 2976, '경우': 2977, '쏟아지다': 2978, '명확하다': 2979, '애국심': 2980, '가르다': 2981, '거품': 2982, '유행': 2983, '가문': 2984, '짬뽕': 2985, '돼지': 2986, '회사': 2987, '잉': 2988, '15년': 2989, 'ocn': 2990, '스티븐': 2991, '영광': 2992, '떨어뜨리다': 2993, '집안': 2994, '지나': 2995, '심정': 2996, '어지간하다': 2997, '시사': 2998, '그나저나': 2999, '흑백': 3000, '데이빗': 3001, '모험': 3002, '밀다': 3003, '서극': 3004, '워싱턴': 3005, '오직': 3006, '타인': 3007, '어지럽다': 3008, '디테': 3009, '어쩐지': 3010, '버스': 3011, '흉내': 3012, '적어도': 3013, '대감': 3014, '하여간': 3015, '토니': 3016, '로움': 3017, '페이크': 3018, '주상욱': 3019, '음향': 3020, '강제': 3021, '따지다': 3022, '납치': 3023, '어딘가': 3024, '별거': 3025, '겨울왕국': 3026, '성과': 3027, '몽환': 3028, '우린': 3029, '무적': 3030, '신세경': 3031, '준영': 3032, '나로': 3033, '겁': 3034, '겹': 3035, '권하다': 3036, '노동자': 3037, '따라오다': 3038, '변호사': 3039, '낚였다': 3040, '명장': 3041, '천국': 3042, '장애': 3043, '수다': 3044, 'no': 3045, '여유': 3046, '실소': 3047, '오글오글': 3048, '누': 3049, '곳곳': 3050, '마찬가지': 3051, '떨리다': 3052, '영구': 3053, '버': 3054, '부디': 3055, '소개': 3056, '성형': 3057, '처리': 3058, '적나라하다': 3059, '두려움': 3060, '태우다': 3061, '1회': 3062, '차승원': 3063, '어서': 3064, '면도': 3065, '문득': 3066, '임신': 3067, '종': 3068, '시민': 3069, '품': 3070, '재방': 3071, '폼': 3072, 'sbs': 3073, '초기': 3074, '그로': 3075, '가기': 3076, '두렵다': 3077, '전지현': 3078, '기사': 3079, '북': 3080, '하디': 3081, '카피': 3082, '광주': 3083, '재희': 3084, '막다': 3085, '고찰': 3086, '각각': 3087, '대부': 3088, '단순': 3089, '가야': 3090, '이드': 3091, '특집': 3092, '다그': 3093, '베일': 3094, '다이하드': 3095, '죄송하다': 3096, '라이언': 3097, '오로라': 3098, '아놀드': 3099, '홍금보': 3100, '겉': 3101, '이민정': 3102, '피아노': 3103, '기쁘다': 3104, 'ㅎㄷㄷ': 3105, '끝내': 3106, '김희선': 3107, '미야자키': 3108, '오는': 3109, '포스': 3110, '하고는': 3111, '꼬이다': 3112, '묻히다': 3113, '우리네': 3114, '와중': 3115, '호': 3116, '하정우': 3117, '살때': 3118, '월드': 3119, '또는': 3120, '여인': 3121, '서울': 3122, '바닥': 3123, '도입': 3124, '하라': 3125, '커피': 3126, '끼치다': 3127, '펼치다': 3128, '조지': 3129, '로운': 3130, '실상': 3131, '나와라': 3132, '쭉': 3133, '커버': 3134, '염': 3135, '부영': 3136, '채플린': 3137, '머피': 3138, '오싹하다': 3139, '지치다': 3140, '85': 3141, '런닝맨': 3142, '모성애': 3143, '능가': 3144, '예수님': 3145, '톰크루즈': 3146, '공연': 3147, '저희': 3148, '꺼내다': 3149, '덜하다': 3150, '와우': 3151, '케미': 3152, '클래식': 3153, '찾아오다': 3154, '블랙코미디': 3155, '가슴속': 3156, '토요명화': 3157, '완벽': 3158, '만족스럽다': 3159, '여정': 3160, '명불허전': 3161, '스키': 3162, '역작': 3163, '호기심': 3164, '중국인': 3165, '사기꾼': 3166, '걸이': 3167, 'ㅂㅅ': 3168, '쏙': 3169, '쯧': 3170, '어처구니': 3171, '레드': 3172, '미리': 3173, '찌르다': 3174, '건아': 3175, '스포츠': 3176, '사이트': 3177, '고작': 3178, '팝콘': 3179, '단막극': 3180, '쌓이다': 3181, '중견': 3182, '뭣': 3183, '수위': 3184, '깨달음': 3185, '625': 3186, '자세': 3187, '고어': 3188, '출발': 3189, '먹히다': 3190, '워커': 3191, '도와주다': 3192, '적극': 3193, '습작': 3194, '1분': 3195, '모티브': 3196, '변신': 3197, '싱겁다': 3198, '눈치': 3199, '진창': 3200, '헌터': 3201, '인권': 3202, '전락': 3203, 'vs': 3204, '외로움': 3205, '꼬': 3206, '호텔': 3207, '멀리': 3208, '김민종': 3209, '박중훈': 3210, '글자': 3211, '환타지': 3212, '제임스': 3213, '닷': 3214, '관리': 3215, '재주': 3216, '기승': 3217, '탈락': 3218, '오리': 3219, '열리다': 3220, '밧다': 3221, '다른사람': 3222, '피곤하다': 3223, '재앙': 3224, '구원': 3225, '졸리': 3226, '납득': 3227, '뒤지다': 3228, '바치다': 3229, '닥': 3230, '독': 3231, '품다': 3232, 'ㅋㅋㅋㅋㅋㅋㅋㅋㅋㅋ': 3233, '허탈하다': 3234, '독일': 3235, '담백하다': 3236, '울음': 3237, '이따': 3238, '각자': 3239, '귀찮다': 3240, '브로디': 3241, '예술가': 3242, '파고들다': 3243, '그치다': 3244, '짓거리': 3245, '유우': 3246, '드디어': 3247, '친절하다': 3248, '이안': 3249, '아만다': 3250, '구지': 3251, '사소하다': 3252, '감기': 3253, '여동생': 3254, '원숭이': 3255, '풀': 3256, '신부': 3257, '종합': 3258, '혼란': 3259, '애정': 3260, '영화음악': 3261, '3년': 3262, '애니매이션': 3263, '벌': 3264, '첨으로': 3265, '조정': 3266, '슴': 3267, '날아가다': 3268, '카드': 3269, '끓다': 3270, '배급사': 3271, '물어보다': 3272, '로고': 3273, '한순간': 3274, '니콜라스': 3275, '답지': 3276, '모순': 3277, '망치': 3278, '존중': 3279, '자신감': 3280, '접근': 3281, '공개': 3282, '원제': 3283, '싸이코패스': 3284, '올라오다': 3285, '이민기': 3286, '개그맨': 3287, '만세': 3288, '잘알다': 3289, '스파이': 3290, '2013년': 3291, '정보': 3292, '지인': 3293, 'ㅋㅋㅋㅋㅋㅋㅋㅋㅋㅋㅋㅋ': 3294, '광': 3295, '허허': 3296, '랩': 3297, '강호동': 3298, 'mc': 3299, '하드': 3300, '장치': 3301, '슈렉': 3302, '사르다': 3303, '이라곤': 3304, '만인': 3305, '부탁드리다': 3306, '킬링': 3307, '손꼽다': 3308, '일부': 3309, '리기': 3310, '번역': 3311, '뻥': 3312, '드니': 3313, '맡기다': 3314, '뽕짝': 3315, '으리': 3316, '파리': 3317, '일반인': 3318, '마이크': 3319, '독창': 3320, '자료': 3321, '해안가': 3322, '15분': 3323, '깜놀': 3324, '모욕': 3325, '스탈': 3326, '만날': 3327, '쎄다': 3328, '치닫다': 3329, '스콧': 3330, '검사': 3331, '케이트': 3332, '우선': 3333, '인지도': 3334, '이완': 3335, '이나영': 3336, '김수현': 3337, '녹화': 3338, '인도': 3339, '2년': 3340, '자하': 3341, '향연': 3342, '동네': 3343, '흑역사': 3344, '목사': 3345, '로드': 3346, '환자': 3347, '독립': 3348, '필수': 3349, '80': 3350, '오페라': 3351, '가식': 3352, '질리다': 3353, '과학': 3354, '엑스맨': 3355, '원표': 3356, '진수': 3357, '본성': 3358, '100분': 3359, '비유': 3360, '단역': 3361, '하니': 3362, 'ㅜㅠ': 3363, '더욱더': 3364, '강아지': 3365, '증거': 3366, '3시간': 3367, '정석': 3368, '천녀유혼': 3369, '화하다': 3370, '경의': 3371, '지역': 3372, '강지환': 3373, '회상': 3374, '올려주다': 3375, '전도연': 3376, '가능': 3377, '차태현': 3378, '띄다': 3379, '고독': 3380, '치면': 3381, '칠하다': 3382, '지존': 3383, '비롯': 3384, '층': 3385, '종일': 3386, '가게': 3387, '멤버': 3388, '브래드피트': 3389, '엠마': 3390, '검다': 3391, '엔딩크레딧': 3392, '몫': 3393, '감독판': 3394, '제이슨': 3395, '공중파': 3396, '인걸': 3397, '찬사': 3398, '노튼': 3399, '한없이': 3400, '알파': 3401, '치노': 3402, '명복': 3403, '홀로': 3404, '계기': 3405, '매트릭스': 3406, '수십': 3407, '일대기': 3408, '운': 3409, '설레임': 3410, '쓸쓸하다': 3411, '쿨하다': 3412, '최고봉': 3413, '디테일': 3414, '에드': 3415, '에서야': 3416, '마르': 3417, '주행': 3418, '차분하다': 3419, '온몸': 3420, '되돌아보다': 3421, '베리': 3422, '유쾌': 3423, '곱씹다': 3424, '선율': 3425, '삶다': 3426, '새록새록': 3427, '굿굿': 3428, '주옥': 3429, '멘붕': 3430, '엽기': 3431, '살해': 3432, '수정': 3433, '우울증': 3434, '자아': 3435, '지성': 3436, '빼': 3437, '유산': 3438, '어느새다': 3439, '모호하다': 3440, '이라고는': 3441, '입맛': 3442, '슌': 3443, '위주': 3444, '압': 3445, '육체': 3446, 'to': 3447, '볼일': 3448, '뉴스': 3449, '걷다': 3450, '자빠지다': 3451, '40분': 3452, '물체': 3453, '전사': 3454, '작렬': 3455, '끝판': 3456, '서양인': 3457, '및': 3458, '신데렐라': 3459, '감추다': 3460, '별다르다': 3461, '거야': 3462, '갑갑하다': 3463, '고자': 3464, '사귀다': 3465, '끊임없다': 3466, '치기': 3467, '김강우': 3468, '김아중': 3469, 'ㅂ': 3470, '늑대': 3471, '자라다': 3472, '주장': 3473, '정점': 3474, '재밋는': 3475, '최하': 3476, '채다': 3477, '7년': 3478, '가을': 3479, '여신': 3480, '미이라': 3481, '화만': 3482, '대고': 3483, '폭': 3484, '유작': 3485, '구석': 3486, '뎀': 3487, '주목': 3488, '울버린': 3489, '자격': 3490, '타짜': 3491, '양반': 3492, '코스트': 3493, '내기': 3494, '구려': 3495, '합': 3496, '찬': 3497, '분류': 3498, '암살': 3499, '후보': 3500, '투표': 3501, '로랑': 3502, '황정민': 3503, '아이러니': 3504, '정치인': 3505, '무심하다': 3506, '첩보': 3507, '멋대로': 3508, '비싸다': 3509, '직': 3510, '노리다': 3511, 'in': 3512, '침대': 3513, '미국인': 3514, '대략': 3515, '재밋음': 3516, '만화가': 3517, '1등': 3518, '까지만': 3519, '타잔': 3520, '생일': 3521, '에야': 3522, '34': 3523, '덜다': 3524, '인종': 3525, '제국주의': 3526, '카타르': 3527, '78': 3528, '뽕': 3529, '가짜': 3530, '어정쩡하다': 3531, '불만': 3532, '주체': 3533, '고해': 3534, '일도': 3535, '나위': 3536, '데드': 3537, '풍기다': 3538, '송혜교': 3539, '뭥미': 3540, '승부': 3541, '무리다': 3542, '예매': 3543, '444': 3544, '과대': 3545, '극본': 3546, '불쌍': 3547, '성폭행': 3548, '추악하다': 3549, '절반': 3550, '견디다': 3551, '위원': 3552, '가해자': 3553, '거장': 3554, '서우': 3555, '전라도': 3556, '빈틈': 3557, '상식': 3558, '유익하다': 3559, '키드': 3560, '파악': 3561, '재방송': 3562, '송승헌': 3563, '아카데미': 3564, '김고은': 3565, '부담': 3566, '짤': 3567, '완젼': 3568, '미흡하다': 3569, '2010년': 3570, '액션씬': 3571, '괜': 3572, '줄이다': 3573, '대립': 3574, '맞먹다': 3575, '린다': 3576, '임청하': 3577, '아시아': 3578, '저절로': 3579, '구분': 3580, '닥치고': 3581, '호화': 3582, '에게서': 3583, '열다': 3584, '산드라': 3585, '징그럽다': 3586, '부재': 3587, '지배': 3588, '오토바이': 3589, '추격': 3590, '줄리': 3591, '주문': 3592, '상의': 3593, '내공': 3594, '미션': 3595, '김창완': 3596, '기묘하다': 3597, '짙다': 3598, '재기': 3599, '다문화': 3600, '당황': 3601, '팬심': 3602, '방황': 3603, '유혹': 3604, '뿌리': 3605, '무도': 3606, '참여': 3607, '불친절하다': 3608, '가운데': 3609, '싸하다': 3610, '교양': 3611, '쓰기': 3612, '생기': 3613, '생략': 3614, '경악': 3615, '박해일': 3616, '유오성': 3617, 'my': 3618, '에러': 3619, '픽션': 3620, '대하': 3621, '사의': 3622, '구도': 3623, '자가': 3624, '혹평': 3625, '마디': 3626, '내려가다': 3627, '사과': 3628, '끝장': 3629, '해피': 3630, '스텝업': 3631, '라고는': 3632, '무색': 3633, '지독하다': 3634, '임수정': 3635, '전의': 3636, '클린트': 3637, '2012년': 3638, '언급': 3639, '미니': 3640, '어려움': 3641, '포': 3642, '끈': 3643, '주어지다': 3644, '학': 3645, '찾아가다': 3646, '리들리': 3647, '선전': 3648, '군데': 3649, '퍼': 3650, '디젤': 3651, '프로젝트': 3652, '아프리카': 3653, '콜린': 3654, '최저': 3655, '턱': 3656, '격전': 3657, '후기': 3658, '망설이다': 3659, '3일': 3660, '마크': 3661, '장만옥': 3662, '어딜': 3663, '호평': 3664, '믿음': 3665, '전적': 3666, '빚': 3667, '소지섭': 3668, '콤비': 3669, '마이': 3670, 'it': 3671, '비난': 3672, '직전': 3673, '일생': 3674, 'bb': 3675, '징': 3676, '해오다': 3677, '유령': 3678, '송강호': 3679, '영웅본색': 3680, '섞다': 3681, '가안': 3682, '하아': 3683, '괴작': 3684, '려': 3685, '강력하다': 3686, '주요': 3687, '토마스': 3688, '기전': 3689, '장근석': 3690, '컬트': 3691, '코메디': 3692, '폭풍': 3693, '구혜선': 3694, '진실되다': 3695, '이나마': 3696, '따라서': 3697, '진화': 3698, '남고': 3699, '허무': 3700, '옹박': 3701, '색깔': 3702, '떄': 3703, '치가': 3704, '지대': 3705, '클루니': 3706, '5년': 3707, '나니': 3708, '지지': 3709, '사람과': 3710, '마저도': 3711, '섹시': 3712, '움직임': 3713, '헷갈리다': 3714, '신비롭다': 3715, '숨막히다': 3716, '통수': 3717, '약자': 3718, '사무라이': 3719, '몇개': 3720, '자유롭다': 3721, '꾸미다': 3722, '사라': 3723, '쪽팔리다': 3724, '불리다': 3725, '다음주': 3726, '선하다': 3727, '스필버그': 3728, '촌': 3729, '정통': 3730, '팍팍': 3731, '드라마틱하다': 3732, '재미나': 3733, '격': 3734, '다녀오다': 3735, '현대인': 3736, '그렇지만': 3737, '듭니': 3738, '불러일으키다': 3739, '따오다': 3740, '기독교인': 3741, '된장녀': 3742, '지고': 3743, '퀄': 3744, '신념': 3745, '위선': 3746, '그러하다': 3747, '레오': 3748, '절절': 3749, '탕웨이': 3750, '전해지다': 3751, '배꼽': 3752, '묘미': 3753, '최민식': 3754, '훈남': 3755, '통쾌': 3756, '꿀': 3757, '애잔하다': 3758, '화이': 3759, '콧물': 3760, '블록': 3761, '박신혜': 3762, '안성기': 3763, '홧팅': 3764, '공존': 3765, '치열하다': 3766, '25년': 3767, '일드': 3768, '국제': 3769, '태도': 3770, '서프라이즈': 3771, '사랑과전쟁': 3772, '저기': 3773, '해학': 3774, '남발': 3775, '러브스토리': 3776, '시험': 3777, '어쩌다': 3778, '발암': 3779, '펭귄': 3780, '폐': 3781, '역사왜곡': 3782, '휴먼': 3783, '미남': 3784, '없애다': 3785, '나머진': 3786, '그러면': 3787, '나대다': 3788, '전세계': 3789, '국어': 3790, '한쪽': 3791, '알바생': 3792, '빠르기': 3793, '기네': 3794, '도망': 3795, '깨지다': 3796, '함부로': 3797, '그딴': 3798, '쓰나미': 3799, '유역비': 3800, '높이': 3801, '플레이': 3802, '징기스칸': 3803, '구르다': 3804, '김규리': 3805, '앵글': 3806, '도현': 3807, '톤': 3808, '안기다': 3809, '타고': 3810, '외다': 3811, '잡지': 3812, '포함': 3813, '세우다': 3814, '지망': 3815, '안주': 3816, '23': 3817, '재회': 3818, '제시카': 3819, '덜덜': 3820, '그럴듯하다': 3821, '맥그리거': 3822, '관계자': 3823, '눈요기': 3824, '외우다': 3825, '젖다': 3826, '모로': 3827, '막스': 3828, '아시': 3829, 'ㅎㅎㅎㅎ': 3830, '이범수': 3831, '조재현': 3832, '역사상': 3833, '사용': 3834, '노무현': 3835, '쌍둥이': 3836, '까메오': 3837, '화일': 3838, '보스': 3839, '혀': 3840, '디지다': 3841, '고급': 3842, '허영': 3843, '파멸': 3844, '고개': 3845, '두뇌': 3846, '공원': 3847, '찬란': 3848, '꼴리다': 3849, '엉터리': 3850, '저만': 3851, '충족': 3852, '안티': 3853, '전현무': 3854, '와이': 3855, '유행어': 3856, '생명': 3857, '이리저리': 3858, '맥스': 3859, 'ㅋㅋㅋㅋㅋㅋㅋㅋㅋㅋㅋㅋㅋㅋ': 3860, '차지': 3861, '뱉다': 3862, '16': 3863, '계시': 3864, '페이지': 3865, '구로': 3866, '천장': 3867, '저렇다': 3868, '어마어마하다': 3869, '사정': 3870, '쟤': 3871, '불우': 3872, '인척': 3873, '먹기': 3874, '능': 3875, '월': 3876, '휘': 3877, '지극히': 3878, '맨오브스틸': 3879, '2006년': 3880, '유튜브': 3881, '물씬': 3882, '핵심': 3883, '당장': 3884, '123': 3885, '벗기다': 3886, '라스트': 3887, '쓰러지다': 3888, '홍': 3889, '악플': 3890, '친일파': 3891, '활용': 3892, '불면증': 3893, '악평': 3894, '압박': 3895, '헌신': 3896, '인사': 3897, '모델': 3898, '털리다': 3899, '결과물': 3900, '꽥꽥': 3901, '슈퍼스타': 3902, '축': 3903, '불필요하다': 3904, '그대': 3905, '금방': 3906, '부의': 3907, '대역': 3908, '싹': 3909, '원인': 3910, '저건': 3911, '용두사미': 3912, '한예슬': 3913, '하나님': 3914, '이겠다': 3915, '아이엠샘': 3916, '미스테리': 3917, '박평': 3918, '부조리': 3919, '파워': 3920, '마당': 3921, '개방': 3922, '족': 3923, '쿵푸': 3924, '저주': 3925, '영활': 3926, '나발': 3927, '난방': 3928, '피식': 3929, '시킴': 3930, '자본주의': 3931, '장황하다': 3932, '낯': 3933, '여우': 3934, '충': 3935, '나이트': 3936, '롱': 3937, '니콜': 3938, '퍼즐': 3939, '미만': 3940, '아일랜드': 3941, '등급': 3942, '티아라': 3943, '시위': 3944, '뿌리다': 3945, '렉': 3946, '부대': 3947, '진짜진짜': 3948, '잔치': 3949, '극혐': 3950, 'f': 3951, '라기보다는': 3952, '드류': 3953, '원한': 3954, '상관': 3955, '데리다': 3956, '810': 3957, '정사': 3958, '비정상': 3959, '사나': 3960, '3분': 3961, '멀쩡하다': 3962, '로버츠': 3963, '흥분하다': 3964, '반지': 3965, '일어나서': 3966, '청자': 3967, '어딨다': 3968, 'ㅋㅋㅋㅋㅋㅋㅋㅋㅋㅋㅋ': 3969, '창피하다': 3970, '엇어': 3971, '나마': 3972, '탐욕': 3973, '의지': 3974, '이치': 3975, '기부': 3976, '안목': 3977, '어째': 3978, '찢다': 3979, '허구': 3980, '줄리엣': 3981, '때론': 3982, '크리스찬': 3983, '솜씨': 3984, '이던': 3985, '주의자': 3986, '만큼의': 3987, '신세계': 3988, '뜯다': 3989, '말리다': 3990, '샤말란': 3991, '발차기': 3992, '간절하다': 3993, '날로': 3994, '휴잭맨': 3995, '중후': 3996, '주관': 3997, '밀리다': 3998, '나나': 3999, '장혁': 4000, '글쎄요': 4001, '늘어놓다': 4002, '이은주': 4003, '에로물': 4004, '이야말로': 4005, '장난감': 4006, '아이언맨': 4007, '넹': 4008, '이스라엘': 4009, '박정희': 4010, '수단': 4011, '넓다': 4012, '경계': 4013, '알고싶다': 4014, '200': 4015, '관객수': 4016, '1년': 4017, '국산': 4018, '백인': 4019, '졸잼': 4020, '개미': 4021, '미사일': 4022, '제시': 4023, '듯이': 4024, '도의': 4025, '승': 4026, '주원': 4027, '래야': 4028, '진자': 4029, '테러리스트': 4030, '국적': 4031, '비행': 4032, '맺다': 4033, '크리스틴': 4034, '증': 4035, '김래원': 4036, '특성': 4037, '인칭': 4038, '스킵': 4039, '거북하다': 4040, '대구': 4041, '태양': 4042, '스피드': 4043, '옮기다': 4044, '광구': 4045, '우아하다': 4046, '에이리언': 4047, '아마도': 4048, '잭슨': 4049, '시간대': 4050, '방이': 4051, '은은하다': 4052, '히트': 4053, '만난': 4054, '마녀': 4055, '햇음': 4056, '해소': 4057, '밖엔': 4058, '꾸준하다': 4059, '강간': 4060, '홍진호': 4061, '꺼리다': 4062, '다우니': 4063, '다듬다': 4064, '이외': 4065, '헐크': 4066, '공자': 4067, '기막히다': 4068, '바쁘다': 4069, '순수': 4070, '자아내다': 4071, '남매': 4072, '제공': 4073, '천하': 4074, '저예산영화': 4075, '독백': 4076, '여기저기': 4077, '윤계상': 4078, '연장': 4079, '감수성': 4080, '앞서': 4081, '어긋나다': 4082, '서정': 4083, '웹툰': 4084, '괴수': 4085, '알리': 4086, '하찮다': 4087, '간지': 4088, '알차다': 4089, '써니': 4090, '유이': 4091, '불안하다': 4092, '기리': 4093, '안남': 4094, '욕구': 4095, '메인': 4096, '주온': 4097, '도나': 4098, '포드': 4099, '시보': 4100, '당당하다': 4101, '요한': 4102, '소원': 4103, '훔치다': 4104, '에서나': 4105, '아이고': 4106, '안이': 4107, '크리': 4108, '마틴': 4109, '쏟다': 4110, '인간미': 4111, '히스': 4112, '킴': 4113, '가시': 4114, '발레': 4115, '꼬리': 4116, '유아인': 4117, '멍하다': 4118, '기용': 4119, '고정관념': 4120, '소유': 4121, '재료': 4122, '사연': 4123, '한물가다': 4124, '호랑이': 4125, 'ㅜㅜㅜ': 4126, '소외': 4127, '선배': 4128, '쌤': 4129, '광해': 4130, '격투': 4131, '장동민': 4132, '보물': 4133, '정무문': 4134, '속상하다': 4135, '장담': 4136, '2015년': 4137, '금도': 4138, '해지': 4139, '구매': 4140, '백배': 4141, '짱짱맨': 4142, '미장센': 4143, '스티브': 4144, '아가': 4145, '베트남': 4146, '이예': 4147, '베이': 4148, '가치관': 4149, '평범': 4150, '정화': 4151, '안정': 4152, '곁': 4153, '일요일': 4154, '눈부시다': 4155, '앓이': 4156, '브라질': 4157, '두고두고': 4158, '진영화': 4159, '퀸': 4160, '퀴어': 4161, '통찰': 4162, '명연기': 4163, '부드럽다': 4164, '안질리다': 4165, '헤어': 4166, '미루다': 4167, '파치노': 4168, '바비': 4169, '모처럼': 4170, '밋게봣': 4171, '이준기': 4172, '이상형': 4173, '팬텀': 4174, '흥': 4175, '무표정': 4176, '애환': 4177, '장예모': 4178, '응': 4179, '스치다': 4180, '조디': 4181, '코끼리': 4182, '추잡하다': 4183, '먹이다': 4184, '28': 4185, '45': 4186, '물질': 4187, '2011년': 4188, '동아리': 4189, '영역': 4190, '목표': 4191, '주변인': 4192, '장동건': 4193, '소린': 4194, '드릴': 4195, '세지': 4196, '2003년': 4197, '경제': 4198, '림': 4199, '민주': 4200, '핑계': 4201, '1990년': 4202, '물건': 4203, '말르다': 4204, '제작자': 4205, '영화배우': 4206, '동원': 4207, '재벌': 4208, '거대': 4209, '학예회': 4210, '시청율': 4211, '쩔': 4212, '거대하다': 4213, '핸드폰': 4214, '만큼도': 4215, '박하다': 4216, '어물': 4217, '어쩌구': 4218, '고수': 4219, '쫒다': 4220, '사먹다': 4221, '짝사랑': 4222, '해바라기': 4223, '화제': 4224, '공식': 4225, '방향': 4226, '치밀다': 4227, '불문': 4228, '치부': 4229, '쟁쟁': 4230, '쫓기다': 4231, '회의': 4232, '해드리다': 4233, '서바이벌': 4234, '와나': 4235, '4000원': 4236, '황금': 4237, '안에': 4238, '웨스턴': 4239, '룰': 4240, '임용': 4241, '보너스': 4242, '개봉관': 4243, '미로': 4244, '쬐다': 4245, '화신': 4246, '어중간하다': 4247, '호강': 4248, '뉴욕': 4249, '김혜선': 4250, '루시': 4251, '초능력': 4252, '경상도': 4253, '가왜': 4254, '1초': 4255, '빠돌이': 4256, '금은': 4257, '돌연변이': 4258, '뚫다': 4259, '법칙': 4260, '1억': 4261, '쟁이': 4262, '꺼': 4263, '아티스트': 4264, '어우': 4265, '가다가': 4266, '다기': 4267, '위안': 4268, '이의': 4269, '팔다': 4270, '테이큰': 4271, '일베충': 4272, '피노키오': 4273, '잡탕': 4274, '엉덩이': 4275, '부리': 4276, '인내': 4277, '적당': 4278, '식스센스': 4279, '초라하다': 4280, '지니다': 4281, '출연자': 4282, '몰래': 4283, '미달': 4284, '동기': 4285, '양산': 4286, '도도': 4287, '면상': 4288, '특정': 4289, '파워레인저': 4290, '붉다': 4291, '중이': 4292, '긴박': 4293, '해설': 4294, '계층': 4295, '변명': 4296, '지네': 4297, '아무래도': 4298, '찍어내다': 4299, '맙시': 4300, '밀': 4301, '조차도': 4302, '규': 4303, '정상인': 4304, '백설공주': 4305, '몸짓': 4306, '애도': 4307, '피로': 4308, '처벌': 4309, '과감': 4310, '바이러스': 4311, '해안': 4312, '오랫동안': 4313, '끼들': 4314, '인용': 4315, '캠프': 4316, '아날로그': 4317, '대박나다': 4318, '디비디': 4319, '장창': 4320, '서커스': 4321, '쓰레기통': 4322, '아야': 4323, '소심하다': 4324, '반감': 4325, '일찍': 4326, '드래곤': 4327, '계단': 4328, '게뭐': 4329, '기한': 4330, '틀림없다': 4331, '60': 4332, '실사': 4333, '다수': 4334, '측면': 4335, 'k': 4336, '뭡': 4337, '문자': 4338, '건조하다': 4339, '남상미': 4340, '수면제': 4341, '가든': 4342, '걸레': 4343, '벌이다': 4344, '곤': 4345, '낙': 4346, '악행': 4347, '90': 4348, '알아듣다': 4349, '컨저링': 4350, '돌림': 4351, '법정': 4352, '투입': 4353, '버그': 4354, '살아오다': 4355, '젊음': 4356, '주먹': 4357, '스탤론': 4358, 'oooo': 4359, '마법': 4360, '요구': 4361, '안고': 4362, '차이다': 4363, '르': 4364, '껍데기': 4365, '숭고하다': 4366, '약속': 4367, '나비효과': 4368, '금발': 4369, 'l': 4370, '위성': 4371, '여실히': 4372, '급전': 4373, '냉정하다': 4374, '퉤': 4375, '질투': 4376, '비슷': 4377, '낯선': 4378, '막상': 4379, '레이싱': 4380, '진국': 4381, '작업': 4382, '깝': 4383, '밴드': 4384, '둔갑': 4385, '출시': 4386, '극한': 4387, '여왕': 4388, '카메론': 4389, '하우스': 4390, '연개소문': 4391, '무리수': 4392, '이모': 4393, '비약': 4394, '무니': 4395, '다운로드': 4396, '노무': 4397, '질린다': 4398, '삼다': 4399, '놀': 4400, '쾌감': 4401, '재일': 4402, '상투': 4403, '남아돌다': 4404, '피우다': 4405, '이혼': 4406, '옥': 4407, '취급': 4408, '저격': 4409, '줄리아': 4410, '생물': 4411, '희한하다': 4412, '데려가다': 4413, '폭탄': 4414, '당한': 4415, '옴니버스': 4416, '유라': 4417, 'love': 4418, '저급하다': 4419, '페미니즘': 4420, '종종': 4421, '마니아': 4422, '메카': 4423, '해외': 4424, '미키': 4425, '루크': 4426, '가져오다': 4427, '산다': 4428, '큐': 4429, '선악': 4430, '버금': 4431, '술함': 4432, '판치다': 4433, '비비다': 4434, '한국어': 4435, '비포': 4436, '검': 4437, '크리스토퍼': 4438, '가사': 4439, '예의': 4440, '경이': 4441, '콩': 4442, '반항': 4443, '마구': 4444, '김명민': 4445, '현빈': 4446, '으로가': 4447, '벨': 4448, '이슈': 4449, '지은': 4450, '정신차리다': 4451, '수업': 4452, '내러티브': 4453, '성유리': 4454, '성인영화': 4455, '헛': 4456, '부담스럽다': 4457, '알맹이': 4458, '조선족': 4459, '신들': 4460, '조인성': 4461, '수술': 4462, 'h': 4463, '이동욱': 4464, '토끼': 4465, '관람객': 4466, '중구': 4467, 'rec': 4468, '마마': 4469, '타락하다': 4470, '츠': 4471, '키스신': 4472, '뿐더러': 4473, '묶다': 4474, '제왕': 4475, '주민': 4476, '성장하다': 4477, '스릴러물': 4478, '짖다': 4479, '진구': 4480, '대가리': 4481, '난국': 4482, '과자': 4483, '절실': 4484, '기운': 4485, '관성': 4486, '이를': 4487, '최선': 4488, 'ㅋㅋㅋㅋㅋㅋㅋㅋㅋㅋㅋㅋㅋㅋㅋ': 4489, '미워하다': 4490, '이연희': 4491, '그러니까': 4492, '말기': 4493, '지금껏': 4494, '에서부터': 4495, '돌려주다': 4496, '편지': 4497, '하고도': 4498, '추상': 4499, '치우다': 4500, '하나경': 4501, '지껄이다': 4502, '통틀어': 4503, '본격': 4504, '크루즈': 4505, '파일': 4506, '처지다': 4507, '화장': 4508, '어쩌라고': 4509, '개발': 4510, '김하늘': 4511, '최진실': 4512, 'top': 4513, '그다음': 4514, '프레데터': 4515, '땡': 4516, '각성': 4517, '몬스터': 4518, '익다': 4519, '찌': 4520, 'me': 4521, '압축': 4522, '140': 4523, '보상': 4524, '식당': 4525, '영화사': 4526, '씨발': 4527, '닼': 4528, '토토': 4529, '좁다': 4530, '서영희': 4531, '짐작': 4532, '조형기': 4533, '안개': 4534, '에바': 4535, '가버리다': 4536, 'imdb': 4537, '들보': 4538, '웃음소리': 4539, '여야': 4540, '탱': 4541, '통일': 4542, '덤덤하다': 4543, '꾼': 4544, '17': 4545, '따윈': 4546, '폐해': 4547, '비치': 4548, '아담': 4549, '로망': 4550, '의견': 4551, '화답': 4552, '어떡하다': 4553, '고요': 4554, '눈감다': 4555, '난생': 4556, '차마': 4557, '아르': 4558, '갇히다': 4559, '볼바': 4560, '엄태웅': 4561, '누리다': 4562, '천년': 4563, '굴': 4564, '그리움': 4565, '대리': 4566, '엮': 4567, '박보영': 4568, '금요일': 4569, '일정': 4570, '발생': 4571, '비됴': 4572, '에의': 4573, '무의미하다': 4574, '전통': 4575, '간첩': 4576, '이정진': 4577, '비용': 4578, '원피스': 4579, '남지': 4580, '환': 4581, '죽여주다': 4582, '꼽으라': 4583, '재치': 4584, '폭소': 4585, '크레딧': 4586, '4년': 4587, '예외': 4588, '미녀': 4589, '이제껏': 4590, '구역': 4591, '워스트': 4592, '발악': 4593, '주니어': 4594, '브래드': 4595, '총알': 4596, '혼나다': 4597, '쿠': 4598, '인위': 4599, '행운': 4600, '결방': 4601, '개봉일': 4602, '지능': 4603, '대전': 4604, '우수하다': 4605, '이집트': 4606, '95': 4607, '앤딩': 4608, '올드보이': 4609, '오열': 4610, '갈아': 4611, '합리화': 4612, '때매': 4613, '은행': 4614, '시스템': 4615, '05': 4616, '올레': 4617, '악인': 4618, '포켓몬': 4619, '더러': 4620, '모자': 4621, '라스': 4622, '펜': 4623, '맛있다': 4624, '98년': 4625, '조르다': 4626, '크리스': 4627, '형아': 4628, '지켜보다': 4629, '진보': 4630, '아트': 4631, '오현민': 4632, '결합': 4633, '카터': 4634, '반지의제왕': 4635, '규모': 4636, '나약하다': 4637, '할로윈': 4638, '요괴': 4639, '아웃': 4640, '이익': 4641, '주제곡': 4642, '캬': 4643, '러셀': 4644, '은혜': 4645, '명언': 4646, '리치': 4647, 'and': 4648, '하루하루': 4649, '무지하다': 4650, '성숙': 4651, '형성': 4652, '지적': 4653, '정유미': 4654, '조명': 4655, '조여정': 4656, '경쟁': 4657, '월드컵': 4658, '이서': 4659, '유재석': 4660, '소박하다': 4661, '이틀': 4662, '는바': 4663, '에든': 4664, '장수': 4665, '게리': 4666, '맑다': 4667, '박사': 4668, '메리': 4669, '사랑받다': 4670, '찰리': 4671, '제이': 4672, '루이스': 4673, '토미': 4674, '굿굿굿': 4675, '흐뭇하다': 4676, '나른하다': 4677, '흠뻑': 4678, '외로': 4679, '이승환': 4680, '14년': 4681, '그땐': 4682, '지워지다': 4683, '사춘기': 4684, '찰스': 4685, '한층': 4686, '다짐': 4687, '인디아나': 4688, '1000': 4689, '도아': 4690, '거울': 4691, '까먹다': 4692, '조조': 4693, '눈뜨다': 4694, '자라': 4695, '찬란하다': 4696, '어깨': 4697, '장나라': 4698, '뺴': 4699, '발톱': 4700, '괴수영화': 4701, '대치': 4702, '다행하다': 4703, '격정': 4704, '성냥': 4705, '읍': 4706, '부제': 4707, '자위': 4708, '부실': 4709, '얼음': 4710, '기계': 4711, '프레': 4712, '아이리스': 4713, '발가락': 4714, '민호': 4715, '마초': 4716, '잡아먹다': 4717, '무책임하다': 4718, '우에노': 4719, '가시다': 4720, 'ㅏ': 4721, '눈길': 4722, '오션스': 4723, '임무': 4724, '무려': 4725, '심리전': 4726, 'ㅗ': 4727, '스토리텔링': 4728, 'v': 4729, '흐리다': 4730, '반쪽': 4731, '전기': 4732, '훤히': 4733, '괜찬': 4734, '딴사람': 4735, '플러스': 4736, '위원회': 4737, '스페인': 4738, '얽히다': 4739, '한효주': 4740, '줄줄': 4741, '소녀시대': 4742, '아이큐': 4743, '어처구니없다': 4744, '제작사': 4745, '박자': 4746, '볼땐': 4747, '다투다': 4748, '자도': 4749, '멍청이': 4750, '앞서다': 4751, '버젼': 4752, 'ㅁㅊ': 4753, '물리': 4754, '보고서': 4755, '킬빌': 4756, '잠도': 4757, '취해': 4758, '케이스': 4759, '대머리': 4760, '종편': 4761, '광수': 4762, '흥분': 4763, '서인국': 4764, '백프로': 4765, '다임': 4766, '이대로': 4767, '마인드': 4768, '비급': 4769, '앙': 4770, '눈높이': 4771, '사장': 4772, '유죄': 4773, '벗': 4774, '구멍': 4775, '결혼식': 4776, '상도': 4777, '난감': 4778, '곸': 4779, '기간': 4780, '장식': 4781, '페인': 4782, '장백지': 4783, '뎈': 4784, '라퓨타': 4785, '후지': 4786, '매장': 4787, '번만': 4788, '오컬트': 4789, '쌍욕': 4790, '전범': 4791, '2007년': 4792, '여진구': 4793, '윤시윤': 4794, '분석': 4795, '제시카알바': 4796, '오름': 4797, '인과관계': 4798, '우울': 4799, '아앙': 4800, '더보': 4801, '쓸모없다': 4802, '님들': 4803, '점임': 4804, '돕다': 4805, '합채': 4806, '은애': 4807, '썸띵': 4808, '의원': 4809, '해대': 4810, '로마': 4811, '저번': 4812, '채민서': 4813, '만만하다': 4814, '흐지부지': 4815, '가라': 4816, '첩보물': 4817, '하다못해': 4818, 'ok': 4819, '인터뷰': 4820, '기반': 4821, '아역배우': 4822, '주더': 4823, '그만두다': 4824, '한치': 4825, '70': 4826, '사다코': 4827, '옷벗다': 4828, '지현우': 4829, '울부짖다': 4830, 'ㅜㅜㅜㅜ': 4831, '셋트': 4832, '참혹하다': 4833, '남한': 4834, '우승': 4835, '블레이드': 4836, '찰지다': 4837, '쪽바리': 4838, '야쿠자': 4839, '싸': 4840, '웅장': 4841, '생생': 4842, '94년': 4843, '성함': 4844, '찜찜하다': 4845, '퀴': 4846, '선교': 4847, '허망': 4848, '들키다': 4849, '저급': 4850, '카메오': 4851, '정색': 4852, '그토록': 4853, '붕괴': 4854, '안듬': 4855, '로그': 4856, '문학': 4857, '포심': 4858, '떼': 4859, '삽입': 4860, '후진': 4861, '허접스럽다': 4862, '엠비씨': 4863, '근거': 4864, '배급': 4865, '돌이': 4866, '큰일': 4867, '스토커': 4868, '사납다': 4869, '라이토': 4870, '옆집': 4871, '이프': 4872, '토르': 4873, '공리': 4874, '적합하다': 4875, '장진영': 4876, '훨신': 4877, '여학생': 4878, '고함': 4879, '나오니': 4880, '미생': 4881, '저능': 4882, '남자친구': 4883, '천박하다': 4884, '문란하다': 4885, '달려가다': 4886, '친근하다': 4887, '이니까': 4888, '화류': 4889, '이내': 4890, '으로나': 4891, '하여금': 4892, '어필': 4893, '성질': 4894, '금고': 4895, '문성우': 4896, '쿵': 4897, '두근거리다': 4898, '영점': 4899, '보나': 4900, '완결': 4901, '사병': 4902, '또다시': 4903, '원주고': 4904, '치아': 4905, '파트너': 4906, '잡스': 4907, '업적': 4908, '댄스': 4909, '낚였': 4910, '심은하': 4911, '스케': 4912, '양조위': 4913, '사투': 4914, '수백': 4915, '실존': 4916, '2005년': 4917, '무덤': 4918, '각심': 4919, '고도': 4920, '김흥수': 4921, '활동': 4922, '잔인': 4923, '맴버': 4924, '조엘': 4925, '슈마허': 4926, '힙합': 4927, '블': 4928, '에라도': 4929, '김효진': 4930, '투척': 4931, '무사': 4932, '김지영': 4933, '구역질': 4934, '100회': 4935, '종류': 4936, '폰부스': 4937, '김승우': 4938, '퍼지다': 4939, '즉': 4940, '열등감': 4941, '경기': 4942, '고사': 4943, '라곤': 4944, '바라지': 4945, '차인표': 4946, '그이': 4947, '강소라': 4948, '특징': 4949, '일방': 4950, '구사': 4951, '캡틴': 4952, '무능하다': 4953, '멘트': 4954, '즌': 4955, '고스트': 4956, '바리': 4957, '이브': 4958, '용가리': 4959, '대도': 4960, '열매': 4961, '마련': 4962, '안전': 4963, '찌푸리다': 4964, '발정': 4965, '샤를': 4966, '테론': 4967, '간간히': 4968, '반면': 4969, '고질라': 4970, '주유소': 4971, 'ㅐ': 4972, '테잎': 4973, '닦다': 4974, '현우': 4975, '공각기동대': 4976, '틀어놓다': 4977, '중요성': 4978, '우월': 4979, '강도': 4980, '문근영': 4981, '빼놓다': 4982, '봉': 4983, '신민아': 4984, '리슨': 4985, '서유기': 4986, '드릅': 4987, '붓다': 4988, '진부': 4989, '십대': 4990, '뉴': 4991, '유사하다': 4992, '가량': 4993, '만행': 4994, '암시': 4995, '잦다': 4996, '손예진': 4997, '본받다': 4998, '세라': 4999, '한류': 5000, '썩': 5001, '한석규': 5002, '잘쓰다': 5003, '감싸다': 5004, '긴박하다': 5005, '개똥': 5006, '성향': 5007, '모모': 5008, '제보': 5009, '정은지': 5010, '구라': 5011, '위치': 5012, '미군': 5013, '직장': 5014, '지브리': 5015, '리더': 5016, '율': 5017, '양동근': 5018, '장땡': 5019, '용감하다': 5020, '며칠': 5021, '연쇄': 5022, '에게나': 5023, '고발': 5024, '서사': 5025, '당췌': 5026, '병헌': 5027, '지하': 5028, '땡기다': 5029, '자폐': 5030, '성숙하다': 5031, '이신': 5032, '상사': 5033, '떠다니다': 5034, '오후': 5035, '꺼지다': 5036, '송새벽': 5037, '훼손': 5038, '구속': 5039, '떄문': 5040, '안남다': 5041, '하차': 5042, '패닝': 5043, '클로이': 5044, '모레': 5045, '절벽': 5046, '고소영': 5047, '원망': 5048, '운지': 5049, '자녀': 5050, '복': 5051, '거창하다': 5052, '프리': 5053, '편성': 5054, '도배': 5055, '확신': 5056, '크크': 5057, '체험': 5058, '건너': 5059, '블루': 5060, '기선': 5061, '불교': 5062, '판타지영화': 5063, '제법': 5064, '김민준': 5065, '그런대로': 5066, '행성': 5067, '소스': 5068, '취미': 5069, '진출': 5070, '모건': 5071, '이요원': 5072, '수치': 5073, '털다': 5074, '현상': 5075, '대다수': 5076, '공장': 5077, '컨데': 5078, '운영': 5079, '댓글달다': 5080, '오랜만': 5081, '희망이': 5082, '칠이': 5083, '소림사': 5084, '레이스': 5085, '곽부성': 5086, '지상': 5087, '임권택': 5088, '파이다': 5089, '트랜스포머': 5090, '멍': 5091, '퍼스': 5092, '로우': 5093, 'am': 5094, '6년': 5095, '제인': 5096, '껀': 5097, '피라냐': 5098, '도자기': 5099, '캐서린': 5100, '말년': 5101, '찍기': 5102, '정당화': 5103, '미디어': 5104, '이순재': 5105, '요강': 5106, '애비': 5107, '돌아서다': 5108, '숫자': 5109, '정성': 5110, '멀미': 5111, '재판': 5112, '판사': 5113, '옹호': 5114, '트릭': 5115, '43': 5116, '눈알': 5117, '뽀로로': 5118, '의아': 5119, '체감': 5120, '마이너': 5121, '조각': 5122, '서민': 5123, '맛깔나다': 5124, '햄버거': 5125, '똑똑하다': 5126, '미덕': 5127, '로라': 5128, '셧': 5129, '사무엘': 5130, '죽도': 5131, '된장': 5132, '전기톱': 5133, '발사': 5134, '힐': 5135, '판타스틱': 5136, '고서': 5137, '동성': 5138, '이성': 5139, '이래도': 5140, '클라스': 5141, '신동엽': 5142, '안함': 5143, '오류': 5144, '조보아': 5145, '유해진': 5146, '2일': 5147, '망신': 5148, '벌레': 5149, '안달': 5150, '숲속': 5151, '터키': 5152, '뛰어다니다': 5153, '디자이너': 5154, '지니': 5155, '황비홍': 5156, '신성일': 5157, '배슬기': 5158, '조악하다': 5159, '다름없다': 5160, '장인': 5161, '13일': 5162, '인디언': 5163, '봉태규': 5164, '이따금': 5165, '고려': 5166, '정당하다': 5167, '진지': 5168, '모드': 5169, '건축': 5170, '위인': 5171, '갈수': 5172, '에디': 5173, '재탕': 5174, '오래오래': 5175, '80분': 5176, '300': 5177, '마술': 5178, '멜깁슨': 5179, '매치': 5180, '유리': 5181, '910': 5182, '세영': 5183, '보장': 5184, '소비': 5185, '심판': 5186, '이러하다': 5187, '건물': 5188, '직원': 5189, '24': 5190, '정신없이': 5191, '거절': 5192, '오묘하다': 5193, '창작': 5194, '서글프다': 5195, '피트': 5196, '택시': 5197, '오디션': 5198, '속도': 5199, '귀타귀': 5200, '권리': 5201, '데이트': 5202, '농구': 5203, '말론': 5204, '돌아이': 5205, '레즈': 5206, '러브레터': 5207, '패션': 5208, '엇음': 5209, '컬': 5210, '일진': 5211, '92년': 5212, '물들다': 5213, '경고': 5214, '가감': 5215, 'movie': 5216, '기쁨': 5217, '정준호': 5218, '치이다': 5219, '잘살다': 5220, '시어머니': 5221, '궁극': 5222, '2008년': 5223, '회장': 5224, '황제': 5225, '이라기': 5226, '미개하다': 5227, '나탈리': 5228, '과제': 5229, 't': 5230, '미션임파서블': 5231, '일색': 5232, '일제': 5233, '길들이다': 5234, '그날': 5235, '한글': 5236, '사위': 5237, '꿈속': 5238, '힘차다': 5239, '인증': 5240, '윌리엄': 5241, '각인': 5242, '투성이': 5243, '저렴하다': 5244, '후유증': 5245, '괴롭히다': 5246, '1시': 5247, '터뜨리다': 5248, '스콜': 5249, '최수종': 5250, '가혹하다': 5251, '엑소시스트': 5252, '서방': 5253, '박아': 5254, '작년': 5255, '우베': 5256, '장쯔이': 5257, '절묘하다': 5258, '라던가': 5259, '기업': 5260, '피어': 5261, '책임감': 5262, '에구': 5263, '경쾌하다': 5264, '외면': 5265, '리스': 5266, '회수': 5267, '치우치다': 5268, '싱크': 5269, '가상': 5270, '지원': 5271, '물리다': 5272, '꼽는': 5273, '오타쿠': 5274, '아랫': 5275, '발칙하다': 5276, '인간극장': 5277, '제도': 5278, '으로부터': 5279, '관해': 5280, '어울림': 5281, '관객모독': 5282, '결제': 5283, '고기': 5284, '깃': 5285, '확실': 5286, '되새기다': 5287, '왕가위': 5288, '절규': 5289, '크로우': 5290, '상업성': 5291, '호프': 5292, '비웃다': 5293, '1995년': 5294, '입가': 5295, '일본애니': 5296, '무었': 5297, '주네': 5298, '리언': 5299, '느그': 5300, '조건': 5301, '천만': 5302, '안경': 5303, '나혼자산다': 5304, '질적': 5305, '스탭': 5306, '장미': 5307, '한자': 5308, '즘': 5309, '간직': 5310, '조심': 5311, '단단하다': 5312, '터널': 5313, '천천히': 5314, '가려지다': 5315, '실적': 5316, '재밋어': 5317, '지라': 5318, '어찌나': 5319, '찌들다': 5320, '대학교': 5321, '맑은': 5322, '유년기': 5323, '서럽다': 5324, '에릭': 5325, '무인도': 5326, '라붐': 5327, '놀람': 5328, '이루어지다': 5329, '정려원': 5330, '통한': 5331, '세밀': 5332, '신비하다': 5333, '오래도록': 5334, '유주': 5335, 'one': 5336, '호러영화': 5337, '돌이키다': 5338, '쇼킹': 5339, '귀요미': 5340, '뇌리': 5341, '맴돈다': 5342, '보석같다': 5343, '전이': 5344, '휴머니즘': 5345, '해리': 5346, '은기': 5347, '활약': 5348, '니당다': 5349, '호프만': 5350, '날카롭다': 5351, '불멸': 5352, '일과': 5353, '더그': 5354, '튜니티': 5355, '퀴즈': 5356, '획기': 5357, '수임': 5358, '줄알': 5359, '엇갈리다': 5360, '낙태': 5361, '오른쪽': 5362, 'xx': 5363, '분열': 5364, '쩜': 5365, '뚝': 5366, '가도': 5367, '졋': 5368, '꼬우': 5369, '허약하다': 5370, '히데': 5371, '톱스타': 5372, '고통스럽다': 5373, '앞두다': 5374, '놨': 5375, '개그콘서트': 5376, '투쟁': 5377, '독하다': 5378, '출연료': 5379, '문제점': 5380, 'ㅡㅡㅋ': 5381, '더러워지다': 5382, '긁다': 5383, '망토': 5384, '날림': 5385, '서영이': 5386, '앨리스': 5387, '정돈': 5388, '타이타닉': 5389, '답답': 5390, '건드리다': 5391, '지상파': 5392, '날아다니다': 5393, '배속': 5394, '곽경택': 5395, '12년': 5396, '부조화': 5397, '무관': 5398, '윤찬': 5399, '최민수': 5400, '스팅': 5401, '수행': 5402, '일베': 5403, '성동일': 5404, '우치': 5405, '유코': 5406, '맘대로': 5407, '투니버스': 5408, '우왕좌왕': 5409, '풀이': 5410, '요청': 5411, '그루지': 5412, 'pc': 5413, '고래': 5414, '대량': 5415, '비화': 5416, '죽겠네': 5417, '보드': 5418, '골고루': 5419, '높아지다': 5420, '점안': 5421, '5위안': 5422, '돌아다니다': 5423, '워킹': 5424, '폭풍우': 5425, '방울': 5426, '고이': 5427, '병사': 5428, '대답': 5429, '부패하다': 5430, '유괴': 5431, '델': 5432, '노아': 5433, '정감': 5434, '한결같다': 5435, '한지민': 5436, '스며들다': 5437, '젖': 5438, '펀치': 5439, '요약': 5440, '잘해야': 5441, '중요': 5442, '민정': 5443, '병원': 5444, '훗날': 5445, '자매': 5446, '결승전': 5447, '중세': 5448, '피부': 5449, '런닝': 5450, '나열': 5451, '충분': 5452, '마셈': 5453, '아이유': 5454, '신하균': 5455, '치정': 5456, '동방불패': 5457, '배드': 5458, '장엄하다': 5459, '웩': 5460, '화영': 5461, '하치': 5462, '아영': 5463, '동성애자': 5464, '암만': 5465, '난감하다': 5466, '사하나': 5467, '증말': 5468, '외치다': 5469, '웨슬리': 5470, '추락': 5471, '바위': 5472, '달인': 5473, '에리': 5474, '성괴': 5475, '그중': 5476, '재임': 5477, '퓨리': 5478, '어스': 5479, '루카스': 5480, '일수': 5481, '테마': 5482, '도마': 5483, '고리': 5484, '노출하다': 5485, '뜬구름': 5486, '헨리': 5487, '크로노스': 5488, '임성한': 5489, '정신병원': 5490, '자칫': 5491, '전부터': 5492, '징징대다': 5493, '부가': 5494, '동명이인': 5495, '분투': 5496, '브리': 5497, '코스프레': 5498, '자제': 5499, 'but': 5500, '국뽕': 5501, '이순신': 5502, '고정': 5503, '요원': 5504, '비치다': 5505, '일본어': 5506, '베토벤': 5507, '치자': 5508, '이로': 5509, '자마자': 5510, '고갈': 5511, '박진영': 5512, '방사': 5513, '공상': 5514, '신랑': 5515, '조금씩': 5516, '킬': 5517, '변환': 5518, '97': 5519, '연구': 5520, '사자': 5521, '기절': 5522, '띄엄띄엄': 5523, '장모': 5524, '이참': 5525, '미개': 5526, '개망작': 5527, '종이': 5528, '성관계': 5529, '별개': 5530, '고본': 5531, '고급스럽다': 5532, '소문': 5533, '레인': 5534, '로지': 5535, '소드': 5536, '태권브이': 5537, '인질': 5538, '전환': 5539, '해주시': 5540, '이미숙': 5541, '넼': 5542, '일해': 5543, '직하다': 5544, '배려': 5545, '35': 5546, '믹스': 5547, '튀기다': 5548, '예지원': 5549, '줫': 5550, '히키코모리': 5551, '몽골': 5552, '가발': 5553, '대책': 5554, '박살': 5555, '초대': 5556, '뒈지다': 5557, '대면': 5558, '기념': 5559, '무덥다': 5560, '꿀잠': 5561, '흐흐': 5562, '그랬는데': 5563, '기울이다': 5564, '흥겹다': 5565, '불신': 5566, '광팬': 5567, '성시경': 5568, '수녀': 5569, '음향효과': 5570, '역활': 5571, '정찬': 5572, '욬': 5573, '임밸류': 5574, '전광렬': 5575, '박민우': 5576, 'know': 5577, 'that': 5578, 'like': 5579, '미국영화': 5580, '보더': 5581, '로페즈': 5582, '오죽하다': 5583, '두서': 5584, '인주': 5585, '강우석': 5586, '감방': 5587, '겨털': 5588, '폭파': 5589, '시망': 5590, '생뚱맞': 5591, '티켓': 5592, '각오': 5593, '부수': 5594, '이수근': 5595, '프랑스어': 5596, '얼른': 5597, '뛰어가다': 5598, '뭉치다': 5599, '관능': 5600, '파도': 5601, '커다랗다': 5602, '이입': 5603, '찍히다': 5604, '다지': 5605, '거중': 5606, '구성은': 5607, '배두나': 5608, '유진': 5609, '수습': 5610, '시간여행': 5611, '읽히다': 5612, '조류': 5613, '테입': 5614, '불가능': 5615, '묶이다': 5616, '데인': 5617, '한경': 5618, '1980년': 5619, '대식': 5620, '참패': 5621, '근본': 5622, '걸치다': 5623, '무죄': 5624, '기점': 5625, '조심하다': 5626, '빙자': 5627, '범죄영화': 5628, '효민': 5629, '바하': 5630, '동의': 5631, '김대중': 5632, '병자': 5633, '신물': 5634, '해서웨이': 5635, '포토': 5636, '노래방': 5637, '멸망': 5638, '여군': 5639, '장교': 5640, '툭하면': 5641, '라울': 5642, '레미제라블': 5643, '재롱': 5644, '소문나다': 5645, '로사': 5646, '안무': 5647, '토시': 5648, '됫': 5649, '뮤비': 5650, 'ps': 5651, '청소': 5652, '남자에게': 5653, '무진장': 5654, '명도': 5655, '4회': 5656, '예언': 5657, '엘': 5658, '수사': 5659, '얹다': 5660, '스님': 5661, '에게만': 5662, '마동석': 5663, '후레쉬맨': 5664, '미성년': 5665, '이탈리아': 5666, '조한선': 5667, '공통': 5668, '갱': 5669, '평이하다': 5670, '책보': 5671, '금치': 5672, '유심': 5673, '탁': 5674, '100년': 5675, '일만': 5676, '오버액션': 5677, '황진': 5678, '가위': 5679, '과분': 5680, '비꼬다': 5681, '레벨': 5682, '박스': 5683, '세력': 5684, '앵': 5685, '미지근하다': 5686, '로미오': 5687, '까지나': 5688, '허용': 5689, '밖에는': 5690, '상기': 5691, '16년': 5692, '토이스토리': 5693, '은퇴': 5694, '인공': 5695, '리좀': 5696, '짜증스럽다': 5697, '간수': 5698, '해체': 5699, '선라이즈': 5700, '연결고리': 5701, '간이': 5702, '비노': 5703, '이글': 5704, '애쉬': 5705, '심각': 5706, '와이어': 5707, '프란체스카': 5708, '래서': 5709, '안젤리나': 5710, '222': 5711, '폭동': 5712, '정복': 5713, '메일': 5714, '른': 5715, '소동': 5716, 'ktx': 5717, '당첨': 5718, '아론': 5719, '개탄': 5720, '기기': 5721, '승화': 5722, '카펜터': 5723, '개선': 5724, '이쯤': 5725, '바램': 5726, '시놉시스': 5727, '똥폼': 5728, '좌파': 5729, '패배': 5730, '흉내내': 5731, '은유': 5732, '스푼': 5733, '귀여니': 5734, '재탕하다': 5735, '낚임': 5736, '바둑': 5737, '생체실험': 5738, '별것': 5739, '오마이갓': 5740, '왼쪽': 5741, '미취': 5742, '전용': 5743, '교복': 5744, '졸지': 5745, '키이라': 5746, '모텔': 5747, '루피': 5748, '해적': 5749, '단말': 5750, '낚이': 5751, '치명': 5752, '가죽': 5753, '연속극': 5754, '레고': 5755, '쫙': 5756, '한낱': 5757, '사로자다': 5758, '사골': 5759, '가닥': 5760, '이념': 5761, '꾹': 5762, '민주주의': 5763, '호모': 5764, '손오공': 5765, '놔두다': 5766, '씨부리다': 5767, '무의식': 5768, '박건형': 5769, 'ㅜㅡ': 5770, '쭈욱': 5771, '꼼꼼하다': 5772, '나소': 5773, '절때': 5774, '마땅하다': 5775, '장군': 5776, '나비': 5777, '35분': 5778, '썰매': 5779, '이하늬': 5780, '코피': 5781, '흡사하다': 5782, '유니크': 5783, '기이하다': 5784, '대판': 5785, '류덕환': 5786, '쒸레기': 5787, '플': 5788, '홈': 5789, '우디': 5790, '둥': 5791, '즐': 5792, '강예원': 5793, '만듬': 5794, '퇴보하다': 5795, '해명': 5796, '김대희': 5797, '인조': 5798, '8회': 5799, '조잡': 5800, '똥파리': 5801, '월화': 5802, '역다': 5803, '쌍벽': 5804, '천군': 5805, '명절': 5806, '하나요': 5807, 'ㅅㅅ': 5808, '자존심': 5809, '미나': 5810, '매달리다': 5811, '머리카락': 5812, '무방': 5813, '표지': 5814, '티브이': 5815, '하늘나라': 5816, '슬래셔': 5817, 'ㅠㅡㅠ': 5818, 'ㄱㄱ': 5819, '연쇄살인': 5820, '2004년': 5821, '화평': 5822, '어쩌다가': 5823, '합작': 5824, '허비하다': 5825, '중점': 5826, '신뢰': 5827, '설다': 5828, '상위': 5829, '동떨어지다': 5830, '그룹': 5831, '마인': 5832, '오우삼': 5833, '행위': 5834, '라이벌': 5835, '바가지': 5836, '명분': 5837, 'z': 5838, '여고괴담': 5839, '슈': 5840, '군국': 5841, '실종': 5842, '소니': 5843, '목욕': 5844, '반점': 5845, '추석': 5846, '취권': 5847, '창시자': 5848, '바질': 5849, '정재영': 5850, '하여튼': 5851, '김수로': 5852, '풍부하다': 5853, '박시후': 5854, '일보': 5855, '에어': 5856, '펑': 5857, '배기': 5858, '유효하다': 5859, '지수': 5860, '단순화': 5861, '가상하다': 5862, '제타존스': 5863, '피어스': 5864, '하이킥': 5865, '결심': 5866, '노부': 5867, '본의': 5868, '격인': 5869, '참전': 5870, '준수': 5871, '제대': 5872, '어어': 5873, '갸': 5874, '백퍼': 5875, '선비': 5876, '명예': 5877, '국회의원': 5878, '머금': 5879, '김수미': 5880, '지니어스': 5881, '신소율': 5882, '볼껄': 5883, '움직': 5884, '꼴랑': 5885, '접함': 5886, '100만': 5887, '교수': 5888, '쳐다보다': 5889, '탁재훈': 5890, '2002년': 5891, '환장하다': 5892, '간신히': 5893, '고만': 5894, '편임': 5895, '황': 5896, '재연': 5897, '종량제': 5898, '후딱': 5899, '할인': 5900, '때메': 5901, '엽문': 5902, '깔깔': 5903, '어르다': 5904, '우마': 5905, '쾌락': 5906, '잣': 5907, '아이맥스': 5908, '실컷': 5909, '윌리엄스': 5910, '리안': 5911, '싸지르다': 5912, '거북': 5913, '선행': 5914, '하필': 5915, '감초': 5916, '쌓다': 5917, '세련': 5918, '재수': 5919, '깨우치다': 5920, '승희': 5921, '핸드': 5922, '신은경': 5923, '솔솔': 5924, '올려놓다': 5925, '유명': 5926, '고질': 5927, '신음': 5928, '오마쥬': 5929, '창조': 5930, '중복': 5931, '푸하하하': 5932, '나무': 5933, '클로드': 5934, 'shit': 5935, '화소': 5936, '결여': 5937, '썩을': 5938, '매진': 5939, '사형제': 5940, '작정': 5941, '아이템': 5942, '야말로': 5943, '당근': 5944, '이준': 5945, '평민': 5946, '내려오다': 5947, '일류': 5948, '싸이': 5949, '노스': 5950, '송지효': 5951, '러': 5952, '게다': 5953, '작살': 5954, '화해': 5955, '팍': 5956, '못지않다': 5957, '호화롭다': 5958, '교감': 5959, '안변': 5960, '산타': 5961, '머물다': 5962, '클래스': 5963, '살림': 5964, '까지의': 5965, '어쨋': 5966, '개척': 5967, '마스크': 5968, '76년': 5969, '니미': 5970, '내리막': 5971, '궁금': 5972, '과장하다': 5973, '인의': 5974, '닫다': 5975, '요리사': 5976, '패러디영화': 5977, '라마': 5978, '미사': 5979, '설리': 5980, '스토': 5981, '전국': 5982, '박신양': 5983, '시티': 5984, '즈음': 5985, '누님': 5986, '이랬는데': 5987, '충무로': 5988, '물어': 5989, '엿보다': 5990, '우물': 5991, '목격': 5992, '엑소': 5993, '정준': 5994, '분잡': 5995, 'ㅡㅜ': 5996, '모니터': 5997, '비겁하다': 5998, '애니스톤': 5999, '테니스': 6000, '벽': 6001, 'not': 6002, '이불': 6003, '노트북': 6004, '만지다': 6005, '나선': 6006, '이남': 6007, '기름': 6008, '패전': 6009, '갈망': 6010, '몸부림': 6011, '강조': 6012, '라이트': 6013, '썰렁하다': 6014, '스톰': 6015, '설마설마': 6016, '보호': 6017, '함정': 6018, '기초': 6019, '클로즈업': 6020, '괴로움': 6021, '오지': 6022, '낯설다': 6023, '슨': 6024, '수첩': 6025, '구태의연하다': 6026, 'ㄹㅇ': 6027, '족치다': 6028, '오오': 6029, '음모': 6030, '소식': 6031, '박스오피스': 6032, '빨르다': 6033, '이미연': 6034, '노랗다': 6035, '최다니엘': 6036, '패션쇼': 6037, '리나': 6038, '전기영': 6039, '어둠': 6040, '예수': 6041, '실체': 6042, '뱀': 6043, '슬로우': 6044, '로더': 6045, '김남길': 6046, '황우슬혜': 6047, '사치': 6048, 's': 6049, '아비': 6050, '랬': 6051, '울트라맨': 6052, '완죤': 6053, '입히다': 6054, '가두다': 6055, '파라': 6056, '노말': 6057, '달러': 6058, '꾸역꾸역': 6059, '지우개': 6060, '911': 6061, '도용': 6062, '중생': 6063, '초래': 6064, '금시': 6065, '극히': 6066, '독립영화관': 6067, '상담': 6068, '짜임': 6069, '레저': 6070, '결전': 6071, '딥블루씨': 6072, '용인': 6073, '지진희': 6074, '조강지처': 6075, '봣던': 6076, '구인': 6077, '세심': 6078, '정권': 6079, '어이없이': 6080, '밭': 6081, '못난이': 6082, '차오': 6083, '참상': 6084, '조아하다': 6085, '어리석다': 6086, '학원물': 6087, '만족감': 6088, '눈가': 6089, '장영': 6090, '표기': 6091, '사무': 6092, '아메리칸': 6093, '불법': 6094, '무자비하다': 6095, '신현준': 6096, '므': 6097, '쇼크': 6098, '칸': 6099, '원본': 6100, '주어': 6101, '싱크로': 6102, '발휘': 6103, '메가박스': 6104, '시계': 6105, '파고': 6106, 'ctrlv': 6107, '변': 6108, '억압': 6109, 'ㅠㅠㅠㅠㅠㅠㅠ': 6110, '가오': 6111, '고조': 6112, '부처': 6113, '89': 6114, '도서관': 6115, '이재': 6116, '치르다': 6117, '다크': 6118, '오리엔탈리즘': 6119, '바바라': 6120, '초보': 6121, '마케팅': 6122, '균형': 6123, '심취': 6124, '이씨': 6125, '차용': 6126, '입력': 6127, '진도': 6128, '건강하다': 6129, '뜻밖': 6130, '해달라다': 6131, '퍼펙트': 6132, '싱어': 6133, '부진하다': 6134, '더더': 6135, '김선아': 6136, '애니메이션영화': 6137, '무례하다': 6138, '이종석': 6139, '열쇠': 6140, '주지훈': 6141, '주방': 6142, '휴대폰': 6143, '수능': 6144, '어요': 6145, '심금': 6146, '모자라': 6147, '탭댄스': 6148, '지게': 6149, '사업': 6150, '불안': 6151, '피하': 6152, '호러물': 6153, '광장': 6154, '댐': 6155, '자국': 6156, '대변': 6157, '특선영화': 6158, '시퀀스': 6159, '의학': 6160, '활': 6161, '명량': 6162, '현명하다': 6163, '50년': 6164, '보람': 6165, '시공간': 6166, '말콤': 6167, '피터': 6168, '장용': 6169, '개독': 6170, '총기': 6171, '저장': 6172, '가가': 6173, '믄': 6174, '중국어': 6175, '엑스파일': 6176, '주시': 6177, '받치다': 6178, '김병만': 6179, '장보리': 6180, '로맨스영화': 6181, '치히로': 6182, '한몫': 6183, '갈구다': 6184, '점철': 6185, '미스터': 6186, '예나': 6187, '잡담': 6188, '현장': 6189, '탕': 6190, '빠져나오다': 6191, '슈퍼히어로': 6192, '털': 6193, '상세': 6194, '유도': 6195, '밀폐': 6196, '스칼렛': 6197, '노고': 6198, '동참': 6199, '교차': 6200, '사오다': 6201, '맴': 6202, '엘리': 6203, '멘스': 6204, 'p': 6205, '변질': 6206, '에이미': 6207, '마나': 6208, '계획': 6209, '베이커': 6210, '영향력': 6211, '초등': 6212, '차이점': 6213, '빼먹다': 6214, '진가': 6215, '훅': 6216, '증오': 6217, '허황': 6218, '뻣': 6219, '으아': 6220, '병장': 6221, '오줌': 6222, '조니': 6223, '연평해전': 6224, '32': 6225, '내버리다': 6226, '카렐': 6227, '고다르': 6228, '김민희': 6229, '첨밀밀': 6230, '계산': 6231, '고백': 6232, '하진': 6233, '활기차다': 6234, '해변': 6235, '최강희': 6236, '독일군': 6237, '고유': 6238, '정우': 6239, '매체': 6240, '이세': 6241, '그레이': 6242, '엠씨': 6243, '차석구': 6244, '2009년': 6245, '니콜슨': 6246, '갑옷': 6247, '다람쥐': 6248, '차이나다': 6249, '인터스텔라': 6250, '바지': 6251, 'ㅓ': 6252, '이오': 6253, '물의': 6254, '스무': 6255, '신선': 6256, '레이첼': 6257, '갠차다': 6258, '무스': 6259, '배부르다': 6260, '예정': 6261, '다가가다': 6262, '꼬맹이': 6263, '우리동네': 6264, '문성근': 6265, '종말': 6266, '조국': 6267, '호빵맨': 6268, '개꿀잼': 6269, '공효진': 6270, '11년': 6271, '에너지': 6272, '친일': 6273, '배경음': 6274, '기원': 6275, '겜': 6276, '방지': 6277, '봣음': 6278, '다나': 6279, '에여': 6280, '빙의': 6281, '기립박수': 6282, '무심코': 6283, '감회': 6284, 'cd': 6285, '캡': 6286, '으로의': 6287, '두루': 6288, '렌스': 6289, '추모': 6290, '생존': 6291, '송': 6292, 'only': 6293, '개개인': 6294, '후편': 6295, '조화롭다': 6296, '나인': 6297, '토요일': 6298, '한니발': 6299, '판도': 6300, '진영': 6301, '75': 6302, '휴지': 6303, '메릴': 6304, '스트립': 6305, '아리다': 6306, '전과': 6307, '랜드': 6308, '매튜': 6309, 'ㅠㅠㅠㅠㅠ': 6310, '삼가다': 6311, '케인': 6312, '조기': 6313, '나무라다': 6314, '주신': 6315, '명곡': 6316, '반했어': 6317, '유정': 6318, '상쾌': 6319, '박영화': 6320, '연설': 6321, '쏠쏠하다': 6322, '가까워지다': 6323, '훌쩍': 6324, '매년': 6325, '야망': 6326, '청': 6327, '상치': 6328, '조승우': 6329, '오늘날': 6330, '한잔': 6331, '길냥이': 6332, '매회': 6333, 'this': 6334, 'ever': 6335, '남우': 6336, '알렉산더': 6337, '로나': 6338, '두산': 6339, '욧': 6340, '케이온': 6341, '더스틴': 6342, '하이라이트': 6343, '뵙다': 6344, 'was': 6345, '탱고': 6346, '참신': 6347, '재밋네': 6348, '어르신': 6349, '로간': 6350, '폴리스스토리': 6351, '인도영화': 6352, '멜로디': 6353, '보석': 6354, '아리': 6355, '흐릿': 6356, '한장': 6357, '황홀하다': 6358, '감우성': 6359, 'ㄷ': 6360, '이뤄지다': 6361, '게왜': 6362, '재일교포': 6363, '넋': 6364, '평화롭다': 6365, '필립': 6366, '형태': 6367, '재즈': 6368, '40년': 6369, '균': 6370, '윤은혜': 6371, '따스하다': 6372, '라나': 6373, '올인': 6374, '타워': 6375, '분단': 6376, '소방관': 6377, '위력': 6378, '전태일': 6379, '집시': 6380, 'ㅁㄴㅇㄹ': 6381, '포근하다': 6382, '제각각': 6383, '탐구': 6384, '꽃남': 6385, '로케': 6386, '장항준': 6387, '박철민': 6388, '01': 6389, '음식점': 6390, '이경': 6391, '연결하다': 6392, '에버랜드': 6393, '야수': 6394, '부여': 6395, '비우다': 6396, '멍하니': 6397, '확보': 6398, '바람나다': 6399, '쌩뚱맞': 6400, '정규': 6401, '전라': 6402, '협박': 6403, '소송': 6404, '대마': 6405, '미지': 6406, '티라노': 6407, '거참': 6408, '능욕': 6409, '마돈나': 6410, '구글': 6411, '공무원': 6412, '책임지다': 6413, '트와일라잇': 6414, '말초신경': 6415, '이특': 6416, '강물': 6417, '방어': 6418, '연령': 6419, '진찌': 6420, '묘기': 6421, '테이': 6422, '멀쩡': 6423, '전봇대': 6424, '클릭': 6425, '이진': 6426, '곽지민': 6427, '리자': 6428, '커밍아웃': 6429, '악몽': 6430, '능력자': 6431, '샤이니': 6432, '박상민': 6433, '정신차려라': 6434, '쥬리': 6435, '탄성': 6436, '도시락': 6437, '타임머신': 6438, '고고': 6439, '포트': 6440, '건네다': 6441, '이러니': 6442, '내겐': 6443, '불편': 6444, '장안': 6445, '아가씨': 6446, '후련하다': 6447, '닌자': 6448, '주고': 6449, '중력': 6450, '연정훈': 6451, '이지훈': 6452, '작고': 6453, '인생관': 6454, '나기': 6455, '티저': 6456, '침략': 6457, '웨이': 6458, '차기작': 6459, '몰아치다': 6460, '남동생': 6461, '웟': 6462, '불협화음': 6463, '하물며': 6464, '국물': 6465, '한가득': 6466, '토로': 6467, '망정': 6468, '타무라': 6469, '카츠': 6470, '박준형': 6471, '컴백': 6472, '갑임': 6473, '번호': 6474, '목걸이': 6475, '맛깔': 6476, '린지': 6477, '라며': 6478, '손바닥': 6479, '비틀어지다': 6480, '가격': 6481, '문장': 6482, '남상': 6483, '부다페스트': 6484, '쯔쯔': 6485, '진상': 6486, '되살리다': 6487, '건너다': 6488, '엥': 6489, '밀도': 6490, '현저': 6491, '주석': 6492, '월요일': 6493, '30초': 6494, '내다보다': 6495, '안녕하다': 6496, '송희진': 6497, '닭': 6498, '할망구': 6499, '박빙': 6500, '부딪히다': 6501, '개구': 6502, '라네': 6503, '악령': 6504, '갑툭튀': 6505, '자만': 6506, '어장': 6507, '용한': 6508, '이해력': 6509, '전결': 6510, '한두': 6511, '불공평하다': 6512, '자동': 6513, '밥상': 6514, '필터': 6515, '판매': 6516, '비보이': 6517, '입증': 6518, '대군': 6519, '헤': 6520, '좌좀': 6521, '몰려오다': 6522, '까지가': 6523, '연성': 6524, '넘어지다': 6525, '일본사람': 6526, '사람인': 6527, '홍자매': 6528, '비정하다': 6529, '오픈': 6530, '재수없다': 6531, '뱃속': 6532, '마미': 6533, '우스꽝스럽다': 6534, '액션연기': 6535, '빅뱅': 6536, 'made': 6537, '왜케높': 6538, '범람': 6539, '딸아이': 6540, '이중인격': 6541, '피고': 6542, '뚫리다': 6543, '링컨': 6544, '줏대': 6545, '맘마미아': 6546, '악순환': 6547, '고사하고': 6548, '스틱': 6549, '리얼리즘': 6550, '슬슬': 6551, '구체': 6552, '정경호': 6553, '격투기': 6554, '의존': 6555, '이토': 6556, '헤픈': 6557, '성별': 6558, '대원': 6559, '이단': 6560, 'ㅈㄹ': 6561, '송두리째': 6562, '소나기': 6563, '고하': 6564, '맥빠지다': 6565, '벤스틸러': 6566, '봉준호': 6567, '블랙홀': 6568, '맴돌다': 6569, '덕지덕지': 6570, '해군': 6571, '대일본제국': 6572, '삼거리': 6573, '일기': 6574, '교체': 6575, '배틀로얄': 6576, '바란': 6577, '가스': 6578, '심보': 6579, '몰락': 6580, '모스': 6581, '긴지': 6582, '빅': 6583, '혼합': 6584, '쫄': 6585, '미흡': 6586, '근원': 6587, '젊은이': 6588, '이문식': 6589, '오유': 6590, '동호': 6591, '삼촌': 6592, '박차다': 6593, '문소리': 6594, '리턴즈': 6595, '어벤져스': 6596, '아청법': 6597, '부스': 6598, '싸인': 6599, '천만다행': 6600, '카톡': 6601, '웹하드': 6602, '드라큘라': 6603, '절차': 6604, '놧': 6605, '맥주': 6606, '방도': 6607, '공격': 6608, '휘두르다': 6609, '궁금증': 6610, '장미인애': 6611, '이역': 6612, '총잡이': 6613, '선보이다': 6614, '철철': 6615, '섹드립': 6616, '소라': 6617, '물고기': 6618, '굽다': 6619, '테무진': 6620, '그릴': 6621, '은색': 6622, '허전하다': 6623, '감금': 6624, '대초': 6625, '아나킨': 6626, '계절': 6627, '붐': 6628, '헌': 6629, '덩달아': 6630, '우습다': 6631, '낭패': 6632, '장화홍련': 6633, '흐': 6634, '종족': 6635, '치의': 6636, '놀이터': 6637, '쉐프': 6638, '징징거리다': 6639, '채팅': 6640, '뽑히다': 6641, '베스타': 6642, '57': 6643, '여자도': 6644, '서비스': 6645, '구조': 6646, '비둘기': 6647, '비감': 6648, '프리퀄': 6649, '와일드': 6650, '룸메이트': 6651, 'are': 6652, '여고생': 6653, '짱깨': 6654, '빼앗기다': 6655, '도윤': 6656, '몬': 6657, '루한': 6658, '경력': 6659, '지속': 6660, '리스트': 6661, '당당': 6662, 'dc': 6663, '명백하다': 6664, '라기보단': 6665, '에이즈': 6666, '까': 6667, '키도': 6668, '오프': 6669, '고치다': 6670, '마담': 6671, '사주다': 6672, '신지': 6673, '훨배': 6674, '동남아': 6675, '우웩': 6676, '벨라': 6677, '배끼': 6678, '더군다나': 6679, '이분': 6680, '동양인': 6681, '16회': 6682, '생전': 6683, '책임': 6684, '안면': 6685, '청각': 6686, '콘스탄틴': 6687, '후진국': 6688, '권총': 6689, '퇴물': 6690, 'sm': 6691, '당분간': 6692, '오씨': 6693, '특급': 6694, '긋다': 6695, '꿰': 6696, 'vod': 6697, '만원': 6698, '동조': 6699, '98': 6700, '팔마': 6701, '하향': 6702, '양복': 6703, '정의감': 6704, '25분': 6705, '세뇌': 6706, '신건': 6707, '왤다': 6708, '죠낸': 6709, '518': 6710, '삭막하다': 6711, '혹성탈출': 6712, '편승': 6713, '손님': 6714, '히스테리': 6715, '버무린': 6716, '분야': 6717, '정설': 6718, '최약': 6719, '팝': 6720, '테이크': 6721, '오가다': 6722, '오점': 6723, '오인혜': 6724, '띄우다': 6725, '인성': 6726, 'out': 6727, '김완선': 6728, '후배': 6729, '양키': 6730, '빙하': 6731, '라가': 6732, '모자이크': 6733, '지방': 6734, '똑': 6735, '금영': 6736, '투명인간': 6737, '느슨하다': 6738, '전체관람가': 6739, '유니폼': 6740, '냉정': 6741, '횡포': 6742, '부각': 6743, '희극': 6744, '제이크': 6745, '판정': 6746, '도가니': 6747, '답니': 6748, '역도산': 6749, '주름': 6750, '류헤이': 6751, '스웨덴': 6752, '대인': 6753, '바퀴': 6754, '완': 6755, '베로니카': 6756, '믿어지다': 6757, '궁': 6758, '부서지다': 6759, '적중': 6760, 'gta': 6761, '레이저': 6762, '령': 6763, '멕시코': 6764, 'ㅋㅋㅋㅋㅋㅋㅋㅋㅋㅋㅋㅋㅋㅋㅋㅋㅋㅋㅋㅋㅋㅋㅋㅋㅋ': 6765, '밤새다': 6766, '시나': 6767, '엑': 6768, '욱': 6769, '특색': 6770, '볼품': 6771, '거도': 6772, '고아': 6773, '교묘하다': 6774, '양념': 6775, '짜깁다': 6776, '김우빈': 6777, '구식': 6778, '왓': 6779, '앗다': 6780, '10000': 6781, '먹방': 6782, '짱꼴라': 6783, '뼈대': 6784, '온통': 6785, '초한지': 6786, '베댓': 6787, '도미': 6788, '본영': 6789, '미란': 6790, '퀄러티': 6791, '매기': 6792, '강의': 6793, '미쟝센': 6794, '네러티브': 6795, '뤽': 6796, '사살': 6797, '눕다': 6798, '네트': 6799, '육성': 6800, '한텐': 6801, '노랑': 6802, '한주': 6803, '개운하다': 6804, '안전벨트': 6805, '눈살': 6806, '25': 6807, '낙제': 6808, '덕화': 6809, '졸림': 6810, '긴장도': 6811, '막바지': 6812, '대강': 6813, '왕창': 6814, '고릴라': 6815, '참가': 6816, '피에르': 6817, '베닝': 6818, '수사물': 6819, '귀족': 6820, '엘리트': 6821, '영화매니아': 6822, '극영화': 6823, '느데': 6824, '사태': 6825, '취지': 6826, '알몸': 6827, '정도껏해': 6828, '난타': 6829, '구미호': 6830, '수영장': 6831, '거여': 6832, '댓': 6833, '무한도전': 6834, '갑작스럽다': 6835, '포스트': 6836, '상류층': 6837, '하락': 6838, '캐다': 6839, '삼각관계': 6840, '계륜미': 6841, '김동완': 6842, '더라도': 6843, '삼박자': 6844, '심의': 6845, '모방': 6846, '150': 6847, '덕후': 6848, '비아': 6849, '동포': 6850, '스페이스': 6851, '인가가': 6852, '자비': 6853, '리모컨': 6854, '걔': 6855, '내보이다': 6856, '위안부': 6857, '윌스미스': 6858, '니키': 6859, '일조': 6860, '어그': 6861, '풀어지다': 6862, '정답': 6863, '요정': 6864, '사회주의': 6865, '생소하다': 6866, '힐러': 6867, '프': 6868, '거두다': 6869, '침착하다': 6870, '이자벨': 6871, '조립': 6872, '거물': 6873, '이상우': 6874, '뼈': 6875, '흔적': 6876, '화이자': 6877, '끊어지다': 6878, '정면': 6879, '소림축구': 6880, '거래': 6881, '자시': 6882, '김보성': 6883, '서스펜스': 6884, '올드': 6885, '포맷': 6886, '특이': 6887, '개신교': 6888, '오지호': 6889, '오지랖': 6890, '은희': 6891, '출산': 6892, '정반대': 6893, '부각시키다': 6894, '살의': 6895, '납': 6896, '그따위': 6897, '인양': 6898, '글래디에이터': 6899, '오마주': 6900, '보영': 6901, '퇴': 6902, '떄리다': 6903, '치장': 6904, '발광': 6905, '줄줄이': 6906, '이두': 6907, '굿닥터': 6908, '트랩': 6909, '신발': 6910, '비스트': 6911, '장기': 6912, '그남자': 6913, '연적': 6914, '영채': 6915, '이상윤': 6916, 'tt': 6917, '가중': 6918, '미라': 6919, '쩍': 6920, '금전': 6921, '부류': 6922, '총격': 6923, '수긍': 6924, '인간관계': 6925, '김준호': 6926, '카르텔': 6927, '유식': 6928, '좀해': 6929, '욱일승천기': 6930, '코타': 6931, '밀고': 6932, '엔젤': 6933, '추적': 6934, '쪼가리': 6935, '허리우드': 6936, '리모콘': 6937, '오정세': 6938, '하느님': 6939, '앗': 6940, '아파트': 6941, '우기다': 6942, '마이걸': 6943, '마음대로': 6944, '오드리': 6945, '핀': 6946, '게시판': 6947, '87': 6948, '차례': 6949, '관념': 6950, '울렁거리다': 6951, '마가': 6952, '마녀사냥': 6953, '외화': 6954, '경리': 6955, '1만': 6956, '썰다': 6957, '윤재': 6958, '외계': 6959, '명왕성': 6960, '렌': 6961, '퍼붓다': 6962, '종자': 6963, '기와': 6964, '회개': 6965, '잡식': 6966, '축하': 6967, '풍운': 6968, '골드버그': 6969, '유태인': 6970, '주도': 6971, '숙희': 6972, '타임슬립': 6973, '축축': 6974, '멘타리': 6975, '뒷이야기': 6976, '뚝뚝': 6977, '스머프': 6978, '명함': 6979, '화법': 6980, '생명체': 6981, '일관': 6982, '모양새': 6983, '부문': 6984, '천정명': 6985, '한적': 6986, '욕좀': 6987, '어쩌려': 6988, '불과': 6989, '닐': 6990, '김두한': 6991, '튀어나오다': 6992, '민감하다': 6993, '에플렉': 6994, '종로': 6995, '서태지': 6996, '1000원': 6997, '기네스': 6998, '리스크': 6999, '고시': 7000, '군생활': 7001, '진의': 7002, '민아': 7003, 'just': 7004, 'who': 7005, '다망': 7006, '극찬': 7007, '소스코드': 7008, '맛없다': 7009, '셰프': 7010, '10초': 7011, 'up': 7012, '분노하다': 7013, '닥치다': 7014, '래미': 7015, '우리별': 7016, '시시': 7017, '마는': 7018, '뜻대로': 7019, '미세하다': 7020, 'iptv': 7021, '수신료': 7022, '라는데': 7023, '솟다': 7024, '해주': 7025, '심해': 7026, '태범': 7027, '사생활': 7028, '종료': 7029, '널리': 7030, '붙여넣기': 7031, '외부': 7032, '수선': 7033, '보도': 7034, '바닷가': 7035, '런닝타임': 7036, '구상': 7037, '쿵후': 7038, '헬기': 7039, '상일': 7040, '박용우': 7041, '데넘': 7042, '우승하다': 7043, '씨쥐': 7044, 'et': 7045, '끈기': 7046, '유년': 7047, '갠찮': 7048, '추앙': 7049, '쉬리': 7050, '피아제': 7051, '블라인드': 7052, '최고급': 7053, '와인': 7054, '이중': 7055, '희미하다': 7056, '고은아': 7057, '살벌하다': 7058, '칼질': 7059, '소란': 7060, '이러케': 7061, '이현우': 7062, '태극기': 7063, '부들부들': 7064, '소고기': 7065, '어정쩡': 7066, '개웃': 7067, '공항': 7068, '졷': 7069, '언덕': 7070, '초원': 7071, '낄낄대다': 7072, '동해': 7073, '악녀': 7074, '간절': 7075, '드하': 7076, '패쓰': 7077, '종교영화': 7078, '지아': 7079, '백발': 7080, '퉤퉤': 7081, '화남': 7082, '집합': 7083, '얻어맞다': 7084, '근대': 7085, '횡설수설': 7086, '노다메': 7087, '칸타빌레': 7088, '장미여관': 7089, '무작정': 7090, '어의': 7091, '뒷목잡다': 7092, '절박': 7093, '깔리다': 7094, '유사': 7095, '철거민': 7096, '영업': 7097, '기어': 7098, '식겁하다': 7099, '연도': 7100, '양쪽': 7101, 'gv': 7102, '후의': 7103, '다다': 7104, '고루': 7105, '짚다': 7106, '번개': 7107, '케스팅': 7108, '비틀즈': 7109, 'ㅗㅗ': 7110, '주자': 7111, '파서': 7112, '방화': 7113, '영드': 7114, '적도': 7115, '파이터': 7116, '꽉차다': 7117, '사고방식': 7118, '저그': 7119, '재생': 7120, '마모루': 7121, '가전': 7122, '꼬집다': 7123, '연출자': 7124, '도그빌': 7125, '스탠': 7126, '동방신기': 7127, 'oh': 7128, '우롱': 7129, '확장': 7130, '고풍': 7131, '뱅크': 7132, '늑대소년': 7133, '나오미': 7134, '왓츠': 7135, '한자리': 7136, '변기': 7137, 'la': 7138, 'go': 7139, '노노': 7140, '켄': 7141, '태경': 7142, '세명': 7143, '가위바위보': 7144, '디게': 7145, '더구나': 7146, '무뇌': 7147, '워쇼스키': 7148, '숫': 7149, '김재중': 7150, '중국산': 7151, '코너': 7152, '누리': 7153, '특권': 7154, '질감': 7155, '65': 7156, '장관': 7157, '산전수전': 7158, '타입': 7159, '500': 7160, '가인': 7161, '출중하다': 7162, '쑤시다': 7163, '유대인': 7164, '장어': 7165, '도피': 7166, '뽐내다': 7167, '캠코더': 7168, '열폭': 7169, '삼천포': 7170, '순하다': 7171, '윤소이': 7172, '트루': 7173, '키득거리다': 7174, '순금': 7175, '진경': 7176, '답안': 7177, '달린다': 7178, '내적': 7179, '빈센트': 7180, '원수': 7181, '개과천선': 7182, '연기면': 7183, '음산하다': 7184, '끈끈': 7185, '이선균': 7186, '가르침': 7187, '화합': 7188, '갈비': 7189, '우애': 7190, '영춘권': 7191, '플라스틱': 7192, '우상': 7193, '돕기': 7194, '우왕': 7195, '나치': 7196, '가해': 7197, '좌': 7198, '무고': 7199, '막말': 7200, '중국사람': 7201, '본토': 7202, '얼핏': 7203, '더럽히다': 7204, '무명': 7205, '김태우': 7206, '습격': 7207, '역설': 7208, '여럿': 7209, '테스트': 7210, '뒷맛': 7211, '평타': 7212, '아베': 7213, '자서전': 7214, '힐러리': 7215, '봣다': 7216, '알렉스': 7217, '관상': 7218, '미나토': 7219, '송중기': 7220, '용구성': 7221, '만치': 7222, '한고은': 7223, '마키': 7224, '킹콩': 7225, '안중': 7226, '통과': 7227, '개조': 7228, '매염방': 7229, '모야': 7230, '도덕': 7231, '이유리': 7232, '청순': 7233, '기차': 7234, '정신연령': 7235, '안일하다': 7236, '클론': 7237, '윤발': 7238, '쿠라': 7239, '정수': 7240, '인투더': 7241, '오광록': 7242, '가부장': 7243, '만능': 7244, '개속': 7245, '범작': 7246, '외치': 7247, '조세호': 7248, '스너프': 7249, '랍니': 7250, '덩': 7251, '모조리': 7252, 'ucc': 7253, '하룻밤': 7254, '망고': 7255, '강정': 7256, '호주': 7257, '자부': 7258, '달래다': 7259, '지하철': 7260, '화재': 7261, '가레스': 7262, '시대극': 7263, '미숙': 7264, '외전': 7265, '드래곤볼': 7266, '콩가루': 7267, '영화장르': 7268, '입체': 7269, '불어': 7270, 'ㄷㄷㄷㄷ': 7271, '섹': 7272, '부시': 7273, '루저': 7274, '140원': 7275, '시네마': 7276, '들먹이다': 7277, '참되다': 7278, '딱좋다': 7279, '널다': 7280, '지갑': 7281, '해리슨': 7282, '소유진': 7283, '유세윤': 7284, '음모론': 7285, '장선우': 7286, '유물': 7287, '사만': 7288, '리그': 7289, '거뭐': 7290, '비열하다': 7291, '니스': 7292, '초자연적': 7293, '3시': 7294, '썅': 7295, '유준상': 7296, '은행강도': 7297, '방문': 7298, '해먹': 7299, '오인': 7300, '짝짝': 7301, '으악': 7302, '다욕': 7303, '별반': 7304, '김원효': 7305, '레아': 7306, '분노의질주': 7307, '차로': 7308, '프로이트': 7309, '안이하다': 7310, '영감': 7311, '수천': 7312, '아드레날린': 7313, '디아즈': 7314, '태권도': 7315, '가미': 7316, '나사': 7317, '유투브': 7318, '문어': 7319, '런던': 7320, '차도': 7321, '정교하다': 7322, '기보': 7323, '스크림': 7324, '탈옥': 7325, '나뉘다': 7326, '82년': 7327, '자칭': 7328, '궁합': 7329, '무력하다': 7330, '발성': 7331, '순정': 7332, '불후': 7333, '디스': 7334, '들려주다': 7335, '로렌스': 7336, '제복': 7337, '엘리스': 7338, '바랬': 7339, '괴롭다': 7340, '어케': 7341, '서세원': 7342, '로비': 7343, '동료': 7344, '더블': 7345, '건만': 7346, '무얼': 7347, '백년': 7348, '간접': 7349, '비범하다': 7350, '바이올린': 7351, 'end': 7352, '택': 7353, '볼맛': 7354, '78년': 7355, '매너리즘': 7356, '딸내미': 7357, '논란': 7358, '순이': 7359, '매춘부': 7360, '수면': 7361, '세계대전': 7362, '맹씨': 7363, '보태': 7364, '취한': 7365, '햇던': 7366, '거저': 7367, '질서': 7368, '정성호': 7369, '평보': 7370, '미란다': 7371, '수학': 7372, '배고프다': 7373, '고집': 7374, '영주': 7375, '적응하다': 7376, '120분': 7377, '마스터피스': 7378, '간혹': 7379, '보좌': 7380, '능글맞다': 7381, '출동': 7382, '더줌': 7383, '남아도': 7384, '성욕': 7385, '맹목': 7386, '횟수': 7387, '아마존': 7388, '보편': 7389, '테일러': 7390, '수호지': 7391, '힘주다': 7392, '동감': 7393, '에피': 7394, '베니': 7395, '함축': 7396, '도망치다': 7397, '연합': 7398, '희생양': 7399, '해양경찰': 7400, '동굴': 7401, '보복': 7402, '종훈': 7403, '길거리': 7404, '데미': 7405, '거구': 7406, '표면': 7407, '평작': 7408, '일침': 7409, '맹구': 7410, '도감': 7411, '윌': 7412, '특선': 7413, '신격화': 7414, '따귀': 7415, '나래': 7416, '죤나': 7417, '좌절': 7418, '훨낫다': 7419, '입원': 7420, '서서히': 7421, '퇴폐': 7422, 'ㅎㄷㄷㄷ': 7423, '롭': 7424, '정치가': 7425, '줄라': 7426, '잡아끌다': 7427, '못만드': 7428, '연락': 7429, '웅': 7430, '아메리칸파이': 7431, '다잡다': 7432, '온도': 7433, '복잡': 7434, '깨물다': 7435, '어떨': 7436, '런': 7437, '락': 7438, '뵈다': 7439, '이벤트': 7440, '제때': 7441, '주된': 7442, '거림': 7443, '아우라': 7444, '카다': 7445, '오멘': 7446, '영화평론가': 7447, '대니': 7448, '먹음': 7449, '셀': 7450, '터닝': 7451, '누명': 7452, '갈갈': 7453, '간결하다': 7454, '암흑': 7455, '일치': 7456, '부추기다': 7457, '매혹': 7458, '6회': 7459, '아슬아슬하다': 7460, '추격자': 7461, '최대한': 7462, '해고': 7463, 'ㅋㅋㅋㅋㅋㅋㅋㅋㅋㅋㅋㅋㅋㅋㅋㅋㅋ': 7464, '섬뜩': 7465, '슨상님': 7466, '양치기': 7467, '벅스라이프': 7468, '빈스': 7469, '진호': 7470, '엑소시즘': 7471, '브금': 7472, '라라': 7473, '박기웅': 7474, '파트': 7475, '복제': 7476, '퍼센트': 7477, '내주다': 7478, '피구': 7479, '어짜피': 7480, '출세작': 7481, '수애': 7482, '리트': 7483, '동일하다': 7484, '불만족': 7485, '더미': 7486, '난쟁이': 7487, '최시원': 7488, '쿠퍼': 7489, '한지훈': 7490, '공산당': 7491, '프레임': 7492, '넣기': 7493, '우화': 7494, '날씨': 7495, '마리아': 7496, '심플': 7497, '초점': 7498, '이무영': 7499, '드라이브': 7500, '루고': 7501, '찬열': 7502, '시로': 7503, '여성부': 7504, '세포': 7505, '패밀리': 7506, '드라큐라': 7507, '쥬라기': 7508, '모어': 7509, '홍석천': 7510, '나잇': 7511, '덴': 7512, '고로': 7513, '스미스': 7514, '이화영': 7515, '해군기지': 7516, '대입': 7517, '직설': 7518, '아이덴티티': 7519, '태고': 7520, '콘서트': 7521, '평론': 7522, '하류': 7523, '봣습니': 7524, '알라': 7525, '불감증': 7526, '심야': 7527, '얄팍하다': 7528, '스튜디오': 7529, '일병': 7530, '히나타': 7531, '수로': 7532, '대중성': 7533, '타이밍': 7534, '키읔': 7535, '강원도': 7536, '생명력': 7537, '귓가': 7538, '부작용': 7539, '건축물': 7540, '유명배우': 7541, '화초': 7542, '무너': 7543, '자꾸만': 7544, '우울함': 7545, '추녀': 7546, '하모니': 7547, '삼국지': 7548, '에스': 7549, '둘러싸다': 7550, '막막하다': 7551, '용면': 7552, '요나': 7553, '클럽': 7554, '봉지': 7555, '솔까말': 7556, '미녀삼총사': 7557, '장진': 7558, 'r': 7559, '실속': 7560, '통제': 7561, '술집': 7562, '헛소리': 7563, '익숙': 7564, '포커스': 7565, '지리': 7566, '브라운관': 7567, '수련': 7568, '마감': 7569, '수상작': 7570, '대처': 7571, '은영': 7572, '클라라': 7573, '뻑': 7574, '나볼': 7575, '로맨스코미디': 7576, '카이지': 7577, '페넬로페': 7578, '예약': 7579, '팩트': 7580, '도구': 7581, '갚다': 7582, '101': 7583, '패기': 7584, '태클': 7585, '히치콕': 7586, '내부': 7587, '직장인': 7588, '스트': 7589, '최신': 7590, '장하다': 7591, '횽': 7592, '처키': 7593, '가져다주다': 7594, '루지': 7595, '레몬': 7596, '놈놈놈': 7597, '엘리베이터': 7598, '그림자': 7599, '여태껏': 7600, '순박하다': 7601, '싸가지': 7602, '한때': 7603, '장악': 7604, '맷': 7605, '유비': 7606, '서두': 7607, '마주': 7608, 'do': 7609, '2분': 7610, '엑기스': 7611, '프리드': 7612, '소의': 7613, '우주전쟁': 7614, '지연': 7615, '문학관': 7616, '다물다': 7617, '눈썹': 7618, '형사물': 7619, '마더': 7620, '촛불': 7621, '일장춘몽': 7622, '결투': 7623, '알아주다': 7624, '이청아': 7625, '김해숙': 7626, '업체': 7627, '모름': 7628, '낮아지다': 7629, '처지': 7630, '전파': 7631, '게살': 7632, '11시': 7633, 'look': 7634, '감당': 7635, '오디오': 7636, '살라': 7637, '궁상맞다': 7638, '베플': 7639, '자질': 7640, '1996년': 7641, '영아': 7642, '이중성': 7643, '불꽃': 7644, '포로': 7645, '신참': 7646, '고의': 7647, '랭킹': 7648, '남겨지다': 7649, '능청': 7650, '템포': 7651, '진주': 7652, 'ㄲ': 7653, '스텔론': 7654, '상반': 7655, '환하다': 7656, '김재원': 7657, '여분': 7658, '지난날': 7659, '내미다': 7660, '불완전하다': 7661, '전날': 7662, '강혜정': 7663, '유료': 7664, '비트': 7665, '동경': 7666, '이경영': 7667, '얄밉다': 7668, '마릴': 7669, '코비': 7670, '퍼포먼스': 7671, '글로리아': 7672, '생동감': 7673, '주마': 7674, '반의': 7675, '멜로드라마': 7676, '강하': 7677, '히로시': 7678, '개시': 7679, '찌그러지다': 7680, '사형수': 7681, '친북': 7682, '트로이': 7683, '파급': 7684, '가누다': 7685, '환영': 7686, '그었다': 7687, '못내': 7688, '꿀잼임': 7689, '이하나': 7690, '일로': 7691, 'jyj': 7692, '일어나지': 7693, '발매': 7694, '옹': 7695, '마력': 7696, '숨죽': 7697, '하트넷': 7698, '로보캅': 7699, '음미': 7700, '주저': 7701, '주일': 7702, '학대': 7703, '일당백': 7704, '자연스레': 7705, '빈민가': 7706, '선영': 7707, '경지': 7708, '어벤저스': 7709, '13년': 7710, '로키': 7711, 'beautiful': 7712, '감탄사': 7713, '결': 7714, '쓰라리다': 7715, '아이즈': 7716, '아싸': 7717, 'we': 7718, '톱': 7719, '황폐': 7720, '핀처': 7721, '애나벨': 7722, '인시디어스': 7723, '안녕': 7724, '왕실': 7725, '박정민': 7726, '박시연': 7727, '오늘이': 7728, '람사': 7729, '사명': 7730, '한수': 7731, '사악하다': 7732, '선지': 7733, '흘러내리다': 7734, '햇살': 7735, '키키': 7736, '자화상': 7737, '멎다': 7738, '거인': 7739, '평온하다': 7740, '문채원': 7741, '어게인': 7742, '대회': 7743, '해피앤딩': 7744, '메타포': 7745, '로치': 7746, '느': 7747, '햄': 7748, '맴도': 7749, '주님': 7750, '자문': 7751, '첩혈쌍웅': 7752, '장가휘': 7753, '잠수함': 7754, '미술관': 7755, '99': 7756, '은대구': 7757, '맞서다': 7758, '28년': 7759, '딱지': 7760, '도박': 7761, '후벼파다': 7762, '혁신': 7763, '아빠어디가': 7764, '만이라도': 7765, '사전': 7766, '은수': 7767, '금물': 7768, '회한': 7769, '무조': 7770, '백미': 7771, '의성': 7772, '록키': 7773, 'for': 7774, '아야세': 7775, '달콤': 7776, '마리옹': 7777, '꼬띠': 7778, '강인': 7779, '감자별': 7780, '왜냐하면': 7781, '모니카': 7782, '평정': 7783, '오래간만': 7784, '부천': 7785, '선입견': 7786, '악의': 7787, '이민': 7788, '껌': 7789, '통속': 7790, '전장': 7791, '이츠키': 7792, '최상': 7793, '사막': 7794, '하내': 7795, '제리': 7796, '휘성': 7797, '찔끔': 7798, '봣어': 7799, '박한별': 7800, '뭉클': 7801, '93년': 7802, '사운드트랙': 7803, '김지운': 7804, '축복': 7805, '뮤': 7806, '롯': 7807, '꽂히다': 7808, '죄책감': 7809, '쫄깃': 7810, '난정': 7811, '리즈시절': 7812, '김혜자': 7813, '요즈음': 7814, '이슬': 7815, '절단': 7816, '무관심': 7817, '이슬람': 7818, '귀가': 7819, '월광보합': 7820, '구두': 7821, '감사용': 7822, '역쉬': 7823, '화전': 7824, '한시': 7825, '글구': 7826, '분도': 7827, '크리스천': 7828, '짱짱걸': 7829, '마스터': 7830, '송신': 7831, '아찔하다': 7832, '비인간': 7833, '태국': 7834, '렉터': 7835, '모차르트': 7836, '로멘틱': 7837, '여사': 7838, '봉만대': 7839, '무거': 7840, '충돌': 7841, '이동진': 7842, '정적': 7843, '넬': 7844, '카이': 7845, '여의도': 7846, '정조': 7847, '외로워': 7848, '지우': 7849, '불꽃놀이': 7850, '대학시절': 7851, '꺄': 7852, '서준이': 7853, '세이모어': 7854, '환대': 7855, '정겨운': 7856, '유느님': 7857, '호가': 7858, '숲': 7859, '로티': 7860, '광활하다': 7861, '악플달다': 7862, '애국': 7863, '저격수': 7864, '뛰어들다': 7865, '푸른': 7866, '아이스크림': 7867, '전투기': 7868, '택연': 7869, '다섯손가락': 7870, '화원': 7871, '알라딘': 7872, '애착': 7873, '가족사': 7874, '오도': 7875, '박하': 7876, '기생수': 7877, '이시영': 7878, '재밋었어': 7879, '쥑': 7880, '폭풍눈물': 7881, '휴식': 7882, '번뜩이다': 7883, '종북': 7884, '조아': 7885, '아키라': 7886, '보수': 7887, '모범': 7888, '상대방': 7889, '김명준': 7890, '뿅': 7891, '강호': 7892, '숨바꼭질': 7893, '어바웃타임': 7894, '삐삐': 7895, '아릅답': 7896, '숀': 7897, '소지': 7898, '앙상블': 7899, '신앙': 7900, '스펙트럼': 7901, '박유천': 7902, '경기도': 7903, '천안함': 7904, '하비에르': 7905, '이랑은': 7906, '코스모스': 7907, '비로소': 7908, '까발리다': 7909, '축소': 7910, '투사': 7911, '반한': 7912, '시댁': 7913, '어루만지다': 7914, '르네젤위거': 7915, '시원': 7916, '그로테스크': 7917, '마코': 7918, '눈물샘': 7919, '콜라보': 7920, '흑형': 7921, '트롤': 7922, '토대': 7923, '반함': 7924, '농부': 7925, '라오스': 7926, '민영화': 7927, '고난': 7928, '한지혜': 7929, '기일': 7930, '무성영화': 7931, '편안': 7932, '피에타': 7933, '도계': 7934, '노련하다': 7935, '도도하다': 7936, '사이다': 7937, '지휘자': 7938, '피터팬': 7939, '장학우': 7940, '이진수': 7941, '화양연화': 7942, '바스코': 7943, '쿠바': 7944, '신들리다': 7945, '훈녀': 7946, '담임': 7947, '션걸': 7948, '찡': 7949, '떳떳하다': 7950, '헐': 7951, '막부': 7952, '돌싱': 7953, '친밀하다': 7954, '테이프': 7955, '테디': 7956, '4천원': 7957, '꺾다': 7958, '기태영': 7959, '스피커': 7960, '자취': 7961, '단조': 7962, '모친': 7963, '스토킹': 7964, '돌리지': 7965, '위조': 7966, '여건': 7967, '사무실': 7968, '랴': 7969, '원스': 7970, '지아이조': 7971, '할갑다': 7972, '에혀': 7973, '정신사': 7974, '시리우스': 7975, '화이트': 7976, '투하': 7977, '다담': 7978, '학적': 7979, '단서': 7980, '정해지다': 7981, '서너': 7982, '특수부대': 7983, '쓸리다': 7984, '꽁': 7985, '다빈치': 7986, '히틀러': 7987, '놈임': 7988, '설치다': 7989, '약탈': 7990, '신터클라스': 7991, '2001년': 7992, '로튼토마토': 7993, '수잔서랜든': 7994, '로빈슨': 7995, '열거': 7996, '비위': 7997, 'dust': 7998, '4월': 7999, '5일': 8000, '대들다': 8001, '패륜': 8002, '이제훈': 8003, '밍밍': 8004, '비어': 8005, '야왕': 8006, '청담동': 8007, '가보': 8008, '개망': 8009, '흥이': 8010, '통통': 8011, '분해': 8012, '발표': 8013, 'ak': 8014, '빌딩': 8015, '재목': 8016, '루나': 8017, '조안': 8018, '능멸': 8019, '종국': 8020, '현란하다': 8021, '뒤끝': 8022, '웨스커': 8023, '초인': 8024, '친모': 8025, '사면': 8026, '팔리다': 8027, '개구리': 8028, '장하나': 8029, '향기도': 8030, '민망': 8031, '류승룡': 8032, '아부': 8033, '멀어지다': 8034, '니지': 8035, '페킨파': 8036, '서구': 8037, '저하': 8038, '몰리다': 8039, '캔': 8040, '온주완': 8041, '온라인': 8042, '종결': 8043, '데스': 8044, '이건정': 8045, '퀼리티': 8046, '일왕': 8047, '반란': 8048, '다날': 8049, '표방': 8050, '슈스케': 8051, '한다해': 8052, '명소': 8053, '햇빛': 8054, '비도': 8055, '레기': 8056, '세도': 8057, '개싸움': 8058, '뻣뻣하다': 8059, '한평생': 8060, '숭배': 8061, '오락가락': 8062, '탈북자': 8063, '저년': 8064, '국화': 8065, '음감': 8066, 'ㄲㅈ': 8067, '후후훗': 8068, '전수': 8069, '집애': 8070, '시부모': 8071, '구해': 8072, '안타': 8073, '최정윤': 8074, '엄씀': 8075, '약물': 8076, 'mb': 8077, '어쩜그리': 8078, '유추': 8079, '2003': 8080, '부처님': 8081, '서지': 8082, '제임슨': 8083, '익스펜더블': 8084, '스타뎀': 8085, '이러니까': 8086, '모이': 8087, '씬시티': 8088, 'ㅋㄱㅋ': 8089, '트라이앵글': 8090, '산만': 8091, '고문': 8092, '대충대충': 8093, '첫씬': 8094, '바꿔치다': 8095, '삼생이': 8096, '딘': 8097, '갸륵해': 8098, '배설': 8099, '36': 8100, '책상': 8101, '치중': 8102, '비번': 8103, '길예르모': 8104, '잔혹': 8105, '내막': 8106, '건전': 8107, '캐치': 8108, '참여자': 8109, '숟가락': 8110, '입센': 8111, '낚였어': 8112, '맨홀': 8113, '뚜껑': 8114, '액숀': 8115, '민것': 8116, '숱': 8117, '에네스': 8118, '기레기': 8119, '묵고': 8120, '댕기': 8121, '깁슨': 8122, '유희': 8123, '닮음': 8124, '고교': 8125, '차고': 8126, '주로': 8127, '스나입스': 8128, '사망유희': 8129, '최곤데': 8130, '밍숭맹숭': 8131, '프라임': 8132, '섹스씬': 8133, '은지원': 8134, '상봉': 8135, '이토준지': 8136, '호박': 8137, '계집': 8138, '셰익스피어': 8139, '쭈쭈': 8140, '낙하산': 8141, '재팬': 8142, '숭숭': 8143, '속담': 8144, '개살구': 8145, '딸도': 8146, '뮤지컬영화': 8147, '순서': 8148, '홍해': 8149, '아스테릭스': 8150, '괴상하다': 8151, '수요': 8152, '스탠바이': 8153, '선녀': 8154, '27': 8155, '반짝': 8156, '전자': 8157, '카메론디아즈': 8158, '샘솟다': 8159, '혼내다': 8160, '잡음': 8161, '위엄': 8162, '탐정': 8163, '준지': 8164, '깨어나다': 8165, '무미건조하다': 8166, '천공': 8167, '워프': 8168, '엮어': 8169, '난뒤': 8170, '번영': 8171, '3회': 8172, '탈피': 8173, '영화광': 8174, '집합소': 8175, '큰소리': 8176, '글케': 8177, 'navercom': 8178, '배트': 8179, '신용카드': 8180, '빌런': 8181, '열광하다': 8182, '더욱이': 8183, '접영': 8184, '본전': 8185, 'kgb': 8186, '포섭': 8187, '고유명사': 8188, '페미': 8189, '순풍': 8190, '반정부': 8191, '20회': 8192, '타블로': 8193, '사정봉': 8194, '박노식': 8195, '미약': 8196, 'obs': 8197, '전보': 8198, '퍽': 8199, '갈껀': 8200, '자시다': 8201, '포도': 8202, '침공': 8203, '외봉': 8204, '버려진': 8205, '온건': 8206, '라운드': 8207, 'e': 8208, '잘리다': 8209, '사례': 8210, '평택': 8211, '잡종': 8212, '외설': 8213, '니슨': 8214, '라오': 8215, '정신건강': 8216, '로이': 8217, '오케이': 8218, '잘추다': 8219, '연예계': 8220, '짤려': 8221, '맞춤법': 8222, '수목드라마': 8223, '화표': 8224, '길래': 8225, '안햇': 8226, '새엄마': 8227, '저스티스리그': 8228, '사도': 8229, '묵다': 8230, '플래툰': 8231, '위반': 8232, '자잘하다': 8233, 'atm': 8234, 'ng': 8235, '70분': 8236, '설원': 8237, '괴리감': 8238, '동태': 8239, '제데로': 8240, '피크닉': 8241, '취재': 8242, '학당': 8243, '비루하다': 8244, '팔면': 8245, '마삼': 8246, '지엠': 8247, '야만': 8248, '무당': 8249, '베드씬': 8250, '대견하다': 8251, '고은정': 8252, '강성재': 8253, '쇠방망이': 8254, '헤치다': 8255, '알아채다': 8256, '개멋': 8257, '수퍼액션': 8258, '복귀': 8259, '실없다': 8260, '꽈': 8261, '광고지': 8262, '조선인': 8263, '올림픽': 8264, '실크로드': 8265, '겟': 8266, '물속': 8267, '방귀': 8268, '폐쇄': 8269, '무신경': 8270, '색기': 8271, '서론': 8272, '베토벤바이러스': 8273, '시달리다': 8274, '취소': 8275, '케로로': 8276, '85년': 8277, '법적': 8278, '하든': 8279, '용이하다': 8280, '분산': 8281, '충동': 8282, '침몰': 8283, '안톤': 8284, '쿠삭': 8285, '나란하다': 8286, 'ㅇㅇㅇ': 8287, '날짜': 8288, '텀': 8289, '원장': 8290, '노래실력': 8291, '이거슨': 8292, '이끼': 8293, '김정훈': 8294, '용의': 8295, '기니피그': 8296, '뿜': 8297, '리플': 8298, '화병': 8299, '알아내다': 8300, '추측': 8301, '가방': 8302, '나가야': 8303, '세기말': 8304, '마술사': 8305, '복사': 8306, 'hd': 8307, 'people': 8308, '심청전': 8309, '꾹꾹': 8310, '김해': 8311, '찌라시': 8312, '택해': 8313, '표본': 8314, '씻다': 8315, '진전': 8316, '랜턴': 8317, '차오르다': 8318, '10만': 8319, '보다만': 8320, '잡아가다': 8321, '건축가': 8322, '깡': 8323, 'xy': 8324, '외적인': 8325, '쓸모': 8326, '별표': 8327, '속임수': 8328, '뭐냨': 8329, '구석구석': 8330, '취약': 8331, '다코타': 8332, '혈압': 8333, '오라': 8334, '심지호': 8335, '남자이야기': 8336, '울적하다': 8337, '배움': 8338, '취하': 8339, '권위': 8340, '가난': 8341, '류승완': 8342, '상환': 8343, '말좀': 8344, '요가': 8345, '학원': 8346, '낚일순': 8347, '성비': 8348, '장민': 8349, '래빗': 8350, '897': 8351, '하야': 8352, '17년': 8353, '길가': 8354, '멋찜': 8355, '멱살': 8356, '릴': 8357, '노숙자': 8358, '국비': 8359, '칸토나': 8360, '적응': 8361, '르노': 8362, '왕국': 8363, '드라마정': 8364, '필욘': 8365, '한예리': 8366, '장님': 8367, '혼수상태': 8368, '뚱뚱하다': 8369, '튀김': 8370, '증폭': 8371, '비공개': 8372, '떠벌리다': 8373, '레디': 8374, '33년': 8375, '으아아': 8376, '중단': 8377, '무장': 8378, '호크': 8379, '성생활': 8380, '수확': 8381, '미안': 8382, '친하다': 8383, '명예훼손': 8384, '고소하다': 8385, '고아원': 8386, '모면': 8387, '벡터맨': 8388, '노스트라다무스': 8389, '노리': 8390, '양다리': 8391, '지드': 8392, '아우르다': 8393, '꼴값': 8394, '불타다': 8395, '빠트리': 8396, '역주행': 8397, '전화하다': 8398, '지로': 8399, '시츄에이션': 8400, '과격하다': 8401, '귀하다': 8402, '에서까지': 8403, '작작': 8404, '탱크': 8405, '한수아': 8406, '폭죽': 8407, '정예': 8408, '피봄': 8409, '치네다': 8410, '보실': 8411, '스펀지': 8412, '백옥담': 8413, '고구려': 8414, '승자': 8415, '어떻든': 8416, '정녕': 8417, '치사하다': 8418, '스멜': 8419, '벨트': 8420, '전광판': 8421, '스케이트보드': 8422, 'kpop': 8423, 'star': 8424, '팝송': 8425, '리듬': 8426, '비키': 8427, '발끝': 8428, '43분': 8429, '롤모델': 8430, '가져가다': 8431, '앱등이': 8432, '스크린쿼터제': 8433, '대를': 8434, '토리': 8435, '분만': 8436, '워터': 8437, '재밌슴': 8438, '훈련': 8439, '가슴성형': 8440, '추잡': 8441, '100일': 8442, '2000': 8443, '도조': 8444, '부치다': 8445, '스턴트맨': 8446, '조커': 8447, '재등장': 8448, '야심': 8449, '임산부': 8450, '안드로메다': 8451, '똘': 8452, '육': 8453, '핡핡': 8454, '이기만': 8455, '부리고': 8456, '천진난만하다': 8457, '김지훈': 8458, '서나': 8459, '수두': 8460, '룩': 8461, '정희': 8462, '나열하다': 8463, '명치': 8464, '빽': 8465, '청년시절': 8466, '김유신': 8467, '쿵푸팬더': 8468, '론데': 8469, '버렷': 8470, '이런저런': 8471, '것임': 8472, '드림하이': 8473, '레슬러': 8474, '엇을텐': 8475, '귓속말': 8476, '게린': 8477, '호갱': 8478, '고철': 8479, '데모': 8480, '유래': 8481, '해하': 8482, '순식간': 8483, '출생': 8484, '햐': 8485, '마구잡이': 8486, '걸그룹': 8487, '나하': 8488, '제압': 8489, '도록': 8490, '블레어': 8491, '윗': 8492, '렛미인': 8493, '기미가요': 8494, '뒤태': 8495, '직시': 8496, '데끝': 8497, '중화사상': 8498, '일가견': 8499, '아대': 8500, '카토': 8501, '싱싱하다': 8502, '포크': 8503, '인구': 8504, '4분': 8505, '가난하다': 8506, '워낭소리': 8507, '상책': 8508, '이지마': 8509, '근엄하다': 8510, '마따나': 8511, '유독': 8512, '여장': 8513, '방가': 8514, '끝임': 8515, '웠': 8516, '랫': 8517, '탈레반': 8518, '뜸': 8519, '으로서는': 8520, '재연배우': 8521, '인간지네': 8522, '핏줄': 8523, '둘이서': 8524, '장구': 8525, '터보': 8526, '고저': 8527, '오바이트': 8528, '무차별': 8529, '유가': 8530, '가신': 8531, '어보': 8532, '패널': 8533, '홍은희': 8534, '순도': 8535, '방중': 8536, '윤혜영': 8537, '보삼': 8538, '타샤': 8539, '사샤': 8540, '사리다': 8541, '개쩌': 8542, '손태영': 8543, '난생처음': 8544, '오만': 8545, '자발': 8546, '시전': 8547, '잡것': 8548, '횽아': 8549, '여전': 8550, '관찰자': 8551, '해당': 8552, '김인권': 8553, '슈퍼노바': 8554, '8시': 8555, '찌꺼기': 8556, '빠들': 8557, '좌빨': 8558, '걸어가다': 8559, '왓던': 8560, '고지식하다': 8561, '어우동': 8562, '무협지': 8563, '볼순': 8564, '술해': 8565, '임마': 8566, '하등': 8567, '웨': 8568, '여구': 8569, '혜택': 8570, '킬미힐미': 8571, '툼레이더': 8572, '퇴색': 8573, '임달화': 8574, '어유': 8575, '놀음': 8576, '관용': 8577, '단합': 8578, '하위': 8579, '절친': 8580, '복고': 8581, '괴리': 8582, '환각': 8583, '이즈': 8584, '안치': 8585, '현수': 8586, '승승장구': 8587, '스카이폴': 8588, '세금': 8589, '존내': 8590, '마찰': 8591, '야박하다': 8592, '인심': 8593, '쉴드': 8594, '셧겟': 8595, '오딘': 8596, '신중하다': 8597, '성재': 8598, '일곱': 8599, '예리하다': 8600, '존잘': 8601, '중앙': 8602, 'ㄲㄲㄲ': 8603, '카니': 8604, '스탄': 8605, '교실': 8606, '바라냐': 8607, '레이리': 8608, '클라이맥스': 8609, '프랑': 8610, '정정당당하다': 8611, '다한': 8612, '범벅': 8613, '연산군': 8614, '적히다': 8615, '후려치다': 8616, '쿵푸허슬': 8617, '은밀': 8618, '악수': 8619, '맹세': 8620, '장말': 8621, '관광': 8622, '데체': 8623, '이상자': 8624, '윈다졸': 8625, '대서': 8626, '사카모토': 8627, '마야': 8628, '토코': 8629, '빠리': 8630, '대열': 8631, '에게까지': 8632, '개체': 8633, '로군': 8634, '병기': 8635, '시상식': 8636, '코트': 8637, '엑소더스': 8638, '캔디': 8639, '초심': 8640, '쓰레': 8641, '별도': 8642, '바람둥이': 8643, '기질': 8644, '제트': 8645, '유무': 8646, '780년': 8647, '오달수': 8648, '따갑다': 8649, '공백': 8650, '보채다': 8651, '진절머리': 8652, '일일': 8653, '지리멸렬하다': 8654, '페이소스': 8655, '황후': 8656, '컴퓨터그래픽': 8657, '여명': 8658, 'ㅈㅅ': 8659, '트럭': 8660, '돌파': 8661, '한판': 8662, '감염': 8663, '고간': 8664, '기형': 8665, '참내': 8666, '멕': 8667, '팔레스타인': 8668, '데니스': 8669, '혼': 8670, '안도': 8671, '주역': 8672, '파렐': 8673, '비애': 8674, '벽지': 8675, '로서나': 8676, '월트디즈니': 8677, '응징': 8678, '얼척': 8679, '레쉬': 8680, '교포': 8681, '한과': 8682, '지향': 8683, '연가시': 8684, '낙엽': 8685, '고약하다': 8686, '할껀': 8687, '살찌다': 8688, '정두홍': 8689, '개떡같다': 8690, '뇬': 8691, '바다로': 8692, '이우재': 8693, '나진': 8694, '60분': 8695, '뜯기다': 8696, '달려들다': 8697, '시구': 8698, '아악': 8699, '피파': 8700, '꼭두각시': 8701, '간반': 8702, '구림': 8703, '창피': 8704, 'iq': 8705, '물귀신': 8706, '에라곤': 8707, '잡다하다': 8708, '비서': 8709, '나타남': 8710, '명령': 8711, '스태프': 8712, '체인': 8713, '애마부인': 8714, '막걸리': 8715, '잠그다': 8716, '데블': 8717, '막대': 8718, '독일인': 8719, '페임': 8720, '재밋더': 8721, '주리': 8722, '지리하다': 8723, '차안': 8724, '캐리비안': 8725, '자존감': 8726, '채시라': 8727, '갈아타다': 8728, '포르노그래피': 8729, '공이': 8730, '고삐': 8731, '문법': 8732, '썰전': 8733, '관심사': 8734, '크레인': 8735, '다이너마이트': 8736, '22분': 8737, '돌려차기': 8738, '보육원': 8739, '유출': 8740, '발리우드': 8741, '처넌': 8742, '저주받다': 8743, '독점': 8744, '시비': 8745, '극도': 8746, '발작': 8747, '홉킨스': 8748, '지난주': 8749, '방학': 8750, '정선경': 8751, '배출': 8752, 'wwe': 8753, '트리플': 8754, '침략전쟁': 8755, '제로센': 8756, '최현': 8757, '세속': 8758, '앵무새': 8759, '유학': 8760, '뇌물': 8761, '고현정': 8762, '고지라': 8763, '8090년': 8764, '욕함': 8765, '걸어오다': 8766, '나이트메어': 8767, '연역': 8768, '크기': 8769, '조성하': 8770, '민효린': 8771, '짤린': 8772, '부심': 8773, '찰떡': 8774, '분발': 8775, '목동': 8776, '혜리': 8777, '재결합': 8778, '홈페이지': 8779, '우뢰': 8780, '유망': 8781, '종결자': 8782, '녹음': 8783, '어렴풋': 8784, '제멋대로': 8785, '바이오맨': 8786, '나아': 8787, '변절': 8788, '김영호': 8789, '신앙심': 8790, '허울': 8791, '미치광이': 8792, '지스토리': 8793, '차만': 8794, '실마리': 8795, '복싱': 8796, '칼침': 8797, '무신': 8798, '인정받다': 8799, '앤더슨': 8800, '87년': 8801, '교통사고': 8802, '괴랄': 8803, '광산': 8804, '고이즈미': 8805, '뒤에': 8806, '이지아': 8807, '레슬링': 8808, '초중생': 8809, '배타': 8810, '럼': 8811, '넓히다': 8812, '가제': 8813, '쪼끔': 8814, '갈아입다': 8815, '준기': 8816, '설치': 8817, '세친구': 8818, '바흐': 8819, '따라다니다': 8820, 'swat': 8821, '나방': 8822, '윤리': 8823, '편협': 8824, '보편성': 8825, '청춘영화': 8826, '유쾌하': 8827, '꽉': 8828, '질주': 8829, '이소재': 8830, '러쉬': 8831, '민재': 8832, '비누': 8833, '이아': 8834, '한공주': 8835, '개지': 8836, '김민정': 8837, '26': 8838, '리다': 8839, '가내': 8840, '이광수': 8841, '다지다': 8842, '인즈': 8843, '힐튼': 8844, '티남': 8845, '진목승': 8846, '마운틴': 8847, '무쟈': 8848, 'ㅇㅋ': 8849, '1999년': 8850, '새기다': 8851, '미셸': 8852, '피조': 8853, '유명인': 8854, '엄연하다': 8855, '패가': 8856, '브라이언': 8857, '사격': 8858, '로드무비': 8859, '관도': 8860, '계약': 8861, '당선': 8862, '시드': 8863, '판소리': 8864, '페르시아': 8865, '달리기': 8866, '저따위': 8867, '사채': 8868, '목줄': 8869, '단비': 8870, '올라서다': 8871, 'when': 8872, 'be': 8873, '클레': 8874, '불쾌': 8875, '뻔햇': 8876, '비키니': 8877, '폐기': 8878, '05년': 8879, '꼬꼬': 8880, '만분': 8881, '일편': 8882, '참담하다': 8883, '찢어지다': 8884, '잔인성': 8885, '코메': 8886, '디도': 8887, '리딕': 8888, 'what': 8889, '더프': 8890, '색즉시공': 8891, '라든가': 8892, '이디야': 8893, '왜인': 8894, '평가자': 8895, '마사': 8896, '유공': 8897, '대문': 8898, '창의력': 8899, '건방지다': 8900, '고만하다': 8901, '규어': 8902, '설계': 8903, '출판사': 8904, '황금시간대': 8905, '조폭마누라': 8906, '상한': 8907, '아부지': 8908, '이어도': 8909, '갱생': 8910, '얕다': 8911, '무능력하다': 8912, '봣으': 8913, '차례대로': 8914, '후손': 8915, '이자스민': 8916, '쟁취': 8917, '블럭버스터': 8918, '입김': 8919, '우보': 8920, '간호사': 8921, '팬더': 8922, '어사일럼': 8923, '괴': 8924, '찬물': 8925, '회복': 8926, '뎌': 8927, '하울': 8928, '팍팍하다': 8929, '홈즈': 8930, '반환': 8931, '맥아': 8932, '쉣': 8933, '창피해': 8934, '사서': 8935, '채린': 8936, '날아오다': 8937, '마법사': 8938, '전인': 8939, '탄식': 8940, '보고따': 8941, '인육': 8942, '석궁': 8943, '판결': 8944, '테두리': 8945, '죠지': 8946, '궂': 8947, '넋두리': 8948, '요절': 8949, '휠체어': 8950, '칼빵': 8951, '깨우침': 8952, '엇으': 8953, '고든': 8954, '성해': 8955, '청리': 8956, '이마': 8957, '두르다': 8958, '겄': 8959, '발동': 8960, '공전': 8961, '넘버': 8962, '흠집': 8963, '말타': 8964, '그리스': 8965, '기해': 8966, '사탕': 8967, '취침': 8968, '소릴': 8969, '무자식': 8970, '기왕': 8971, '구지성': 8972, '김일성': 8973, '리즘': 8974, '충고': 8975, '착오': 8976, '치킨': 8977, '애프터': 8978, '펙트': 8979, '노엘': 8980, '바이킹': 8981, '성하': 8982, '유사라': 8983, '에까지': 8984, '폴더': 8985, '이상호': 8986, '글귀': 8987, '리프': 8988, '2000원': 8989, '교사': 8990, '방어율': 8991, '으로서의': 8992, '요란하다': 8993, '동무': 8994, '20만': 8995, '암탉': 8996, '시바': 8997, '체다': 8998, '인력': 8999, '손빈': 9000, '구기다': 9001, '상대로': 9002, '폐차': 9003, '소나타': 9004, '경찰차': 9005, '허풍': 9006, '사바나': 9007, '티스': 9008, '재발': 9009, '하나같다': 9010, '성범죄자': 9011, '크루': 9012, '거사': 9013, '섹쉬': 9014, '오산': 9015, '환갑': 9016, '이뿌다': 9017, '보심': 9018, '난장': 9019, '날줄': 9020, '출진': 9021, '파업': 9022, '모토': 9023, '감칠맛': 9024, '괴물영화': 9025, '찬송가': 9026, '스탭들': 9027, 'scene': 9028, '패키지': 9029, '뻘': 9030, '바디': 9031, '이지애': 9032, '8년': 9033, '어느덧다': 9034, '패자': 9035, '서기': 9036, '틈틈이': 9037, '사부일체': 9038, '상사부일체': 9039, '인대': 9040, '창문': 9041, '연우': 9042, '도희': 9043, '다인': 9044, '챙': 9045, 'last': 9046, 'alive': 9047, '창의': 9048, '더랬': 9049, '텍사스': 9050, '편파': 9051, '박시환': 9052, '합격': 9053, '공략': 9054, '오시': 9055, '몸속': 9056, '액스맨': 9057, '15회': 9058, '꽃집': 9059, '수의': 9060, '부끄럼': 9061, '나잇스탠드': 9062, '어선': 9063, '관계도': 9064, '고충': 9065, '딜레마': 9066, '브레이': 9067, '나리': 9068, '염치': 9069, '데미무어': 9070, '일어': 9071, '츠카사': 9072, '개뻥': 9073, '좌우': 9074, '졸귀': 9075, '설령': 9076, '거금': 9077, '갈기': 9078, '나쁜사람': 9079, '필살기': 9080, '대만': 9081, '성기': 9082, '젠토': 9083, '여성혐오증': 9084, '윽': 9085, '다이애나': 9086, '왕세자': 9087, '엇다': 9088, '하얀거탑': 9089, '골든타임': 9090, '정지훈': 9091, '도제': 9092, '군사': 9093, '군복': 9094, '고지전': 9095, '개솔': 9096, '트렁크': 9097, '쪽발이': 9098, '명박': 9099, '떼창': 9100, '코리아': 9101, '값어치': 9102, '백제': 9103, '박재범': 9104, '리포트': 9105, '제휴': 9106, '1월': 9107, '섭소천': 9108, '썸': 9109, '속사정': 9110, '볼랬는데': 9111, '아지트': 9112, '증언': 9113, '50분': 9114, '1960년': 9115, '김정태': 9116, '미혼': 9117, '행태': 9118, '죄송': 9119, '벙어리': 9120, '아우성': 9121, '씽': 9122, '전복': 9123, '스노우보드': 9124, '캐시': 9125, '세계사': 9126, '유혼': 9127, '해신': 9128, '조선영': 9129, '당구공': 9130, '스완': 9131, '부질없다': 9132, '권장': 9133, '걸음걸이': 9134, '급박하다': 9135, '동작': 9136, '장만': 9137, '한적하다': 9138, '부엉': 9139, '유미': 9140, '가만히': 9141, '랍시고': 9142, '디지털': 9143, '노이로제': 9144, '반비례': 9145, '우창': 9146, '한나': 9147, '구제': 9148, '무인': 9149, '인간성': 9150, '정책': 9151, '스캔들': 9152, '어리둥절': 9153, '붙이': 9154, '부상': 9155, '말종': 9156, '미인': 9157, '만으로는': 9158, '끓이다': 9159, '몰두하다': 9160, '김범': 9161, '헛되': 9162, '틀어지다': 9163, '기다림': 9164, '드뎌': 9165, '일삼': 9166, '유인원': 9167, '김청기': 9168, '확고하다': 9169, '강변': 9170, '공중': 9171, '의의': 9172, '쿠리다': 9173, '비토': 9174, '전후': 9175, '이그리': 9176, '오덕': 9177, '핀란드': 9178, '국사': 9179, '대지': 9180, '맥클레인': 9181, '종대': 9182, '소수': 9183, '번외편': 9184, '아이스': 9185, '큐브': 9186, '답습': 9187, '모임': 9188, '복불복': 9189, '신인시절': 9190, '멋찌': 9191, '근친상간': 9192, '계승': 9193, '짜르': 9194, '메리다': 9195, '스엠': 9196, '대요': 9197, '루비': 9198, '산악': 9199, '변호': 9200, '핵폐기물': 9201, 'tva': 9202, '아노하나': 9203, '관록': 9204, '난치': 9205, '스틸컷': 9206, '예체능': 9207, '맛보다': 9208, '요부': 9209, '로류': 9210, '캠': 9211, '아차': 9212, '바임': 9213, '파란': 9214, '숙청': 9215, '아리랑': 9216, '점준놈': 9217, '화기': 9218, '먹듯': 9219, '간략하다': 9220, 'fbi': 9221, '가약': 9222, '좆': 9223, '입양': 9224, '램버트': 9225, '이명박': 9226, '권선': 9227, '징악': 9228, 'snl': 9229, '이이해': 9230, '러브신': 9231, '112': 9232, '시월애': 9233, 'ufo': 9234, '숨소리': 9235, '쌈': 9236, '글쎼': 9237, '오키나와': 9238, '표시': 9239, '만일': 9240, '수만': 9241, '이상아': 9242, '사돈': 9243, '저우쉰': 9244, '뻐꾸기': 9245, '분하다': 9246, '의료': 9247, '국영': 9248, '놈년': 9249, '프폭': 9250, '비운': 9251, '연연하다': 9252, '트리오': 9253, '자유의지': 9254, '깡그리': 9255, '본색': 9256, '악기': 9257, '늪': 9258, '갖은': 9259, '분자': 9260, '5원': 9261, '니키타': 9262, '남극': 9263, '임채무': 9264, '껄렁': 9265, '주걸륜': 9266, '96년': 9267, '노처녀': 9268, '되찾다': 9269, '데헷': 9270, '오우': 9271, '행사': 9272, '덩실': 9273, '고글': 9274, '포청천': 9275, '닭살': 9276, '떠보다': 9277, '아이라인': 9278, '우연이': 9279, '무쌍': 9280, '통화': 9281, '에이핑크': 9282, '느릿하다': 9283, '가엾다': 9284, '외도': 9285, '딜': 9286, '보완': 9287, '츄': 9288, '부인과': 9289, '시아버지': 9290, '탄탄': 9291, '사생아': 9292, '탁하다': 9293, '좌편향': 9294, '107분': 9295, '환불': 9296, '1992년': 9297, '1994년': 9298, '말씀드리다': 9299, '그림판': 9300, '줄창': 9301, '럭': 9302, '랑께': 9303, '만들엇냐': 9304, '28분': 9305, '곱': 9306, '이송희일': 9307, '막내': 9308, '유방': 9309, '나불': 9310, '홀애비': 9311, '화구': 9312, '전투력': 9313, '크레이지': 9314, '서린': 9315, '만큼만': 9316, '복수초': 9317, '비슷비슷': 9318, '롯데': 9319, '편향': 9320, '도살': 9321, '따라잡다': 9322, '앤드류스': 9323, '선교사': 9324, '건전하다': 9325, '자서': 9326, '유키': 9327, '닥터진': 9328, '수꼴': 9329, '칭하': 9330, '토양': 9331, '오그': 9332, '위노나': 9333, '로선': 9334, '이건영': 9335, '유전자': 9336, '오죽': 9337, '문방구': 9338, '잠재우다': 9339, '윤종신': 9340, '김국진': 9341, '규현': 9342, '공군': 9343, '북괴': 9344, '경로': 9345, '속보': 9346, '파커': 9347, '빠': 9348, '영하': 9349, '투사부일체': 9350, '느끼하다': 9351, '볼타': 9352, '김정은': 9353, '추노': 9354, '아랍': 9355, '89년': 9356, '국기': 9357, '용하다': 9358, '바랬는데': 9359, '잘나오다': 9360, '딧': 9361, '월동': 9362, '꾀': 9363, '요하': 9364, '어떡': 9365, '가루지기': 9366, '야마카시': 9367, '툭': 9368, '보리밥': 9369, 'ㅋㅋㅋㅋㅋㅋㅋㅋㅋㅋㅋㅋㅋㅋㅋㅋㅋㅋㅋㅋ': 9370, '프랭코': 9371, '주간': 9372, '허각': 9373, '김지수': 9374, '866': 9375, '실로': 9376, 'ㅕ': 9377, '복습': 9378, '김동욱': 9379, '엄브릿지': 9380, '악한': 9381, '사려': 9382, '친누나': 9383, '연화': 9384, '호의': 9385, '선의': 9386, '머임': 9387, '몽롱': 9388, '낚더': 9389, '스틸': 9390, '가라데': 9391, '과외': 9392, '워킹데드': 9393, '덧': 9394, '흉작': 9395, '개극혐': 9396, '제레미': 9397, '용산': 9398, '둥지': 9399, '지체': 9400, '타일러': 9401, '유연석': 9402, '전세': 9403, '디아': 9404, '접합': 9405, '경멸': 9406, '나태하다': 9407, '쑤다': 9408, '진흙탕': 9409, '골든': 9410, '단언컨대': 9411, '걸왜': 9412, '이지현': 9413, '김사랑': 9414, '퇴장': 9415, '고립': 9416, '짐심': 9417, '지진': 9418, '작전': 9419, '브란도': 9420, '제주도': 9421, '뤽베송': 9422, '유감': 9423, '고경표': 9424, '약점': 9425, '신호탄': 9426, '공통점': 9427, '산속': 9428, '전두환': 9429, '폴라': 9430, '믹서기': 9431, '설사': 9432, '싱글': 9433, '박정': 9434, '해몽': 9435, '은정': 9436, '취': 9437, '넘겨보다': 9438, '부엉이': 9439, '호기': 9440, '변장': 9441, '프리허그': 9442, '패턴': 9443, '밀당': 9444, '당일': 9445, '전회': 9446, '미련': 9447, '타겟': 9448, '노자': 9449, '협녀': 9450, '엔젤아이즈': 9451, '드루': 9452, '슴가': 9453, '검도': 9454, '쿨러닝': 9455, 'xxx': 9456, '늙은이': 9457, '기별': 9458, '무현': 9459, '공모': 9460, '해치다': 9461, '적지': 9462, '1939년': 9463, '맨발': 9464, '라졸라': 9465, '칙칙하다': 9466, '기무라': 9467, '타쿠야': 9468, '불사신': 9469, '어여쁘다': 9470, '55': 9471, '거유': 9472, '소금': 9473, '정경애': 9474, '모세': 9475, '뽀뽀': 9476, '연말': 9477, '전효성': 9478, '이상준': 9479, '쉿': 9480, '이하고': 9481, '아웅': 9482, '알반': 9483, '휴일': 9484, '넘어오다': 9485, '인사이드아웃': 9486, '출품': 9487, '느긋하다': 9488, '재밋는데': 9489, '유유백서': 9490, '사탄': 9491, '불법체류자': 9492, '이용만': 9493, '이편': 9494, '판다': 9495, '화형식': 9496, '승천': 9497, '시큰둥하다': 9498, '영화니': 9499, '저열': 9500, '아지': 9501, '이득': 9502, '디다': 9503, '투어': 9504, '만듭니': 9505, '침울하다': 9506, '쌍꺼풀': 9507, '적어지다': 9508, '로트': 9509, '확대': 9510, '공연장': 9511, '봉사': 9512, '싱': 9513, '보정': 9514, '알포인트': 9515, '일라이': 9516, '비견': 9517, '꿈나라': 9518, '벨소리': 9519, '준놈': 9520, '둥둥': 9521, '우어어': 9522, '얼간이': 9523, '고아라': 9524, '닥터후': 9525, '11월': 9526, '1일': 9527, '신나라': 9528, '93': 9529, '오르내리다': 9530, '흐트러뜨리': 9531, '담론': 9532, '라이즈': 9533, '줄어들다': 9534, '마음껏': 9535, '발산': 9536, '최적화': 9537, '윗사람': 9538, '꽂다': 9539, '루키': 9540, '영화제작': 9541, '예견': 9542, '상하': 9543, '코같다': 9544, '길용우': 9545, '제아': 9546, '예감': 9547, '망아': 9548, '마스터링': 9549, '복도': 9550, '김옥빈': 9551, '올리비아': 9552, '홀딱': 9553, '오만하다': 9554, '파이트': 9555, '자괴': 9556, '나부': 9557, '무크': 9558, '사이비': 9559, '이영환': 9560, '대항': 9561, '홍경인': 9562, '소속사': 9563, '기교': 9564, '써주다': 9565, '자의': 9566, '매드': 9567, '후쿠': 9568, '약해지다': 9569, '개입': 9570, '낭': 9571, '영화포스터': 9572, '천안함프로젝트': 9573, '남태현': 9574, '랑드': 9575, '앞세우다': 9576, '구타': 9577, '최종': 9578, '공권력': 9579, '경관': 9580, '2014': 9581, '이었음': 9582, '돌보다': 9583, '슈나이더': 9584, '타협': 9585, '까마귀': 9586, '부딪치다': 9587, '송은채': 9588, '쭉쭉': 9589, '초적': 9590, '같잖다': 9591, '댓글알바': 9592, '백이': 9593, '허블': 9594, '용납': 9595, '음정': 9596, '쏠리다': 9597, '어렴풋하다': 9598, '뭘말': 9599, '투철': 9600, '산삼': 9601, '하수오': 9602, '견인': 9603, '도달': 9604, '신파극': 9605, '라카': 9606, '주책': 9607, '화단': 9608, '스마트폰': 9609, '염정아': 9610, '순진하다': 9611, '황은정': 9612, '상자': 9613, '을해': 9614, '우크라이나': 9615, '식다': 9616, '도인': 9617, '퇴마': 9618, '잌': 9619, '하드코어': 9620, '쨋': 9621, '웟음': 9622, '찿': 9623, '소위': 9624, '비아이': 9625, '사이드': 9626, '각본가': 9627, '성서': 9628, '일당': 9629, '왕족': 9630, '버질': 9631, '다스': 9632, '불타': 9633, '고용': 9634, '중얼거리다': 9635, '동선': 9636, '하와이': 9637, '휘날리다': 9638, '가출': 9639, '유동근': 9640, '선언': 9641, '브레드': 9642, '애꿎': 9643, '알바인': 9644, '개편': 9645, '오분': 9646, '번가': 9647, '대기업': 9648, 'cctv': 9649, '시안': 9650, '음란하다': 9651, '증인': 9652, '케시': 9653, '윤상': 9654, '도수코': 9655, '셔터': 9656, '수법': 9657, '이주승': 9658, '제안': 9659, '불행하다': 9660, '산행': 9661, '이동희': 9662, '옥상': 9663, '살수': 9664, '최선정': 9665, '색안경': 9666, '김봉두': 9667, '안젤라': 9668, '준호': 9669, '김희원': 9670, '1999': 9671, '윤진서': 9672, '스티': 9673, '전북': 9674, '무시무시하다': 9675, '장훈': 9676, '블루레이': 9677, '먹어주다': 9678, '제타': 9679, '헌제': 9680, '평등하다': 9681, '이순신장군': 9682, '낚는': 9683, '토마토': 9684, '고추': 9685, '맵다': 9686, '에밀리': 9687, '전략': 9688, '뱅': 9689, '카셀': 9690, '천만배': 9691, '이동': 9692, '점령': 9693, '독사': 9694, '불도': 9695, '전원주': 9696, '젤위거': 9697, '텔': 9698, '전자제품': 9699, '막눈': 9700, '록산느': 9701, '멍멍': 9702, '실정': 9703, '터들': 9704, '까비': 9705, '들판': 9706, '다짜고짜': 9707, '쌔': 9708, '질렌할': 9709, '똥망': 9710, '타카': 9711, '알량하다': 9712, '참사': 9713, '아이콘': 9714, '리키': 9715, '승무원': 9716, '우체통': 9717, '배경인': 9718, 'days': 9719, '곱창': 9720, '갱신': 9721, '라디오': 9722, '대갈': 9723, '후려': 9724, '컨텐츠': 9725, '려원': 9726, '키다': 9727, '스포일러': 9728, '노익': 9729, '노동': 9730, '이혜영': 9731, '부잣집': 9732, '경찰서': 9733, '영자': 9734, '5시간': 9735, '서리': 9736, '버겁다': 9737, '바늘': 9738, '의적': 9739, '배리': 9740, '바이블': 9741, '커피하우스': 9742, '유스케': 9743, '사색': 9744, '중하': 9745, '붕대': 9746, '리터': 9747, '티스푼': 9748, '비평': 9749, '학과': 9750, '집필': 9751, '연발': 9752, '점유': 9753, '스킬': 9754, '얘길': 9755, '데포': 9756, '이지나': 9757, '스킨': 9758, '유노윤호': 9759, '안야': 9760, '화물차': 9761, '적재': 9762, 'off': 9763, '350': 9764, '남규리': 9765, '섴': 9766, '협주곡': 9767, '실베스터': 9768, '드레드': 9769, '유지태': 9770, '공화당': 9771, '한가인': 9772, '번방': 9773, '52': 9774, '부릅뜨다': 9775, '학력': 9776, '장례식': 9777, '나이틀리': 9778, '차량': 9779, '절도': 9780, '기물': 9781, '집행': 9782, '무안': 9783, '동화책': 9784, '밋엇': 9785, '거룩하다': 9786, 'goodbye': 9787, '번주': 9788, '월급': 9789, '각종': 9790, '농': 9791, '홍성': 9792, '즐비하다': 9793, '그간': 9794, '자베르': 9795, '시가': 9796, '업무': 9797, '임파': 9798, '율도': 9799, '액': 9800, '스네이크': 9801, '스마트': 9802, '기상': 9803, '음식물': 9804, '발킬머': 9805, '박재정': 9806, '도둑질': 9807, 'world': 9808, '시크릿': 9809, '샤론': 9810, '스톤': 9811, '메우다': 9812, '동심파괴': 9813, '권투': 9814, '미노': 9815, '암투': 9816, '연하': 9817, '79년': 9818, '로부터': 9819, '26년': 9820, '가만있다': 9821, '거꾸로': 9822, '아톰': 9823, '독수리': 9824, '어로': 9825, '변영화': 9826, '얼렁뚱땅': 9827, '토악질': 9828, 'nc': 9829, '자해': 9830, '캐나다': 9831, '치료받다': 9832, '개월': 9833, '이두용': 9834, '전여친': 9835, '모가지': 9836, '딴다': 9837, '실명': 9838, '파탄': 9839, '노망': 9840, '잭블랙': 9841, '800만': 9842, '수익': 9843, '농락': 9844, 'ㅔ': 9845, '얼라이브': 9846, '여균동': 9847, '역경': 9848, '았음': 9849, '재밋게봣다': 9850, '틀림': 9851, '두목': 9852, '회피': 9853, '모에': 9854, '정신과': 9855, '부동': 9856, '으잌': 9857, '물러나다': 9858, '화필': 9859, '브레이크': 9860, '익스': 9861, '가지가지': 9862, '못바': 9863, '메르스': 9864, '어쩌나': 9865, '귀환': 9866, '디센트': 9867, '로마시대': 9868, '유토피아': 9869, '군림': 9870, '빵셔틀': 9871, '제한': 9872, '피닉스': 9873, '불사조': 9874, '윌리암': 9875, '드웨인존슨': 9876, '2월': 9877, '14일': 9878, '괴롭힘': 9879, '블란쳇': 9880, '세가족': 9881, '라만': 9882, '나미': 9883, '모래': 9884, '허우적대다': 9885, '퀀': 9886, '지도자': 9887, '아집': 9888, '도라에몽': 9889, '고산': 9890, '골목': 9891, '까치': 9892, '루스': 9893, '주년': 9894, '틈틈하다': 9895, '물든': 9896, '돌멩이': 9897, '노릇': 9898, '오스틴파워': 9899, '정신분열': 9900, '귤': 9901, '남기남': 9902, '훠': 9903, '얼씬': 9904, '드라마스페셜': 9905, '삭았': 9906, '빰': 9907, '장인정신': 9908, '이사': 9909, '합리': 9910, '급격하다': 9911, '민간인': 9912, '가꾸다': 9913, '자지러지다': 9914, '캄보디아': 9915, '쫑알': 9916, '경주': 9917, '수색': 9918, '주리다': 9919, '뱃김': 9920, '특수분장': 9921, '119': 9922, '이대': 9923, '재단': 9924, '건담': 9925, '족속': 9926, '강제규': 9927, '독선': 9928, '공정하다': 9929, '오즈의마법사': 9930, '얼리다': 9931, '시르다': 9932, '마츠코': 9933, '다집': 9934, '섭': 9935, '글렌': 9936, '클로즈': 9937, '아이언': 9938, '홍종현': 9939, '수배': 9940, '초연': 9941, '심상': 9942, '웜홀': 9943, '헤더': 9944, '그레이엄': 9945, '지미': 9946, '개무시': 9947, '찮': 9948, '기여': 9949, '박해진': 9950, '형용': 9951, '파파야': 9952, '타고나다': 9953, '사립': 9954, '쟈': 9955, '다르덴': 9956, '비장하다': 9957, '차려': 9958, '그랫': 9959, '뷰': 9960, '자처': 9961, '구현': 9962, 'story': 9963, '권법': 9964, '학도': 9965, '흥신소': 9966, '우익': 9967, '정인': 9968, '흡혈귀': 9969, '장통': 9970, '뚱땡이': 9971, '아낰': 9972, '와르르': 9973, '토모': 9974, '2012': 9975, '삐뚤어지다': 9976, '반주': 9977, '우스': 9978, '봄날': 9979, '먹고다': 9980, '칠레': 9981, '시청료': 9982, '매달다': 9983, '스파게티': 9984, '불가사의하다': 9985, '이종수': 9986, '우락부락하다': 9987, '홍진영': 9988, '연휴': 9989, '오전': 9990, '이기주의': 9991, '에이지': 9992, '오른손': 9993, '돌프': 9994, '지출': 9995, '작가라': 9996, 'down': 9997, '피지': 9998, '에르': 9999, '여름방학': 10000, '자단': 10001, '전문용어': 10002, '종려시': 10003, '여섯': 10004, '닦이다': 10005, '파티': 10006, '블러드': 10007, '짬봉': 10008, '유기': 10009, '가희': 10010, '영희': 10011, '히로': 10012, '김윤진': 10013, '총구': 10014, '빙빙': 10015, '알렉산드라': 10016, '스폐셜': 10017, '베이비': 10018, '상품': 10019, '댄서': 10020, '승려': 10021, '이영애': 10022, '고장': 10023, '환희': 10024, '91': 10025, '찮아다': 10026, '고양': 10027, '호통': 10028, '불가하다': 10029, '였음': 10030, '그닥그닥': 10031, '와이어액션': 10032, '일텐데': 10033, '가선': 10034, '09': 10035, '8월': 10036, '9월': 10037, '10월': 10038, '외국어': 10039, '굶다': 10040, '장비': 10041, '갘': 10042, '수리검': 10043, '이기심': 10044, '조성': 10045, '육포': 10046, '수송': 10047, '도사': 10048, '보통사람': 10049, '오피러스': 10050, '솔비': 10051, '것일': 10052, '신청': 10053, '냉소': 10054, '화피': 10055, '인제': 10056, '양갱': 10057, '에두': 10058, '익숙해지다': 10059, '셀마': 10060, '합창': 10061, '도마뱀': 10062, '침입': 10063, '리우': 10064, '찌찌': 10065, '싸대기': 10066, '코앞': 10067, '4500원': 10068, '토비': 10069, '맥과이어': 10070, '서인': 10071, '분배': 10072, '커스버트': 10073, '사지': 10074, '쇼미더머니': 10075, '병아리': 10076, '나병': 10077, '들것': 10078, '에밀': 10079, '붇': 10080, '제출': 10081, '박지윤': 10082, '차이나': 10083, '밸런스': 10084, '시기하다': 10085, '복수심': 10086, '헛된': 10087, '전부일': 10088, '룬드': 10089, '6월': 10090, '슛': 10091, '선잠': 10092, '노비타': 10093, '요일': 10094, '20일': 10095, '21일': 10096, '베이컨': 10097, '들여놓다': 10098, '단호': 10099, '모션': 10100, '찜질방': 10101, '가글': 10102, '마리오': 10103, '호크아이': 10104, '기함': 10105, '반미': 10106, '청순하다': 10107, '쉬는시간': 10108, '카메라맨': 10109, '동족': 10110, '포카혼타스': 10111, '체인지': 10112, '시급하다': 10113, '핼드': 10114, '백만': 10115, '옜날': 10116, '어리숙하다': 10117, '말리': 10118, '옄': 10119, '참낰': 10120, '틀어막다': 10121, '청각장애': 10122, '아마겟돈': 10123, '어도': 10124, '밋었': 10125, '되돌아가다': 10126, '인크레더블': 10127, '깜찍하다': 10128, '면모': 10129, '줄기': 10130, '코넬': 10131, '프라다': 10132, '품격': 10133, '트라우마': 10134, '코코': 10135, '꼽겠다': 10136, '9년': 10137, '전우치': 10138, '우결': 10139, '아쿠아리움': 10140, '살포시': 10141, '시원시원하다': 10142, '지위': 10143, '베네딕트': 10144, '혹독하다': 10145, '점심': 10146, '첫째': 10147, '찬성': 10148, '외침': 10149, '저리다': 10150, '개정': 10151, '현혹': 10152, '굵다': 10153, '상쾌하다': 10154, '슬럼': 10155, '실천': 10156, '네일': 10157, '미소년': 10158, '탄도': 10159, '힘없다': 10160, '메리포핀스': 10161, '조미': 10162, '여진': 10163, 'thing': 10164, '브이': 10165, '친해지다': 10166, '아코디언': 10167, '주류': 10168, '갈릴': 10169, '선샤인': 10170, '예비': 10171, '맨손': 10172, '캐롤': 10173, '더파이팅': 10174, '김주호': 10175, '이홍기': 10176, '휘파람': 10177, '조마조마하다': 10178, 'all': 10179, 'have': 10180, '노팅힐': 10181, '입담': 10182, '동요': 10183, '일어나고': 10184, '정장': 10185, '들여다보다': 10186, '시디': 10187, '축구선수': 10188, '가장이': 10189, '한마음': 10190, '추기경': 10191, '포핀스': 10192, '빅토리아': 10193, '마흔': 10194, '현기증': 10195, '쏭': 10196, '락스': 10197, '문명': 10198, '왈': 10199, '속죄': 10200, '죄인': 10201, '로다주': 10202, '발랄': 10203, '박진우': 10204, '검심': 10205, '노민우': 10206, '하트': 10207, '조그만': 10208, '저릿': 10209, '이요': 10210, '단골': 10211, '황진이': 10212, '이무기': 10213, '껀들': 10214, '크라임씬': 10215, '미져리': 10216, '선셋': 10217, '송재호': 10218, '스타게이트': 10219, '아틀란티스': 10220, '오늘밤': 10221, '힘쓰다': 10222, '파생': 10223, '부조리하다': 10224, '이지나도': 10225, '수지': 10226, '에프': 10227, '금성무': 10228, '오락실': 10229, '파리스': 10230, '불평등': 10231, '감시': 10232, '1998년': 10233, '몬트리올': 10234, '모성': 10235, '열대야': 10236, '이나라': 10237, '좌지우지': 10238, '블레이드러너': 10239, '이롭다': 10240, '덴마크': 10241, '워킹맘': 10242, '비긴': 10243, '어거스트러쉬': 10244, '근성': 10245, '선덕여왕': 10246, 'hope': 10247, '윤하': 10248, '가벼워지다': 10249, '오디세이': 10250, '달성': 10251, '점차': 10252, '눈망울': 10253, '추워지다': 10254, '서고': 10255, '지혜': 10256, '헬레나': 10257, '물결': 10258, '아웅산수치': 10259, '신랄하다': 10260, '빈번': 10261, '크롤': 10262, '리차드': 10263, '독불장군': 10264, '꼽으': 10265, '호연': 10266, '환호': 10267, '노컷': 10268, '유학생': 10269, '전염병': 10270, '냉철하다': 10271, '아사': 10272, '헤매다': 10273, '리부트': 10274, '도성': 10275, '불확실하다': 10276, '의자': 10277, '죨': 10278, '오언조': 10279, '이승기': 10280, '사이코패스': 10281, '씌': 10282, '멋쪙': 10283, '봉인': 10284, '천명': 10285, '클레이': 10286, '연하다': 10287, '꼬박': 10288, '종교인': 10289, '무상': 10290, '값지다': 10291, '히말라야': 10292, 'ㅜㅜㅎ': 10293, '박근혜': 10294, '주몽': 10295, '여리고': 10296, '성장기': 10297, '2회': 10298, '잠잠하다': 10299, 'perfect': 10300, '투캅': 10301, '조델': 10302, '자라나다': 10303, '초이스': 10304, '셧으': 10305, '과를': 10306, '몸소': 10307, '일체': 10308, '엔진': 10309, '윌리암스': 10310, '서른': 10311, '존경심': 10312, '붕': 10313, '끝없다': 10314, '리즈중': 10315, '콤': 10316, '닥터': 10317, '힝': 10318, '후작': 10319, 'its': 10320, '퐌': 10321, '일분': 10322, '250': 10323, '사뭇': 10324, '다카': 10325, '모던타임즈': 10326, '시라노': 10327, '자상하다': 10328, 'two': 10329, '마커스': 10330, '명화극장': 10331, '재밋엇음': 10332, '블랑쉐': 10333, '움찔움찔': 10334, '월터': 10335, '팻': 10336, '부와': 10337, '중경삼림': 10338, '톱니바퀴': 10339, '엽': 10340, '지못미': 10341, '영화개봉': 10342, '잠기다': 10343, '반대편': 10344, '간판': 10345, '단정': 10346, '벨루치': 10347, '생사': 10348, '업보': 10349, '공동': 10350, '부도': 10351, '눈사태': 10352, '윤수': 10353, '돌란': 10354, '렵니': 10355, 'real': 10356, '보존': 10357, '묵시': 10358, '록': 10359, '상속': 10360, '사적': 10361, '공적': 10362, '간지나다': 10363, '리더십': 10364, '휼륭하다': 10365, '진일': 10366, '고리타분하다': 10367, '개혁': 10368, '축제': 10369, 'music': 10370, '나긋나긋': 10371, '조리': 10372, '취업': 10373, '고마움': 10374, '는데': 10375, '삽질': 10376, '제기': 10377, '삘': 10378, '벤자민': 10379, '응답': 10380, '찬송': 10381, '고상하다': 10382, '잉여': 10383, '빠져나가다': 10384, '솔로': 10385, '조마조마': 10386, '틸드': 10387, '마네': 10388, '돌풍': 10389, '패닉': 10390, '고마': 10391, '미연': 10392, '회도': 10393, '방랑': 10394, '팁': 10395, '실버': 10396, '48': 10397, '버디': 10398, '금욜': 10399, '촛점': 10400, '랄프': 10401, '우직하다': 10402, '신기전': 10403, '로켓': 10404, '생인데': 10405, '대명사': 10406, '황정음': 10407, '육질': 10408, '의무': 10409, '일임': 10410, '이정현': 10411, '서툴다': 10412, '은하': 10413, '직면': 10414, '더지니어스': 10415, '출생의비밀': 10416, '손길': 10417, '배심원': 10418, '하편': 10419, '기리보이': 10420, '확률': 10421, '찬스': 10422, '요전': 10423, '관통': 10424, '카이스트': 10425, '안소니': 10426, '멋쟁이': 10427, '일상생활': 10428, '생도': 10429, '송선미': 10430, '이덕화': 10431, '현주': 10432, '전쯤': 10433, '명징': 10434, '토투': 10435, '교관': 10436, '넘버원': 10437, '날개': 10438, '상남자': 10439, '아화': 10440, 'btv': 10441, '에스티': 10442, '익살스럽다': 10443, '무지막지': 10444, '잼남': 10445, '독보': 10446, '그리스도인': 10447, '련': 10448, '단독': 10449, '스팩': 10450, '배터리': 10451, '멀더': 10452, '스컬리': 10453, 'dd': 10454, '이어폰': 10455, '메이트': 10456, '씩씩하다': 10457, '삶속': 10458, '97년': 10459, '선명하다': 10460, '투수': 10461, '야자': 10462, '배격': 10463, '소이': 10464, '영화롭다': 10465, '세이건': 10466, '시오': 10467, '컬러': 10468, '핍박': 10469, '바람직하다': 10470, '1978년': 10471, '브로스': 10472, '한혜진': 10473, '이산가족': 10474, '노르웨이': 10475, '무소유': 10476, '끈질기다': 10477, '작도': 10478, '가타': 10479, '빨치산': 10480, '아카리': 10481, '화때': 10482, '실사판': 10483, '톡톡': 10484, '만족도': 10485, '도쿄': 10486, '99년': 10487, '식견': 10488, '계곡': 10489, '조언': 10490, '세븐': 10491, '부어': 10492, '감격': 10493, '시리': 10494, '진희': 10495, '집도': 10496, '불초': 10497, '열혈남아': 10498, '이천희': 10499, '모리': 10500, '광복절': 10501, '존멋': 10502, '고아성': 10503, '진과': 10504, '더락': 10505, '게이트': 10506, '시적': 10507, '카인': 10508, '악독하다': 10509, '업그레이드': 10510, '제자': 10511, '해부': 10512, '헝': 10513, '고화질': 10514, '꿋꿋하다': 10515, '쿠엔틴': 10516, '67': 10517, 'brilliant': 10518, '정쌤': 10519, '카페': 10520, '형재애': 10521, '억수': 10522, '매가': 10523, '툰드라': 10524, '리반': 10525, '셜록': 10526, '요재지이': 10527, '구수하다': 10528, '8일': 10529, '돈의화신': 10530, '녹': 10531, '너머': 10532, '줄곧': 10533, '체면': 10534, '비정규직': 10535, '세로': 10536, '나지막하다': 10537, '점말': 10538, '실물': 10539, '불평': 10540, '김삼순': 10541, 'movies': 10542, '지질': 10543, '프렌즈': 10544, '증지위': 10545, '착취': 10546, '정조대왕': 10547, '트래비스': 10548, '금기': 10549, '95년': 10550, '텅': 10551, '시리다': 10552, '상우': 10553, '융합': 10554, '84년': 10555, '볼펜': 10556, '동물농장': 10557, '용철': 10558, '노년': 10559, '말레나': 10560, 'very': 10561, '우측': 10562, '빼앗다': 10563, '애교': 10564, '패션왕': 10565, '셔츠': 10566, '희망고문': 10567, '치도': 10568, '고딕': 10569, '프랭크': 10570, '장농': 10571, '타오르다': 10572, '들려오다': 10573, '아낌없다': 10574, '오진우': 10575, 'ㅜㅜㅠ': 10576, '뎁': 10577, '도인가': 10578, '머레이': 10579, '아이엠': 10580, '출근': 10581, '조상': 10582, '늑대아이': 10583, '부녀': 10584, '의정': 10585, 'ㅋㅋㅋㅋㅋㅋㅋㅋㅋㅋㅋㅋㅋㅋㅋㅋㅋㅋㅋ': 10586, '찾아내다': 10587, '주라기': 10588, '불허': 10589, '새옹지마': 10590, '양지운': 10591, '왜냐면': 10592, '뿜어내다': 10593, '켈리': 10594, '욱겨': 10595, '격추': 10596, '본분': 10597, '진진': 10598, '실리': 10599, '혜수': 10600, '꼬박꼬박': 10601, '에드가': 10602, '윤여정': 10603, '해품달': 10604, '난로': 10605, '다려지다': 10606, '다다르다': 10607, '사유': 10608, '콜레트': 10609, '외할아버지': 10610, '아라하': 10611, '학기': 10612, '둘리': 10613, '군상': 10614, '랍': 10615, '손잡다': 10616, '용왕': 10617, '싱그럽다': 10618, '술자리': 10619, 'ㅎㅎㅎㅎㅎ': 10620, '속삭이다': 10621, '썬더': 10622, '바우어': 10623, '불리': 10624, '입터': 10625, '끗': 10626, '동정': 10627, '내년': 10628, '사형': 10629, '템페스트': 10630, '조율': 10631, '밨': 10632, '도리': 10633, '바랬던': 10634, '부위': 10635, '연달': 10636, '칭': 10637, '커트': 10638, '어렷을때': 10639, '투신': 10640, '뿌듯하다': 10641, '메구미': 10642, '북받치다': 10643, '굴곡': 10644, '부유하다': 10645, '방탕': 10646, '남다르다': 10647, '무슬림': 10648, '한겨레': 10649, '재해': 10650, '브란': 10651, '위풍': 10652, '행진곡': 10653, '노을': 10654, '개잼': 10655, '원죄': 10656, '끄덕': 10657, '여우비': 10658, '우정은': 10659, '장거리': 10660, 'feel': 10661, '똘끼': 10662, '비념': 10663, '스페어': 10664, '놓이다': 10665, '경제학': 10666, '소주': 10667, 'ㅇㅋㅋ': 10668, '제격': 10669, '원주민': 10670, '용어': 10671, '엊그제': 10672, '글로리': 10673, '베충': 10674, '응사': 10675, '성나다': 10676, '용호': 10677, '올바르다': 10678, '십이': 10679, '김은형': 10680, '기타로': 10681, '본드': 10682, '찰나': 10683, '막연하다': 10684, '45년': 10685, '리얼리': 10686, '태평': 10687, '3월': 10688, '정치사': 10689, '스티브맥퀸': 10690, '바이스': 10691, 'ㅠㅠㅠㅠㅠㅠㅠㅠㅠㅠㅠㅠㅠ': 10692, '정욕': 10693, '냉혹하다': 10694, '박진희': 10695, '어린왕자': 10696, '긍지': 10697, '스페셜': 10698, '과소': 10699, '핑': 10700, '미처': 10701, '대세': 10702, '나이스': 10703, 'crazy': 10704, '떠나가다': 10705, '카세료': 10706, '사토미': 10707, '동아시아': 10708, '실전': 10709, '쥬': 10710, '다분하다': 10711, '연재': 10712, '선구자': 10713, '이성진': 10714, '실루엣': 10715, '밍': 10716, '샤일록': 10717, '정가': 10718, '2만': 10719, '여호와': 10720, '다각': 10721, '다정하다': 10722, '앳된': 10723, '김주혁': 10724, '비리': 10725, '까미유': 10726, '사나이': 10727, '부당하다': 10728, '앤드류': 10729, '교향곡': 10730, '안산시': 10731, '까페': 10732, '더듬다': 10733, '논문': 10734, '주파수': 10735, '핳': 10736, '제거': 10737, '변주': 10738, '이비에스': 10739, '두근두근': 10740, '남구': 10741, '심령': 10742, '바르뎀': 10743, '자칫하면': 10744, '육남매': 10745, '서투르다': 10746, '하반기': 10747, '컬트영화': 10748, '괴고': 10749, '학문': 10750, '동등': 10751, '숨쉬다': 10752, '우우': 10753, '썸머': 10754, '본대': 10755, '그름': 10756, '화요일': 10757, '백수': 10758, '실리다': 10759, '빌어먹을': 10760, '린치': 10761, '드롱': 10762, '사고뭉치': 10763, '화팅': 10764, '람': 10765, '다말': 10766, '뚫어지다': 10767, '격하': 10768, '청소년기': 10769, '몽땅': 10770, '윤숙': 10771, '에블린': 10772, '치즈': 10773, '숙제': 10774, '열시미': 10775, '발버둥치다': 10776, '실책': 10777, '먼로': 10778, '마라톤': 10779, '죽을떄': 10780, '읍니': 10781, '땡큐': 10782, '전격': 10783, '무릎': 10784, '사십': 10785, '괜춘': 10786, '신혜': 10787, '예성': 10788, '신동': 10789, '한껏': 10790, '저걸': 10791, '올슨': 10792, '흡족하다': 10793, '야외': 10794, '왓으': 10795, '브라보': 10796, '이치고': 10797, '열심': 10798, '빠삐용': 10799, '리버': 10800, 'ㅠㅠㅠㅠㅠㅠㅠㅠ': 10801, '애기야': 10802, '소련': 10803, '겐': 10804, '대런': 10805, '노프': 10806, '내자': 10807, '빛과': 10808, '예수회': 10809, '4시간': 10810, '깊숙하다': 10811, '유다인': 10812, '마자': 10813, '두리': 10814, '직행': 10815, '흉터': 10816, '강연': 10817, '1975년': 10818, '35년': 10819, '어가': 10820, '정보석': 10821, '모도': 10822, '창공': 10823, '사보다': 10824, '폭포수': 10825, '너는내운명': 10826, '마사미': 10827, '맘에듬': 10828, '훗': 10829, 'part': 10830, '메이퀸': 10831, '소이현': 10832, 'series': 10833, 'greatest': 10834, '더없이': 10835, '페루': 10836, '미니시리즈': 10837, '여덟': 10838, '깃발': 10839, '해병': 10840, '선남선녀': 10841, '척노리스': 10842, '빈자리': 10843, '스티치': 10844, '185': 10845, '235': 10846, '에린': 10847, '부연': 10848, '흘렷': 10849, '영리하다': 10850, '일기장': 10851, '교': 10852, '우즈': 10853, '커뮤니티': 10854, '우디앨런': 10855, '주륵주륵': 10856, '열사': 10857, '클랜': 10858, '데몬': 10859, '훑다': 10860, '앤서니': 10861, '실행': 10862, '산뜻하다': 10863, '또렷하다': 10864, '진품': 10865, '대우': 10866, '소취': 10867, '시한': 10868, '초콜릿': 10869, '수려': 10870, '요한슨': 10871, '서늘하다': 10872, '보고또보고': 10873, '성우진': 10874, '칸노': 10875, '미호': 10876, '넘침': 10877, '펠릭스': 10878, '보듬다': 10879, '코치': 10880, '산업': 10881, '죠스': 10882, '첨가': 10883, '꿈틀': 10884, '쩌는듯': 10885, '장병': 10886, 'drama': 10887, '신밧드': 10888, '쫓아가다': 10889, '한가하다': 10890, '격돌': 10891, '강마': 10892, '제라드': 10893, '뷰티': 10894, 'bob': 10895, '지모': 10896, '컬렉션': 10897, '획': 10898, '평가절하': 10899, '훌륭': 10900, '구한': 10901, '욀케': 10902, '팬티': 10903, '분출': 10904, '핫': 10905, '지문': 10906, '치마': 10907, '송일국': 10908, '리플리': 10909, '이재용': 10910, 'ㅠㅠㅠㅠㅠㅠ': 10911, '고달프다': 10912, '다방면': 10913, '담당자': 10914, '평안하다': 10915, '실미도': 10916, '영화상': 10917, '하앍': 10918, 'captain': 10919, '현시': 10920, 'ㅜㅡㅠ': 10921, '남궁민': 10922, '본자': 10923, '솔직': 10924, '일제시대': 10925, '빈곤': 10926, '원빈': 10927, '첨단': 10928, '무사백동수': 10929, '늦추다': 10930, '경종': 10931, '빈부': 10932, '흰둥이': 10933, '우아': 10934, '성태': 10935, '이다해': 10936, '개티즌들': 10937, '어퓨굿맨': 10938, '왕팬': 10939, '티파니': 10940, '비폭력': 10941, '줫으': 10942, '간나': 10943, '심경': 10944, '향기롭다': 10945, '불의': 10946, '문학작품': 10947, '동메달': 10948, '졸이다': 10949, '로빈윌리엄스': 10950, '범수': 10951, '궤': 10952, '일초': 10953, '영호': 10954, '굿잡': 10955, '호수': 10956, '어마': 10957, '대장군': 10958, 'ㅠㅜㅠㅜ': 10959, '타이거': 10960, '난왜': 10961, '과언': 10962, '서해': 10963, '신진': 10964, '피나': 10965, '파헤치다': 10966, '걸음': 10967, '사이렌': 10968, '시완': 10969, '날뛰다': 10970, '붙잡다': 10971, '신저': 10972, '예상외': 10973, '김현주': 10974, '한구석': 10975, '아려': 10976, '사부': 10977, '자연재해': 10978, '비행선': 10979, '금고씬': 10980, '패컬티': 10981, '코멘트': 10982, '메탈리카': 10983, '융': 10984, '소령': 10985, '매료': 10986, '교황': 10987, '하소연': 10988, '애증': 10989, '우파': 10990, '데이먼': 10991, '베테': 10992, '상열': 10993, '마침내': 10994, '밤늦다': 10995, '정해진': 10996, '할리': 10997, '스승': 10998, '된': 10999, '리턴': 11000, '아크로바틱': 11001, '메이크업': 11002, '영미': 11003, '총각파티': 11004, '상승': 11005, '뛰어나가다': 11006, '헤헤': 11007, '전원일기': 11008, '거냣': 11009, '점줄': 11010, '슈돌': 11011, '스무살': 11012, '칸나': 11013, '공포증': 11014, '파이널': 11015, '형광': 11016, '나아가다': 11017, '별별': 11018, '흡혈': 11019, '순천': 11020, '최진희': 11021, '탄허': 11022, '이동건': 11023, '볼떄': 11024, 'dx': 11025, '여옥': 11026, '퀀텀': 11027, '다프': 11028, '펑크': 11029, '바닐라': 11030, '스카이': 11031, '변종': 11032, '돼지고기': 11033, 'csi': 11034, 'so': 11035, '르그': 11036, '울프맨': 11037, '45분': 11038, '자씨': 11039, '후인': 11040, '돈대': 11041, '올레티비로': 11042, '허리': 11043, '생수': 11044, '천우희': 11045, '효과음': 11046, '법관': 11047, '궁궁': 11048, '언어장애': 11049, '임자': 11050, '의사소통': 11051, '모험물': 11052, '애사': 11053, '구질구질': 11054, '류임': 11055, '정키': 11056, '강서현': 11057, '악연': 11058, '눈좀': 11059, '배달': 11060, '스트라이커': 11061, '비버': 11062, '삼성': 11063, '닝테이텀': 11064, '뽱당': 11065, '마직막': 11066, '끌어당기다': 11067, '석권': 11068, '숍': 11069, '편중': 11070, '신시': 11071, '쌩뚱맞다': 11072, '화비': 11073, '실험실': 11074, '모르모트': 11075, '눈꼽만치': 11076, '64억': 11077, '약혼': 11078, '비율': 11079, '괴현상': 11080, '대희': 11081, '끊음': 11082, '군데군데': 11083, '씬들': 11084, '망조': 11085, '옘뵹': 11086, '모나리자': 11087, '대행': 11088, '툭툭': 11089, '터치': 11090, '춘향뎐': 11091, 'br': 11092, '해원': 11093, '갈취': 11094, '뭐햇': 11095, '이바지': 11096, '가카': 11097, '여성향': 11098, '허졉': 11099, '삼십분': 11100, 'more': 11101, 'brains': 11102, 'easter': 11103, 'eggs': 11104, '손목': 11105, '번역기': 11106, '마포구': 11107, '청직': 11108, '마리온': 11109, '코띨라르': 11110, '미제국': 11111, '사하다': 11112, '백설': 11113, '도드라지다': 11114, '질의': 11115, '이뭐병': 11116, '에수입하는지이해안간다': 11117, '날고기': 11118, '용덕': 11119, '하듯': 11120, '어치': 11121, '쓰리다': 11122, '널렸으': 11123, '공성전': 11124, '상대편': 11125, '어렷': 11126, '내지': 11127, '혜빈': 11128, '영화인데': 11129, '군침': 11130, '2013': 11131, '행진': 11132, '튀어': 11133, '공준': 11134, '런타임': 11135, '해야할런': 11136, '식임': 11137, '47': 11138, '고층': 11139, '화물선': 11140, '울트라': 11141, '캡숑': 11142, '유민규': 11143, '사지절단': 11144, '피갑': 11145, '만호': 11146, '카미': 11147, '야시': 11148, '도난': 11149, '드림팀': 11150, '이상인': 11151, '조성모': 11152, '세간': 11153, '여진족': 11154, '훈족': 11155, '도포': 11156, '자락': 11157, '뻘짓하': 11158, '탄씩': 11159, '홍형숙': 11160, '저쩌구': 11161, '무방비': 11162, '볼돈': 11163, '막국수': 11164, '태권소녀': 11165, '카스': 11166, '코스': 11167, '원사': 11168, '어쩌란거': 11169, '군영': 11170, 'ㅋㅋㅋㅋㅋㅋㅋㅋㅋㅋㅋㅋㅋㅋㅋㅋㅋㅋㅋㅋㅋㅋㅋㅋㅋㅋㅋㅋㅋㅋㅋㅋㅋㅋㅋㅋㅋㅋ': 11171, '어쩌지': 11172, '속물': 11173, '도축': 11174, '설명하고': 11175, '슁': 11176, '의왕': 11177, '팔지': 11178, '울랄라': 11179, '리베라': 11180, '그떄': 11181, '고스트쉽': 11182, '초난강': 11183, '985': 11184, '민물고기': 11185, '빗물': 11186, '국서': 11187, '익히다': 11188, '704': 11189, '콜라': 11190, 'junk': 11191, '왜퍼': 11192, '아바': 11193, '앙드레김': 11194, '난또': 11195, '다만드': 11196, '락매냐들': 11197, '보린': 11198, '박휘순': 11199, '도태': 11200, '뮤츠': 11201, '역습': 11202, '신드롬': 11203, '아까버': 11204, '말세': 11205, '화성': 11206, '039': 11207, '배정': 11208, '캠벨': 11209, '탑블레이드': 11210, '망햇음': 11211, '개포': 11212, '멍텅함': 11213, '가급적': 11214, '방향키': 11215, '토네이도': 11216, '호암': 11217, '이또': 11218, '졸도': 11219, '대위': 11220, '정한론': 11221, '파충류': 11222, '인기투표': 11223, '이박사': 11224, '475': 11225, '건중': 11226, '400': 11227, '무더기': 11228, 'rpg': 11229, '쨍쨍': 11230, '쌩쑈': 11231, '64': 11232, '도시괴담': 11233, '설키': 11234, '기관': 11235, '군부': 11236, '가스통': 11237, '우는남자': 11238, '료': 11239, '땟국': 11240, '입냄새': 11241, '겨드랑이': 11242, '암내': 11243, '비듬': 11244, '인지상정': 11245, '면죄부': 11246, '붕어': 11247, '방주': 11248, 'god': 11249, '홍반장': 11250, '귓속': 11251, '미스터리영화': 11252, '매란방': 11253, '콜': 11254, '리야': 11255, '성급하다': 11256, '수채화': 11257, '봉달': 11258, '뒷골목': 11259, '쌈질': 11260, '맷집': 11261, '번쌋음': 11262, 'ㅈㅇ': 11263, '건개': 11264, '정사씬': 11265, '백혈병': 11266, '알아차리다': 11267, '원샷': 11268, '목뼈': 11269, '부러지다': 11270, '호위': 11271, '급소': 11272, '쪽박': 11273, '노하우': 11274, '공기': 11275, '뚱보': 11276, '암소': 11277, '애먼': 11278, '짜리의': 11279, '효가': 11280, '존칭': 11281, '해피투게더': 11282, '반효정': 11283, '떠내다': 11284, '신소현': 11285, '여하튼': 11286, '구가': 11287, '작동': 11288, 'max': 11289, '배제': 11290, '보살': 11291, '소치': 11292, '블랙리스트': 11293, '손해배상': 11294, '조장혁': 11295, '셜록홈즈': 11296, '구토': 11297, '제임슨스타뎀': 11298, '특별무대': 11299, '참석': 11300, '던지기': 11301, '모집': 11302, '은커녕': 11303, '버뮤다': 11304, '삼각지': 11305, '고스톱': 11306, '호들갑': 11307, '놈무': 11308, '쉑이들': 11309, '낚였다헐': 11310, '유승호': 11311, '떨구다': 11312, '딜따': 11313, '병폐': 11314, '데미안': 11315, '허스트': 11316, '악천후': 11317, '단역배우': 11318, '개불': 11319, '스팟': 11320, '절용': 11321, '도안되서하나둘씩나간다나도나왔다': 11322, '귀신의집': 11323, '영홥': 11324, '샹시': 11325, '케네디': 11326, '잔소리': 11327, '매사': 11328, '항적': 11329, '건원': 11330, '불명': 11331, '어두움': 11332, '4등': 11333, '종이컵': 11334, '전화기': 11335, '샘김': 11336, '동그랗다': 11337, '획획': 11338, '얹히다': 11339, '구먼': 11340, '스트리트파이터': 11341, '짜미': 11342, '탈모': 11343, '노빠일테': 11344, '헬조센': 11345, '도독': 11346, '피식거렸다': 11347, '철면피': 11348, '엘마': 11349, '무영검': 11350, '브라자': 11351, '추태': 11352, '투어리스트': 11353, '개독교': 11354, '진행형': 11355, '인디영화': 11356, '견': 11357, '안성맞춤': 11358, '짓눌리다': 11359, '모기': 11360, '불합리': 11361, '먹잇감': 11362, '포커': 11363, '싱돼': 11364, '미저리': 11365, '머쉬멜로': 11366, '층층': 11367, '지근': 11368, '옵티머스': 11369, '괴성괴': 11370, 'cool': 11371, '키안': 11372, 'china': 11373, '산이면': 11374, '베이컨시': 11375, '주문진': 11376, 'cval': 11377, '함량': 11378, '달섯살': 11379, '패스트': 11380, '뒹군': 11381, '엘레인': 11382, '웨딩드레스': 11383, '엮어놓': 11384, '헤어스프레이': 11385, '모호': 11386, '조그마하다': 11387, '세월호': 11388, '충성': 11389, '클레오파트라': 11390, '신혜수': 11391, '요러브': 11392, '공급': 11393, '론서바이버': 11394, '쓉노잼': 11395, '썩창': 11396, '태환': 11397, '개띠껍': 11398, '호도': 11399, '대미': 11400, '슬랩': 11401, '무의미': 11402, '뱅뱅': 11403, '에너미': 11404, '차위': 11405, '김전일': 11406, '뭐길': 11407, '다들왜케높게줌': 11408, '헬멧': 11409, '은거': 11410, '그린랜턴': 11411, '시설': 11412, '벙커': 11413, '쐬다': 11414, '으잉': 11415, '찍찍': 11416, '곽재용': 11417, '망연자실하다': 11418, '임사체험': 11419, '어럼풋': 11420, '양은용': 11421, 'rlghks': 11422, '1688': 11423, '역전': 11424, '슈트': 11425, '변금련': 11426, '쪼매날때': 11427, '나자레쓰': 11428, '허츠': 11429, 'ㅅㄹㄱ': 11430, '피파온라인': 11431, '격투씬': 11432, '폰다': 11433, '광신도': 11434, '원망하다': 11435, '전기충격기': 11436, '저조': 11437, '으로라도': 11438, '여부': 11439, '늙었슴': 11440, 'voter': 11441, '애닌데': 11442, '최측근': 11443, '드세다': 11444, '6000만원': 11445, '산부인과': 11446, '애덜': 11447, '1020분': 11448, '활발하다': 11449, '핫칙': 11450, '훨배낫': 11451, '왕년': 11452, '박준규': 11453, '주머니': 11454, '동대문': 11455, '아스트랄': 11456, '으이구': 11457, '걸돈': 11458, '개똥이': 11459, '왜또': 11460, '그따윈': 11461, '설연휴': 11462, '왜케또': 11463, '주요한': 11464, '응칠': 11465, '양현석': 11466, '명더': 11467, '모시다': 11468, '불공정': 11469, '달자': 11470, '쫑': 11471, '30억': 11472, '들여만든애니': 11473, '와쓰': 11474, '쓰랙': 11475, 'eq': 11476, '려면': 11477, '13분': 11478, '대표이사': 11479, '배임죄': 11480, '759': 11481, '나돌다': 11482, '반역': 11483, '혼잡하다': 11484, '탄저균': 11485, '이자나': 11486, '젓다': 11487, '에슬란': 11488, '쒸레기임': 11489, '흥쾌': 11490, '케이캐쉬': 11491, '무교': 11492, '주먹질': 11493, '준치': 11494, '전꺼라서': 11495, '로구나': 11496, '사슴': 11497, '모씨': 11498, '인쇄': 11499, '타국': 11500, '어간': 11501, '배은망덕': 11502, '유분수': 11503, '뭘봣다': 11504, '젖소': 11505, '산파': 11506, '서클': 11507, '렌즈': 11508, '도체': 11509, '안깝': 11510, '블랙호크다운': 11511, '엮으려': 11512, '사죄': 11513, '환단고기': 11514, '안전지대': 11515, '성당': 11516, '깜빡': 11517, '내신': 11518, '무식': 11519, '할껄': 11520, '화차': 11521, '몰르겄': 11522, '젋': 11523, '정신장애인': 11524, '점이있엇으': 11525, '점치': 11526, '법인': 11527, '레위기': 11528, '아씨': 11529, '불가라': 11530, '탈세': 11531, 'ㅉㅉㅉㅉㅉ': 11532, '맹승지': 11533, '젖갗': 11534, '끼등': 11535, '신카이': 11536, '마코토': 11537, '초속': 11538, 'cm': 11539, '시기상조': 11540, '밈': 11541, '문천식': 11542, '뱃': 11543, '압시': 11544, '이태임': 11545, '죽엇으면': 11546, '만리': 11547, '리볼버': 11548, '백발백중': 11549, '거른': 11550, '대장금': 11551, '제빵': 11552, '만두': 11553, '456': 11554, '마일': 11555, '허슬': 11556, '플로우': 11557, '수역': 11558, '국군포로': 11559, '수발': 11560, '징병': 11561, '백지상태': 11562, '갓파더': 11563, '점둘': 11564, '방구': 11565, '시래기': 11566, '총상': 11567, '사망자': 11568, '련색기들': 11569, '저떻': 11570, '코유키': 11571, '치바': 11572, '동일': 11573, '태극권': 11574, '노추': 11575, '피해망상': 11576, '적반하장': 11577, '속셈': 11578, '습하다': 11579, '143분': 11580, '정석원': 11581, '생이네': 11582, '스흐흐그흐흫': 11583, 'ㅡㄱ': 11584, '흫': 11585, '대영화치곤': 11586, '영화였다니': 11587, '틴토': 11588, '벌금': 11589, '부검': 11590, '이성호': 11591, '앱티드': 11592, '부자연': 11593, '첸카이거': 11594, '음울하다': 11595, '색퀴': 11596, '저학년': 11597, '라푼젤': 11598, '명민하다': 11599, '느릿느릿': 11600, '정착': 11601, '레이미': 11602, 'ㅓㄹ': 11603, '괜챦': 11604, '양광': 11605, '김갑수': 11606, '스타크래프트': 11607, '문물': 11608, '장영란': 11609, '스럴': 11610, '맹꽁': 11611, '꼬리표': 11612, '방종하다': 11613, '린저': 11614, '쇼생크탈출': 11615, '197080년': 11616, '대껏같이': 11617, '느니라': 11618, '적인걸': 11619, '뉘': 11620, '376': 11621, '조석': 11622, '스팀': 11623, '다림질': 11624, '8090회': 11625, '글레머': 11626, '백분': 11627, '아이피': 11628, '라스베가스': 11629, '가보리': 11630, '오태경': 11631, '웬일': 11632, 'most': 11633, 'learned': 11634, 'english': 11635, '돈퍼주러': 11636, '교조': 11637, '당일치기': 11638, '레거시': 11639, '오니': 11640, '즉흥': 11641, '필요시': 11642, '천박': 11643, '표값': 11644, '20000': 11645, '세인': 11646, '뉘우침': 11647, '미나리': 11648, '분홍신': 11649, '속뜻': 11650, '주저리주저리': 11651, '갈래': 11652, '삼계탕': 11653, '후라이드': 11654, '삼겹살': 11655, '우글우글': 11656, '질쇼': 11657, '강경준': 11658, '김청': 11659, '견줄만함': 11660, '백악관': 11661, '작이라고는': 11662, '훨배더': 11663, '네타': 11664, '보조': 11665, '어따쎀': 11666, '윤한': 11667, '이소연': 11668, '스럽지도': 11669, '100만원': 11670, '건너오다': 11671, '트란안훙꺼': 11672, 'marvel': 11673, '날뻔': 11674, '장한위': 11675, '초동': 11676, '이시고': 11677, '눈배림': 11678, '주정하': 11679, '자유도': 11680, '블레이즈': 11681, '뇽': 11682, '핀뇬놈': 11683, '풀함': 11684, '드래곤길들이기': 11685, '몰압': 11686, '실현': 11687, '사마': 11688, '빈라덴': 11689, '의인': 11690, '소제': 11691, '상조': 11692, '유해': 11693, '전향': 11694, '김슬기': 11695, '흉하다': 11696, '반월': 11697, '공단': 11698, '영화에서처럼': 11699, '올스타': 11700, '제이콥': 11701, '셀룰러': 11702, '박영선': 11703, '흡연량': 11704, '토욜밤': 11705, '베개': 11706, '나뭇잎': 11707, '조로': 11708, '웃곀': 11709, '이얔': 11710, '졸웃곀': 11711, '그랜트': 11712, '발등': 11713, '카론': 11714, '무늬': 11715, '췌말': 11716, '포항': 11717, '소년원': 11718, '하랑': 11719, '아쉬웟던': 11720, '보급': 11721, '어딘데': 11722, '쌀밥': 11723, '향돈': 11724, '혜': 11725, '간디': 11726, '돈퍼부어': 11727, '공모전': 11728, '보충': 11729, '상술': 11730, '임완': 11731, '기입': 11732, '개죽음': 11733, '양뇬': 11734, '작이지만': 11735, '으로선': 11736, '욕나오넹': 11737, '탈북': 11738, '들쥐': 11739, '앜앜': 11740, 'ㅏㅇ': 11741, '십분': 11742, '설음': 11743, '골격': 11744, '경호원': 11745, '병력': 11746, '닥돌': 11747, '마리앙투아네트': 11748, '지린다': 11749, '스메': 11750, '코스모폴리스': 11751, '서희원': 11752, '빈곤하다': 11753, 'rachmaninoff': 11754, 'piano': 11755, 'concerto': 11756, 'shine': 11757, '떠오릴': 11758, '고지용': 11759, '미하': 11760, '핑구': 11761, '물개': 11762, '염거': 11763, '튀튀': 11764, '멱': 11765, '습관': 11766, '흐미': 11767, '특공대': 11768, '할로우': 11769, '큼지막하다': 11770, '도올': 11771, '득실': 11772, '못햇': 11773, '핵잼': 11774, '알속': 11775, '유선': 11776, '못해뭐': 11777, '보통인간': 11778, 'ㄳㄳ': 11779, '라파스': 11780, '신봉선': 11781, '유전': 11782, '무전': 11783, '소춘': 11784, '위험': 11785, '슬레': 11786, '셔': 11787, '가려내다': 11788, '도심': 11789, '여타': 11790, '피자': 11791, '부페': 11792, '89분': 11793, '기단': 11794, '블랙스완': 11795, '반장': 11796, '껄끄럽다': 11797, '평균점': 11798, '오스틴': 11799, '허탈': 11800, '겜썸': 11801, '조수정': 11802, '따발총': 11803, '피로하다': 11804, '수채': 11805, '녕': 11806, '파마머리': 11807, '라이거': 11808, '뎀비': 11809, '삼일': 11810, '데우다': 11811, '무력': 11812, '쿠데타': 11813, '비츄': 11814, '나누기': 11815, '고참': 11816, '원퉤': 11817, '일본드라마': 11818, '클라우드': 11819, '아틀라스': 11820, '개수': 11821, '진압하': 11822, '테러범': 11823, '섹휘': 11824, '백일섭': 11825, '떠밀다': 11826, '화인': 11827, '리산드라': 11828, '거려': 11829, '즐감': 11830, '지부': 11831, '사후': 11832, '멀쭘했다': 11833, '평남': 11834, '560년': 11835, 'lial': 11836, '97분': 11837, '산인거지': 11838, '안심': 11839, '쨘나낚': 11840, '랫미인': 11841, '함익병': 11842, '어린이집': 11843, '바쩌': 11844, 'apop': 11845, '재끼': 11846, '경치': 11847, '자의식': 11848, '기요': 11849, '김호진': 11850, '공형진': 11851, '남겻다': 11852, '퍼뜨리': 11853, '쿠리야마': 11854, '부릉부릉': 11855, '뻗치다': 11856, '게이바': 11857, '진행자': 11858, '작곡가': 11859, '손담비': 11860, '순발력': 11861, '낚이자': 11862, '이병훈': 11863, '레파': 11864, '타분': 11865, '가장자리': 11866, '외과의사': 11867, '겨패': 11868, '조물': 11869, '좀넘었을때본영화': 11870, '한창': 11871, '난난': 11872, '노홍철': 11873, 'th': 11874, '본론': 11875, '엔조이': 11876, '정수문': 11877, '미라지': 11878, '국방': 11879, '짬밥': 11880, '합계': 11881, '위조지폐': 11882, '불부': 11883, '아주아주': 11884, '극혐임': 11885, '베르히': 11886, '난산': 11887, '러브액츄얼리': 11888, '120': 11889, '세원': 11890, '또모': 11891, '대모': 11892, '힘드넹': 11893, '음료수': 11894, '시합': 11895, '맹탕물': 11896, '데비': 11897, '크라켄': 11898, '초대형': 11899, '낮선': 11900, '최면술': 11901, '달도': 11902, '담장': 11903, '갑질': 11904, '노닥': 11905, '기진': 11906, '은폐': 11907, '앞장': 11908, '쓰례기': 11909, '칸트': 11910, '쉬레귀': 11911, 'ㅏㄷ': 11912, '물일': 11913, '텐트': 11914, '변했냨': 11915, '탈의': 11916, '절데': 11917, '질렌홀': 11918, '친절': 11919, '고취': 11920, '클럼프': 11921, '수양제': 11922, '수나라': 11923, '만들빠': 11924, '인디애나': 11925, '내용물': 11926, '놀랫': 11927, '불좀키': 11928, '야경': 11929, '무생물': 11930, '유해하다': 11931, '175110': 11932, '찌워': 11933, '0000000000000000001': 11934, '82': 11935, '땅굴': 11936, '이상만': 11937, '촉법소년': 11938, '오스트리아': 11939, '홍콩인': 11940, '봣던상관': 11941, '구숙정': 11942, '얼늘': 11943, '최지우': 11944, '의뢰인': 11945, '제우스': 11946, '꼰다': 11947, '윤주': 11948, '정호': 11949, '연씨': 11950, '에스팀': 11951, '패자부활전': 11952, '청탁': 11953, '거덩': 11954, '피타': 11955, '케못': 11956, '떨기': 11957, '주술사': 11958, '이행': 11959, '후세인': 11960, '이라크': 11961, '계란': 11962, '계백': 11963, '백동수': 11964, '굿바이': 11965, 'ㅋㅋㅋㅋㅋㅅㅂ': 11966, '답답햐': 11967, '지성인': 11968, '추행': 11969, '렙': 11970, '토크쇼': 11971, '몇대': 11972, '탑기어': 11973, '내려놓다': 11974, '남무': 11975, '동사서독': 11976, '걸스데이': 11977, '어톤먼트': 11978, '척척': 11979, '우량': 11980, '캬츄': 11981, '문신': 11982, 'girls': 11983, 'guns': 11984, 'peni': 11985, '수퍼맨': 11986, '스키니진': 11987, '각의': 11988, '짝패': 11989, '샐러리맨': 11990, '김서형': 11991, '찌개': 11992, '우월감': 11993, '칼부림': 11994, '박강': 11995, '우야': 11996, '시원찮다': 11997, '통째': 11998, '남탓': 11999, '클로버필드': 12000, '반반하다': 12001, '탁탁': 12002, 'ㅋㅋㅉㅉ': 12003, '츠츠': 12004, '미신': 12005, '류승점': 12006, '각도': 12007, '역사드라마': 12008, '분교': 12009, '프로필': 12010, '졸부': 12011, '삭': 12012, '원숭일': 12013, '76': 12014, '육상': 12015, '첫걸음': 12016, '쓰랙빠': 12017, '베를린': 12018, '오닌': 12019, '고유키': 12020, '피곤': 12021, '평임': 12022, '구경만': 12023, '떡칠': 12024, '배송': 12025, '걸옹': 12026, '이하일': 12027, '피사프': 12028, '하랫': 12029, '최효종': 12030, '은별': 12031, '코박': 12032, '디몬': 12033, '하운': 12034, '수이': 12035, '외인부대': 12036, '김경희': 12037, '썱을거': 12038, '국보': 12039, '낚시질': 12040, '이가운': 12041, '메롱': 12042, '경제성장': 12043, '핵가족': 12044, '부터만': 12045, '말걸': 12046, '류영환': 12047, '라이더': 12048, 'bmw': 12049, '뗴': 12050, '살상': 12051, '진인': 12052, '점프': 12053, '블리치': 12054, '글러': 12055, '마초이즘': 12056, '드셧남': 12057, '허공': 12058, '병역': 12059, '눌림': 12060, '지혜롭': 12061, '중재': 12062, '공인': 12063, '이서진': 12064, '자석': 12065, '밸트': 12066, '임효성': 12067, '슐레이터': 12068, '깜짝깜짝': 12069, '플롯팅': 12070, '집부북': 12071, '스나이퍼': 12072, '다주': 12073, '참치': 12074, '개간': 12075, '목젖': 12076, '드웨인': 12077, '서유리': 12078, 'ㅡㅅㅡ': 12079, '무취': 12080, '똥례': 12081, '후원': 12082, '동향': 12083, '처멕이': 12084, '구마': 12085, '잉어': 12086, '언데드': 12087, '출몰': 12088, '카리': 12089, '수마': 12090, '죄수': 12091, '중범죄': 12092, '이라기보단': 12093, '모멸': 12094, '지놈': 12095, '참극': 12096, '노바': 12097, '슉슉': 12098, '말살': 12099, '샹': 12100, '씨루': 12101, '찌끄레기': 12102, '삼합회': 12103, '렘버트': 12104, '저만큼': 12105, '트루먼': 12106, '극빈': 12107, '증가': 12108, '선화': 12109, '계급': 12110, '파라다이스': 12111, '렌트': 12112, '휴지통': 12113, '뽀': 12114, '미시': 12115, '생활사': 12116, '무문': 12117, '끝물': 12118, '김봉': 12119, '글래머': 12120, '방글라데시': 12121, '명랑하다': 12122, '텝덴스': 12123, '갸륵한데': 12124, '갯슴': 12125, '미진': 12126, '구씨': 12127, '삐리리씬': 12128, '통장': 12129, '상문': 12130, '종적': 12131, '재도': 12132, '여비': 12133, '01년': 12134, '행복찾기': 12135, '3500': 12136, '나주고': 12137, 'bjy': 12138, '바습니': 12139, '욕정': 12140, '엮어가': 12141, '쩌비': 12142, '관좀': 12143, '인디음악': 12144, '파업전야': 12145, '개인주의': 12146, '단절': 12147, '오렌지': 12148, '핸폰함': 12149, '황상': 12150, '승질': 12151, '이성애자': 12152, '게념': 12153, '무었일까': 12154, '떼움': 12155, '기신': 12156, '데보라': 12157, '얜': 12158, '타이쿤': 12159, '똑갇': 12160, '잠듬': 12161, '번돈': 12162, '상당': 12163, '무딘': 12164, '로망스': 12165, '며더': 12166, '정직하다': 12167, '더블에이': 12168, '독자': 12169, '낚였네': 12170, '이탈': 12171, '명를': 12172, '기휘': 12173, '복수혈전': 12174, '은우': 12175, '후퍼': 12176, '콤럼': 12177, '연평도': 12178, '영정사진': 12179, '킴베싱어': 12180, '타가': 12181, '거위': 12182, '쓸쓸': 12183, '한그루': 12184, '독침': 12185, '자뻑': 12186, '백성': 12187, 'adhf': 12188, '겈': 12189, '합뉘돠': 12190, '쪼': 12191, '임아진': 12192, '즛': 12193, 'ㅋㄱㄱ': 12194, '붓': 12195, '배설물': 12196, '료코': 12197, '패착': 12198, '심벌': 12199, '731': 12200, '팜케': 12201, 'ㅆㅞㅅ': 12202, '분닥': 12203, '세인트': 12204, '재간': 12205, '주력': 12206, '109분': 12207, '푸릇했던': 12208, '와어쩜': 12209, 'mother': 12210, '퍼커': 12211, '잡혀가다': 12212, '쪾': 12213, '스탭들돈': 12214, '문화상': 12215, '불량품': 12216, '기울다': 12217, '면적': 12218, '위장결혼': 12219, '바판': 12220, '의슴': 12221, '용임': 12222, '흠왜': 12223, '엮지마': 12224, '셀위': 12225, '임응': 12226, '북두의권': 12227, '친미': 12228, '들장미소녀': 12229, '고퍼': 12230, '이본': 12231, '공률': 12232, '자릿수': 12233, '생포': 12234, '생화학': 12235, '벙커버스터': 12236, '초토화': 12237, '쪼그': 12238, '쫄아섴': 12239, '슈류탄': 12240, '볼륜': 12241, '국명': 12242, '5만': 12243, '노근리': 12244, 'ㅡㅡㅜㅜ': 12245, '키자루': 12246, '대등하다': 12247, '스트롱월드': 12248, '대장': 12249, '성차별': 12250, '고향': 12251, '쯩': 12252, '홍길동': 12253, '채영은': 12254, '호의호식': 12255, '쩌들어': 12256, '애드': 12257, '알레고리': 12258, '몰지각하다': 12259, '뱃사공': 12260, '존대': 12261, '연모': 12262, '거러': 12263, '관불': 12264, 'zzz': 12265, '큰데미췬': 12266, '중궈애들': 12267, '음성': 12268, '6099': 12269, '1930년': 12270, '대냐': 12271, '뭐재밋네': 12272, '귀향': 12273, '줭': 12274, '짜들다': 12275, '쌍절': 12276, '보수파': 12277, '승홍': 12278, '나옴': 12279, '놀랏던': 12280, '없엇음': 12281, '퀵': 12282, '영화유딩': 12283, 'ㅅㅓ': 12284, '사족': 12285, '드레곤': 12286, '누드': 12287, '원초': 12288, '이교도': 12289, '김재규': 12290, '쥐어박다': 12291, '저저': 12292, '닌교': 12293, '인형사': 12294, '마린': 12295, '발광하다': 12296, '의기양양하다': 12297, '케냐': 12298, '보건': 12299, '응가': 12300, '무안하다': 12301, '의병': 12302, '반신반의': 12303, '베틀': 12304, '필드': 12305, '필적': 12306, '씬사이': 12307, '항': 12308, '검술': 12309, '안마방': 12310, '8000원': 12311, '나미리': 12312, '누굴': 12313, '안듭니다이': 12314, '김종욱': 12315, '등록증': 12316, '교만': 12317, '숙이다': 12318, '바짝': 12319, '엎드리다': 12320, '독실하다': 12321, '사마귀': 12322, '예기': 12323, '은행나무': 12324, '잎사귀': 12325, '데기': 12326, '중매': 12327, '맞선': 12328, '옆뒤': 12329, '운전자': 12330, '마지못하다': 12331, '장려': 12332, '저출산': 12333, '급선무': 12334, '약혼녀': 12335, '옴청': 12336, '56분': 12337, '52초': 12338, '맥카닉': 12339, '와리': 12340, '귀머거리': 12341, '사냥꾼': 12342, '빠놈': 12343, '참대': 12344, '언터쳐블': 12345, '일레븐': 12346, '자두': 12347, '도충': 12348, '븬': 12349, '이뭐냐': 12350, '구면': 12351, '패딩': 12352, '삵': 12353, '두루미': 12354, '정민형': 12355, '미조': 12356, '커크': 12357, '나쵸': 12358, '스프라이트': 12359, '그리스인': 12360, '살로': 12361, '소돔': 12362, '120일': 12363, '호칭': 12364, '촬영장': 12365, '오두막': 12366, '꼬부기': 12367, '오징어': 12368, '갈까말까': 12369, '머뭇머뭇': 12370, '박봉': 12371, '골병': 12372, '과로사': 12373, '패죽': 12374, '수용': 12375, '어덜트': 12376, '람바다': 12377, '열풍': 12378, '밀리': 12379, '어쩜좋': 12380, '황보라': 12381, '김철': 12382, '무감각': 12383, '낚기위': 12384, '시인': 12385, '로르카': 12386, '가첨': 12387, '퍼셀': 12388, '500일': 12389, '섬머': 12390, '러팔로': 12391, '해럴슨': 12392, '전임': 12393, '피부병': 12394, '편두통': 12395, '꽈놨노': 12396, '510': 12397, '뒷받침': 12398, '인슾': 12399, '인피니트': 12400, '140322': 12401, '릴리': 12402, '놈애': 12403, '반헬싱': 12404, '하의': 12405, '뒤여': 12406, 'ㅉㅂ': 12407, '허드슨': 12408, '배렷음': 12409, '상반기': 12410, '서브': 12411, '정지': 12412, '역연기': 12413, '요먼': 12414, '제국': 12415, '휙휙': 12416, '념겨보기': 12417, '퉁': 12418, '날이갈수록': 12419, '원더우먼': 12420, '원더': 12421, '얼추': 12422, '플래시백': 12423, '포크레인': 12424, '줄타기': 12425, '음간': 12426, '애슐리': 12427, '쉴드치다': 12428, '진유영': 12429, '원미경': 12430, '강태기': 12431, '보다껐는데': 12432, '서남': 12433, '개인정보': 12434, '재밋긴': 12435, '취양': 12436, '같이만': 12437, '표값좀': 12438, '어쩌겠어': 12439, '전에도': 12440, '팬질': 12441, '미쳤넼': 12442, '친목질': 12443, '담합': 12444, '남산': 12445, '됴': 12446, '김진표': 12447, '웟던': 12448, '개많넼': 12449, '발로': 12450, '증발': 12451, '관찰': 12452, '13회': 12453, '10위안': 12454, '에든다정신없는': 12455, '얼꽝': 12456, '성대모사': 12457, '구일': 12458, '머저': 12459, '진실인': 12460, '강압': 12461, '촌극': 12462, '업넹': 12463, '메탈기어': 12464, '솔리드': 12465, '영부인': 12466, '노건평': 12467, '허벅지': 12468, 'ㅈㅈ': 12469, '냉혈': 12470, '능빔': 12471, '주간지': 12472, '범죄소설': 12473, '배웟': 12474, '켜': 12475, '꼴깝': 12476, '건들': 12477, '요기': 12478, '언플': 12479, '구질구질하다': 12480, '511': 12481, '조희봉': 12482, '국내외': 12483, '항의': 12484, '바가지머리': 12485, '애뎀': 12486, '지호': 12487, '모음': 12488, '급물': 12489, '마광수': 12490, '헛점많': 12491, '싸리': 12492, '은교': 12493, '시가지': 12494, '강남': 12495, '학군': 12496, '슈주': 12497, '오크': 12498, '빵점빵점': 12499, '클럼스키': 12500, '정함': 12501, '얄궂다': 12502, '완견': 12503, '유기견': 12504, 'really': 12505, 'ㅁㅇ': 12506, 'ovie': 12507, '헵번': 12508, '펌프': 12509, '37년': 12510, '담하다': 12511, '거니': 12512, '김꽃비': 12513, '과극': 12514, '갖다주러가죠': 12515, '순순하다': 12516, '26일': 12517, '지나면': 12518, '어정': 12519, '밑에님보': 12520, '뿜음': 12521, '미유키': 12522, '보조금': 12523, '몰이': 12524, '대선': 12525, '괜춘하': 12526, '단추': 12527, '화근': 12528, '럽라': 12529, '부산하다': 12530, '십자군': 12531, '살생': 12532, '보청기': 12533, '일본침몰': 12534, '입산': 12535, '서슴다': 12536, '버러지': 12537, '개뻥임': 12538, '네델란드': 12539, '펑가': 12540, '이규한': 12541, '프로도': 12542, '앞머리': 12543, '개폭솤': 12544, '생물체': 12545, '반딧불': 12546, '피맺힌': 12547, '한중': 12548, '한일': 12549, '둥글다': 12550, '얼토': 12551, '시라소니': 12552, '쇄뇌': 12553, '곽현화': 12554, '상혁': 12555, '꽃님': 12556, '충전': 12557, '스페인영화': 12558, '배렸': 12559, '뻥카': 12560, '엠블런스': 12561, '궤변': 12562, '무신론자': 12563, '괴정': 12564, '일본군': 12565, '만주': 12566, 'ㅊㅋㅊㅋ': 12567, '중국무협': 12568, 'wcw': 12569, '낮설다톰': 12570, '매그놀리아': 12571, '비긴즈': 12572, '작품집': 12573, '안되드': 12574, '벙': 12575, '90회': 12576, '정도부터': 12577, '소나': 12578, '평안': 12579, '타당성': 12580, '악화시키다': 12581, '개욕': 12582, '충당': 12583, '146분': 12584, 'topno': 12585, '스티브잡스': 12586, '발명': 12587, '홍수아': 12588, '공작': 12589, '단박': 12590, '자전거': 12591, '뮈': 12592, '탠': 12593, '집계': 12594, '스는데': 12595, '트컨': 12596, '페티': 12597, '그루': 12598, '마터스': 12599, '흥순': 12600, '용케': 12601, '질환': 12602, '질병': 12603, '장착': 12604, '기생충': 12605, '썰렁': 12606, '짝좀': 12607, '살길': 12608, '거세': 12609, '머꼬': 12610, '섭렵': 12611, '근거리': 12612, '아란': 12613, '쏱아내': 12614, '빠수늬들때매': 12615, '태작': 12616, '팝핑': 12617, '선장': 12618, '둔감하다': 12619, 'bbc': 12620, '투리': 12621, '견제': 12622, '맞장구': 12623, '빌리버': 12624, '컨택': 12625, '의방': 12626, '엨': 12627, '가위손': 12628, '마하': 12629, '박예진': 12630, '모하': 12631, '퓨전': 12632, '들러리': 12633, '엠마왓슨': 12634, '기린': 12635, '상호': 12636, '판빙빙': 12637, '비욘드': 12638, '유위': 12639, '다작': 12640, '많았슴다': 12641, '락원': 12642, '투캅스': 12643, '도련님': 12644, '왜꼭': 12645, '여친소': 12646, '피자헛': 12647, '수하': 12648, '오경이': 12649, '신보라': 12650, '박영진': 12651, '씌우다': 12652, '조단': 12653, '개별': 12654, '백야': 12655, '매하': 12656, '쿠키런': 12657, '냅둘껄': 12658, '코요테': 12659, '글리': 12660, '멕시칸': 12661, '사이보그': 12662, '윈드밀': 12663, '조물주': 12664, '시청각': 12665, '전교조': 12666, '최화정': 12667, '시집': 12668, '볍씨': 12669, '읅': 12670, '아리송하다': 12671, '기합': 12672, '강점': 12673, '야단': 12674, '혼마찌깡': 12675, '돌리도': 12676, '인공호흡': 12677, '뱃사람': 12678, '쉐인': 12679, '다이크': 12680, '그래프': 12681, '라발': 12682, '팰트': 12683, '일개': 12684, '하급': 12685, '게속': 12686, '노비': 12687, '법첩': 12688, '인물관계도': 12689, '직후': 12690, '가뿐하다': 12691, '넘겨주다': 12692, '추론': 12693, '승승': 12694, '전기의자': 12695, '손자': 12696, '윅스': 12697, '임상수': 12698, '의정서': 12699, '해이': 12700, '게머': 12701, '짚라인': 12702, '물음': 12703, '옥수역': 12704, '잇엇으면하': 12705, '예비군': 12706, '뷁': 12707, '허위': 12708, '준딸': 12709, '정선희': 12710, 'everythings': 12711, 'broken': 12712, 'want': 12713, '기숙사': 12714, '낙서': 12715, '친년': 12716, '배렸다': 12717, '103분': 12718, '답시고': 12719, '동기화': 12720, '처분': 12721, '주야': 12722, '나일': 12723, '단세포': 12724, 'think': 12725, '메트로': 12726, '얼샤': 12727, '로닌': 12728, '벽력': 12729, '경준': 12730, '139': 12731, '장본인': 12732, '망촐수': 12733, '삼사': 12734, '커피숍': 12735, '의논': 12736, '차현정': 12737, '먀': 12738, 'fuck': 12739, '헸': 12740, '자다옮': 12741, '강은비': 12742, '껄렁하다': 12743, '도우': 12744, '선입견들': 12745, '양철': 12746, '서영춘': 12747, '자고로': 12748, '반듯하다': 12749, '나글': 12750, '십덕': 12751, '보다끔': 12752, '똥칠': 12753, '징글': 12754, '꼴레오네': 12755, '안산': 12756, '후뢰시맨': 12757, '전대물': 12758, '프라스': 12759, '법원': 12760, '솜망': 12761, '삥': 12762, '오천원': 12763, '헤라클레스': 12764, '쩁': 12765, '안대': 12766, '유요': 12767, '는단': 12768, '술취해': 12769, '도구로': 12770, '엇읍': 12771, '심장마비': 12772, '통곡': 12773, '클린': 12774, '러브인아시아': 12775, '별탈': 12776, '노모쇼': 12777, '터프하': 12778, '로드킬': 12779, '마주치다': 12780, '경찰청': 12781, '봤기떄문': 12782, '맥카시': 12783, '하마': 12784, '개낚였내': 12785, '류란': 12786, '극강슴가': 12787, '버드': 12788, 'ㅋㅋㅋㅋㅋㅋㅋㅋㅋㅋㅋㅋㅋㅋㅋㅋㅋㅋㅋㅋㅋ': 12789, '양자경': 12790, '더냐': 12791, '바오': 12792, '목잡': 12793, '성찬': 12794, '도끼': 12795, '쇠뭉둥': 12796, '44': 12797, '용구': 12798, '브레이커': 12799, '사무치다': 12800, '풍비박산': 12801, '조짐': 12802, '대같아': 12803, '조문탁': 12804, '나왓을떈': 12805, '관광객': 12806, '버스정류장': 12807, '하얀색': 12808, '검은색': 12809, '글씨': 12810, '진핵': 12811, '녀역': 12812, '딸년': 12813, '자아도취': 12814, '돌기': 12815, '짤린듯': 12816, '재밋다고해': 12817, '주홍글씨': 12818, '카무이': 12819, '사교': 12820, '테스': 12821, '헤리포터': 12822, '돌맹': 12823, '비발디': 12824, '작부': 12825, '부랄': 12826, '캥거루': 12827, '에스텔': 12828, '워렌': 12829, '민종아다훈': 12830, 'xtm': 12831, '도썅': 12832, '식인': 12833, '프리미엄': 12834, '곁들이다': 12835, '항소': 12836, '사법부': 12837, '장사': 12838, '스테이': 12839, '345': 12840, '후우': 12841, '답게': 12842, '경품': 12843, '면안': 12844, '이론': 12845, '촘촘': 12846, '일승': 12847, '천기': 12848, '고종': 12849, '외척': 12850, '세도정치': 12851, '민비': 12852, '사발': 12853, '사촌': 12854, '방관': 12855, '나카마': 12856, '유키에': 12857, '뉴질랜드': 12858, '백만배': 12859, '피치퍼펙트': 12860, '롱롱롱': 12861, '광신': 12862, '쩌구': 12863, '편애': 12864, '유통': 12865, '졷니뎁': 12866, '파토': 12867, '징글징글': 12868, '띠': 12869, '변형': 12870, '것욕': 12871, '조장': 12872, '쭐쭐이': 12873, '랩터': 12874, '곤곤': 12875, '산채': 12876, '리또갱스': 12877, '브루': 12878, '족하': 12879, '파노': 12880, '말액': 12881, '로맨틱영화': 12882, '날려': 12883, '곳피': 12884, '개새': 12885, '굴비': 12886, '시범': 12887, '버무려': 12888, '석탄': 12889, '머리털': 12890, 'ㅅㅌㅊ': 12891, '심술': 12892, '혜진': 12893, '이혜': 12894, '몸무': 12895, '몽키즈': 12896, '상팔자': 12897, '최세영': 12898, '정준하': 12899, '채리불권': 12900, '의라': 12901, '뜸금포': 12902, '이연두': 12903, '블랙유머': 12904, '이영': 12905, '이건뭐맷': 12906, '인서전트': 12907, '슬링': 12908, '회사원': 12909, '육중': 12910, '낚임누': 12911, '편점': 12912, '봉소악': 12913, '힘겹다': 12914, '조윤': 12915, '도에도': 12916, '취직': 12917, '라피': 12918, '데어데블': 12919, '유트브': 12920, '조진웅': 12921, '1408': 12922, '애꿋': 12923, '현대차': 12924, '키스씬': 12925, '아웃랜더': 12926, '여리다': 12927, '덴마크어': 12928, '십자가': 12929, '해괴망측': 12930, '팽': 12931, '브라더': 12932, '봤느': 12933, 'ckfkflgjfzmqha': 12934, 'lg': 12935, '성애자': 12936, '숫처녀': 12937, '난봉': 12938, '저널리즘': 12939, '감상문': 12940, '논픽션': 12941, '띤': 12942, '이종인': 12943, '객관성': 12944, '특정하다': 12945, '이왕': 12946, '일판': 12947, '전전긍긍': 12948, '유타': 12949, '전으로': 12950, '또래': 12951, '사에코': 12952, '얼버': 12953, '남곤': 12954, 'ㄲㅊ': 12955, '아닝': 12956, '류현진': 12957, '정은채': 12958, '남보라': 12959, '적용': 12960, '양보': 12961, '서한': 12962, '너넨': 12963, '오션스일레븐': 12964, '과업': 12965, '박훈카드': 12966, '훈': 12967, '씬좀': 12968, '문구': 12969, '팽씨': 12970, '라임스': 12971, '장대': 12972, '클리': 12973, '특등': 12974, '냉동': 12975, '양비론': 12976, '명자': 12977, '맘징창': 12978, '전철협': 12979, '선불': 12980, '구형': 12981, '아반떼': 12982, '공용': 12983, '싼타모': 12984, '싸잡히다': 12985, '홀라당': 12986, '구들': 12987, '진흙': 12988, '뒹구느': 12989, '괸': 12990, '안간힘': 12991, '주서': 12992, '비슷말': 12993, '키기': 12994, '넓어지다': 12995, '화두': 12996, '스케이트': 12997, '렵': 12998, '허당': 12999, '부시다': 13000, '일밤': 13001, '해숙씨': 13002, '발련': 13003, '전세홍': 13004, '확끈': 13005, '폭망': 13006, '제조': 13007, '홍수': 13008, '처치': 13009, '곤란': 13010, 'dsahhdfdhadhfhsa': 13011, '측정': 13012, '과학소설': 13013, '답변': 13014, '조위': 13015, '무리하다': 13016, '만드나': 13017, '훤': 13018, '알리야': 13019, '간본영화중에': 13020, '허송': 13021, '케이티홈즈': 13022, '이말년': 13023, '만판': 13024, 'cc': 13025, '멸': 13026, '츠카': 13027, '신야': 13028, '약방': 13029, '아침밥': 13030, '반야심경': 13031, '킬엠올': 13032, '다빡': 13033, '개허세씬': 13034, '눈꼽': 13035, '가업': 13036, '비상구': 13037, '달라짐': 13038, '애색긔들': 13039, '내야': 13040, '지율': 13041, '10억': 13042, '수여': 13043, '수트': 13044, '으루': 13045, '권유': 13046, '유송': 13047, '해커스': 13048, '토익': 13049, '교재': 13050, 'lc': 13051, 'mp': 13052, '이돌': 13053, '글삭': 13054, '내인': 13055, '생손': 13056, '런스': 13057, '스몰빌': 13058, '로이스': 13059, '생활비': 13060, '아인': 13061, '정운택': 13062, '아낫': 13063, '백마': 13064, '톱질': 13065, '필생': 13066, '문짝': 13067, '조루': 13068, '스트리트': 13069, '두통': 13070, '볼리우드': 13071, '자기만족': 13072, '놈뇽': 13073, '먹': 13074, '회관': 13075, '도발': 13076, '좀볼': 13077, '김봉은': 13078, 'at': 13079, 'she': 13080, 'dead': 13081, '프로보': 13082, '불로장생': 13083, '난데없이': 13084, '가창력': 13085, '호주영화': 13086, '쭉빵걸': 13087, '자작나무': 13088, '거론': 13089, '중이병': 13090, '구실': 13091, '가망': 13092, '한느것': 13093, '장하': 13094, '까지야': 13095, '초등생': 13096, '발언': 13097, '26000원': 13098, '는커녕': 13099, '낚인건': 13100, '야마다': 13101, '아유미': 13102, '건전성': 13103, '상함': 13104, '공과': 13105, '초사': 13106, '이언': 13107, '스파': 13108, '꿈뻑임': 13109, '킹더': 13110, '웨이브': 13111, '터맘': 13112, '생경': 13113, '고등어': 13114, '먼이렁': 13115, '아보': 13116, '줄평': 13117, '흐접': 13118, '에로씬': 13119, '호노카': 13120, '더망작': 13121, '짜리를': 13122, '백순철': 13123, '이규화': 13124, '채찍': 13125, '골프채': 13126, '바르게': 13127, '유데': 13128, '막만드': 13129, '이종혁': 13130, '친분': 13131, '특별출연': 13132, '로프트': 13133, '문세윤': 13134, '대륙': 13135, '꿀밤': 13136, '가설': 13137, '999': 13138, '음음': 13139, '대칭': 13140, '크리스토프': 13141, '왈츠': 13142, '헬드': 13143, '쉿트임': 13144, '쪼금': 13145, '분위': 13146, '힛': 13147, '볼빠': 13148, '버철': 13149, '메디컬탑팀': 13150, '지젤': 13151, '번천': 13152, '마시다': 13153, '보호자': 13154, '제나라': 13155, 'iv': 13156, '국전': 13157, '적군': 13158, '뉴에이지': 13159, '가깝드': 13160, '고타': 13161, 'gul': 13162, 'young': 13163, 'hwa': 13164, '안통': 13165, 'gi': 13166, '진행중': 13167, '키르': 13168, '유하은': 13169, '동준': 13170, '조센징': 13171, '역사관': 13172, '역사학자': 13173, '깝치': 13174, '고치': 13175, '연약하다': 13176, '봣네': 13177, '김종민': 13178, '정글': 13179, '티비엔': 13180, '잡침': 13181, '재동': 13182, '앉히다': 13183, '서현진': 13184, '뭐얔': 13185, 'fuk': 13186, '크라운제이': 13187, '재밋는지': 13188, '성도착': 13189, '9일': 13190, '백사전': 13191, '롬': 13192, '어원': 13193, '왜안': 13194, '알리바이': 13195, '착란': 13196, '증세': 13197, '홀리데이': 13198, '양영희': 13199, '시카고': 13200, '대에는': 13201, '애들립': 13202, '모란': 13203, '건빵': 13204, '맥임': 13205, '힛힛': 13206, '탱크로리': 13207, '않드네': 13208, '졸귘': 13209, '흑마술': 13210, '러있는': 13211, '듕궈': 13212, '자유분방하다': 13213, '메이킹': 13214, '거들다': 13215, '성소수자': 13216, '조형': 13217, '특효약': 13218, '쳇': 13219, '직감': 13220, '팀로빈스': 13221, '이견': 13222, '개봉작을': 13223, '식품': 13224, '여직원': 13225, '투잡': 13226, '호리': 13227, '코시': 13228, '페션': 13229, '릴꼬': 13230, '점피': 13231, '맹견': 13232, '패셔너블': 13233, '표류': 13234, '어지러움': 13235, '지오디': 13236, '안띤': 13237, '잔나': 13238, '충북': 13239, '단양': 13240, '송인화': 13241, '대마초': 13242, '적발': 13243, '두렁': 13244, '동을봐': 13245, '108': 13246, '번뇌': 13247, '블렌더': 13248, '바스': 13249, '떡대': 13250, '샤넬': 13251, '스트라빈스키': 13252, '음악가': 13253, '탈것': 13254, '셀카': 13255, '찍디': 13256, '도우미': 13257, '권오중': 13258, '껍대기': 13259, '유모': 13260, '팔랑거리다': 13261, '깜둥이': 13262, '잠적': 13263, '전에순금이한테상처줘으면돼지또그렇러고한나요순금의땅결말은어떻게돼나요금긍해요': 13264, '조경': 13265, '본보기': 13266, '사리': 13267, '눈척': 13268, '끼리끼리': 13269, 'ㄱㅆㄹ': 13270, '강회': 13271, '시행': 13272, '오도바이': 13273, '간파': 13274, '짤릴까봐': 13275, '질임': 13276, '검정': 13277, '고무신': 13278, '요따위': 13279, '띨띨': 13280, '위신': 13281, '땅바닥': 13282, '천방지축': 13283, '빙글빙글': 13284, '외적': 13285, '본즈': 13286, '현채': 13287, '동하': 13288, '벅찬드': 13289, '176': 13290, '수수': 13291, '루루': 13292, '법함': 13293, '저작권': 13294, '이겡': 13295, '박정아': 13296, '뒤라스': 13297, '맹렬하다': 13298, '브랜든리': 13299, '로카르노': 13300, '남장': 13301, '때민': 13302, '키다리': 13303, '비고': 13304, '모텐슨': 13305, '새디즘': 13306, '매조키즘': 13307, '교환': 13308, '2조': 13309, '꼴사납다': 13310, '종용': 13311, '실태': 13312, '꼴갑': 13313, '돈벌이': 13314, '작사가': 13315, '양궁': 13316, '변태성욕': 13317, '허참': 13318, '폭격기': 13319, '멤피스': 13320, '태권': 13321, 'ㅡㅠ': 13322, '부가가치': 13323, '비적': 13324, '굳히다': 13325, '세카츄': 13326, '한국사': 13327, '애통하다': 13328, '척해': 13329, '천오백원': 13330, '희박하다': 13331, '왕가': 13332, '포악하다': 13333, '박멸': 13334, '1941년': 13335, '겨울전쟁': 13336, '동맹': 13337, '파견': 13338, '신승수': 13339, '유도탄': 13340, '빛바': 13341, '서신애': 13342, '킄': 13343, '쩌는놈': 13344, '러브씬': 13345, '랙픽': 13346, '왜봣음': 13347, '복제인간': 13348, '엘릭': 13349, '바꼇': 13350, '퇴보': 13351, '짤린건': 13352, '어짤거': 13353, '편땜': 13354, '물잼': 13355, '두기': 13356, '애원': 13357, '몹': 13358, '간츠': 13359, '엠': 13360, '탈퇴': 13361, '이럴꺼면왜출연시킴': 13362, '신식': 13363, '오합지졸': 13364, '성사': 13365, '매직': 13366, '짦다': 13367, '찌질': 13368, '예민하다': 13369, '융통성': 13370, '마드리드': 13371, '외양간': 13372, '어눌하다': 13373, '견줄영화': 13374, '후쿠시마': 13375, '원전': 13376, '비핵화': 13377, '깨달': 13378, '못느꼇': 13379, '슈타게': 13380, '서장': 13381, '방컷': 13382, '술상': 13383, '그릇': 13384, '접시': 13385, '조선시대': 13386, '격파': 13387, '부술수': 13388, '행동거지': 13389, '봉변': 13390, '격렬하다': 13391, '강간범': 13392, '부르짖다': 13393, '범주': 13394, '조직폭력배': 13395, '성지': 13396, '제레마': 13397, '언스': 13398, '톰슨': 13399, '이종격투기': 13400, '김윤석': 13401, '아까웟음': 13402, '갈라지다': 13403, '신사참배': 13404, '정도영': 13405, '어설피': 13406, '타케시': 13407, '새낔': 13408, 'sweetbox': 13409, 'youre': 13410, 'alone': 13411, '셍각': 13412, '애해': 13413, '이재환': 13414, '우중': 13415, '안좋쟎아': 13416, '지해': 13417, '데강': 13418, '이발': 13419, '여행가이드': 13420, '겸': 13421, '작과는': 13422, '하므다': 13423, '컨트롤': 13424, '떵폼': 13425, '씨지브이': 13426, '하울링': 13427, '렷': 13428, '훌룡햇제': 13429, '김선혜': 13430, '박리나': 13431, '이자웅': 13432, '네로': 13433, '혐의': 13434, '김형석': 13435, '조동혁': 13436, '인간의조건': 13437, '대영화같움': 13438, '발씬': 13439, '싢': 13440, '김성수': 13441, '이듬': 13442, '나노': 13443, '무뇌아': 13444, '삼각김밥': 13445, 'bye': 13446, '뵨태적': 13447, '챙피': 13448, '오물': 13449, '구본승': 13450, '헐떡거리다': 13451, '찌그러뜨리다': 13452, '흉식호흡': 13453, '헉헉거리다': 13454, '자궁암': 13455, '순정만화': 13456, '체스': 13457, '손은서': 13458, '아낌없이': 13459, '조우': 13460, '덤블링': 13461, '강윤': 13462, '정해': 13463, '꽁트': 13464, '낚신': 13465, '꽃사진': 13466, '대패': 13467, '벙쩌하': 13468, '양화': 13469, '아닠': 13470, '폐암': 13471, '도영화냐': 13472, '고모': 13473, '완숙': 13474, '광대도': 13475, '마비': 13476, '테터': 13477, '속수무책': 13478, '진척': 13479, '초단': 13480, '최재하': 13481, '강철': 13482, '달렷어': 13483, 'gg': 13484, '삻증': 13485, '라는둥': 13486, '베스트셀러': 13487, '지긋지긋하다': 13488, '렛잇고': 13489, '쉣더뻑': 13490, '쾌찬차': 13491, '못봣구': 13492, '향해': 13493, '힘껏': 13494, '친후': 13495, '존엄': 13496, '부르조아': 13497, '단치': 13498, '체내': 13499, '배열': 13500, '픽업': 13501, '잠자리': 13502, '베쏭': 13503, '될런': 13504, '기인': 13505, '부랴부랴': 13506, '물컹물컹하다': 13507, '시들시들': 13508, '벼르한게': 13509, '촉진': 13510, '시간버렷': 13511, '분타': 13512, '쿄': 13513, '세이지': 13514, '베끼기': 13515, '단편영화': 13516, '닉슨': 13517, '일후': 13518, '29': 13519, '아놬': 13520, '33': 13521, '발란스': 13522, '사퇴': 13523, '노장': 13524, 'ㅋㅎㅎ': 13525, '페이스': 13526, '850': 13527, '쟁장': 13528, '이해이해': 13529, '토막': 13530, '쇼핑': 13531, '분칠': 13532, '삐뚤다': 13533, '빼뚤': 13534, '리사': 13535, '폴란드': 13536, '안준영': 13537, '드라이': 13538, '하이힐': 13539, '말함': 13540, '무등산': 13541, '박흥숙': 13542, '발기': 13543, '쿠퍼액': 13544, '데빌': 13545, '킁': 13546, '특별나다': 13547, '므고이': 13548, '가울': 13549, '김종학': 13550, '송지나': 13551, '서진우': 13552, '달뜨다': 13553, '스르': 13554, '탐험': 13555, '개폼': 13556, '용답': 13557, '발단': 13558, '말레': 13559, '폿': 13560, '야비하다': 13561, '쫄병': 13562, '혈액형': 13563, '비상하다': 13564, '폭팔': 13565, '풍속': 13566, '후반전': 13567, '워터월드': 13568, '낚아': 13569, '강성훈': 13570, '김지혜': 13571, '키쓰씬': 13572, '막강': 13573, '토오루': 13574, '몽따': 13575, '진배': 13576, '31년': 13577, 'ㄷㄷㄷㄷㄷㄷㄷㄷㄷㄷㄷㄷㄷㄷㄷㄷㄷㄷㄷㄷㄷㄷㄷㄷㄷㄷ': 13578, '까지에': 13579, '선발': 13580, '변강쇠': 13581, '판관': 13582, '001': 13583, '펔킹': 13584, '펔킹펀킹': 13585, '전자기유도': 13586, '밎어지': 13587, '만오': 13588, '행각': 13589, '이케': 13590, '박지르다': 13591, '번오글토글': 13592, '저음': 13593, '협찬': 13594, '비지니스석': 13595, '앵앵': 13596, '시나리오작가': 13597, '기러기': 13598, '섹함': 13599, '동상': 13600, '이류': 13601, '브레이브': 13602, '엄창걸': 13603, '나꼼수': 13604, '광우병': 13605, '정론': 13606, '점밑': 13607, '세얼간이': 13608, '네얼간이': 13609, 'fast': 13610, 'forward': 13611, '절세': 13612, '몰락하다': 13613, '도학': 13614, '위룡': 13615, '눈꼽만큼': 13616, '통닭': 13617, '비디오영화': 13618, '놨음': 13619, '인과': 13620, '꼬락서니': 13621, '이재수': 13622, '했엌': 13623, '글세': 13624, '헌금': 13625, '조태환': 13626, '리허설': 13627, '현지': 13628, '연길': 13629, '머무르다': 13630, '태극': 13631, '150분': 13632, '청문회': 13633, '부스러기': 13634, '먹고살다': 13635, '돈벌': 13636, '오카다': 13637, '초장': 13638, '뮤턴트': 13639, '염기': 13640, '생물학자': 13641, '935': 13642, '400회': 13643, '견줄만': 13644, '읎나': 13645, '지형': 13646, '샌들': 13647, '러횽': 13648, '뚱딴지': 13649, '도벽': 13650, '질일': 13651, '어쩌니할때': 13652, 'mai': 13653, 'nadasaka': 13654, '넘김': 13655, '성희연': 13656, '종반': 13657, '본가': 13658, '옷버겨버린': 13659, '훨훨': 13660, '수비대': 13661, '에들껄': 13662, '항공': 13663, '미니건': 13664, '난사': 13665, '빨대': 13666, '노동당': 13667, '당원': 13668, '버는듯': 13669, '남귤북': 13670, '로빈스': 13671, '너리': 13672, '모튼': 13673, '도아깝다': 13674, '증상': 13675, '스캐일': 13676, '썻는데': 13677, '댄줄알았다': 13678, '찬미': 13679, '오로치마루': 13680, '신라': 13681, '청정': 13682, '블리자드': 13683, '디스턴스': 13684, '전투복': 13685, '3만원': 13686, '118분': 13687, '개열': 13688, '암거': 13689, '덥석': 13690, '435': 13691, '높힌': 13692, '그리샴': 13693, '박혜미': 13694, '강남스타일': 13695, '왕지혜': 13696, '병적': 13697, '왕좌': 13698, '게스트하우스': 13699, '91년': 13700, '디엔드': 13701, '개드립': 13702, '만우절': 13703, '치사량': 13704, '히로인': 13705, '왜끝': 13706, '가끔가다': 13707, '홍길동전': 13708, '힐줄': 13709, '어머나': 13710, '진저리': 13711, '금연': 13712, '에너지드링크': 13713, '미숭맹숭함': 13714, '찍지마라': 13715, '34분': 13716, '후내': 13717, '전이지만': 13718, 'gcv': 13719, '스리': 13720, '잠수함전': 13721, '갑지': 13722, '익': 13723, '의처증': 13724, 'clicheroutine': 13725, 'jk': 13726, '소몰이': 13727, '젠거': 13728, '58분': 13729, '응징자': 13730, '촌뜨기': 13731, '어트케': 13732, '이목': 13733, '유형': 13734, '장의사': 13735, '잡친': 13736, '프루나': 13737, '쌍룡회': 13738, 'ㅆㄹㄱ': 13739, '갈이': 13740, '야돈': 13741, '소감': 13742, '치매': 13743, '도식': 13744, '참고서': 13745, '옛애인': 13746, '콩깍지': 13747, '씌여': 13748, '락음악': 13749, '오르가즘': 13750, '거름': 13751, '조가': 13752, '패쇄': 13753, '기능': 13754, '볼껀': 13755, '드마': 13756, '슬램덩크': 13757, '대수준': 13758, '메로': 13759, '절권도': 13760, '홀릭함': 13761, '스웨': 13762, '혐': 13763, '풍도': 13764, '레너': 13765, '마다가스카': 13766, '간질병': 13767, '망처논': 13768, '정취': 13769, '고리타': 13770, '르망': 13771, '아카디아': 13772, '이화': 13773, '하일': 13774, '대뜸': 13775, '썩혔다': 13776, '척도': 13777, '게이물': 13778, '까무러': 13779, '도산이': 13780, 'led': 13781, '다이오드': 13782, '촉수': 13783, '부비부비': 13784, 'ㅂㅂ': 13785, '숙적': 13786, '교만하다': 13787, '대표팀': 13788, '김연아': 13789, '미비하다': 13790, '투명': 13791, '패러글라이딩': 13792, '헛읏음': 13793, '작픔': 13794, 'naver': 13795, '라즈베리': 13796, '할애': 13797, '궁금궁금': 13798, '석가모니': 13799, '목수': 13800, '무엄하다': 13801, '설교': 13802, '포석': 13803, '드러눕다': 13804, '쳔녀유혼': 13805, '통나무': 13806, '환경오염': 13807, '이여진': 13808, '유아기': 13809, '천대': 13810, '억척스럽다': 13811, 'ylmcrulae': 13812, '도엔': 13813, '왕따': 13814, '선구': 13815, '외딴': 13816, '못밑': 13817, '노태우': 13818, '유신정권': 13819, '독재': 13820, '과전': 13821, '일중독': 13822, '니코': 13823, '데려오다': 13824, '차림': 13825, '연쇄살인범': 13826, '전에는': 13827, '쫄딱': 13828, '땐디': 13829, 'ㅜㅜㅋ': 13830, '결재': 13831, '순대볶음': 13832, 'lol': 13833, '시름': 13834, '비리비리': 13835, '헤시': 13836, '빈스본등': 13837, '분풀이': 13838, '정기': 13839, '우중충하다': 13840, '차별성': 13841, '경비행기': 13842, '운송': 13843, '앨리': 13844, '1000000000': 13845, '고천락': 13846, '이국': 13847, '돈존': 13848, '6070년': 13849, '리해': 13850, '구세준': 13851, '정자': 13852, '어나': 13853, '황홀경': 13854, '올랜도': 13855, '블룸': 13856, '자흐': 13857, '로다쥬': 13858, '빠에야': 13859, '형평': 13860, '아동학대': 13861, '장서희': 13862, '수해': 13863, '숙면': 13864, '냉동차': 13865, '콧수염': 13866, '주절주절': 13867, 'ㅎㄷ': 13868, '원금': 13869, '잠수': 13870, '부엉부엉': 13871, 'worst': 13872, '퇴갤': 13873, '쪼개다': 13874, '추처': 13875, '명색': 13876, '반기다': 13877, '캡쳐': 13878, '재밋겠음': 13879, '2등': 13880, '50억': 13881, '배틀쉽': 13882, '낚엮어': 13883, '지르르': 13884, '마쇼': 13885, '57분': 13886, '까지보다가': 13887, '일제강점기': 13888, '아물다': 13889, 'jam': 13890, '조페': 13891, '듀발': 13892, '차이나타운': 13893, '이혁재': 13894, '뇌구조': 13895, '처울': 13896, '파가니니': 13897, '예우': 13898, '본넷': 13899, '말랑하다': 13900, '곽현아': 13901, '에게야': 13902, '잔득': 13903, '짱개': 13904, '아이폰': 13905, '이라그': 13906, '홍콩쓰레기영화': 13907, '젬': 13908, '나책찜': 13909, '추격씬': 13910, '물불': 13911, '레이져': 13912, '쏜닼': 13913, '이발소': 13914, '맹글': 13915, '난지도': 13916, '안재환': 13917, '독립선언': 13918, '문의': 13919, '탄사': 13920, '나한일': 13921, '조난': 13922, '넙치': 13923, '살짝살짝': 13924, '김소연': 13925, '100억': 13926, '200억': 13927, '넘는제작비': 13928, '임순례': 13929, '정향': 13930, '유부': 13931, '일박이일': 13932, '거북선': 13933, '정준영': 13934, '거슨내': 13935, '58': 13936, '로리타': 13937, '허파': 13938, '아들내미': 13939, '팜므파탈': 13940, '묵인': 13941, '기껏': 13942, '람다': 13943, '다다미': 13944, '꺼림칙하다': 13945, '세계보건기구': 13946, '에픽': 13947, '구성화': 13948, '정심': 13949, '중소기업청': 13950, '몽': 13951, '맘바': 13952, '팡틴': 13953, '귀부인': 13954, '장뱔장과쟈베르': 13955, '쒸레': 13956, '들통': 13957, '우기': 13958, '끌벅쩍': 13959, '러시': 13960, '운터강': 13961, '1920년': 13962, '잉글랜드': 13963, '정만호': 13964, '들떳': 13965, '금수': 13966, '짜리영화인데여자들이관심을보이는건돈이랑물건크기뿐이네': 13967, '쎄라동': 13968, '걸횽': 13969, '재키': 13970, '윌비': 13971, '522일': 13972, '15초': 13973, '마다한건씩': 13974, '매카시즘': 13975, '흡인': 13976, '걸행': 13977, '붕터': 13978, '횔덜린': 13979, '클라이스트': 13980, '소질': 13981, '정성일': 13982, '전멸': 13983, '성선녀': 13984, '온영삼': 13985, '4천만': 13986, '출애굽기': 13987, '1962년': 13988, '십계': 13989, '토끼다': 13990, '칸초': 13991, '정소동': 13992, '입구': 13993, '프랙티컬매직': 13994, '앵앵대다': 13995, '과부': 13996, '채닝': 13997, '억측': 13998, '건성': 13999, '탑건': 14000, '위계': 14001, '가트': 14002, '힌놈': 14003, '도요새': 14004, '살육': 14005, '쥐약': 14006, '때내': 14007, '중인': 14008, '수류탄': 14009, '닌': 14010, '재삼': 14011, '열악하다': 14012, '동안보고싶으면': 14013, '의욕': 14014, '다애': 14015, '오토': 14016, '만요': 14017, '퀸카': 14018, '물벼락': 14019, '미국드라마': 14020, '존재도': 14021, '곰탕': 14022, '효체': 14023, '민서': 14024, '아이슬란드': 14025, '아일럔드': 14026, '똘추': 14027, '인취': 14028, '껒': 14029, '지느러미': 14030, '통수치다': 14031, '100000': 14032, '스릴런': 14033, '숙모': 14034, '인동': 14035, '유실물': 14036, '뭘전': 14037, '완존': 14038, '피블스': 14039, 'ㄷㄷㄷㄷㄷ': 14040, '폭풍성': 14041, '과도기': 14042, '태국인': 14043, '상당수': 14044, '나나라': 14045, '54회': 14046, '요술': 14047, '별나라': 14048, '했드': 14049, '각국': 14050, '가이드북': 14051, '스폰서': 14052, '꽃뱀': 14053, '리수': 14054, '이재은': 14055, '상실하다': 14056, '드네좀': 14057, '야기': 14058, '에블': 14059, '투덜맨': 14060, '폭격': 14061, 'ㄹㅏ': 14062, '믹키': 14063, '도베르만': 14064, 'ㅋㅋㅋㅋㅋㅋㅋㅋㅋㅋㅋㅋㅋㅋㅋㅋㅋㅋㅋㅋㅋㅋ': 14065, '재밋을꺼': 14066, '마침표': 14067, '이갸기': 14068, '시누이': 14069, '매니저': 14070, '미셀로드리게스': 14071, '월등하다': 14072, '관음증': 14073, '민용': 14074, '노출증': 14075, '바바리맨': 14076, '조반': 14077, '생이라는': 14078, '생식기': 14079, '진국곤': 14080, '길쭉하다': 14081, '넙쩍이': 14082, '볼끼': 14083, '긴급': 14084, 'sos': 14085, '생략도': 14086, 'satc': 14087, '유부녀': 14088, '때책안': 14089, '뉴스룸': 14090, '창완형님': 14091, '강탈': 14092, '쌩뚱마져': 14093, '본기': 14094, '테크닉': 14095, '혼령': 14096, '중도하차': 14097, '몇십': 14098, '듬말': 14099, '은한': 14100, '머랄': 14101, '칭얼': 14102, '외곡': 14103, '가르시아': 14104, '베르날': 14105, '반타작': 14106, '환경문제': 14107, '온난화': 14108, '경감': 14109, '83분': 14110, '꼬아놨': 14111, '음심': 14112, '기겁': 14113, '눈색': 14114, '머리색': 14115, '이하임': 14116, '톰즈쿠즈': 14117, '두바이': 14118, '아우디': 14119, '버지니아': 14120, '눈데': 14121, '불급': 14122, '한도': 14123, '칭기즈칸': 14124, '외래어': 14125, '기어이': 14126, '광희': 14127, '쌍껍': 14128, '불량하다': 14129, '역사교육': 14130, '시시대다': 14131, '식민지': 14132, '배한': 14133, '색맹': 14134, '색약': 14135, '난시': 14136, '킥애스': 14137, '모레츠': 14138, '훙내낼순없': 14139, '싸이다': 14140, '유희왕': 14141, '왜돈': 14142, '이거볼빠': 14143, '가세': 14144, '시력': 14145, '헤메': 14146, '킬림': 14147, '스타킹': 14148, '져서': 14149, '헛점': 14150, '러버': 14151, '죽겠넹': 14152, '될껀데': 14153, '고려말': 14154, '트렌디': 14155, '폐기물': 14156, '넝쿨당': 14157, '나또': 14158, '엘런': 14159, '베트남전쟁': 14160, '과격': 14161, '사주': 14162, '후비안': 14163, '회분': 14164, '드라': 14165, '원고료': 14166, '관계성': 14167, '신공': 14168, '텐데하': 14169, '없넹': 14170, '껍': 14171, '오재밋겟': 14172, '488': 14173, '심심찮': 14174, '트라쇠르': 14175, '트라쇠즈들': 14176, '명랑만화': 14177, '눌리': 14178, '또뭐': 14179, '개중': 14180, '의인화': 14181, '장모님': 14182, '껄끄럽습니': 14183, '테라': 14184, '모은정': 14185, '보로': 14186, 'pr': 14187, '수출': 14188, '일말': 14189, '글래스': 14190, '오지랍': 14191, '진짜루': 14192, '자학': 14193, '아하': 14194, '거진': 14195, '끽끽끄끅데': 14196, '저항': 14197, '주사': 14198, '남배': 14199, '오픈워터': 14200, '인기척': 14201, '불금': 14202, '숨가쁘다': 14203, '월트': 14204, '이응경': 14205, '꿀꿀이': 14206, '뭣같': 14207, '연하남': 14208, '남학생': 14209, '처자': 14210, '빔': 14211, '마슈': 14212, '히죽': 14213, '발굴': 14214, '캄캄하다': 14215, '쭝궈': 14216, '금요일인': 14217, '뉴튼': 14218, '미국정부': 14219, '프로야구': 14220, '김소은': 14221, '마물': 14222, '끝애': 14223, 'piece': 14224, '곡괭이': 14225, '사이언스': 14226, '총재': 14227, 'avgn': 14228, '배신자': 14229, '판도라': 14230, '부적합하다': 14231, '삐었': 14232, '88분': 14233, '31': 14234, '코로만': 14235, '줄겉': 14236, '감투': 14237, '따분함': 14238, 'fbs': 14239, '모니터링': 14240, '블랙호크': 14241, 'copy': 14242, '더리더': 14243, 'ㅈㄷㄹ': 14244, '구박': 14245, '피꺼솟': 14246, '스페인어': 14247, '다다다': 14248, '부지': 14249, '대로가': 14250, '김상현': 14251, '신체': 14252, '소인': 14253, '니시': 14254, '삘링들': 14255, '용의자': 14256, '다국적': 14257, '탕국': 14258, '기마': 14259, '덤앤더머': 14260, '48분': 14261, '플라톤': 14262, '탈색': 14263, '뷰티플': 14264, '사카': 14265, '킨지': 14266, '바톤': 14267, '경동맥': 14268, '따닥': 14269, '우둔하다': 14270, '정진영': 14271, '번인': 14272, '리쎌웨폰': 14273, '골든글러브': 14274, '별루내': 14275, '욱일기': 14276, '점준애': 14277, '봣더': 14278, '레즈씬': 14279, '달주': 14280, '밑바탕': 14281, '욕실': 14282, '수건': 14283, '김순옥': 14284, '조미료': 14285, '445': 14286, '지지리': 14287, '애물': 14288, '왜일케': 14289, '개똥망작': 14290, '어메': 14291, '리칸': 14292, '수퍼히어로': 14293, '생김새': 14294, '강해진': 14295, '윤리관': 14296, '낙시': 14297, '서민정': 14298, '지탱': 14299, '흠결': 14300, '샤이아': 14301, '톰하디': 14302, '창밖': 14303, 'ㅋㅋㅌ': 14304, '고대로': 14305, '결혼전야': 14306, '공순': 14307, '왜만들엇냐': 14308, '나카': 14309, '니드': 14310, '곰팡이': 14311, '네버': 14312, '수리': 14313, '사인': 14314, '갤럭투스': 14315, '베볼': 14316, '수인': 14317, '낚여보': 14318, '선망': 14319, '폰트': 14320, '옹이': 14321, '상돤': 14322, '플레잉': 14323, '긑나지': 14324, '단독제': 14325, '앞길': 14326, '플레이보이': 14327, '칭호': 14328, '란걸': 14329, '성우란': 14330, '여겨지다': 14331, '부적절': 14332, '선데이서울': 14333, '애프터어스': 14334, '둠스데이': 14335, '글거': 14336, '애청햇던': 14337, '됫지': 14338, '요딴': 14339, '막버무리': 14340, '머리스타일': 14341, '종형': 14342, '까지보다접었다저예산답지않게흥미로웠지만징글': 14343, '빡빡이': 14344, '혼선': 14345, '농아': 14346, '비릿함': 14347, '살펴보다': 14348, '핀트': 14349, '윤제균': 14350, '우좀': 14351, '학교괴담': 14352, '위생': 14353, '생기지': 14354, '자감': 14355, '미묘': 14356, '원주율': 14357, '김윤서': 14358, '입좀': 14359, '아랫입술': 14360, '유리가면': 14361, '이아쉬': 14362, '혜나': 14363, '좃': 14364, '임진': 14365, '입뽕': 14366, '꼽을때': 14367, '코털': 14368, '보보': 14369, '조수': 14370, '어둑어둑하다': 14371, '롹스': 14372, '기실': 14373, '관중': 14374, '쓰레빠': 14375, 'gdntopclassintheclub': 14376, '미식': 14377, '크라이스트': 14378, '양해': 14379, 'oppose': 14380, '업뎃': 14381, '불위': 14382, '화염': 14383, '최강창민': 14384, '하용': 14385, '똥통': 14386, '빠뜨리다': 14387, '창란': 14388, '위만': 14389, '어화': 14390, '정력': 14391, '최재성': 14392, '최수지': 14393, '루미': 14394, '리코': 14395, '갤럭시': 14396, '쓰지맙시': 14397, '맹맹하다': 14398, '사사키': 14399, '노조미': 14400, '스파이앱': 14401, 'ㅆㅃ': 14402, '온대': 14403, '17회': 14404, '곤드레만드레': 14405, '쥬쥬': 14406, '늨': 14407, '솔짇히': 14408, '오하': 14409, '발표회': 14410, '어쩌라구': 14411, '실랑이': 14412, '태닝': 14413, '탭': 14414, '베란다': 14415, '첫키스': 14416, '어메이징': 14417, '틈타다': 14418, '겻가': 14419, '순화': 14420, 'cia': 14421, '전액': 14422, '주름살': 14423, '카사노바': 14424, '박희순': 14425, '혼잣말': 14426, '싱금': 14427, '선심': 14428, '아그네스': 14429, '꽥꽥거렸': 14430, '김문옥': 14431, '북미': 14432, '모나': 14433, '친선': 14434, '하켄크로이츠': 14435, '남새': 14436, '질색': 14437, '말제': 14438, '못난이주의보': 14439, '방송사고': 14440, '이즈미': 14441, '해피해피': 14442, '당번': 14443, '등교거부': 14444, '자퇴': 14445, '초유': 14446, '흐느적': 14447, '자극시키다': 14448, 'dogdog': 14449, '십일조': 14450, '샤프': 14451, '지언': 14452, '브르스': 14453, '사공': 14454, '용정': 14455, '캐쉬백': 14456, '어쩌자': 14457, '어뜨케': 14458, '포즈': 14459, '어려웡': 14460, '문관': 14461, '뱔': 14462, '담금질': 14463, '17분': 14464, '도착': 14465, '단호박': 14466, '만칠천원': 14467, '재밋었다': 14468, '호날두': 14469, '매수': 14470, '매도': 14471, '고창석': 14472, '소나티네': 14473, '드림걸즈': 14474, '웃찾사': 14475, '발자취': 14476, '헬보이': 14477, '2030': 14478, '욕설': 14479, '정하은': 14480, '몰상식하다': 14481, '7회': 14482, '보련': 14483, '디키': 14484, '거두': 14485, 'adhd': 14486, '아멘': 14487, '고갱': 14488, '행온': 14489, '핸들': 14490, '태왕': 14491, '개대': 14492, '의형제': 14493, '미감': 14494, '죄악': 14495, '감독샠히': 14496, '왕과비': 14497, 'ㅋㅋㅋㄱ': 14498, '욕지거리': 14499, '끼린': 14500, '콧방귀끼': 14501, '개똥망임': 14502, '대사관': 14503, '콥터': 14504, '라데스': 14505, '마스크맨': 14506, 'answer': 14507, '바둑기사': 14508, '박미현': 14509, '우생순': 14510, '베비': 14511, '220억': 14512, '이라니깐': 14513, '뻔뻔스럽다': 14514, '재밋을줄': 14515, '살좀': 14516, '순신': 14517, '비디오테잎': 14518, '스카이림': 14519, '협정': 14520, '무치다': 14521, '첫회': 14522, '기재': 14523, '남근': 14524, '인조인간': 14525, 'ekfns': 14526, '대학가': 14527, '스승의날': 14528, '노파': 14529, '임안': 14530, '하말': 14531, '보톡스': 14532, '내한': 14533, '오글': 14534, '청사': 14535, '대소': 14536, '스트레인저': 14537, '기뻣다': 14538, '꼬붕': 14539, '콴이유': 14540, '기이': 14541, '슨발': 14542, '쌕기': 14543, '돔': 14544, '성품': 14545, '울상': 14546, '플래시': 14547, '나올쭐알': 14548, '다봣다': 14549, '엿같다': 14550, '미인대회': 14551, '싸이렌': 14552, '3천': 14553, '건이나': 14554, '난치성질환': 14555, '탑팀': 14556, '최종병기': 14557, '돈번걸': 14558, '임원희': 14559, '어쨌다': 14560, '꺄악': 14561, '죵': 14562, 'ㅄㄷㅇ': 14563, '한예린': 14564, '풍만': 14565, '찜찜': 14566, '로튼': 14567, '콘셉트': 14568, '것입': 14569, '팽이': 14570, '거보': 14571, '머릿수': 14572, '도봣는데': 14573, '상금': 14574, '훈련소': 14575, '짤짤': 14576, '드레스': 14577, '유고': 14578, '장화신은고양이': 14579, '입부': 14580, '플라잉': 14581, '체르노빌': 14582, '짓함': 14583, '애니팡': 14584, '어비스': 14585, '지평': 14586, '숀팬': 14587, '이상보': 14588, '후후후': 14589, '미녀와야수': 14590, '완전열': 14591, '반일': 14592, '에세이': 14593, '알렌': 14594, '둥글둥글하다': 14595, '꼴초': 14596, '임지연': 14597, '오차': 14598, '이천': 14599, '자임': 14600, '자작': 14601, '헸는데': 14602, '조연정': 14603, '자음': 14604, '세르게이': 14605, '회차': 14606, '비비': 14607, '헤어지자': 14608, '신경질': 14609, '제임스롤프': 14610, '뿜더군': 14611, '거미줄': 14612, '맥도웰': 14613, '오툴': 14614, '스테레오타입': 14615, '애니메': 14616, '축구공': 14617, '12월': 14618, '심열': 14619, '폭주': 14620, '합당': 14621, '미네소타': 14622, '맘껏': 14623, '500원': 14624, '용과': 14625, '안병기': 14626, '매정': 14627, '주현': 14628, '과관임': 14629, '트레스패스': 14630, '트레스': 14631, '표피': 14632, '겉멋용': 14633, '아이디': 14634, '준걸': 14635, '타당': 14636, '읹': 14637, '선예': 14638, '찍넴': 14639, '조퇴': 14640, '재인': 14641, '위힌': 14642, '별장': 14643, '여관': 14644, '꼴다': 14645, '성보고': 14646, '손현주': 14647, '당하': 14648, '쀍': 14649, '드웨': 14650, '존슨': 14651, '흑흑흑': 14652, '음슴다': 14653, '꼬았어': 14654, '애슐리쥬드': 14655, '일본사': 14656, '또머임': 14657, '결단코': 14658, '상수': 14659, '만드심': 14660, '게모': 14661, '유승준': 14662, '벌목': 14663, '착신아리': 14664, '육신': 14665, '그랭': 14666, '개잡': 14667, '배팅': 14668, '투루': 14669, '관광지': 14670, '두건': 14671, '슨놈': 14672, '입툭': 14673, '백화점': 14674, '약수터': 14675, '낙타': 14676, '상인': 14677, '건국': 14678, '점거': 14679, '페': 14680, '치유계': 14681, '다이애나비': 14682, '구조도': 14683, '싸이월드': 14684, '귓': 14685, '쳐잘껄': 14686, '아놕': 14687, '하래': 14688, '괜찬앗': 14689, '둘때': 14690, '카야': 14691, '빅토르': 14692, '경어': 14693, '번번하다': 14694, '쯧쯔이': 14695, '방청': 14696, '벼락': 14697, '에덴': 14698, '폐쇄해': 14699, '형준': 14700, '윤희': 14701, '포천': 14702, '연천': 14703, '88': 14704, '듬뿍': 14705, '돈까스': 14706, '베스': 14707, '80시간': 14708, '코고': 14709, '금액': 14710, '독방': 14711, '애매모호하다': 14712, '해피엔드': 14713, '결별': 14714, '정식': 14715, '오류로': 14716, '전무': 14717, '기록영화': 14718, '당나라': 14719, '정근': 14720, '여문락': 14721, '섬척': 14722, '메스': 14723, '쫑난거임': 14724, '체이스': 14725, '사들이다': 14726, '조크라뇨': 14727, '등록금': 14728, '거고': 14729, '친영': 14730, '이함': 14731, '엏': 14732, '촌놈': 14733, '강력반': 14734, '후퇴': 14735, '레기임': 14736, '바퀴벌레': 14737, '보는게': 14738, '여제': 14739, '프리티걸': 14740, '신상옥': 14741, 'ㅅㅍ': 14742, '타이탄': 14743, '부화': 14744, '깝깝': 14745, '좌익': 14746, '마빡': 14747, '걸볼때': 14748, '동질감': 14749, '스미다': 14750, '용량': 14751, '5억': 14752, '명되겠다': 14753, '환지': 14754, '저속': 14755, '식사': 14756, '도약': 14757, '모범생': 14758, '타치': 14759, '특기': 14760, '굼뜬': 14761, '활성화': 14762, '철부지': 14763, '무지개': 14764, '공공': 14765, '더셀': 14766, '후훗': 14767, '처저': 14768, '일시': 14769, '불행중': 14770, '데츠': 14771, '연간': 14772, '회원': 14773, '차악': 14774, '가택연금': 14775, '케이팝스타': 14776, '퓨티드': 14777, '액션게임': 14778, 'call': 14779, 'juarez': 14780, 'gunslinger': 14781, '여왜': 14782, '어쩌란': 14783, '말입': 14784, '니넨': 14785, '습성': 14786, '애완동물': 14787, '자재': 14788, 'yui': 14789, '빠순': 14790, '미러': 14791, '우육': 14792, '팔찌': 14793, '김정민': 14794, '예스터데이': 14795, '섹정': 14796, '온기': 14797, '번더': 14798, '시놉': 14799, '핸콕': 14800, '중대사': 14801, '다스리다': 14802, '머람': 14803, '설탕': 14804, '캬라멜': 14805, '라떼': 14806, '근현대사': 14807, '전문대': 14808, '몸짱': 14809, '섬칫했음': 14810, '점문': 14811, '직인': 14812, '딥임팩트': 14813, '와사비': 14814, '메꿀': 14815, 'ip': 14816, '쉥': 14817, '200분': 14818, '2013924': 14819, '생방송': 14820, '뒹굴러': 14821, '뒤흔듬': 14822, '핫세': 14823, '김혜리': 14824, 'ㅎㅎㅎㅎㅎㅎㅎㅎㅎㅎㅎㅎㅎㅎㅎ': 14825, 'zero': 14826, '제비': 14827, '레트': 14828, 'frankely': 14829, 'dear': 14830, 'dontt': 14831, 'give': 14832, 'damm': 14833, '헛헛해': 14834, '레인보우': 14835, '샤베트': 14836, '알려준': 14837, '요지': 14838, '겔': 14839, '이승연': 14840, '강철수': 14841, '한술': 14842, '이러다가': 14843, '회태': 14844, '방터': 14845, '구더기': 14846, 'log': 14847, '장롱': 14848, '수박': 14849, '핥다': 14850, '듀엣': 14851, '낯짝': 14852, '무빙': 14853, '코미': 14854, '딬': 14855, '춤춘닼': 14856, '비트박스': 14857, '추억쩌': 14858, '어쩃': 14859, '필모': 14860, '양호': 14861, '이초': 14862, '부흥': 14863, '도취': 14864, '엿같아': 14865, '차이코프스키': 14866, '했슴': 14867, '져지': 14868, '내추럴': 14869, '구성요소': 14870, '이민자': 14871, '오망하다': 14872, '육갑': 14873, '화승': 14874, '결굴': 14875, '후루룩': 14876, '전면': 14877, '소규모': 14878, '번쩍': 14879, '어쨌건': 14880, '비겁': 14881, '선댄스': 14882, '열광': 14883, '분할': 14884, '앞잡이': 14885, '추상미': 14886, '디아지오': 14887, '1937년': 14888, '생인': 14889, '김영옥': 14890, '치켜뜨다': 14891, '훨났딘': 14892, '위조범': 14893, '합류': 14894, '부일': 14895, '어쨋다': 14896, '이로써': 14897, '나요나': 14898, '가뜩이나': 14899, '흐음': 14900, '군단': 14901, '파손': 14902, '공무': 14903, '면허': 14904, '타이': 14905, '로안': 14906, '쇠사슬': 14907, '빠돌': 14908, '바네사': 14909, '레이크': 14910, '족보': 14911, '펙트가뭐': 14912, '네버엔딩': 14913, '선동렬': 14914, '동렬': 14915, '2002': 14916, '다재': 14917, '감지덕지': 14918, '연방': 14919, '녹스': 14920, '골드바': 14921, '대접받다': 14922, '두사부일체': 14923, '계보': 14924, '참가자': 14925, '분전': 14926, '광어': 14927, '매운탕': 14928, '김소희': 14929, '시궁창': 14930, '원티드': 14931, '솔트': 14932, '염원': 14933, '껌뻑': 14934, '키응': 14935, '환경미화원': 14936, '직결': 14937, '보안': 14938, 'lady': 14939, 'copycat': 14940, '도막': 14941, '피셔': 14942, '글감': 14943, '반죽': 14944, '신전': 14945, '피라미드': 14946, '한기': 14947, '일종': 14948, '뉴딜': 14949, '진씨': 14950, '입셍': 14951, '복희': 14952, '갸우뚱': 14953, '11시간': 14954, '일확천금': 14955, '생태계': 14956, 'yo': 14957, '방한': 14958, '부풀리다': 14959, '보다가': 14960, '야설': 14961, '원점': 14962, '도망자': 14963, '감상주의': 14964, '한채아': 14965, '반토막': 14966, '에포닌': 14967, '장발장': 14968, '관할': 14969, '소수민족': 14970, '선빵': 14971, '체포': 14972, '막죽': 14973, '치과': 14974, '픽쳐스': 14975, '위드': 14976, '다이노': 14977, '어랑': 14978, '에펠탑': 14979, '뚯밖': 14980, '치고받다': 14981, '나은정': 14982, '1016': 14983, '페리스': 14984, '외한': 14985, '알란': 14986, '일변도': 14987, '카를': 14988, '불지': 14989, '뭉개지': 14990, '점투': 14991, '원칙': 14992, '명탐정': 14993, '달걀': 14994, '황실': 14995, '세네': 14996, '용해': 14997, '배경화면': 14998, '미스터빈': 14999, '캣': 15000, '망언': 15001, 'war': 15002, '선호': 15003, '씹어드심': 15004, '나유': 15005, '2020': 15006, '핕취': 15007, '심볼': 15008, '창작물': 15009, '나가이': 15010, '먹이': 15011, '레인저스': 15012, '박찬호': 15013, '덴데': 15014, '우웨볼': 15015, '기범이': 15016, '광개토대왕': 15017, '궁내': 15018, '홀즈': 15019, '내꺼뺴': 15020, '갑통수': 15021, '니콜라스홀트': 15022, '오구': 15023, '정도까지': 15024, '슥': 15025, '들만': 15026, '모녀': 15027, '신내': 15028, '엘프': 15029, '무치': 15030, '헛쳐먹': 15031, '그림동화': 15032, '불끌때': 15033, '띨': 15034, '재털': 15035, '도주': 15036, '생뚱맞다': 15037, '썪': 15038, '234': 15039, '티히': 15040, '육두문자': 15041, '수호이': 15042, '접전': 15043, '앓다': 15044, '드럼': 15045, '기다렷': 15046, '지뢰': 15047, '저속하다': 15048, 'fffffuuuuu': 15049, 'ㅉㅉㅉㅉㅉㅉㅉ': 15050, '강적': 15051, '김현희': 15052, '실드': 15053, '야매': 15054, '읊는': 15055, '김지호': 15056, 'ssaki': 15057, '45236': 15058, '학교생활': 15059, 'if': 15060, 'could': 15061, 'meet': 15062, 'again': 15063, '유방암': 15064, '부러워하다': 15065, '재밋당': 15066, '뻘짓': 15067, '다정': 15068, '사이사이': 15069, '나도향': 15070, '기름기': 15071, '전남친': 15072, '예비신랑': 15073, '델꼬': 15074, '윌페렐': 15075, '남경': 15076, '날조': 15077, 'ㅁㅈㅎ': 15078, '질소': 15079, '설마하니': 15080, '므훗함': 15081, '이티': 15082, '위스키': 15083, '패거리': 15084, '비꼼': 15085, '수달': 15086, '리스닝': 15087, '물리학': 15088, '남겨둘껄': 15089, '낚김': 15090, '비법': 15091, '내나라': 15092, '임지령': 15093, '500억': 15094, '정도를': 15095, '번거': 15096, '처녀': 15097, '삼총사': 15098, '볻': 15099, '투정': 15100, '녀놈': 15101, '완고하다': 15102, '이버': 15103, '끼어들다': 15104, '반납': 15105, '이엉': 15106, '리신': 15107, '끝없이': 15108, '잠재': 15109, '칼날': 15110, '틀때': 15111, '갈피': 15112, '멍충': 15113, '하이데거': 15114, '포스트모던': 15115, '경험론': 15116, '박식하다': 15117, '멕뽕': 15118, '안절부절': 15119, '패러딘줄': 15120, '헤니': 15121, '허진호': 15122, '별루였': 15123, '56': 15124, '극심하다': 15125, '하달': 15126, '19780년': 15127, '표지판': 15128, '빨랑멈처': 15129, '디배': 15130, '명맥': 15131, '전희주': 15132, '무예': 15133, '맨인블랙': 15134, '무오': 15135, '굼뜨': 15136, '퀵앤': 15137, '데드같': 15138, '회때': 15139, '개맛': 15140, '어중': 15141, '루써': 15142, '노심초사': 15143, '요모조모': 15144, '84회': 15145, '국수': 15146, '아카데미상': 15147, '수정역': 15148, '지조': 15149, '정윤호': 15150, '미': 15151, '짴': 15152, '개뽕': 15153, '소개팅': 15154, '시부렁': 15155, '뽀사불': 15156, '거때매': 15157, '엊': 15158, '절수': 15159, '본래': 15160, '똥개': 15161, '윤동주': 15162, '서시': 15163, '스카': 15164, '욕설연기': 15165, '마여': 15166, '그닥별': 15167, '도안돼서전편과감독이다른가왜이러지를': 15168, '화려': 15169, '드랍': 15170, '음애': 15171, 'ㅡㅢ': 15172, '게뭐임': 15173, '둥이': 15174, '지쟈스': 15175, '폐쇄된': 15176, '기념비': 15177, '토글': 15178, '귓때가리': 15179, '왕정': 15180, '거창': 15181, '자멸': 15182, '강서연': 15183, '서정하': 15184, '1500원': 15185, '닌깐': 15186, '려니': 15187, '김재덕': 15188, '용남': 15189, '오뉴월': 15190, '밑바닥': 15191, '일동': 15192, '조의': 15193, '매라': 15194, '문정희': 15195, '전미선': 15196, '뇬들': 15197, '뻑뻑': 15198, '모스트': 15199, '백진희': 15200, '착상': 15201, 'okbag': 15202, '5131': 15203, '멘탈붕괴': 15204, '사디즘': 15205, '마조히즘': 15206, 'ㅅㄲ': 15207, '혼전': 15208, '저울': 15209, '강박증': 15210, '코웃음': 15211, '리암햄스워스': 15212, '치팅': 15213, '옵션': 15214, '오홋': 15215, '잽싸다': 15216, '꼬심': 15217, '놀림': 15218, '엄하': 15219, '슽리': 15220, '웽크': 15221, '미우다': 15222, '광대하다': 15223, '렁': 15224, '임꼬': 15225, '꼬아': 15226, '방농국': 15227, '7080년': 15228, '관짝': 15229, '이강': 15230, '대변인': 15231, '사스': 15232, '잔악': 15233, '퇴치': 15234, '엄청썻': 15235, '상권': 15236, '슈퍼마켓': 15237, '전래': 15238, '프랜차이즈': 15239, '구호': 15240, '굴러가다': 15241, '산더미': 15242, '정역': 15243, '김실': 15244, '헬로': 15245, '안중근': 15246, '펠트': 15247, '한겨울': 15248, '눈땡': 15249, '핵폭탄': 15250, '심부름': 15251, '기억상실증': 15252, '혈': 15253, '혈관': 15254, '똥덩어리': 15255, '저쪽': 15256, '힐끗': 15257, '관전': 15258, '핀치': 15259, '푼': 15260, '컨디션': 15261, '뿐음': 15262, '연습생': 15263, '사쿠라': 15264, '육도': 15265, '선인': 15266, '탱자': 15267, '건좀': 15268, '기조': 15269, '차영화': 15270, '부패': 15271, '대빵': 15272, '몽타주': 15273, '덕인': 15274, '악하다': 15275, '변경': 15276, '여고': 15277, '동창생': 15278, '탱탱하다': 15279, '허수아비': 15280, '옥수수': 15281, '5710': 15282, '호환': 15283, '인플루엔자': 15284, '뇨': 15285, '돌프룬드그랜를': 15286, '만찬': 15287, '멘타': 15288, '오십원': 15289, '드라마틱': 15290, '또보': 15291, '킬링필드': 15292, '폴포트': 15293, '크메르루즈': 15294, '야드를': 15295, '치민': 15296, '팰트로우': 15297, '채용': 15298, '외주': 15299, '겡': 15300, '한채영': 15301, '훔처갈때': 15302, '가뭄': 15303, '신기록': 15304, '익스트림': 15305, '트름': 15306, '꺽꺽해': 15307, '바램일': 15308, '한국말': 15309, '자슥들': 15310, '졉': 15311, '초대장': 15312, '일본국': 15313, '한정우': 15314, '랫다': 15315, '승호': 15316, '주적': 15317, '싹스': 15318, '임정': 15319, '조민수': 15320, '잼남앞': 15321, '쯔': 15322, '주드': 15323, '변죽': 15324, '아메리카': 15325, '국도': 15326, '노깝': 15327, '다뎜벼': 15328, '맂루지륒': 15329, '뤼줄': 15330, '후짐': 15331, '매각': 15332, '달란트': 15333, '크림': 15334, '쨔증': 15335, '쫓아오다': 15336, '켄유퍽': 15337, '같넹': 15338, '파라노말액티비티': 15339, '뺑소니': 15340, 'or': 15341, '오현경': 15342, '미스코리아': 15343, '거젆': 15344, '후접': 15345, '죄값': 15346, '지불': 15347, '라플라스': 15348, '의궤': 15349, '총력전': 15350, '무단': 15351, '유니콘': 15352, '소맷동': 15353, '소테츠': 15354, '연줄': 15355, '부단하다': 15356, '수일': 15357, '폐곡선': 15358, '세제': 15359, '청률': 15360, '에조': 15361, '몽중인': 15362, '이수정': 15363, '친어머니': 15364, '트란': 15365, 'wierdo': 15366, '철통': 15367, '시에라': 15368, '부정부패': 15369, '감겨': 15370, '순전하다': 15371, '검찰': 15372, '793': 15373, '냌': 15374, 'ㅋㄱㄲㄱ': 15375, '가물': 15376, 'ㅋㄲ': 15377, '대로는': 15378, '헤집다': 15379, '만에처음': 15380, '콘티': 15381, '영상편집': 15382, '꼬은데다': 15383, '이집': 15384, '슈발': 15385, '24년': 15386, '거르': 15387, '범행': 15388, '동기부여': 15389, '워치': 15390, '제갈량': 15391, '조운': 15392, '황수정': 15393, '왜놈': 15394, '곽원갑': 15395, '소행': 15396, '복면': 15397, '졸렬하다': 15398, '둘러대다': 15399, '민경': 15400, '몸싸움': 15401, '쑈': 15402, 'ㅎㅎㅇ': 15403, '웨컴': 15404, '동막골': 15405, '넙': 15406, '대대': 15407, '닭장': 15408, '쪼그리다': 15409, '포레스트': 15410, '더글러스': 15411, '난대': 15412, '깨졋어': 15413, '센트': 15414, '낚인거': 15415, '라이온': 15416, '전무하다': 15417, '8천원': 15418, '벌린': 15419, '볼랬': 15420, '방탕하다': 15421, '삼지': 15422, '풋': 15423, '행오버': 15424, '엘리자베스': 15425, '추상화': 15426, '풍경화': 15427, '인물화': 15428, '정물화': 15429, '엄꾸': 15430, '이상주': 15431, '믈': 15432, '너거': 15433, '이해영': 15434, '목승': 15435, 'magicians': 15436, 'exist': 15437, '만만': 15438, '팬용': 15439, '방대하다': 15440, '파쿠르': 15441, '조사': 15442, '비지스': 15443, '신예': 15444, '미쟝셴': 15445, '갱단': 15446, '싱글맘': 15447, '밀착': 15448, '버라이어티': 15449, '다채롭': 15450, '순회': 15451, '학대죄': 15452, '빡첬다': 15453, '씨익': 15454, '골든라즈베리상': 15455, '에어컨': 15456, '공립': 15457, '됨됨이': 15458, 'ㅡㅡㅡ': 15459, '이래저래': 15460, '서울대': 15461, '이주': 15462, '청년실업': 15463, '평면': 15464, '91분': 15465, '몹쓸': 15466, '신세': 15467, '떤다': 15468, '베르나': 15469, '트레이닝': 15470, '급수': 15471, '바둑용어': 15472, '체게바라': 15473, '고영': 15474, '롤러': 15475, 'ㄹ': 15476, '패퓨': 15477, '과학자': 15478, '스페샬': 15479, '단물': 15480, '40만원': 15481, '탤런트': 15482, '퍼펙트게임': 15483, '거만': 15484, '수색대': 15485, '곧이': 15486, '수나': 15487, '비즈니스': 15488, '성현아': 15489, '패싸움': 15490, '성열': 15491, '투샷': 15492, '의향': 15493, '신문': 15494, '스크랩': 15495, 'rome': 15496, '스파르타쿠스': 15497, '환상여행': 15498, '겜블': 15499, '개쒸레기': 15500, '몰살': 15501, '볼테': 15502, '갈증': 15503, '수박도': 15504, '케토': 15505, '333': 15506, '아자': 15507, '맥락': 15508, '허물': 15509, '어질다': 15510, '연속성': 15511, '개코': 15512, '뽈때': 15513, '늠': 15514, '샴': 15515, '더후': 15516, '웅담': 15517, '둔하다': 15518, '때문을': 15519, '집좀': 15520, '전선': 15521, 'shot': 15522, '막심': 15523, '삼키다': 15524, '부쉈다': 15525, '지지자': 15526, '양기원': 15527, '항간': 15528, '참담': 15529, '색정': 15530, 'ㄴㄴ': 15531, '불량': 15532, '착용': 15533, '지난번': 15534, '교통법규': 15535, '방통위': 15536, '소명': 15537, '솔선': 15538, '요망': 15539, '2222': 15540, '펑점': 15541, '청불': 15542, '신곡': 15543, '이은희': 15544, '일인극': 15545, '낚인듯': 15546, '조자룡': 15547, '이글아이': 15548, '나루': 15549, '빽빽': 15550, '애피': 15551, '본드걸': 15552, '맨눈': 15553, '73': 15554, '수년': 15555, '속속': 15556, '저딴': 15557, '젝일': 15558, '똥골레': 15559, '이영아': 15560, '고어영화': 15561, '젓망': 15562, '희소성': 15563, '혈기': 15564, '쇠': 15565, '빠다': 15566, '만든느': 15567, '현자': 15568, '쓔': 15569, '내시': 15570, '론디': 15571, '걔네': 15572, '잇엇': 15573, '명란': 15574, '졋을텐': 15575, '타키': 15576, 'ㅈㅐ': 15577, '10001': 15578, '개비': 15579, '정일우': 15580, '어버버': 15581, '좀맛': 15582, '지그': 15583, '미혼모': 15584, '김성민': 15585, '속옷': 15586, '점머': 15587, '자질구레하다': 15588, '즈음에': 15589, 'ㄴㅈ': 15590, '상짓': 15591, '헉헉': 15592, '전초전': 15593, '왼손': 15594, '웹': 15595, '달렷': 15596, '케보키언': 15597, '후카': 15598, '쿄코': 15599, '나체씬': 15600, '뤡': 15601, '버클리': 15602, '초능력자': 15603, '갑오개혁': 15604, '배용준': 15605, '부시맨': 15606, '섹슈얼': 15607, '미드나잇': 15608, '미트': 15609, '트레인': 15610, '럴': 15611, '애시': 15612, '당초': 15613, '원호': 15614, '합심': 15615, '도웁시': 15616, '주급': 15617, '딸램': 15618, '미쳣어': 15619, '캣츠': 15620, '수상하다': 15621, 'dont': 15622, 'them': 15623, 'eye': 15624, '스노우': 15625, '철인': 15626, '사천왕': 15627, '활려': 15628, '어따': 15629, '붕붕': 15630, '사체': 15631, '트랜드': 15632, '개똥망': 15633, '임펙트': 15634, '하리': 15635, '햌': 15636, '강지석': 15637, '대사간': 15638, '꽝잡': 15639, '동사': 15640, '괴팍하다': 15641, '심성은': 15642, '전차': 15643, 'shattered': 15644, '1991': 15645, 'httpmovienavercommoviebimibasicnhncode': 15646, '18465': 15647, '정땜': 15648, '새퀴': 15649, '말미': 15650, '엠뷸런스': 15651, '복장': 15652, '투구': 15653, '력도': 15654, '그뇬때매': 15655, '쩌러': 15656, '유민상': 15657, '어린잌': 15658, '풀쾌': 15659, '가타카': 15660, '구래': 15661, '파고드': 15662, '일일이': 15663, '호블호': 15664, '대뷔작': 15665, '작이라고': 15666, '일편단심': 15667, '일부다처': 15668, '양하다': 15669, '친정': 15670, '엽기적인그녀': 15671, '버젓이': 15672, '신급': 15673, '훈이': 15674, '기생': 15675, '분동': 15676, '물르다': 15677, '훤하': 15678, '배틀': 15679, '송도신도시': 15680, '상가': 15681, '챗': 15682, '아랐음': 15683, '리오': 15684, '컴퓨터게임': 15685, '방조': 15686, '추연': 15687, '7분': 15688, '도얘기안하고': 15689, '라이브': 15690, '않을껄': 15691, '비엡이들': 15692, '선돈': 15693, '주고받다': 15694, '직샷보': 15695, '밋겟': 15696, '알투비': 15697, '문명국': 15698, '바토리': 15699, '결백': 15700, '잡수시다': 15701, '편성표': 15702, '전선수권으로': 15703, '공지': 15704, '넘게': 15705, '메딘': 15706, '쳐부슬': 15707, '인프라': 15708, '가증': 15709, '퇴마록': 15710, '박광춘': 15711, '사로잡히다': 15712, '김용': 15713, '망쳐놧': 15714, '효도르': 15715, '전지': 15716, '전능하다': 15717, '시버': 15718, 'ㅏㄹ': 15719, '란다': 15720, '난해': 15721, '1969년': 15722, '낚였넹': 15723, '사이좋다': 15724, '움왜': 15725, '114분': 15726, '가젤': 15727, '고쿠센': 15728, '밤비노': 15729, '앞가림': 15730, '쓰시': 15731, '길소뜸': 15732, '이효정': 15733, '철장': 15734, '어지럽히다': 15735, '헝클어지다': 15736, '강강강': 15737, '마뒤': 15738, '음똥': 15739, '청부': 15740, '스크리머스': 15741, '용일': 15742, '연주자': 15743, '중계': 15744, '수신': 15745, '옵니다': 15746, '본연': 15747, '극악': 15748, '나가요': 15749, '레릭': 15750, '차우': 15751, '은평점도좋고재밌다는말이많은데': 15752, '부터는얘기도겉돌고잼없다는소리만있는데작가만모르시나아님관심없나이러다시청률떨어지겠네글고대부분사람들은인내심이없어서겉도는이야기싫어해': 15753, '중도': 15754, '바인': 15755, '2010': 15756, '나츠메': 15757, '미즈노': 15758, '가련하다': 15759, '푸욱': 15760, '어건': 15761, '퍼니플래닛': 15762, '245': 15763, '번의': 15764, 'wooooood': 15765, 'water': 15766, '관우': 15767, '용맹하다': 15768, '헬': 15769, '파친코': 15770, '어서어서': 15771, '이수빈': 15772, '혈세': 15773, '체완존왜': 15774, '예능인': 15775, '썻다는': 15776, '스케줄': 15777, '빡빡': 15778, '활봘하': 15779, '모유': 15780, '양육': 15781, '만회': 15782, '병풍': 15783, '콜렉터': 15784, '흠애': 15785, '칠만': 15786, '단죽': 15787, '놨다': 15788, '최홍만': 15789, '데요': 15790, '액숀배우': 15791, '흡수': 15792, '다라': 15793, '국민학교': 15794, '삭히다': 15795, '학부모': 15796, '반발': 15797, '박정철': 15798, '김독': 15799, '유일': 15800, '기독': 15801, '스톡홀롬': 15802, '신드': 15803, '룸': 15804, '존쿠삭': 15805, '로스트': 15806, '웜작': 15807, '숀펜': 15808, '새우다': 15809, '교류': 15810, '서윤': 15811, '괴짜': 15812, '문지기': 15813, '차턴': 15814, '배추': 15815, '신령': 15816, '한복': 15817, '자못': 15818, '캐망작': 15819, '크랭크': 15820, '호모포비아': 15821, '7월': 15822, '6일': 15823, '바싹': 15824, '상급': 15825, '제네시스': 15826, '섯명': 15827, '환생': 15828, '산사태': 15829, '변칙': 15830, '훨배낫다': 15831, '특허': 15832, '그나': 15833, '분간': 15834, '의혹': 15835, '피티김': 15836, '반말': 15837, 'suck': 15838, '칠판': 15839, 'jsa': 15840, '무미건조': 15841, '쌩뚱맞고': 15842, '휴머니스트': 15843, '용종': 15844, '교편': 15845, '누낌': 15846, '1300': 15847, '괴기': 15848, '철운역': 15849, '일화': 15850, '고객': 15851, '센터': 15852, '실타': 15853, '듯함': 15854, '윤두준': 15855, '9000원': 15856, '10000원': 15857, '게말': 15858, '군입대': 15859, '은재': 15860, '망처': 15861, '들레다': 15862, '청소부': 15863, 'ㅋㅋㅋㅋㅋㅋㅋㅋㅋㅋㅋㅋㅋㅋㅋㅋㅋㅋㅋㅋㅋㅋㅋ': 15864, '호고': 15865, '쌘건': 15866, '악장': 15867, '베바': 15868, '맛집': 15869, '일자': 15870, '리창': 15871, '창조경제': 15872, '거외': 15873, '레즈비언': 15874, '플래쉬몹': 15875, '흉악': 15876, '할떄': 15877, '알트': 15878, '캐치온': 15879, '히바': 15880, '램니': 15881, 'fail': 15882, '만류': 15883, '월남': 15884, '못마': 15885, '물속씬': 15886, '즉사': 15887, '나쁜남자': 15888, '자업자득': 15889, '막사': 15890, '페이첵': 15891, '알콩달콩': 15892, '미리보기': 15893, '늦어지다': 15894, '어줍잫': 15895, '전꺼다': 15896, '박성호': 15897, '호스트': 15898, '재밋게봐': 15899, '펀': 15900, '재밋겟지': 15901, '결제해서봣다가': 15902, '앨리어스': 15903, '제리코': 15904, 'jj': 15905, '에이브': 15906, '럼스': 15907, '님드': 15908, '12회': 15909, '차칸남자': 15910, '량': 15911, '도적': 15912, '열차': 15913, '눈건': 15914, 'ㄷㅏ': 15915, '고안': 15916, '번요': 15917, '콜로디': 15918, '숙소': 15919, '82분': 15920, '특별방송': 15921, '녹방': 15922, '만상': 15923, '린드': 15924, '인력거': 15925, '이성규': 15926, '다큐맨': 15927, '터리': 15928, '김두영': 15929, '타르': 15930, '머얔': 15931, '방청객': 15932, '브룩쉴즈': 15933, '느레': 15934, '이종현': 15935, 'plus': 15936, '까마득하다': 15937, '잔챙이': 15938, '피라미': 15939, '이형은': 15940, '강병규': 15941, '도면': 15942, '박현진': 15943, '화물': 15944, '천안문': 15945, '쿠스': 15946, '아리조나': 15947, '낚지마': 15948, '싯발': 15949, '신론': 15950, '캬악': 15951, '쪼그라들다': 15952, '차라': 15953, '태식': 15954, '건줄': 15955, '골룸': 15956, '현주소': 15957, '슈츠': 15958, '각시탈': 15959, '1972': 15960, '출세': 15961, '팩': 15962, 'adfasdfasdflijaseoifjaosdf': 15963, '눠': 15964, '나드': 15965, '코리안': 15966, '뽁뽁': 15967, '구질': 15968, '권태기': 15969, '저련': 15970, '쑥': 15971, 'here': 15972, 'comes': 15973, 'sun': 15974, '배구공': 15975, '890년': 15976, '글쿠': 15977, '클라슫': 15978, '호스텔': 15979, '뜻임': 15980, '요가씬': 15981, '장철': 15982, '연주가': 15983, '물자': 15984, '일본도': 15985, '땐데': 15986, '선악과': 15987, '싱됨': 15988, '기시감': 15989, '뻔쩍': 15990, '도깨비': 15991, 'ㅋㅋㅋㅋㅋㅋㅠ': 15992, '푸념': 15993, '나가수': 15994, '서동': 15995, '계심': 15996, '췌': 15997, '산산이': 15998, '바스라지다': 15999, '라이프스타일': 16000, '사관': 16001, '30일': 16002, '신촌': 16003, '없서야됄탠데': 16004, '이상엽': 16005, '정재민': 16006, '매점': 16007, '티보': 16008, '대간': 16009, '왜란': 16010, '도공': 16011, '맘에안듬': 16012, '용암': 16013, '죗값': 16014, '은자': 16015, '골수': 16016, '개핵': 16017, '노병': 16018, '엄기준': 16019, '계성은': 16020, '시종': 16021, '퇴퇴': 16022, '차예련': 16023, '벌엇을정': 16024, '너바나': 16025, '침상': 16026, '돌변': 16027, '카오스': 16028, '뇌까릴떄': 16029, '영합': 16030, '아르헨': 16031, '성형수술': 16032, '뷔': 16033, '엽기표정': 16034, '토탈리콜': 16035, '양수빈': 16036, '대적': 16037, 'ㅋㅋㅋㅋㅋㅋㅋㅋㅋㅋㅋㅋㅋㅋㅋㅋㅋㅋㅋㅋㅋㅋㅋㅋㅋㅋㅋㅋㅋㅋㅋㅋㅋㅋㅋㅋㅋㅋㅋㅋㅋㅋㅋㅋㅋㅋㅋㅋㅋㅋㅋㅋㅋㅋㅋㅋㅋㅋㅋㅋㅋㅋㅋㅋㅋㅋㅋㅋㅋㅋㅋㅋㅋㅋㅋㅋㅋㅋㅋㅋㅋㅋㅋㅋㅋㅋㅋㅋㅋㅋㅋㅋㅋㅋㅋㅋㅋㅋㅋㅋㅋㅋㅋㅋㅋㅋㅋㅋㅋㅋㅋㅋㅋㅋㅋㅋㅋㅋㅋㅋㅋㅋㅋㅋㅋㅋㅋㅋㅋㅋㅋㅋㅋㅋㅋㅋㅋㅋㅋㅋ': 16038, 'dmx': 16039, 'ufc': 16040, '무러칠': 16041, '번득': 16042, '재활용': 16043, '대기층': 16044, '그르': 16045, '리에티': 16046, '멸종': 16047, '왓슨': 16048, '유대': 16049, '엄꼬': 16050, '부산물': 16051, '승현': 16052, '땀좀': 16053, '뻈': 16054, '치뭐': 16055, '황도': 16056, '조규현': 16057, '작작하다': 16058, '질제': 16059, '전라북도': 16060, '콜린스': 16061, '착시현상': 16062, 'sex': 16063, '아메바': 16064, '극진': 16065, '최배달': 16066, '정태우': 16067, '스테이크': 16068, '웅카스': 16069, '미남자': 16070, '린데': 16071, '개그씬': 16072, '최정원': 16073, '전라디언': 16074, '낮짝': 16075, '뺘놨': 16076, '돈버': 16077, '호주머니': 16078, '출세가도': 16079, '110분': 16080, '딜리': 16081, '혼다': 16082, '막무가내': 16083, '으러': 16084, '무정하다': 16085, '나가떨어지다': 16086, 'zzzzzzzz': 16087, '킹오브': 16088, '릴해': 16089, '굵직하다': 16090, '심형례': 16091, '인디': 16092, '양민': 16093, '인민군': 16094, '스와핑': 16095, '도루': 16096, '쫙깔렷': 16097, '뒤쪽': 16098, '구릉': 16099, '은닉': 16100, '개정판': 16101, '무진': 16102, '자무카': 16103, '씨받이': 16104, '논점': 16105, '헛구역질': 16106, '홀려': 16107, '쉡': 16108, '요추': 16109, '배렸음': 16110, '퇴화': 16111, '이사장': 16112, '부르주아': 16113, '안썻는데': 16114, '야만스럽다': 16115, '키무': 16116, '요시노': 16117, 'screen': 16118, '무관심하다': 16119, '유능': 16120, '가이드': 16121, '나들이': 16122, '손병호': 16123, '곽한구': 16124, '글달': 16125, '글단': 16126, '판이하다': 16127, '이동규': 16128, '판단력': 16129, '흐트러': 16130, '컴백홈': 16131, '소걸아': 16132, '지식인': 16133, '도덕성': 16134, '상습': 16135, '벌이': 16136, '농사': 16137, '코믹스': 16138, '깄': 16139, '서여': 16140, '주짓수': 16141, '성운': 16142, '재밌드': 16143, '방언': 16144, '어딘지': 16145, '엣끼': 16146, '니야': 16147, '엇슴': 16148, '잘껄': 16149, '라이너스': 16150, '라리사': 16151, '젓': 16152, '쨍할뿐': 16153, '시들시들하다': 16154, '겄다': 16155, '이거지': 16156, '미디': 16157, '사소': 16158, '판국': 16159, '정당성': 16160, '항변': 16161, '논변': 16162, '웅변': 16163, '반명': 16164, '체체': 16165, '하제': 16166, '모래사장': 16167, '이었다': 16168, '딥임펙트': 16169, '외진': 16170, '아카펠라': 16171, '민가': 16172, '출입구': 16173, '뭐시기': 16174, '강철중': 16175, '악랄하다': 16176, '차유람': 16177, '의선': 16178, '입견': 16179, '인초등': 16180, '강수연': 16181, '후쿠야마': 16182, '엮기': 16183, '웨스': 16184, '크레이븐': 16185, '머핀': 16186, '본답': 16187, '기량': 16188, '잼잼': 16189, '92': 16190, '부적': 16191, '7시간': 16192, '아역시절': 16193, '카프카': 16194, '추리소설': 16195, 'hear': 16196, 'sing': 16197, '손짓': 16198, '시내': 16199, '추강': 16200, '진해': 16201, '보년': 16202, '완젼웃겨': 16203, '이르키': 16204, '레올로': 16205, '야누스': 16206, '오순도순': 16207, '애애': 16208, '하지맙시': 16209, '속성': 16210, '지옥도': 16211, '나이라': 16212, '요안나': 16213, '구내': 16214, '칼릴': 16215, '지브란': 16216, '아듀': 16217, 'ㅜㅜㅜㅜㅜㅜㅜ': 16218, '휴그랜트': 16219, '마취': 16220, '들었뚬': 16221, '많넹나': 16222, '달변': 16223, '왕의남자': 16224, '북촌': 16225, '컴버배치': 16226, '밋음': 16227, '처임': 16228, '수구': 16229, '20070225': 16230, '벌교': 16231, '국밥집': 16232, '재문': 16233, '남방': 16234, '안락사': 16235, '새어머니': 16236, '다삿': 16237, '돈조반니': 16238, '쉬함': 16239, '매즈': 16240, '미켈슨': 16241, '운동화': 16242, '재밋게봣어': 16243, '안티크라이스트': 16244, '비정상회담': 16245, '꼽길': 16246, '에츠코': 16247, '아디다스': 16248, '부채질': 16249, '네오나치': 16250, '제도로': 16251, '제주': 16252, '강동': 16253, '하남': 16254, '2엔': 16255, '나넬': 16256, '좋았댜': 16257, '무료함': 16258, 'bbb': 16259, '달튼': 16260, '모짜르트': 16261, '2015': 16262, '오니기리': 16263, '짜릿': 16264, '서편제': 16265, '이탄': 16266, '종말론': 16267, '04년': 16268, '꼽는다': 16269, '쫘': 16270, '악영씨었': 16271, '보비': 16272, '만만찮': 16273, '하겐': 16274, '평수': 16275, '콧대': 16276, '화산고': 16277, '팔자': 16278, '파란만장하다': 16279, '해욤': 16280, '지정': 16281, 'morris': 16282, 'albert': 16283, 'feeling': 16284, '측': 16285, '한부모': 16286, '헤븐': 16287, '성미산': 16288, '수호': 16289, '입시': 16290, '터전': 16291, '정신승리': 16292, '리쿠': 16293, '댜': 16294, 'truth': 16295, '정제': 16296, '아크': 16297, 'ㅠㅠㅜ': 16298, '쿠도': 16299, '남건': 16300, '강도영': 16301, '혜교언': 16302, '지수원': 16303, '르포': 16304, '우쿨렐레': 16305, '비참': 16306, '얄': 16307, '음으로': 16308, '고살': 16309, '살다보면': 16310, '어덯': 16311, '푸켓': 16312, '절경': 16313, '암실': 16314, '두리반': 16315, '치욕': 16316, '아더': 16317, '미니모이': 16318, '셀프': 16319, '아나콘다': 16320, 'ksgome': 16321, '달라이라마': 16322, '고지': 16323, '강시선생': 16324, '핼로': 16325, '대여': 16326, '대후반': 16327, '이지난현재다시한번보는데왜그때는그냥그런영화라고생각했었는데이번엔눈물이계속': 16328, '칭구들일': 16329, '쾌활하다': 16330, '애티튜드': 16331, '시크': 16332, '서플먼트': 16333, '디킨스': 16334, '창빅': 16335, '바로잡다': 16336, '곧죽': 16337, '센트럴': 16338, '매복': 16339, 'hfddggffvbgghjkkkjjhh': 16340, '쩌는드라맠': 16341, '드라맠': 16342, '괜시리': 16343, '네나': 16344, '아웃사이더': 16345, '대망': 16346, '캐스트': 16347, '낙본': 16348, '몸값': 16349, '웃겻어': 16350, '충심': 16351, '동물원': 16352, '조용필': 16353, '나니요': 16354, '소피아': 16355, '짜릿햇다': 16356, '시네마테크': 16357, '윅': 16358, '와일더': 16359, '스탠윅': 16360, '평첨': 16361, '빠따': 16362, '리포터': 16363, '막방': 16364, '맏': 16365, '도지나': 16366, 'problems': 16367, '로케이션': 16368, '두런두런': 16369, '내뱉다': 16370, '불어오다': 16371, '아름다워지다': 16372, '즐겹': 16373, '흐트러짐': 16374, '사뿐하다': 16375, '감돌다': 16376, 'respect': 16377, 'faith': 16378, 'everything': 16379, '낭만파': 16380, '워킹타이틀': 16381, '김상석': 16382, '좇는': 16383, '억해': 16384, '이네요': 16385, '반추': 16386, '두둥': 16387, '사바세계': 16388, '가치판단': 16389, '삼고': 16390, 'babyjuly': 16391, '김수환': 16392, '식히다': 16393, '신형': 16394, '수식': 16395, '엄다혜': 16396, '윤설희': 16397, '신우': 16398, '강신우': 16399, '하하호호': 16400, 'singer': 16401, '어후첨': 16402, '편좀': 16403, '흥얼거리다': 16404, '조권': 16405, '설킨': 16406, '브라운': 16407, '그렁그렁': 16408, '안내상': 16409, '진지희': 16410, '델토': 16411, '앙큼발칙': 16412, '보네아': 16413, '한눈': 16414, '분말': 16415, '24시간': 16416, '완주': 16417, '폐인': 16418, '년말': 16419, '혈통': 16420, '항창': 16421, '호두까기': 16422, '해어지다': 16423, '에에': 16424, '상편': 16425, '저릿저릿하다': 16426, '락락락': 16427, '기타연주': 16428, '에크': 16429, '포머': 16430, '백투더퓨쳐': 16431, '닥극사': 16432, '마벨': 16433, '귄': 16434, '태기': 16435, '원도': 16436, 'mu': 16437, '입학': 16438, '헐리우드영화': 16439, '임주환': 16440, '틱장앤': 16441, '시초': 16442, 'lord': 16443, 'rings': 16444, 'return': 16445, 'king': 16446, '뻥친뒤': 16447, '강심장': 16448, '와즈다': 16449, '아오자이': 16450, '전도현': 16451, '따먹다': 16452, '잃어버렷던': 16453, '김정': 16454, 'ㅍ': 16455, '도두': 16456, '현영': 16457, '브룩': 16458, '쉴즈': 16459, '조은영': 16460, '분한': 16461, '곪음': 16462, '실오라기': 16463, '확연': 16464, '맹량': 16465, '남주혁': 16466, '후아유': 16467, '520년': 16468, 'sg': 16469, '유니버스': 16470, '할복': 16471, '푼돈': 16472, '공범': 16473, '꽹과리': 16474, '넘사벽': 16475, '재밋엇네': 16476, '짓밟힌': 16477, '어진': 16478, '태종': 16479, '기품': 16480, '옥동자': 16481, '시드니': 16482, '루멧': 16483, '이혜숙': 16484, '뚜렸': 16485, '새집': 16486, '낡다': 16487, '리딩': 16488, '카운트다운': 16489, '칠흑': 16490, '추적자': 16491, 'born': 16492, 'kill': 16493, '평화주의자': 16494, '큐브릭': 16495, 'ncis': 16496, '젠더': 16497, '루너': 16498, '박격포': 16499, '박력': 16500, '호전': 16501, '함뭐': 16502, '쏫': 16503, '곡성': 16504, '나홍진': 16505, '톡특하': 16506, '실비': 16507, '공명': 16508, '천둥': 16509, '샵': 16510, '근처': 16511, '토이': 16512, '이수현': 16513, '일거수일투족': 16514, '샅샅이': 16515, '신날떄': 16516, '구름': 16517, '시원시원': 16518, '잔브': 16519, '링크': 16520, '원보': 16521, 'fc': 16522, '이호영': 16523, '강우': 16524, '정전': 16525, '초창': 16526, '플레이어': 16527, 'vga': 16528, '재상': 16529, 'mpeg': 16530, '보사노바': 16531, '세춸호': 16532, '만세덕': 16533, '텐마': 16534, '츠루기': 16535, '강림': 16536, '별일': 16537, '새롭웠': 16538, '김국환': 16539, '엽덕한': 16540, '인데도': 16541, 'goooooooooooooooooooooooooooooooooooooooooood': 16542, '반적': 16543, '데무': 16544, '조이다': 16545, '본집': 16546, '열성': 16547, '팩임돠': 16548, '퐈이': 16549, '예뻣다': 16550, '요동치다': 16551, '불똥': 16552, '본성인': 16553, '킹스': 16554, '마츠다': 16555, '썻으': 16556, '거둿드랫': 16557, '왜리': 16558, '왜도': 16559, '사야카': 16560, '건내다': 16561, '마후라': 16562, '음속': 16563, '노선도': 16564, '작가라서': 16565, '섭섭하다': 16566, '콜린파렐': 16567, '축축하다': 16568, '정경': 16569, '유착': 16570, '이루': 16571, '콘택트': 16572, '미스테리물': 16573, '형상': 16574, '심폐소생': 16575, '인신매매': 16576, '피티': 16577, '김정일': 16578, '오드': 16579, '레시아': 16580, '이성민': 16581, '그린우드': 16582, '사이에': 16583, '연출가': 16584, '방광': 16585, '백악기': 16586, '크론': 16587, '희곡': 16588, 'ㅠㅠㅋㅋㅋ': 16589, '야야': 16590, '성자': 16591, '꼽을듯': 16592, '밴트해머': 16593, '잉켄': 16594, '83년': 16595, '3천만달러': 16596, '전투헬기': 16597, '호킨스': 16598, '해양': 16599, '쫌전': 16600, '대학로': 16601, '고교야구': 16602, '죸': 16603, '입꼬매': 16604, '신탐': 16605, '43초': 16606, '동안의': 16607, '공론': 16608, 'cliche': 16609, '안구': 16610, 'watching': 16611, 'move': 16612, '발걸음': 16613, '낑기다': 16614, 'ㅆ': 16615, '루이종': 16616, '애뜻': 16617, '은혼': 16618, '나이트폴': 16619, '째인데': 16620, '5시': 16621, '왜바꼇노': 16622, 'adrien': 16623, '군발이': 16624, '독고영재': 16625, '인건비': 16626, '선방': 16627, '다리꼬': 16628, '위대': 16629, '애썩': 16630, '점내': 16631, '홀릭했기': 16632, '갤러리': 16633, '단숨': 16634, '스르르': 16635, '역점': 16636, '우위': 16637, '시행착오': 16638, '준애': 16639, '마시멜로': 16640, '대령': 16641, '치달': 16642, '존재론': 16643, '슬몃': 16644, '완소': 16645, '정우준': 16646, '달아나다': 16647, '화악': 16648, '시후': 16649, '난장판': 16650, '공수': 16651, '전섹': 16652, '긴머리': 16653, '몽샹미셀': 16654, '라흐마니노프': 16655, '펑크록': 16656, '패트': 16657, '매트': 16658, '체브라시카': 16659, '사촌동생': 16660, '이재응': 16661, '샬롯': 16662, '페북': 16663, '링거': 16664, '구스': 16665, '산트': 16666, '이장호': 16667, '바나': 16668, '좋네엽': 16669, '비원에이포': 16670, '꿩': 16671, '신산하다': 16672, '김조한': 16673, '현태': 16674, '채운': 16675, '아귀': 16676, '화투': 16677, '고니': 16678, '이상태': 16679, '점때': 16680, '샤이닝': 16681, '도신': 16682, '21년': 16683, '빈민촌': 16684, '655': 16685, '페르소나': 16686, '스톡홀름': 16687, '증후군': 16688, '하비': 16689, '시각장애인': 16690, '한뭉큼': 16691, '개잼꿀잼': 16692, '요미': 16693, '변영주': 16694, 'shgurwo': 16695, '별점': 16696, '이이': 16697, '버들': 16698, '민율': 16699, '스시': 16700, '풍족하다': 16701, '산악인': 16702, '파키스탄': 16703, '내장': 16704, '바이오하자드': 16705, '제겐': 16706, '최영': 16707, '일케': 16708, '얽다': 16709, '새아빠': 16710, '한대수': 16711, '압력': 16712, 'honor': 16713, 'belongs': 16714, 'grape': 16715, 'soda': 16716, 'badge': 16717, '질겁': 16718, '에볼라': 16719, '단백질': 16720, '저금': 16721, '무림': 16722, '얼룩말': 16723, '음침하다': 16724, '덩치': 16725, '겉모습': 16726, '페퍼': 16727, '삼만리': 16728, '마리모': 16729, '부지런하다': 16730, '숖': 16731, '득실대다': 16732, '나주': 16733, '창정': 16734, '점준닼': 16735, '살발': 16736, '광해군': 16737, '님그강': 16738, '해프닝': 16739, '헨드헬즈': 16740, 'such': 16741, 'day': 16742, '선후배': 16743, '꿀잼꿀': 16744, '이긴': 16745, '박상원': 16746, '자꾸자꾸': 16747, 'origin': 16748, '태휘날': 16749, '진태': 16750, '가구야': 16751, '스테마루': 16752, '리얼스틸': 16753, '함관': 16754, '조정석': 16755, '익살': 16756, '경솔하다': 16757, '백윤식': 16758, '쿼런틴': 16759, '상쇄될': 16760, '아른': 16761, '슌지': 16762, 'presumed': 16763, 'innocent': 16764, '은로': 16765, 'aretha': 16766, 'franklin': 16767, 'say': 16768, 'little': 16769, 'pray': 16770, '내가꼽는': 16771, '선학': 16772, '바침': 16773, '볼곳': 16774, 'ㅡㄴ': 16775, '어프': 16776, '라다': 16777, 'edie': 16778, 'sedgwick': 16779, 'sienna': 16780, 'miller': 16781, '홍영': 16782, '8분': 16783, '전신': 16784, '연옥': 16785, '마음씨': 16786, '대항해시대': 16787, '풕': 16788, '알카포네': 16789, '모태': 16790, '루카': 16791, '알음': 16792, '카카': 16793, 'seungkuk': 16794, '교련': 16795, '쌍절곤': 16796, '좌충우돌': 16797, '이장면': 16798, '이갑': 16799, '퐉퐉': 16800, '하염없이': 16801, '이방인': 16802, '머싯': 16803, '수도원': 16804, '해방': 16805, '세드': 16806, '나답': 16807, 'quite': 16808, '정도가': 16809, '230': 16810, '샛별': 16811, '뚱뚱': 16812, '미이케': 16813, '쓸모없이': 16814, '록산': 16815, '울컥울컥': 16816, '송어': 16817, '멋지댜': 16818, '방음': 16819, '쫙쫙': 16820, '반이란': 16821, 'thumbs': 16822, '업데이트': 16823, '화도': 16824, 'jodelle': 16825, '깜': 16826, '센세이션': 16827, '딱딱하다': 16828, '작자': 16829, '19972015': 16830, '나왓을땐': 16831, '왜르케': 16832, '무절제': 16833, 'gimme': 16834, 'money': 16835, 'baby': 16836, '버벌진트': 16837, '베이트': 16838, '뒤로': 16839, '혼연': 16840, '동안허리아프다고거의훈련다빠지고뺑기치는쓰레기맞후임이': 16841, '선임': 16842, '봣겟': 16843, '후임': 16844, '타락천사': 16845, '틴물': 16846, '엄심': 16847, '회색도시': 16848, 'ㅋㅋㅋㅋㅋㅋㅋㅋㅋㅋㅋㅋㅋㅋㅋㅋㅋㅋ': 16849, '임둘': 16850, '쑥대밭': 16851, '박세영': 16852, '노민혁': 16853, '진아씨': 16854, '최정우': 16855, '이명세': 16856, '동행': 16857, '어두울': 16858, '샹송': 16859, '빠담빠담': 16860, '빠담': 16861, '시너지': 16862, '사가': 16863, '데드쉽': 16864, '스패': 16865, '전설의주먹': 16866, '곪': 16867, '외압': 16868, '조종': 16869, '뜰': 16870, 'great': 16871, 'enough': 16872, 'll': 16873, 'keep': 16874, 'laptop': 16875, '브로': 16876, '대좌': 16877, '라이너': 16878, '1989년': 16879, '굳어지다': 16880, '무턱': 16881, '시야': 16882, '마미야': 16883, '재미잇엇어': 16884, '도기': 16885, '로완': 16886, '앳킨슨': 16887, '천적': 16888, '먹이사슬': 16889, '포식자': 16890, '정크푸드': 16891, '건강': 16892, '재미나다': 16893, '쵝': 16894, '쿨': 16895, '혓바닥': 16896, '결승': 16897, '타이어': 16898, '롭코헨': 16899, '712': 16900, '주임': 16901, '인도음악': 16902, '춘화': 16903, '박치기': 16904, '정말재밋더': 16905, 'well': 16906, 'lesbian': 16907, 'romantic': 16908, 'comedy': 16909, '운철': 16910, '1970년': 16911, '구치': 16912, '면목': 16913, '레이건': 16914, '게티즈버그': 16915, '49일': 16916, 'itthis': 16917, 'romance': 16918, '허문': 16919, '우누': 16920, '분쟁': 16921, '판별': 16922, '콘텐츠': 16923, '푸석하다': 16924, '만신창이': 16925, '순례': 16926, '객': 16927, '추도': 16928, '제의': 16929, '명과': 16930, '초희': 16931, '쩌는군': 16932, '소리치다': 16933, '철의여인': 16934, '결단': 16935, '텅빈': 16936, '정은': 16937, '스탠리': 16938, '까치네': 16939, '보는': 16940, '김다빈': 16941, '게으르다': 16942, '복판': 16943, '김창만': 16944, '도서': 16945, '히든싱어': 16946, '디스커버리': 16947, '지구온난화': 16948, '이산화탄소': 16949, 'barry': 16950, 'white': 16951, 'let': 16952, 'play': 16953, '3840': 16954, '유격대': 16955, '포진': 16956, '남극일기': 16957, '간놈': 16958, '조두순': 16959, '최괴입니': 16960, '수백향공주': 16961, '데이지': 16962, '베드로': 16963, '성경책': 16964, '순교자': 16965, '마음가짐': 16966, '지역감정': 16967, 'korea': 16968, '잡기': 16969, '레빈': 16970, '김혁': 16971, '독파': 16972, '이재규': 16973, '다처': 16974, '문제해결': 16975, '일사천리': 16976, '박영서': 16977, '19년': 16978, '봅슬레이': 16979, '요다음': 16980, '꾸밈': 16981, '연애소설': 16982, '집앞': 16983, '서성': 16984, '스타맨': 16985, '우주인': 16986, 'afkn': 16987, '좋았슴': 16988, '카를로스': 16989, '사우': 16990, 'ㅠㅠㅋ': 16991, '맬릭': 16992, '우웨': 16993, '이수혁': 16994, '유가령': 16995, '다방': 16996, '친숙하다': 16997, '청아': 16998, '외마디': 16999, '연아': 17000, '최고점': 17001, '정문': 17002, '허리케인': 17003, '캐나다인': 17004, '연지': 17005, '충혈': 17006, '쿠엔텐': 17007, '철민': 17008, '영수': 17009, '영화동': 17010, '소시민': 17011, '아군': 17012, '강진아': 17013, '이세영': 17014, '곽동연': 17015, '곽정욱': 17016, '목회자': 17017, '점더줌': 17018, '스겔': 17019, '스텔': 17020, '뀨엽다': 17021, '송윤아': 17022, '강토': 17023, '대우받다': 17024, '내심': 17025, '꼼빠뇽빵': 17026, '아쿠아': 17027, '배한성': 17028, '어쩨': 17029, '연제욱': 17030, '아모': 17031, '것과': 17032, '뷰옥톰요크': 17033, '효심': 17034, '어나더': 17035, '닫히다': 17036, '한서영': 17037, '프리지아': 17038, '꽃말': 17039, '돗': 17040, '에슐리': 17041, '쥬드': 17042, '명예욕': 17043, '나치독일': 17044, '오리온': 17045, '염력': 17046, '잠재력': 17047, '코카콜라': 17048, '조현재': 17049, '안드레아': 17050, '잘좠습니': 17051, '보유': 17052, '밣히는': 17053, '어땟는가': 17054, 'ns': 17055, '윤지': 17056, '안드레이': 17057, '줄랍': 17058, '정이현': 17059, '온정': 17060, '곽시양': 17061, '일장': 17062, '우미': 17063, '나누어지다': 17064, '훌륭햇음': 17065, 'lt': 17066, 'gt': 17067, '김재흥': 17068, '에쉬든커쳐떄문': 17069, '엄청웃엇음': 17070, '브리트니': 17071, '짦': 17072, '리타': 17073, '도잠': 17074, '단상': 17075, '존레논': 17076, '노웨어보이': 17077, '인신공격': 17078, '왈가': 17079, '사이만': 17080, '강승윤': 17081, '포텐터지': 17082, '회상씬': 17083, '귀로': 17084, '베넷밀러': 17085, 'moives': 17086, 'ive': 17087, '잭니콜슨': 17088, '부하': 17089, '칭얼대다': 17090, '사임': 17091, '샤시': 17092, '수줍다': 17093, '세면대': 17094, '물기': 17095, '철저함': 17096, '쪼매': 17097, '소굴': 17098, '잼있넹': 17099, '카잔': 17100, '김미숙': 17101, '한길': 17102, '게닝중': 17103, '으뜸': 17104, '리덕스판': 17105, '만기': 17106, '소자': 17107, '재활': 17108, '심은경': 17109, '덩크': 17110, '내려앉다': 17111, '배종옥': 17112, '개임': 17113, '센빠이': 17114, '관습': 17115, '소가': 17116, '스털링': 17117, '유콜': 17118, '일약': 17119, '글로버': 17120, '만사이': 17121, '기저': 17122, 'ㅋㅋㅋㅋㅋㅋㅋㅋㅋㅋㅋㅋㅋㅋㅋㅋㅋㅋㅋㅋㅋㅋㅋㅋㅋㅋㅋㅋㅋㅋㅋㅋㅋ': 17123, '해커': 17124, '올리버스톤': 17125, '소야': 17126, '464': 17127, '비즐러': 17128, '엿들으': 17129, '또나왓으': 17130, '로디': 17131, '페이': 17132, '스캇': 17133, '실하다': 17134, '우피': 17135, '오프라': 17136, '윈프리': 17137, '단일': 17138, '콩빠들': 17139, '므슨': 17140, '젠맘': 17141, 'dday': 17142, '리플레이': 17143, '라라피포': 17144, '감복': 17145, '쿠로': 17146, '봄셀틈': 17147, '홈런': 17148, '웨웨': 17149, '용감': 17150, '큐티': 17151, '무선': 17152, '업자': 17153, '파이': 17154, '낸스': 17155, '42': 17156, 'mr': 17157, '제기랄': 17158, '벤치마킹': 17159, '왜안봣을까': 17160, '인적': 17161, '세현': 17162, '상구': 17163, '엄지': 17164, '차영': 17165, '어두침침하다': 17166, '핵꿀': 17167, '그랜드': 17168, '빅잼': 17169, '레베카': 17170, '대발견': 17171, '데니': 17172, '육군사관학교': 17173, '뉴매': 17174, '말레피센트': 17175, '칭한다': 17176, '김다솜': 17177, '백성현': 17178, '김형준': 17179, '황선희': 17180, '곽희성': 17181, '다솜': 17182, '씨스타': 17183, '약사': 17184, '트위스트': 17185, '삼바': 17186, '카니발': 17187, '스트롱거때문': 17188, '땓대댇댇킬미': 17189, '스쿨': 17190, '슛돌이': 17191, '피구왕통키': 17192, '뒤엎': 17193, '읭': 17194, '트래픽': 17195, '유엔': 17196, '지세': 17197, '믿을늠': 17198, '허네씌부럴': 17199, '향상': 17200, '게일': 17201, '양일': 17202, '기제': 17203, 'diggity': 17204, '볼륨': 17205, '초초': 17206, '케드': 17207, '통신망': 17208, '금불': 17209, '길쭉': 17210, '60회': 17211, '40회': 17212, '물레방아': 17213, '잭팟': 17214, '본진': 17215, '이왕이면': 17216, '듯해': 17217, '주천': 17218, '닮은꼴': 17219, '플래닛': 17220, '프루프': 17221, '기까지': 17222, '다이스': 17223, '팽우안': 17224, '돈치': 17225, '윤지민': 17226, '다양성': 17227, '벤치': 17228, '빠이팅': 17229, '도란도란': 17230, 'awesome': 17231, 'construction': 17232, '전지전능하다': 17233, 'dmb': 17234, '피클': 17235, '통조림': 17236, '따개': 17237, '다가서다': 17238, '은씨': 17239, '이브생로랑': 17240, '았었다': 17241, '피똥쌈': 17242, '정윤희': 17243, '연예': 17244, '왕십리': 17245, '어류': 17246, '놀이동산': 17247, '곧바로': 17248, '단테': 17249, '얼티': 17250, '1984년': 17251, '56회': 17252, '셜리맥': 17253, '클라인': 17254, '웨렌': 17255, '비티': 17256, '수상': 17257, '데브': 17258, '윙거': 17259, '필자': 17260, '에듬바다속에숨은진주를이제서야찾은느낌이었음적극추천': 17261, '780': 17262, '쵝고': 17263, '북두': 17264, '프린스': 17265, '프린세스': 17266, '과로': 17267, '구세': 17268, '강용석': 17269, '정치성향': 17270, '3등': 17271, '에미': 17272, '로섬': 17273, '마놀': 17274, '미스터고': 17275, '서교': 17276, 'goooooooood': 17277, '무승부': 17278, '등판': 17279, '낙관': 17280, '티벳': 17281, '우매': 17282, '켄지': 17283, '철도': 17284, '흉년': 17285, '굼': 17286, '축약': 17287, '스레이': 17288, '거재': 17289, 'showdown': 17290, '쫄깃해': 17291, '냉전': 17292, '저렴': 17293, '한코': 17294, '어여': 17295, '말죽거리잔혹사': 17296, '언어유희': 17297, '어록': 17298, '섯다': 17299, '상통': 17300, 'nice': 17301, 'super': 17302, 'duper': 17303, 'carl': 17304, '때전': 17305, '월광': 17306, '어무이': 17307, '투더': 17308, '와플': 17309, '장갸방': 17310, '알랭들롱': 17311, '장동': 17312, '방백': 17313, '애석하다': 17314, 'insight': 17315, '수호천사': 17316, '아우슈비츠': 17317, '아랑': 17318, '균신': 17319, '기성용': 17320, '겟음': 17321, '바꿧': 17322, '심현섭': 17323, '살감': 17324, '암스테르담': 17325, '쩖': 17326, '몰랏다': 17327, '비지니스': 17328, 'dms': 17329, '도에봤는영화인데': 17330, '뚱하다': 17331, '창민': 17332, '원영': 17333, '110': 17334, '비빔밥': 17335, '염보라': 17336, '라이언킹': 17337, 'christine': 17338, '찰리채플린': 17339, '작곡': 17340, '병탕': 17341, '멈츨': 17342, '곤충': 17343, '땔수': 17344, '컨빅션': 17345, 'kan': 17346, '3134': 17347, '구니스': 17348, '구디넙': 17349, '하층': 17350, '군경': 17351, '오노': 17352, '진즉': 17353, '손해': 17354, '면신': 17355, '부칸': 17356, '갈고': 17357, '한겨례': 17358, '임씨': 17359, 'ㅓㅈ': 17360, '응급남녀': 17361, '수익금': 17362, '2009': 17363, '환타지아': 17364, '세이버': 17365, '오비완': 17366, '우역': 17367, '쿄애니': 17368, '유포': 17369, '니엄': 17370, '청룡': 17371, '죽엇을때': 17372, '여담': 17373, '카프': 17374, '소방대': 17375, '60만': 17376, '재일동포': 17377, '럭비': 17378, '오사카': 17379, '이해관계': 17380, '구암': 17381, '디텔일': 17382, '가전제품': 17383, '알프': 17384, '퐁퐁': 17385, '레시피': 17386, '귀염': 17387, '에게로': 17388, '모던': 17389, '타임즈': 17390, '골드': 17391, '최해': 17392, '임칙서': 17393, '퉁퉁': 17394, '은위': 17395, '엔돌핀': 17396, '인혁인이에유': 17397, '요귀': 17398, '이동승': 17399, '찾아다니다': 17400, '경마장': 17401, '경주마': 17402, '썻다': 17403, '뽈렌느': 17404, '베이커리': 17405, '실검': 17406, '순자': 17407, '쥬세페토르나토레': 17408, '배척': 17409, '머신건': 17410, '후드': 17411, '가축': 17412, '복식': 17413, '어감': 17414, '살살': 17415, '동서': 17416, '막론': 17417, '촌티': 17418, '멋있엄': 17419, '살아생전': 17420, '자행': 17421, '슈타인': 17422, '술술': 17423, 'smooth': 17424, 'criminal': 17425, '밨었': 17426, '댕': 17427, '부스럼': 17428, '버닝': 17429, '360': 17430, '그루트': 17431, '똘마니들': 17432, '순둥순둥': 17433, '명쾌하다': 17434, '온점': 17435, '설날': 17436, '치앙마이': 17437, '쭝훈': 17438, '엉님': 17439, '따분': 17440, '얽매': 17441, '연작': 17442, '어리석음': 17443, '마농': 17444, 'fragility': 17445, '리처드슨': 17446, '싸이트': 17447, '불효자': 17448, '오마에': 17449, '나니아': 17450, '헝퍼펑': 17451, '더위': 17452, '사르르': 17453, '설산': 17454, '등반': 17455, '촬령하랴': 17456, '고상': 17457, '깨나': 17458, '했겄네': 17459, '가주': 17460, '실리콘': 17461, '귀여미': 17462, '겨를': 17463, '저화질': 17464, '자일리톨': 17465, '개쩌는데': 17466, '소도': 17467, '팝음악': 17468, '필히': 17469, '비주류': 17470, '백업': 17471, '전제군주국': 17472, '인민공화국': 17473, '백터': 17474, '젬나': 17475, '미하엘': 17476, '이선진': 17477, 'shall': 17478, 'dance': 17479, '필승': 17480, '노유정': 17481, 'whether': 17482, 'fact': 17483, 'can': 17484, 'converste': 17485, 'directly': 17486, 'walshy': 17487, 'important': 17488, '빠져듬강추': 17489, '총독': 17490, '양자': 17491, '에스더': 17492, '무정': 17493, '붕탁': 17494, '장도': 17495, '맙소사': 17496, '단시간': 17497, 'ㄱㅅ': 17498, '김쌤': 17499, '바그다드': 17500, '달동네': 17501, '아니꼽다': 17502, '스타트': 17503, '금새': 17504, '입양아': 17505, '팩토리': 17506, '준희': 17507, '임팩터': 17508, '윤정희': 17509, '장동휘': 17510, '김형일': 17511, '시리어스': 17512, '콰이어트': 17513, '예스': 17514, '버려지다': 17515, '경호': 17516, '오민석': 17517, '물품': 17518, '요게': 17519, '찌완': 17520, '유목민': 17521, '윰목민': 17522, '연식': 17523, '쩔음퓽쾅': 17524, '탕탕': 17525, '우르릉': 17526, '꽈광': 17527, '근사하다': 17528, '형언': 17529, '클립': 17530, '지안': 17531, '블론테': 17532, '금단현상': 17533, '내마스': 17534, '럴슨': 17535, '흐트려': 17536, '친구사이': 17537, '꼭지': 17538, '블랑섹': 17539, '보셩': 17540, '화벽': 17541, '포송령': 17542, '단편소설': 17543, '전설의고향': 17544, '그라나도스': 17545, '무곡': 17546, '존트라볼타': 17547, '빅맨': 17548, '59년': 17549, '첩': 17550, '섬뜻': 17551, '처량하다': 17552, '오감도': 17553, '재밋게봣습니': 17554, '호오': 17555, '건너편': 17556, '된영화라니시간': 17557, '스레': 17558, '아꼇기': 17559, '스페츠나츠': 17560, '난소': 17561, '장해': 17562, '불운': 17563, '탁구': 17564, '시각장애': 17565, '수화': 17566, '김예림': 17567, '드론': 17568, '이창동': 17569, '재밋게봣는데': 17570, '스파이키드': 17571, '천원': 17572, 'santana': 17573, '화색': 17574, '알딸딸하다': 17575, '젝키': 17576, '망햇': 17577, '호퍼': 17578, '잉글리쉬': 17579, '불가항력': 17580, '드와이트': 17581, '며느리': 17582, '미주리호': 17583, '탈취': 17584, '네이비': 17585, 'ㅇㅓ': 17586, '니노': 17587, '핑크': 17588, '1983': 17589, '황무지': 17590, '초록물고기': 17591, '금토': 17592, '파국': 17593, '여름밤': 17594, '흘쩍': 17595, '정씨': 17596, '진실하다': 17597, '명탐정코난': 17598, '느꼇는데': 17599, '오근': 17600, '마눌': 17601, '양태': 17602, '변두리': 17603, '판타지아': 17604, '가브리엘': 17605, '오보에': 17606, '읻': 17607, 'favorate': 17608, 'ㅠㅠㅠㅠㅠㅠㅠㅠㅠㅠㅠ': 17609, '예선': 17610, 'gozu': 17611, '보세욬': 17612, '윤회사상': 17613, '포획': 17614, '가황': 17615, '총리와나': 17616, '기황후': 17617, '동지': 17618, '자전거여행': 17619, '닥터슬럼프': 17620, '모태솔로': 17621, '식탁보': 17622, '수원화성': 17623, '한강': 17624, '배다리': 17625, '부도덕': 17626, '뒤덥힌': 17627, '목욕탕': 17628, '오복성': 17629, '서운하다': 17630, 'wjdq': 17631, 'buddha': 17632, '미카': 17633, '경시청': 17634, '히노키': 17635, '여권': 17636, '도장': 17637, '도작임을': 17638, '다사': 17639, '랑그': 17640, '고귀하다': 17641, '마치다': 17642, '미니미': 17643, '브랜드': 17644, '모질다': 17645, '므훗해염': 17646, '송가': 17647, '국승': 17648, '살맛': 17649, '진미': 17650, '트집': 17651, '풀풀': 17652, '호해': 17653, '상품화': 17654, '다야': 17655, '인형극': 17656, 'plex': 17657, '일인': 17658, '음해': 17659, '동방명주': 17660, '상하이': 17661, '칙었': 17662, '심문': 17663, '옆구리': 17664, '에스컬레이터': 17665, '언터처블': 17666, '7080시': 17667, 'il': 17668, 'mondo': 17669, '꿀꿐': 17670, 'wowed': 17671, 'shocked': 17672, '과학사': 17673, '포괄': 17674, '갖': 17675, '초강추': 17676, '에스퍼맨': 17677, '천은경': 17678, '칙칙': 17679, '비키다': 17680, '챰': 17681, '피온': 17682, '인가에': 17683, '졸긔': 17684, 'ㅋㄷㅋㄷ': 17685, '동장': 17686, '두껍다': 17687, '공책': 17688, '장의': 17689, '체취': 17690, '다데': 17691, '세미': 17692, '풍덩풍덩': 17693, '슈슉': 17694, '쉐이크': 17695, '개뼉다귀': 17696, '엘리샤': 17697, '갠찮다': 17698, '회전목마': 17699, '문뜩': 17700, '오윤홍': 17701, '초집': 17702, '주식': 17703, '목단': 17704, 'smoke': 17705, 'different': 17706, 'from': 17707, 'usual': 17708, 'greek': 17709, 'interesting': 17710, 'performances': 17711, '짯던': 17712, '정도의': 17713, '연사': 17714, 'masterpiece': 17715, '비욘세': 17716, '피아니스트': 17717, '징챠': 17718, '네이티': 17719, '점정도': 17720, '것땜': 17721, '월요병': 17722, '쉅': 17723, '명민': 17724, '늙어감': 17725, '고요한': 17726, '보강': 17727, '대성통곡': 17728, '존웃': 17729, '버티고': 17730, '셰': 17731, '개리': 17732, '싱숭생숭하다': 17733, '적신': 17734, '들썩이다': 17735, '너므': 17736, '가디': 17737, '레바': 17738, '미소녀': 17739, '삼중': 17740, '임별': 17741, '줫다': 17742, '괜찬네': 17743, '디거': 17744, '라마디': 17745, '의드네': 17746, '신경안': 17747, '의드': 17748, '냉대': 17749, '손가락질': 17750, '오신': 17751, 'game': 17752, 'sports': 17753, '노려보다': 17754, '민씨': 17755, '김성은': 17756, '점더': 17757, '밑에님': 17758, '스탈린그라드': 17759, '모던아트': 17760, '폴록': 17761, '소각': 17762, '문걸': 17763, '정음': 17764, '아세아극장': 17765, '특사': 17766, '으으': 17767, 'hour': 17768, 'photo': 17769, '박수갈채': 17770, 'plan': 17771, 'surprised': 17772, '나왓으': 17773, '과보': 17774, '뜽': 17775, '사사롭다': 17776, '더테러라이브': 17777, '엄지손가락': 17778, '치켜들다': 17779, '사리면': 17780, '잠입': 17781, '배합': 17782, '안밖혀': 17783, '어익후': 17784, '쿠엔티': 17785, '거북이': 17786, '숨기': 17787, '자건': 17788, '탈때': 17789, 'durtlakwdkdiwl': 17790, 'believe': 17791, '말론브랜도': 17792, '야마': 17793, '찾아헤맷': 17794, '풀하우스': 17795, '고담': 17796, '머싯다': 17797, '종두': 17798, '산자': 17799, '홍림': 17800, '공민왕': 17801, '노국공주': 17802, '엔딩그걸로': 17803, '엔딩다시봤넹': 17804, '등지': 17805, '죤직쏘': 17806, '테레사': 17807, '개쪈다': 17808, '프로메테우스': 17809, '허장강': 17810, '사성': 17811, '드네유': 17812, '가려진': 17813, '꼬는듯': 17814, '선리기연': 17815, '김보연': 17816, 'store': 17817, '이용권': 17818, '진중하다': 17819, '구걸': 17820, '다망하다': 17821, '설렜댜': 17822, '폐막': 17823, '버킷리스트': 17824, '애잔': 17825, '악플다다': 17826, '현충일': 17827, '엣날': 17828, '가계': 17829, '2천원': 17830, '빌렷던': 17831, '코메티': 17832, 'ㅃㅏ': 17833, 'ㄱㄱㄱ': 17834, '인간세계': 17835, '사다리': 17836, '에코': 17837, '감지': 17838, '전우': 17839, '전대': 17840, '양대': 17841, '굿임': 17842, '셨': 17843, '랜디': 17844, '버터스': 17845, '카트맨': 17846, '회전': 17847, '능데': 17848, '코리': 17849, '몬테': 17850, '이스': 17851, '힌국': 17852, '길손': 17853, '도합': 17854, '사티': 17855, '대영화답지않게': 17856, '몽정': 17857, '기륭': 17858, '파릇하다': 17859, '퍼니셔': 17860, '장단': 17861, '월켄': 17862, '미그기': 17863, '울음소리': 17864, '잼슴': 17865, '윤상현': 17866, '주간아이돌': 17867, '돈앞': 17868, '천삼백만': 17869, '밨는데': 17870, '이훌러덩': 17871, '우하하': 17872, 'babyface': 17873, '크리스챤': 17874, '퀼': 17875, '리움': 17876, '미경': 17877, '이장우': 17878, '콜라보레이션': 17879, '루돌프': 17880, '화산폭발': 17881, '아레스': 17882, '라미레스': 17883, '됏어': 17884, '훌': 17885, '륭합니': 17886, '브륄': 17887, '김윤아': 17888, '김보라': 17889, '줗음': 17890, '마은': 17891, 'visions': 17892, 'reality': 17893, '재밋는거': 17894, '정보전': 17895, '각고': 17896, '화장품': 17897, '꿀릴': 17898, '억하심정': 17899, '강박': 17900, '저가': 17901, '카게무샤': 17902, '강가': 17903, '케다': 17904, '백년의유산': 17905, '치인': 17906, 'xmen': 17907, 'origins': 17908, 'wolverine': 17909, '게이고': 17910, '응용': 17911, '트랜스': 17912, '전공': 17913, '장지': 17914, '갓미넴': 17915, '평판': 17916, '월간': 17917, '미상': 17918, '디보': 17919, '억양': 17920, '송창의': 17921, '영화정보': 17922, '인어공주': 17923, '라이온킹': 17924, '햔': 17925, '위도': 17926, '국도극장': 17927, '첫날': 17928, '보르테': 17929, '잭더자이언트킬러': 17930, '가디언': 17931, '사우디아라비아': 17932, '모종': 17933, '새까맣다': 17934, '초롱': 17935, '밟힌다': 17936, '주륵': 17937, '레포트': 17938, '미세스폿트': 17939, '거재밋': 17940, '신유': 17941, '단면': 17942, '그래비티': 17943, '127시간': 17944, '엮어낸': 17945, '이당호옹이': 17946, '극작': 17947, '아련아련': 17948, '최은설': 17949, '지영': 17950, '건일': 17951, '꼭보': 17952, '극화': 17953, '어딧': 17954, '간격': 17955, '핸드백': 17956, '밨습니': 17957, '아킬레스': 17958, '제크로무': 17959, '뇌격': 17960, '크로스': 17961, '역린': 17962, '살아랔': 17963, '파지다': 17964, '9999999999999999999999999999999999999': 17965, '핸기': 17966, '전무후무': 17967, '춘희': 17968, '고토': 17969, 'priceless': 17970, '포화': 17971, '짝눈': 17972, '건수': 17973, '호응': 17974, '크래딧': 17975, '빗': 17976, '떨치다': 17977, '발현': 17978, '개보': 17979, '라이드': 17980, '햄릿': 17981, '애니상': 17982, '길티크라운': 17983, '설계도': 17984, '모형': 17985, '주사위': 17986, '쳣다': 17987, '쇠주': 17988, '태교': 17989, '코딱지': 17990, '중화': 17991, '동반': 17992, '수정과': 17993, '마마마': 17994, '깡통': 17995, '쓴맛': 17996, '일직': 17997, '좋겠슴': 17998, '디시': 17999, '3만': 18000, '비틀': 18001, '소모': 18002, '방안': 18003, '한울': 18004, '기지': 18005, '사촌형': 18006, '똘이장군': 18007, '자살율': 18008, '황신혜': 18009, '배창호': 18010, '얼밑': 18011, '다져지다': 18012, '무사하다': 18013, '지상렬': 18014, '다솔': 18015, '마르퀴스': 18016, '걸세': 18017, '후에': 18018, '왜이케': 18019, '방준석': 18020, '점줌재밋음': 18021, '으로부터의': 18022, '교차점': 18023, '카메런': 18024, '짐돠': 18025, '대규모': 18026, '약소국': 18027, '자메이카': 18028, '수장': 18029, '끌어안다': 18030, '여파': 18031, '뒤틀리다': 18032, '소비자': 18033, '아스라하다': 18034, '챔프': 18035, '라우': 18036, '다음해': 18037, '가모': 18038, '부감': 18039, '결핍': 18040, '청바지': 18041, '잠바': 18042, '차기': 18043, '소속': 18044, '1976년': 18045, '돈암동': 18046, '재민': 18047, '다땔부수': 18048, '선역': 18049, '이태': 18050, '임시': 18051, '렌던': 18052, '장난감병정': 18053, '내부고발': 18054, '구미': 18055, '당기다': 18056, '석양': 18057, '슈퍼배드': 18058, '스토어': 18059, '안내': 18060, '괴안': 18061, '스크립트': 18062, '전남편': 18063, '리로디드': 18064, '조성은': 18065, '분쇄기': 18066, '산체': 18067, '연대': 18068, '없는뎁': 18069, '발판': 18070, '이삼': 18071, '신약': 18072, '이보영': 18073, '동공': 18074, '조휘': 18075, '생로랑': 18076, '각박하다': 18077, '화정': 18078, '질량': 18079, '반중력': 18080, '작용': 18081, '국회': 18082, '법안': 18083, '팸': 18084, '소냐': 18085, '애썻다': 18086, '가리키다': 18087, '로마노프': 18088, '숙려': 18089, '롱런': 18090, 'ba': 18091, '코닌': 18092, '콤마': 18093, '숫점': 18094, '쇼걸': 18095, '더글라스': 18096, '어김없이': 18097, '160만': 18098, '명이': 18099, '피날레': 18100, 'bbbb': 18101, '몸둥아리': 18102, '한지붕': 18103, '대중매체': 18104, '류현상': 18105, '재밋고슬펑': 18106, '이훨씬지났지만': 18107, '파랗다': 18108, '트위터': 18109, '당서': 18110, '박변': 18111, '아강': 18112, '밸붕': 18113, '작이라는데에': 18114, '이과': 18115, '미대': 18116, '재밋었땅책두있찌': 18117, '작이더군요': 18118, '국딩땝니': 18119, '첫방송': 18120, '됫는데': 18121, '수목': 18122, '차서': 18123, '뚜': 18124, '조은숙': 18125, '저작권소송': 18126, '포탄': 18127, '의례': 18128, '괄활': 18129, '화땐': 18130, '로스': 18131, '닥빙녀': 18132, '엘리켐퍼': 18133, '라인업': 18134, '목마름': 18135, '대명': 18136, '제갈': 18137, '음양': 18138, '두시': 18139, '봤을껄': 18140, '오오오오': 18141, '디어': 18142, '평양': 18143, '발리다': 18144, '각과': 18145, '폐혜': 18146, '아즘마들': 18147, '열망': 18148, '까지와': 18149, '때임': 18150, '캐스': 18151, '피안': 18152, '웨인': 18153, '윤제문': 18154, '교가': 18155, '함장': 18156, '밀렵': 18157, '대물': 18158, '석도': 18159, '금세': 18160, '설국열차': 18161, '색체': 18162, 'bus': 18163, '전투화': 18164, '굉장': 18165, '샤우리': 18166, '행군': 18167, '록타': 18168, '내포': 18169, '오정희': 18170, '방치': 18171, '자게이': 18172, '불끈': 18173, '척박하다': 18174, '허락': 18175, '위태롭': 18176, '김재준': 18177, '하문': 18178, '등광영': 18179, '돋보다': 18180, '어머님': 18181, '김은숙': 18182, '엎는': 18183, '격려': 18184, '애니메이터': 18185, '떡삽겹살': 18186, '윤두수': 18187, '제적': 18188, '이다지': 18189, '미실': 18190, '이수': 18191, '성정체성': 18192, '화학': 18193, '봣습니닼': 18194, '잼잇엇숩니': 18195, '천년여왕': 18196, '엘레베이터': 18197, '경포': 18198, '힌극': 18199, '머냑': 18200, '뎀발라': 18201, '꿈쩍': 18202, '노소': 18203, '프로스트': 18204, '멕라렌팀': 18205, '흰색': 18206, '빨강': 18207, '말보로': 18208, '마킹': 18209, '머신': 18210, '모터스포츠': 18211, '동경대': 18212, 'night': 18213, '금상첨화': 18214, '타파': 18215, '왈칵': 18216, '루팡': 18217, '잘맞다': 18218, '문단속': 18219, '불사': 18220, '영화목록': 18221, '둣': 18222, '듀규듀': 18223, '규구': 18224, 'ㅜㄷ': 18225, '영애': 18226, '어드벤처': 18227, '시조': 18228, '숙역': 18229, '야곱': 18230, '치켜지다': 18231, '엔야': 18232, 'time': 18233, '늠늠': 18234, '민중': 18235, '주도하다': 18236, '공화정': 18237, '설립': 18238, '리얼타임': 18239, '출력': 18240, '공중전': 18241, '길동': 18242, '기괴': 18243, '무질서': 18244, '싹둑': 18245, '과반': 18246, '복되다': 18247, '한다인': 18248, '에델': 18249, '베뎃': 18250, '잡아내다': 18251, '가지고': 18252, '게르만족': 18253, '우월하다': 18254, '북유럽': 18255, '식코': 18256, '메디': 18257, '수원': 18258, '데이빗보위': 18259, '던컨': 18260, '매국노': 18261, '먄': 18262, '강사': 18263, '강화하다': 18264, '자긍': 18265, '턱턱': 18266, '엮어내': 18267, '연금술': 18268, '노견': 18269, '열중': 18270, '도실': 18271, '뭉게구름': 18272, '새털구름': 18273, '징텅': 18274, '잇엇으': 18275, '120회': 18276, '300회': 18277, '210': 18278, '박기준': 18279, '17일': 18280, '호타루': 18281, '쨩': 18282, '재밓쳫': 18283, '한여름': 18284, '남하': 18285, '컾컾': 18286, 'ㅅㅅㅅㅅ': 18287, '아라': 18288, '즉시': 18289, '미쉘': 18290, '페레': 18291, '혈전': 18292, '고바야시': 18293, '유민': 18294, '우희': 18295, '샬': 18296, '학습': 18297, '사랑방': 18298, '견고하다': 18299, '닻별': 18300, '자채': 18301, '바보엄마': 18302, '왓다갓다': 18303, '개고기': 18304, '후후': 18305, '2187년': 18306, '괜사': 18307, '금광': 18308, 'unknown': 18309, 'masterpieces': 18310, '라이프': 18311, 'duel': 18312, '2000억': 18313, '하규': 18314, '봤었드랬': 18315, '왕모': 18316, '차가워지다': 18317, '아침공기': 18318, '불현듯': 18319, '옛사랑': 18320, '기성': 18321, '데이브': 18322, 'httpwwwyoutubecomwatchvbqo': 18323, 'kl': 18324, 'drmywide': 18325, 'hasverified': 18326, '꼬방동': 18327, '캐힐': 18328, '희비극': 18329, '홍어': 18330, '야만인': 18331, '처단': 18332, '자각': 18333, '험담': 18334, '면세': 18335, '팅팅': 18336, '내후년': 18337, '브랜든': 18338, '러브러브': 18339, '미아': 18340, '말아톤': 18341, '간질': 18342, '에스파니아': 18343, '죽는씬': 18344, 'iam': 18345, '넝찰져': 18346, '떡잎': 18347, 'toccma': 18348, '아더왕': 18349, '힘들떄': 18350, '채닝테이텀': 18351, '그리스도': 18352, '탁윌': 18353, '독고': 18354, '시연': 18355, '3천만': 18356, '불밖엔': 18357, '불넘게벌음': 18358, '시스터즈': 18359, '하나라': 18360, '본보다': 18361, '헌터헌터': 18362, '부동산': 18363, '쪽지': 18364, '역행': 18365, '공산': 18366, '베낭': 18367, '기웃': 18368, '트톡': 18369, '재밋엇엇': 18370, '흥햇으': 18371, '비행장': 18372, '단언': 18373, '위페르': 18374, '워메': 18375, '천상': 18376, '늣': 18377, '콘체르토': 18378, '단성사': 18379, '1500만': 18380, '용돈': 18381, '얼렁': 18382, '혈투': 18383, '희로애락': 18384, '으헹헹': 18385, '유동': 18386, '모의': 18387, '졸랭': 18388, '사계': 18389, '쏠': 18390, '제생': 18391, '라그': 18392, '앞씬': 18393, '어렴풋이': 18394, '낰': 18395, '액기스': 18396, '체위': 18397, '딸감': 18398, '굴욕': 18399, '액스터시': 18400, '쿸': 18401, '10일': 18402, 'tomorrow': 18403, '일신': 18404, '안위': 18405, '지배구조': 18406, '가필드': 18407, '데이비드': 18408, '넨트': 18409, '세아': 18410, '쥤': 18411, 'hate': 18412, '꿂잼': 18413, '도때': 18414, '탈영': 18415, '월레스': 18416, '스코틀랜드': 18417, '대부도': 18418, '아델': 18419, '엄태구': 18420, '혜영': 18421, '품일': 18422, '마브': 18423, '라틴': 18424, '박하나': 18425, '컷던': 18426, '샘닐': 18427, '쉽사리': 18428, '긔': 18429, '재밋쎠': 18430, 'ㄴㅏ': 18431, '단둘': 18432, '백령도': 18433, '지진파': 18434, '진동': 18435, '유진동': 18436, '당국': 18437, '반파': 18438, '상감': 18439, 'tod': 18440, '원더풀': 18441, '채정안': 18442, '번재': 18443, '인베이젼': 18444, '한나몬타나': 18445, '그릇되다': 18446, '타로': 18447, '필립스': 18448, '사소설': 18449, '말랑말랑하다': 18450, '쉐끠들': 18451, '장현우': 18452, '페니': 18453, '먹엇엇음': 18454, '꽃미남': 18455, '페테': 18456, '지잔': 18457, '자만하다': 18458, '겸손': 18459, '빠져듬': 18460, '본아이덴티티': 18461, '텟페이': 18462, '기태': 18463, '누더기': 18464, '퀼트': 18465, '또울': 18466, '왜그러지': 18467, '롱리': 18468, '우하하하': 18469, '타의': 18470, '추종': 18471, '오라버님': 18472, '아버님': 18473, '왜색': 18474, '빼어나다': 18475, '홍보팀': 18476, '스크립터': 18477, '카포티': 18478, '콜드': 18479, '맞이': 18480, 'viola': 18481, '본업': 18482, '도촌': 18483, '양돈': 18484, '난건': 18485, '길어지다': 18486, '임진강': 18487, '흘러나오다': 18488, '엘렌': 18489, '쿤': 18490, '서브컬쳐': 18491, '촛대': 18492, '패스트푸드': 18493, '닐패': 18494, '해리스': 18495, '1987년': 18496, '하이바라': 18497, '넨': 18498, '학자': 18499, '인품': 18500, '국토': 18501, '종단': 18502, 'dodl': 18503, '무수': 18504, 'anonymous': 18505, '다잊어': 18506, '범위': 18507, '봣던거': 18508, '포세이돈': 18509, '어드벤쳐': 18510, '친구여': 18511, '따따': 18512, '간음': 18513, '알뜰하다': 18514, '컨트리': 18515, '가스펠': 18516, '톰일': 18517, '장끌': 18518, '가일': 18519, '뮤직': 18520, '부러': 18521, '꺠알같': 18522, '카우프만': 18523, '무정부주의자': 18524, '항일': 18525, '풀림': 18526, '어는': 18527, '패딩턴': 18528, 'imax': 18529, '어럈을때': 18530, '질식사': 18531, '뻗다': 18532, '낙인찍히다': 18533, '왓습니': 18534, '잘봣습니': 18535, 'sigur': 18536, 'ros': 18537, 'festival': 18538, '무책임': 18539, '의전': 18540, 'itf': 18541, '아스팔트': 18542, '콘크리트': 18543, '대자연': 18544, '열기': 18545, '땀방울': 18546, '꽤재밋': 18547, '경제대공황': 18548, '허덕이다': 18549, 'jiff': 18550, '임재범': 18551, 'andrew': 18552, 'mccarthy': 18553, '위버': 18554, '연필': 18555, '명상': 18556, '폭로': 18557, '오경': 18558, '따내다': 18559, '렷기': 18560, '방자전': 18561, '틸다': 18562, '스윈튼': 18563, '괞': 18564, '돌대가리': 18565, '스멀스멀': 18566, '이창훈': 18567, '창훈': 18568, '반일감정': 18569, '장덕': 18570, '손연재': 18571, '시절인연': 18572, '흐믓했': 18573, '스즈키': 18574, '안씨': 18575, '무용': 18576, '나라고': 18577, '경조사': 18578, '돌잔치': 18579, '유색인종': 18580, '소복': 18581, '진입': 18582, '732': 18583, '알랭': 18584, '강추임': 18585, '일본만화': 18586, '미완성': 18587, '도려내다': 18588, '황인식': 18589, '왼플': 18590, '눌물': 18591, '갇동': 18592, '죠아': 18593, '정액': 18594, '걸욕': 18595, '큼은': 18596, '곰신': 18597, '무소': 18598, '뿔': 18599, '스폰지': 18600, '트럼프': 18601, '인터내셔널': 18602, '전망': 18603, '톰히': 18604, '스턴': 18605, '버릇': 18606, '화지': 18607, '서언': 18608, '아르바이트': 18609, '아닥': 18610, '김새론': 18611, '측은하다': 18612, '백지': 18613, '물춤': 18614, '리플렛': 18615, '인원': 18616, 'ㄷㄷㄷㄷㄷㄷㄷㄷ': 18617, '겉모양': 18618, '한국껀': 18619, '쥬세페': 18620, '나토': 18621, '해운대로': 18622, '재밋습니당': 18623, '주영훈': 18624, '박정학': 18625, '하드락': 18626, '애플렉': 18627, '보스턴': 18628, '순진무구': 18629, '험난하다': 18630, '동산': 18631, '일부분': 18632, '뛰어내리다': 18633, '소리굽쇠': 18634, '탑제': 18635, '점좀': 18636, '의안': 18637, '찌증': 18638, '멜라': 18639, '완다': 18640, '차츰': 18641, '소울': 18642, '상생': 18643, '건설': 18644, '찬찬하다': 18645, '살피다': 18646, '우영': 18647, '광도': 18648, '왕정형': 18649, '시라': 18650, '메가티비': 18651, '급진': 18652, '입속': 18653, '치루는일': 18654, '자장면': 18655, '태연하다': 18656, '트랜센더스': 18657, '엑스': 18658, '안드로이드': 18659, '낚일뻔했': 18660, '아홉수': 18661, '재밋습니': 18662, '쾅': 18663, '북촌방향': 18664, '패배하다': 18665, '템빨': 18666, '유리하다': 18667, '정품': 18668, '한어': 18669, '병상': 18670, '급공무원': 18671, '루터킹': 18672, '소용돌이': 18673, '온화하다': 18674, '50등': 18675, '주룩주룩': 18676, '구축': 18677, '법체계': 18678, '무너뜨릴': 18679, '파파로티': 18680, '크리스탈': 18681, '양파': 18682, '껍질': 18683, '버겨': 18684, 'mri': 18685, '음악감독': 18686, '날때': 18687, '빛속': 18688, '피스': 18689, '케랑': 18690, '육아': 18691, '상회': 18692, '스티븐킹': 18693, '프로메슘': 18694, '임의': 18695, '그램': 18696, 'rest': 18697, 'peace': 18698, '태규': 18699, '슈퍼주니어': 18700, '성민': 18701, '은혁': 18702, '려욱': 18703, '기범': 18704, '민권': 18705, '공포소설': 18706, '81년': 18707, '어머님께': 18708, '외할머니': 18709, '니엘': 18710, '로빈후드': 18711, '솝': 18712, '모치': 18713, '끄적': 18714, '도해': 18715, '스무고개': 18716, '나부랭이': 18717, '교집합': 18718, '마운트': 18719, '버논': 18720, '빅맥': 18721, '엄숙하다': 18722, 'tkfalksdmoasdvabaeth': 18723, '고역': 18724, '뽀록': 18725, '때로는': 18726, '음질': 18727, '오페': 18728, '보물상자': 18729, '알받이': 18730, '붕탁들': 18731, '헬런': 18732, '헌트': 18733, '너무짦다': 18734, '제갈공명': 18735, '피바다': 18736, '스반': 18737, '봉하': 18738, '빨아들이다': 18739, '동명': 18740, '레온': 18741, '요호': 18742, '시미': 18743, '파이팅': 18744, '놰': 18745, '부엌': 18746, '스매쉬': 18747, '마우스': 18748, '입관': 18749, '욲껴': 18750, '페런트': 18751, '서사시': 18752, '라고도': 18753, 'soggy': 18754, 'bottom': 18755, 'boys': 18756, '416': 18757, '인숙': 18758, '머징': 18759, '세종대왕': 18760, '싸나이': 18761, '연륜': 18762, '서러움': 18763, '슷비슷비하': 18764, '대로의': 18765, '덱스터': 18766, '파바로티': 18767, '바이슨': 18768, '협력': 18769, '스타차일드': 18770, '주드로': 18771, '타산': 18772, '치토': 18773, '창조주': 18774, '일대': 18775, '망상': 18776, '대담하다': 18777, '금세기': 18778, '뭘더바': 18779, '가납': 18780, '험하다': 18781, '핮메': 18782, '균맨': 18783, '트리스': 18784, '어법': 18785, '밤바': 18786, '정중하다': 18787, '부타': 18788, '황금광시대': 18789, '인격': 18790, '낮음': 18791, '오색': 18792, '빛깔': 18793, '어릴때봣던': 18794, '느꼇엇돈': 18795, 'vudwjaqhrh': 18796, 'shffotsp': 18797, '엄빠': 18798, '강예빈': 18799, '첫경험': 18800, '땟': 18801, '카톨릭': 18802, '그리스도교': 18803, '유일신': 18804, '애국가': 18805, 'sidewall': 18806, '작일': 18807, 'as': 18808, 'always': 18809, '영통': 18810, '윤주희': 18811, '코이츠': 18812, '슬하': 18813, '명연': 18814, '그어렷슬떄': 18815, '부들': 18816, '이옥': 18817, '녈': 18818, '점덤': 18819, '오마이갇': 18820, '전영화라니': 18821, '꼽자': 18822, '전영화라는': 18823, '투톱': 18824, 'thes': 18825, '못습': 18826, '쵝오여': 18827, '처가': 18828, '5초': 18829, '이뻣고': 18830, '보리밭': 18831, '류현경': 18832, '윤태영': 18833, '호준': 18834, '프리랜서': 18835, '어두컴컴하다': 18836, '쩔어요': 18837, '인유': 18838, '천은': 18839, '젝슨': 18840, '투우사': 18841, '임강': 18842, '허정무': 18843, '장외룡': 18844, '고고싱': 18845, '쏟아내다': 18846, '노조': 18847, '임금': 18848, '삭감': 18849, '노조탄압': 18850, '오즈': 18851, '엄포스': 18852, '적남': 18853, '금성': 18854, '마이코': 18855, '도스': 18856, '20150628': 18857, '1418': 18858, '랭크': 18859, '서퍼': 18860, '떡실신': 18861, '1원': 18862, '카라스': 18863, '파이널판타지': 18864, '파장': 18865, '엔별': 18866, '그란돈': 18867, '찰흙': 18868, '깽': 18869, '상쇄': 18870, '스칼렛요한슨': 18871, '키햐': 18872, '레타': 18873, '조던': 18874, '마이클잭슨': 18875, '끈임': 18876, '가재': 18877, '정성환': 18878, 'savage': 18879, 'grace': 18880, '옥빈창': 18881, '게젤': 18882, 'xftm': 18883, '욤': 18884, '핑돕니': 18885, '자평': 18886, '과학의날': 18887, '꾸르잼': 18888, 'doing': 18889, '쪼아쪼': 18890, '롤링': 18891, '스톤즈': 18892, '늬': 18893, '어깨부상': 18894, '케타': 18895, '원화': 18896, '김치전': 18897, '버치': 18898, '수치심': 18899, '죈': 18900, '22': 18901, '터보팬': 18902, '롤러코스터': 18903, '퀵실버': 18904, '잼잼잼': 18905, '메가패스': 18906, '서핑': 18907, '석방': 18908, '명망': 18909, '교제': 18910, '쥴리엣': 18911, '쌩유': 18912, '메기': 18913, '가상세계': 18914, '형법': 18915, '과실치사': 18916, '상해': 18917, '대여섯': 18918, '수천수만': 18919, '지존파': 18920, '쩌네요웰': 18921, '엄지원': 18922, '레지던트': 18923, '이블': 18924, 'rr': 18925, '전채': 18926, 'ddr': 18927, '그랑블루': 18928, '올여름': 18929, 'kokomo': 18930, '루마니아': 18931, '폰타나': 18932, '리츠': 18933, '잼내욘': 18934, '카밀라': 18935, '랔': 18936, '침팬지': 18937, '편의점': 18938, '콘돔': 18939, '나올런': 18940, '녹색': 18941, '됏': 18942, '을지': 18943, '걷기': 18944, '투캇': 18945, '세실리아': 18946, '보랏': 18947, '코제트': 18948, '장터': 18949, '체코': 18950, 'present': 18951, '쌍콤': 18952, '찢기다': 18953, '조곤조곤': 18954, '서강대': 18955, '섥힌': 18956, '박혜련작': 18957, '에손': 18958, '플러': 18959, '재선': 18960, '느겨본': 18961, '킌': 18962, '앤해서웨이': 18963, '전전': 18964, '월렘': 18965, '아리아': 18966, '악담': 18967, '독설': 18968, '대와': 18969, '헌법': 18970, '피고인': 18971, '자청': 18972, '반올림': 18973, '동방': 18974, 'literally': 18975, '백조': 18976, '발레리나': 18977, '여느': 18978, '입금': 18979, '레이토': 18980, '부딫힌': 18981, '감끝': 18982, '스마': 18983, '우인태': 18984, '이광': 18985, '보그': 18986, '도노번': 18987, '빤스': 18988, '스패로우': 18989, '표백제': 18990, '황추생': 18991, '시네마천국': 18992, '극우': 18993, '원리': 18994, '우회': 18995, '고독사': 18996, '생선': 18997, '토머': 18998, '시슬리': 18999, '쥐치': 19000, '페데리코역': 19001, '김진호': 19002, '이인상': 19003, 'ㅋㅋㅋㅋㅋㅋㅋㅋㅋㅋㅋㅋㅋㅋㅋㅋ': 19004, '엉킨': 19005, '타래': 19006, '뭇': 19007, '어줍다': 19008, '투영': 19009, '한결': 19010, '개잼슴': 19011, '순간포착': 19012, '안재욱': 19013, '목요일': 19014, '부남자': 19015, '성범죄': 19016, '집어치우다': 19017, '껀뎅': 19018, '유머러스하다': 19019, '블럭': 19020, '닳다': 19021, '역무': 19022, '최씨': 19023, '제제': 19024, '뽀르뚜': 19025, '뽀르뚜가': 19026, 'kmh': 19027, '릴로': 19028, '활공': 19029, '추후': 19030, '라롸': 19031, '참호': 19032, 'btl': 19033, '스크린쿼터': 19034, '불쌍타': 19035, '웨이터': 19036, '봣는': 19037, '못하겟': 19038, '넷': 19039, '지오': 19040, '수련할떄': 19041, '싸울떄': 19042, '놀리다': 19043, '쏠솔': 19044, '씨끄럽다': 19045, '평평': 19046, '빳': 19047, '통신': 19048, '퍼팩트': 19049, '예인': 19050, '운전기사': 19051, '정기용': 19052, '인문학': 19053, '큼큼': 19054, '외톨이': 19055, '미치코': 19056, '톡특': 19057, '팬됫는데': 19058, '팅': 19059, '멘마': 19060, '오큘러스': 19061, '빗대다': 19062, '재량': 19063, '소랍': 19064, '아프가니스탄': 19065, '스크루볼': 19066, '억배': 19067, '애달프다': 19068, '욕질': 19069, '챔피언스리그': 19070, '우대': 19071, '갈락티코': 19072, '진솔하다': 19073, '박제가': 19074, '깜작': 19075, '휘황': 19076, '수식어': 19077, '맘속': 19078, '태아': 19079, '발달': 19080, '여성시대': 19081, '유서': 19082, '돌진': 19083, 'ㅜㅋ': 19084, '탯껏': 19085, '티아': 19086, '훈훈': 19087, '다니엘헤니': 19088, '멋쮜': 19089, '펀하다': 19090, '대담': 19091, '임해': 19092, '드라들': 19093, '보이스': 19094, '샤우팅할때': 19095, '해송': 19096, '런데': 19097, '자욱하다': 19098, '밤하늘': 19099, '초승달': 19100, '뚜렸하': 19101, 'mate': 19102, '34년': 19103, '929': 19104, '하기는': 19105, '어벙벙햇다쪽': 19106, 'ㅃ': 19107, '악의축': 19108, '일본해': 19109, '평준화': 19110, '슬펏다': 19111, '로리': 19112, '귀욤': 19113, '처음처럼': 19114, '렘수면': 19115, '이라든지': 19116, '숙지': 19117, '실질': 19118, '얙션': 19119, '그레고리': 19120, '펙': 19121, '펄펙': 19122, '하리수': 19123, '우르르': 19124, '바협': 19125, '발버둥': 19126, '암담하다': 19127, '해악': 19128, '거렸': 19129, '방울방울': 19130, '20달러': 19131, '쿠션': 19132, '스트레이트': 19133, '유용하다': 19134, '번지': 19135, '인생살이': 19136, '데니스강': 19137, '독서': 19138, '클레어': 19139, '환풍기': 19140, '악조건': 19141, '동구': 19142, '짱짱하다': 19143, '충청도': 19144, '변수': 19145, '굼뜰': 19146, '코베': 19147, '총각': 19148, '안재모': 19149, '105분': 19150, 'arco': 19151, 'stars': 19152, '데드캠프': 19153, '쌘데': 19154, '이태석': 19155, '김일성화': 19156, '와장창': 19157, '속인': 19158, '훼': 19159, '이크': 19160, '부터끝나는시간까지어느새내얼굴에미소가지어져있다너무웃고있어서팔자주름이생길지경이지만정말행복하고기분좋은날이다오래오래해주세요': 19161, '고여': 19162, '노론': 19163, '심환지': 19164, '달관': 19165, '최종원': 19166, '재방또': 19167, '와이즈': 19168, '분뭐': 19169, '색계': 19170, '이화여대': 19171, 'ecc': 19172, '저릿하다': 19173, '비아그라': 19174, '대게': 19175, '쓰리데이즈': 19176, '프로즌': 19177, '16시간': 19178, '8시간': 19179, '전방': 19180, '햇넹': 19181, '튼튼하다': 19182, '애린': 19183, '붅': 19184, '신주쿠': 19185, '방더': 19186, '주보': 19187, '경성': 19188, '학대받다': 19189, '변혁': 19190, '헤드윅': 19191, '프레스톤': 19192, '능숙하다': 19193, '야산': 19194, '리조': 19195, '심쿵하다': 19196, '의대': 19197, '하임': 19198, 'marsquerade': 19199, '복합': 19200, '포트만': 19201, '퍼펙': 19202, '어른스럽다': 19203, '명감': 19204, '반달곰': 19205, '400만달러': 19206, '차근차근': 19207, '카지노': 19208, '드라이버': 19209, '휴전': 19210, '참전용사': 19211, '난도질': 19212, '무체색': 19213, '체색': 19214, '어이구': 19215, '일렉트라': 19216, '대하드라마': 19217, '훨잼나': 19218, '또볼': 19219, '간장': 19220, '와호장룡': 19221, '접점': 19222, '팔콘': 19223, '하쿠': 19224, '할머님': 19225, '명암': 19226, '연구개발': 19227, '옛말': 19228, '물돌': 19229, '시끌벅적': 19230, '주군의태양': 19231, 'detail': 19232, '잼께봣': 19233, '이다희': 19234, 'ㄲㅔ': 19235, '다케': 19236, '궁굼한데': 19237, '무숙자': 19238, 'name': 19239, 'nobody': 19240, '2500원': 19241, '여주대': 19242, '만큼이라도': 19243, '김별': 19244, '송하윤': 19245, '데칼코마니': 19246, '이지났는데아직도': 19247, '조선총잡이': 19248, '욯': 19249, '386': 19250, '우후': 19251, '세레나': 19252, '시트론': 19253, '유리카': 19254, '캐락터': 19255, '쟝': 19256, '벨몽드': 19257, '마론': 19258, '코네': 19259, '박용하': 19260, '이필립': 19261, '안미나': 19262, 'before': 19263, 'fall': 19264, '털털': 19265, '줌마': 19266, '움악': 19267, '뉴하트': 19268, '로얄패밀리': 19269, '킬힐': 19270, '가톨릭': 19271, '켄드릭': 19272, '스텀': 19273, '당돌하다': 19274, '쿼리': 19275, '손쉽다': 19276, '등골': 19277, '에스비에스': 19278, '무르익': 19279, '보검': 19280, '수요일': 19281, '식구': 19282, '잔다르크': 19283, '청혼': 19284, 'shi': 19285, 'houjuns': 19286, 'acting': 19287, '냉엄': 19288, '마셰코': 19289, '블랭키': 19290, '천외': 19291, '든든하다': 19292, '순환선': 19293, '인굿': 19294, '컴퍼니': 19295, '작이라니': 19296, '식객': 19297, '포자': 19298, '사료': 19299, '점단': 19300, '샛기들': 19301, '잘봣으': 19302, '소용': 19303, 'usb': 19304, '안봣': 19305, '때무': 19306, '대루': 19307, '빠젓슴': 19308, '협오': 19309, '군자': 19310, '부트캠프': 19311, '에마': 19312, '얘쁘': 19313, '가마니': 19314, '남북': 19315, '팻시켄싯': 19316, '애덤스': 19317, '007시': 19318, '리즈인데': 19319, '박명수': 19320, '문메이슨': 19321, '강별': 19322, '재밋습': 19323, '이만원': 19324, '뿔테': 19325, '기럭지': 19326, '번울': 19327, '망각': 19328, '인재': 19329, '가화': 19330, '삼보': 19331, '풍년': 19332, '서초패왕': 19333, '수호전': 19334, '임충': 19335, '노지심': 19336, '파렴치': 19337, '오명': 19338, '철러': 19339, '좋겧어': 19340, '성남': 19341, '지연우': 19342, '잼카': 19343, '캌카카캌': 19344, '십자': 19345, '라잉': 19346, '뻬': 19347, '됫어': 19348, '쥬르륵': 19349, '영국인': 19350, 'hikaru': 19351, 'wakana': 19352, '코디': 19353, '밋따': 19354, '나츠오': 19355, '주앙': 19356, '버틀러': 19357, '유승기': 19358, '퍼시픽': 19359, '패럴': 19360, '섀넌': 19361, '현역': 19362, '적막하다': 19363, '현세': 19364, '시베리아': 19365, '민족성': 19366, '친척': 19367, '대의감성만을자극하는복고물이아니라사랑가족애우정등을모두아루르는걸작': 19368, '알제': 19369, '트럼펫': 19370, '한우': 19371, '숯불': 19372, '차분해지다': 19373, '소윤': 19374, '산이': 19375, '잘뽑다': 19376, '개줌': 19377, '나영': 19378, '신임': 19379, '모히칸': 19380, '지구과학': 19381, '과목': 19382, '치과의사': 19383, '눈꺼풀': 19384, '벗겨지다': 19385, '삷': 19386, '아합': 19387, '다낚여': 19388, '눈사람': 19389, '베르톨': 19390, '루치': 19391, '퐁네프연': 19392, '둘째딸': 19393, '베풀다': 19394, '박소연': 19395, '법의학자': 19396, '법의학': 19397, '삼포': 19398, '백화': 19399, '바둑이': 19400, '영동': 19401, '비하치': 19402, '디올': 19403, '명석하다': 19404, '데스노트': 19405, '아른거리다': 19406, '고구마': 19407, '멕여놓': 19408, '쌍피': 19409, '몹시': 19410, '수저': 19411, '저떻다': 19412, '갑동': 19413, 'pct': 19414, '바랬다': 19415, '그녈': 19416, '흐륵': 19417, '륵규': 19418, '흐허': 19419, '젤리': 19420, '사설': 19421, '불상': 19422, '용쟁호투': 19423, '조달': 19424, '쫄리': 19425, '분원': 19426, '삽입곡': 19427, '우루과이': 19428, '이원근': 19429, '눈웃음': 19430, '안바꿧으면조켓다': 19431, '격언': 19432, '쾌': 19433, '남훈': 19434, 'httpwwwpodbbangcomch': 19435, '7286': 19436, '102': 19437, '서인영': 19438, '줄때': 19439, '도꺼를': 19440, '08년': 19441, '명료': 19442, '않으셧으': 19443, '신시티': 19444, '슬프닼': 19445, '무상함': 19446, '전예': 19447, '트랜센던스': 19448, '잉거': 19449, '엘레나': 19450, '자품': 19451, '뉴올리언스': 19452, '웰매': 19453, '누적': 19454, '17000': 19455, '톨스토이': 19456, '사상가': 19457, '소로': 19458, '이소라': 19459, '진보면': 19460, '중드중': 19461, 'vdo': 19462, '닥패': 19463, '아쉅다': 19464, '사신': 19465, '자폐증': 19466, '참뜻': 19467, '조용원': 19468, '이가흔': 19469, '웨딩싱어': 19470, '햇으': 19471, '누런': 19472, '교장': 19473, '추종자': 19474, '꼭꼭': 19475, '알겡': 19476, '이중주': 19477, '저스틴': 19478, '세븐데이즈': 19479, '활짝': 19480, '세탁기': 19481, '억눌리다': 19482, '관음': 19483, '골목길': 19484, '방과': 19485, '입자': 19486, '농후': 19487, '통렬': 19488, '비단': 19489, '비평가': 19490, '쩡': 19491, '1001': 19492, '불멸의이순신': 19493, '뱁새': 19494, '황새': 19495, '디에고': 19496, '이뿌넹': 19497, '스쿨오브락': 19498, '죠앟씀': 19499, '졔이비흥해': 19500, '효자': 19501, '효녀': 19502, '기미': 19503, '월스트리트': 19504, '거란': 19505, '하르뎀': 19506, '은총': 19507, '고품격': 19508, '환담': 19509, '진차': 19510, '중주': 19511, '어후': 19512, '새정치': 19513, '통진당': 19514, '정의당': 19515, '종북좌파': 19516, '쵝쵝쵝오': 19517, '무협소설': 19518, '46억년': 19519, '기울어지다': 19520, '조심스럽다': 19521, '지기': 19522, '리버풀': 19523, '어플': 19524, '쫘악': 19525, '술작': 19526, '난폭': 19527, '안봣는데': 19528, '구리지': 19529, '하우': 19530, '여드름': 19531, '재밋었는데': 19532, '논리성': 19533, '웅거러': 19534, '핑크색': 19535, '인중': 19536, '기강': 19537, '숙성': 19538, '마개': 19539, '마넌': 19540, '유병재': 19541, '청초하다': 19542, '눈믈': 19543, '티셔츠': 19544, '수수하다': 19545, '이뻣으': 19546, '슬펏던': 19547, '장옥정': 19548, '다녀왓습니': 19549, '이귀': 19550, '제프': 19551, '더티': 19552, '도즌': 19553, '힛걸': 19554, '게락': 19555, '고집쟁이': 19556, '아득하다': 19557, '울엇음': 19558, '부즘': 19559, '북극': 19560, '에스엠': 19561, '자원': 19562, '이었습니다': 19563, '엮이더': 19564, '구즈만': 19565, '버트': 19566, '레이놀즈': 19567, '못땠네': 19568, '웨스트': 19569, '웍': 19570, '샬레': 19571, '연상연하': 19572, '또르르': 19573, '인방': 19574, '개강': 19575, '깍지': 19576, '안재훈': 19577, 'failures': 19578, 'preparing': 19579, '담요': 19580, '강화도': 19581, '쪽문': 19582, '웅대림': 19583, '조종간': 19584, '오연서': 19585, '뱅벵': 19586, '오드리햅번': 19587, 'j': 19588, 'y': 19589, '다미': 19590, '프레스티지': 19591, '생리': 19592, '상여': 19593, '밨던': 19594, '굿윌헌팅': 19595, '듯더': 19596, '이맘': 19597, '유화': 19598, '손때': 19599, '판권': 19600, 'serial': 19601, 'killer': 19602, '펄펄': 19603, '관료': 19604, '계약서': 19605, '이해해': 19606, '남북전쟁': 19607, '고흐': 19608, '팅기다': 19609, '빗나가다': 19610, '황석': 19611, '젓갈': 19612, '천벌': 19613, '이장님': 19614, '여로': 19615, '한가롭다': 19616, '격높': 19617, '테오': 19618, '창동': 19619, '박효신': 19620, '완젼조': 19621, '정용화': 19622, '무뚝뚝하다': 19623, '보다야': 19624, '758': 19625, '분별': 19626, '온전': 19627, '다우': 19628, '끄덕이다': 19629, '에도피해자들은죄지은듯평생씻을수없는삶에서고통받고살아갑니다': 19630, '됫을까': 19631, '범죄물': 19632, '푹푹': 19633, '원동력': 19634, '전영록': 19635, '민사': 19636, '잉글랜드인': 19637, '대서양': 19638, '신대륙': 19639, '토박이': 19640, '164분': 19641, '스편': 19642, '떔': 19643, '졈': 19644, '지시': 19645, '꼭빵터': 19646, '박선영': 19647, '셧던': 19648, '부귀': 19649, '발짓': 19650, '때껏': 19651, '정령': 19652, '쿤이': 19653, '투피엠': 19654, '웃겻다': 19655, '김상중': 19656, '찮케': 19657, '밥딜런': 19658, '에이타': 19659, '캬약': 19660, '황인': 19661, '뢰': 19662, '찬옥': 19663, '송병준': 19664, '는가': 19665, '스텔라': 19666, '보대': 19667, '표함': 19668, '어처구니없이': 19669, '흠칫': 19670, '생체': 19671, '못봣': 19672, '적나라': 19673, '환전': 19674, '중시': 19675, '백광현': 19676, '청룡영화상': 19677, '최우수': 19678, '적적하다': 19679, '재및': 19680, '따른': 19681, '신나요': 19682, '덕심': 19683, '쥐뿔': 19684, '화목': 19685, '친환경': 19686, '리메작임': 19687, '예티': 19688, '이탈리안잡': 19689, 'ghdz': 19690, '눈코뜰새': 19691, '끝낫': 19692, '이탈리아영화': 19693, '명인': 19694, '훌룡하': 19695, '평평하다': 19696, '비온': 19697, '눈온': 19698, '하명중': 19699, '청렴': 19700, '사드': 19701, '심전': 19702, '마츠모토준': 19703, '니나': 19704, '훨덜': 19705, '어두워지다': 19706, 'syksyksy': 19707, 'summer': 19708, '1981년': 19709, '머큐리': 19710, '잇엇음': 19711, '단도': 19712, '신관': 19713, '재정': 19714, '강화': 19715, '대길': 19716, '덕햇': 19717, '운남': 19718, '철호철호': 19719, '요철': 19720, '진시황': 19721, '영정': 19722, '미끼': 19723, '이심결': 19724, '계명': 19725, '병동': 19726, '로뎅': 19727, '샵섁기들': 19728, '라이오넬': 19729, '잔윌': 19730, '아이참': 19731, 'roki': 19732, '79': 19733, 'natecom': 19734, '독차지': 19735, '계속계속': 19736, '중략': 19737, '왕비': 19738, '안봣던': 19739, '다봣으': 19740, '괜찬긴하': 19741, '오진희': 19742, '이어졋으': 19743, '오창민': 19744, '군사작전': 19745, '꽤볼': 19746, '미필': 19747, '리틀': 19748, '마이티': 19749, '철철철': 19750, '세익스피어': 19751, '이개': 19752, '장기판': 19753, '헬렌': 19754, '미렌': 19755, '나침판': 19756, '마약범': 19757, '검거': 19758, '명계남': 19759, '최첨단': 19760, '자네': 19761, '제다이': 19762, '환원': 19763, '측근': 19764, '권태': 19765, '장벽': 19766, '에이프릴': 19767, '포경선': 19768, '만선': 19769, '연봉': 19770, '벨라도나': 19771, '눈부심': 19772, '다이아': 19773, '찡그리다': 19774, '울먹이다': 19775, '봤넹': 19776, '사즌': 19777, '테닥': 19778, '대재앙': 19779, '라미': 19780, '쉼표': 19781, '댕김': 19782, '역기': 19783, '식인상어': 19784, '남여': 19785, '병인': 19786, '앜': 19787, 'ㅎㅎㅎㅎㅎㅎㅎ': 19788, '번키': 19789, '에게라도': 19790, '봉테일': 19791, '얌전하다': 19792, '육군': 19793, '장변': 19794, '점란좀': 19795, '더무': 19796, '도어즈': 19797, '당대': 19798, '점검': 19799, '애플': 19800, '스즈미': 19801, '하루히': 19802, '소실': 19803, '녹차': 19804, '옥에티': 19805, '급니': 19806, '에미넴': 19807, '유하': 19808, '보링': 19809, '고속버스': 19810, 'strange': 19811, 'film': 19812, 'isnt': 19813, '병점': 19814, '양귀비': 19815, '현준': 19816, '캉테': 19817, '말코': 19818, '효느': 19819, '묵념': 19820, '눅눅하다': 19821, '여름날': 19822, '발레리': 19823, '티카': 19824, '볼뻔': 19825, '아랏시노': 19826, '루니': 19827, '주군': 19828, 'he': 19829, '의술': 19830, '리엘': 19831, '여행기': 19832, '테크': 19833, '화교': 19834, '세운': 19835, '때뮨': 19836, '창살': 19837, '에서조차': 19838, '핏물': 19839, '예여': 19840, '째즈': 19841, '신코': 19842, '동수': 19843, '최동훈': 19844, '시집가다': 19845, '까루': 19846, '사단': 19847, '선량하다': 19848, '환멸감': 19849, '촌철': 19850, '코러스': 19851, '트이다': 19852, '톰크로즈': 19853, '구성원': 19854, '당사자': 19855, '한진우': 19856, '대낮': 19857, '송포유': 19858, '공동체': 19859, '은경': 19860, '스폰지밥': 19861, '천생': 19862, '헤엄': 19863, '알도': 19864, '병희': 19865, '나날이': 19866, '그저께': 19867, '개꿀': 19868, '하앜': 19869, '고막': 19870, '뇌구': 19871, '쪽국': 19872, '매리': 19873, '비디오테이프': 19874, '뛰어나오다': 19875, '오웬': 19876, '윌슨': 19877, '넌지시': 19878, '믿음직하다': 19879, '욜라': 19880, '버러': 19881, '분포도': 19882, '킹스크로스': 19883, '덤블도어': 19884, '붐씨느': 19885, '가셧음': 19886, '가까이되는거같은데': 19887, '씬나다': 19888, '에서와는': 19889, '랭크될': 19890, '이뻣다': 19891, '다라니': 19892, '쉘위댄스': 19893, '허비': 19894, '네이션': 19895, '어딘': 19896, '잊어버리다': 19897, '펑위옌': 19898, '화로': 19899, '성교': 19900, '독특': 19901, '이색': 19902, '빅스': 19903, '깡촌': 19904, '젼': 19905, '병실': 19906, '산호수': 19907, '원내': 19908, '장항': 19909, 'ic': 19910, '너비': 19911, '많턴데': 19912, '우에다': 19913, '힌유': 19914, '밑힌놈들': 19915, '노어이': 19916, '탄복': 19917, '서일': 19918, '베인': 19919, '첩뇬': 19920, '잔해': 19921, '호빗': 19922, '원정': 19923, '우도': 19924, '베트멘': 19925, '집사': 19926, '코빅': 19927, '헸을것': 19928, '괞찮네': 19929, '중배': 19930, '원시인': 19931, '자스민': 19932, '양탄자': 19933, '아이캔': 19934, '쇼유': 19935, '꺠우': 19936, '1700': 19937, '김재효': 19938, '강리나': 19939, '아따': 19940, '이기선': 19941, '윗트': 19942, '연극배우': 19943, '샷': 19944, '박희': 19945, '일지매': 19946, '건달': 19947, '쌍칼': 19948, '심장이뛴다': 19949, 'fockrers': 19950, 'jot': 19951, '비종': 19952, '교인': 19953, '생뚱': 19954, '이십': 19955, '루프': 19956, '도넘었지만': 19957, '859': 19958, '한민족': 19959, '망은': 19960, '어미': 19961, '웃프다': 19962, '인과응보': 19963, '문보령': 19964, '정한영': 19965, '완비': 19966, '일전': 19967, '위험천만': 19968, '피똥': 19969, '메이지': 19970, '유신': 19971, '사쓰마': 19972, '도쿠가': 19973, '쇼군': 19974, '이시언': 19975, '김재현': 19976, '마시기': 19977, '쵸콜렛': 19978, '서강준': 19979, 'ㅎㅎㅎㅎㅎㅎㅎㅎㅎㅎ': 19980, '움속': 19981, '나후': 19982, '아스카': 19983, '정길': 19984, '권력자': 19985, '맹종하': 19986, '이영진': 19987, '김민선': 19988, '뉴문': 19989, '친형': 19990, '멸망설': 19991, '잏': 19992, '박일': 19993, '1997': 19994, '대화면': 19995, '다중인격': 19996, '김영광': 19997, '경수진': 19998, '초로': 19999, '창백하다': 20000, '쵝오발킬': 20001, '데킬라': 20002, '여한': 20003, '맥아더': 20004, '사랭해': 20005, '노미네이트': 20006, '성금': 20007, '드뷔시': 20008, '달빛': 20009, '비드': 20010, '레곤': 20011, '3위안': 20012, '인스턴트': 20013, '크리스티나': 20014, '캐스퍼': 20015, '5000만': 20016, '틈나다': 20017, '486': 20018, '슈왈제네거': 20019, '급무': 20020, '이블데드': 20021, '샐러맨더': 20022, '나뭇가지': 20023, '밀가루': 20024, '버선': 20025, '쇠똥': 20026, '주정뱅이': 20027, '데이터': 20028, '엘리시움': 20029, '있슴': 20030, '잼났슴': 20031, '우먼': 20032, '주랑': 20033, '텐션': 20034, '나왓습': 20035, '집념': 20036, '킹왕짱': 20037, '현명': 20038, '마르커스': 20039, '쥰세이': 20040, '정소추': 20041, '주례': 20042, '실사영화': 20043, '장선': 20044, '안젤로': 20045, '조건반사': 20046, '부터의': 20047, '왕호': 20048, '임은주': 20049, '괞챦더군': 20050, '노희경': 20051, '812': 20052, '앳킨스': 20053, '피프때': 20054, '봣었는데': 20055, '강냉이': 20056, '장난없다': 20057, 'sp': 20058, '2050년': 20059, '보쌈': 20060, '재원': 20061, '나꾸다': 20062, '못갓': 20063, '중위': 20064, '키취': 20065, '분가': 20066, '구출': 20067, '배낭': 20068, '짊어지': 20069, '내딛다': 20070, '육회': 20071, '법도': 20072, '뭣때문': 20073, '스필': 20074, '내딸서영이': 20075, '정막': 20076, '무정도시': 20077, '짧게하다': 20078, '공쿠르상': 20079, '수상한': 20080, '소닉붐': 20081, '유권자': 20082, '선거': 20083, '양면': 20084, '약관': 20085, '에이프럴': 20086, '수합': 20087, '부캡': 20088, '통괘': 20089, '심오': 20090, '2시': 20091, '붐비다': 20092, '코엑스': 20093, '뭍힐때': 20094, '심영': 20095, '처절': 20096, '힌': 20097, 'doctor': 20098, 'broadcasted': 20099, '우러': 20100, '본심': 20101, '자꾸나': 20102, '핫산': 20103, '몇장': 20104, '두근': 20105, 'ㅎㅎㅎㅎㅎㅎ': 20106, '온리유': 20107, 'us': 20108, '스벤': 20109, '컴버': 20110, '배치': 20111, '빈더': 20112, '기말고사': 20113, '낙오': 20114, '기적처럼': 20115, '손톱': 20116, '해답': 20117, '수주': 20118, '그렁': 20119, '아따맘마': 20120, '귀척': 20121, '동진': 20122, '어쩜니들': 20123, '못찿을꺼': 20124, '사이먼': 20125, 'ㅋㅋㅁ': 20126, '장일': 20127, '이준혁': 20128, '춘항뎐': 20129, '설특집': 20130, '틀다닠': 20131, '프리미어리그': 20132, '주전': 20133, '젤루': 20134, '호반': 20135, 'hearts': 20136, '같인': 20137, '탈바꿈': 20138, '깨작깨작': 20139, '은뭐': 20140, '만수무강': 20141, '함재': 20142, '2019': 20143, '입문': 20144, '이선아': 20145, '니다': 20146, '플레이스테이션': 20147, '후지이': 20148, '레이드': 20149, '맨몸': 20150, '숨결': 20151, '식탁': 20152, 'ㅠㅜㅠ': 20153, 'kkw': 20154, '1120': 20155, '쉐어': 20156, '원년': 20157, '장갑': 20158, '군화': 20159, '웅자': 20160, '반려견': 20161, '두텁다': 20162, 'case': 20163, '렛': 20164, '미싱': 20165, '수백향': 20166, '노르망디': 20167, '상륙작전': 20168, '벚나무': 20169, '벚꽃': 20170, '쇼헤이': 20171, '재밋숩니': 20172, '이제일': 20173, '임시완': 20174, '김지원': 20175, '씨야': 20176, '133분': 20177, 'zzzz': 20178, '하수': 20179, '용품': 20180, '하녀': 20181, '나영희': 20182, '김지미': 20183, '콩코드기': 20184, '속출': 20185, '소호': 20186, '왕중': 20187, '힌번씩': 20188, '크메르루주': 20189, '프란': 20190, '1979년': 20191, '진실성': 20192, '재밋는듯': 20193, 'ㄷㄷㄷㄷㄷㄷㄷㄷㄷㄷㄷㄷㄷㄷㄷㄷㄷㄷ': 20194, '자산': 20195, '물정': 20196, '석판': 20197, '탈출기': 20198, '옥체': 20199, '태상': 20200, '연우진': 20201, '요타': 20202, '지각': 20203, '예진': 20204, '휘거': 20205, '주부': 20206, '어구': 20207, '해빙': 20208, '웅역': 20209, '곽': 20210, '무쟈비하': 20211, '밀접하다': 20212, '공공재': 20213, '빅딜': 20214, '통치': 20215, '부도덕하다': 20216, '요금인상': 20217, '주노': 20218, '자본가': 20219, '수탈': 20220, '455': 20221, 'space': 20222, 'oddity': 20223, '김조광수': 20224, '뚝심': 20225, '제나': 20226, '앗차': 20227, '지휘': 20228, 'httpmovienavercommoviebimireviewreadnhncode': 20229, '100987': 20230, 'nid': 20231, '3431254': 20232, 'tab': 20233, '황금기': 20234, '인천': 20235, '철수': 20236, '넉': 20237, '야자나무': 20238, '진짲': 20239, '도정': 20240, '임상옥': 20241, '바라나시': 20242, '침범': 20243, 'way': 20244, '주무시다': 20245, '변색': 20246, '탄광': 20247, '마틸다': 20248, '단계': 20249, '역순': 20250, '행적': 20251, '송호': 20252, '괘안쿠': 20253, '누벨바그': 20254, '콸콸': 20255, '동현': 20256, '감수': 20257, '상현': 20258, '샴쌍둥이': 20259, '자백': 20260, '취준생들': 20261, '사회생활': 20262, '카를로': 20263, '문외한': 20264, '자장가': 20265, '우욱': 20266, '직도': 20267, '능금': 20268, '458': 20269, '김형규': 20270, '이양': 20271, '졀': 20272, '나전': 20273, '어쌔신': 20274, '쩌네': 20275, '수학여행': 20276, '가로등': 20277, '비하인드': 20278, '젛겠어': 20279, '쫄깃쫄깃': 20280, '곤지': 20281, '손현': 20282, '월척': 20283, '드팔마': 20284, '델피': 20285, '쇼생': 20286, '크보': 20287, '괘찮': 20288, '스포츠영화': 20289, '올드먼': 20290, '곤조': 20291, '바랬어': 20292, '철두철미': 20293, '비바람': 20294, '신영화': 20295, '강잠': 20296, '요물': 20297, '미완': 20298, '음양사': 20299, '히데아키': 20300, '보이즈': 20301, '도참': 20302, '소쟈': 20303, '격었': 20304, '도라서': 20305, '관가': 20306, '꾸리다': 20307, '소홀하다': 20308, '1959': 20309, '벤허': 20310, '비걸': 20311, '한영환': 20312, '내딸': 20313, '고향이': 20314, '똘똘이': 20315, '내재': 20316, '나단': 20317, '하늘색': 20318, '글램락': 20319, '가늠': 20320, '고고학자': 20321, '스타일리시': 20322, '훌룡한류': 20323, '독재자': 20324, '매니악': 20325, '체질': 20326, '단번': 20327, '깨트린': 20328, '후리다': 20329, '섻쉬': 20330, '존예': 20331, '레오나르도': 20332, '윌버그': 20333, '투지': 20334, '이조': 20335, '에어울프': 20336, '성탄': 20337, '섭섭최': 20338, '프라이데이': 20339, 'miracle': 20340, 'andes': 20341, '할리웃': 20342, '거볼때': 20343, '번봣': 20344, '괸찮': 20345, '파리대왕': 20346, '부대끼다': 20347, '표때기': 20348, '에볼루션': 20349, '케온': 20350, '뉴잉글랜드': 20351, '단풍': 20352, '돌쇠': 20353, 'kimd': 20354, '익명성': 20355, '생산': 20356, '별명': 20357, '계몽': 20358, '계몽영화': 20359, '다음으로': 20360, '근접하다': 20361, '긴가민가하다': 20362, '느님': 20363, 'ㅜㅜㅜㅜㅜㅜㅜㅜㅜㅜㅜㅜㅜㅜㅜㅜㅜㅜㅜㅜㅜㅜㅜㅜㅜㅜㅜ': 20364, '씨트콤': 20365, '아릿하다': 20366, '이세나': 20367, '이마트': 20368, '나도초능러': 20369, '엽권': 20370, '엄한듯': 20371, '깽깽': 20372, '아카네': 20373, '개도국': 20374, '여론': 20375, '뒷북': 20376, '67년': 20377, '와전': 20378, '헤이엑': 20379, '평행이론': 20380, '호야': 20381, '미고': 20382, '단원': 20383, '비즈': 20384, '팔로': 20385, '낮술': 20386, '법죄': 20387, '티슈': 20388, '뭉치': 20389, '체리': 20390, '반공': 20391, '손노리': 20392, '벵상뻬레': 20393, '순서대로': 20394, '주작': 20395, '폐륜이엿을때': 20396, '면알': 20397, '스타카토': 20398, '내사': 20399, '알리샤': 20400, '못데': 20401, '서서': 20402, '미국사': 20403, '쩌는거임': 20404, '신해철': 20405, '현영은': 20406, '차출': 20407, '삼청교육대': 20408, '됫음': 20409, '마고': 20410, '진찌재밋어용': 20411, '이유비': 20412, '왤케이쁨': 20413, '갓파': 20414, '섭섭': 20415, '띵똥': 20416, '무명시절': 20417, '폴포츠': 20418, '금욕': 20419, '롭도': 20420, '안드레아스': 20421, '크리스트': 20422, '돌파구': 20423, '명중': 20424, '86': 20425, '분방송은': 20426, 'whole': 20427, 'new': 20428, '우등': 20429, '압살': 20430, '윤윤제': 20431, '나디아': 20432, '위협': 20433, '칭송': 20434, '아모레': 20435, '페로스': 20436, '길리엄': 20437, '라무': 20438, '해운대': 20439, '마린시티': 20440, '층곧': 20441, '완공': 20442, '짜장면': 20443, '박통': 20444, '난제': 20445, '소신': 20446, '껄끄럽': 20447, '그루폰': 20448, '반값': 20449, 'httpiamkingmeookeez': 20450, '캐롤라인': 20451, '댄싱': 20452, '다듬어지다': 20453, '안방': 20454, '이되어가는영화네요': 20455, '테레비': 20456, '프로펠러': 20457, '굿뚜': 20458, '아토스': 20459, '루이': 20460, '냉기': 20461, '서리다': 20462, '빈민': 20463, '길티': 20464, '크라운': 20465, '이노리': 20466, '성준': 20467, '펄': 20468, '글리터': 20469, 'everybody': 20470, 'deserves': 20471, 'fresh': 20472, 'start': 20473, 'every': 20474, 'once': 20475, 'while': 20476, '알록달록하다': 20477, '느지막': 20478, '너울': 20479, '회오리바람': 20480, '은막': 20481, '뒤엎어놓': 20482, '피톤': 20483, '치드': 20484, '산책': 20485, '정성껏': 20486, '파수': 20487, '친자': 20488, '페어리테일': 20489, '코끝': 20490, '보물섬': 20491, '유채영': 20492, '코아티': 20493, '츄이': 20494, '묵비권': 20495, '애블린역': 20496, '버킨': 20497, '헬땜': 20498, '호경': 20499, '주희': 20500, '철룡': 20501, '화풍': 20502, '괴랄함': 20503, '자폭': 20504, '슈러더': 20505, '주근깨': 20506, '늦': 20507, '같아욤': 20508, '컴': 20509, '개전': 20510, '파트리스': 20511, '르꽁트': 20512, '뭣모르': 20513, '계영': 20514, '이승': 20515, '저승': 20516, '후관': 20517, '그을리다': 20518, '추진': 20519, '1500': 20520, '지저스': 20521, '힣히히헤': 20522, '재밋게봣음': 20523, '맨션': 20524, '인테리어': 20525, '세컨': 20526, '좉같': 20527, '알티': 20528, '농촌': 20529, '털석': 20530, '주저앉다': 20531, '굿굿굿굿': 20532, '박동': 20533, '횽님': 20534, '디엠': 20535, '없넼': 20536, '로멘': 20537, '하시모토': 20538, '누군데': 20539, '채색': 20540, '기광': 20541, '사강': 20542, '94': 20543, '프렌치': 20544, '커넥션': 20545, '언론인': 20546, '이간': 20547, '견해': 20548, '시립': 20549, '최성국': 20550, '남미영': 20551, '첼린져': 20552, 'srt': 20553, '황혼': 20554, '뚜렷': 20555, 'dude': 20556, '한수연': 20557, '기행': 20558, '실웃': 20559, '오기': 20560, '로브': 20561, '꿈꾸웠던': 20562, '방송사': 20563, '가시도': 20564, '인간중독': 20565, '으로써는': 20566, '수영': 20567, '젤로': 20568, '아기자기': 20569, '효언니': 20570, '콧': 20571, '뀌면': 20572, '뻐기다': 20573, '자켓': 20574, '25일': 20575, '재방삼': 20576, '방모': 20577, '박서준': 20578, '둑흔둑흔': 20579, '애국자': 20580, '업주': 20581, '전쟁씬': 20582, '지창욱': 20583, '괜스레': 20584, '영롱하다': 20585, '밝아지다': 20586, '오감': 20587, '내기억': 20588, '은꼴': 20589, '해탈': 20590, '미자': 20591, '유쾨하': 20592, '팬서비스': 20593, '버니': 20594, '우로보로스': 20595, '윈': 20596, '강츄': 20597, '방산': 20598, '식물': 20599, '틱장애': 20600, '뒤엎는': 20601, '태현': 20602, '서현': 20603, '격차': 20604, '로드리게스': 20605, '비장': 20606, '복구': 20607, '소에서': 20608, '성용': 20609, '렐라': 20610, '잘봣는데굿': 20611, '차승민': 20612, '애슬리': 20613, '불투명하다': 20614, '사필귀정': 20615, '걘적': 20616, '원문': 20617, '츠비': 20618, '을찾아다녓다는': 20619, '마직': 20620, '까뜨린느': 20621, '문하': 20622, 'somewhere': 20623, '아라시': 20624, '스트로베리': 20625, '쇼트': 20626, '케이크': 20627, '조병': 20628, '김희수': 20629, '어뜩하다': 20630, '별똥별': 20631, '률': 20632, 'fish': 20633, '잼꿀잼': 20634, '지팡구': 20635, '지산': 20636, '태풍': 20637, '우리말': 20638, '재탄생': 20639, '폭스': 20640, '바캉스': 20641, '무역': 20642, '만국': 20643, '국경': 20644, '카세트': 20645, '메타': 20646, '마지막방송': 20647, '소담': 20648, '지스': 20649, '나인뮤지스': 20650, '회향': 20651, '김경준': 20652, '버킷': 20653, '맹인': 20654, '오덕후': 20655, '모정': 20656, '염복': 20657, '만사': 20658, '비협': 20659, '부터라도': 20660, '네요': 20661, '설리번': 20662, '부랑': 20663, '판자': 20664, '재밋엇다': 20665, '펭이': 20666, '솜': 20667, '액센트': 20668, 'ibm': 20669, '아엠인빈서블': 20670, '달마': 20671, '동쪽': 20672, '까닭': 20673, '종방': 20674, '교역': 20675, '오타루': 20676, '1998': 20677, '콧소리': 20678, '부자간': 20679, '장렬': 20680, '미스타손': 20681, '방망이': 20682, '휘드르': 20683, '림보': 20684, '몬가모': 20685, '밸': 20686, '무라카미': 20687, '아나이': 20688, 'raw': 20689, '지나버렷': 20690, '신사': 20691, '바론': 20692, '느무느무': 20693, '시티헌터': 20694, '이민호': 20695, '트랙': 20696, '필라': 20697, '물꼬': 20698, '터준': 20699, '정웅인': 20700, '젋군': 20701, 'ㅋㄷ': 20702, '덕택': 20703, '터미널': 20704, '실연': 20705, '56년': 20706, '넷다': 20707, '원치않다': 20708, '에서가': 20709, '24일': 20710, '아테나': 20711, '국초': 20712, '나현희': 20713, '선제': 20714, '동자': 20715, '어버지': 20716, '잔향': 20717, '독도': 20718, '루리웹': 20719, '666': 20720, '장미꽃': 20721, '킬머': 20722, 'power': 20723, '멋진날': 20724, '지름길': 20725, '사진관': 20726, 'american': 20727, 'idiot': 20728, '성악설': 20729, '전원주택': 20730, '가구': 20731, '이빈': 20732, '게더': 20733, '배수빈': 20734, '수험생': 20735, '학업': 20736, '과중': 20737, '고트': 20738, '뚱녀': 20739, '카지노로얄': 20740, '떡하니': 20741, 'hhlhhjhjghlgklgklgkl': 20742, '남부': 20743, '일명': 20744, '마리나': 20745, '꼭바': 20746, '미토': 20747, '클램프': 20748, '킨': 20749, '좌표': 20750, '맹수': 20751, '칼리': 20752, '프로스': 20753, '비엘': 20754, '손호준': 20755, '이나와서': 20756, '괜춘한듯': 20757, '이처럼': 20758, '때때로': 20759, '위윌락유': 20760, '요런': 20761, 'comparison': 20762, 'superb': 20763, '치하': 20764, '때려뿌수': 20765, '이레': 20766, '케낫': 20767, '앤키': 20768, '고름': 20769, '비뚤어지다': 20770, '배후': 20771, '여론조작': 20772, '장장': 20773, 'edm': 20774, '하인': 20775, '가물가물': 20776, '왕치': 20777, '계모': 20778, '엄마젖': 20779, '쿵쿵': 20780, '야속하다': 20781, '개재': 20782, '아릅답다': 20783, 'memento': 20784, '만에정말재밌게': 20785, '멧': 20786, '일률': 20787, '기구': 20788, '니체': 20789, '박상륭': 20790, '쫭': 20791, '데뷰': 20792, '하드캐리': 20793, '1982년': 20794, '트론': 20795, '룩스': 20796, '문정혁': 20797, '이솜': 20798, '근육': 20799, '종군기자': 20800, '에게다': 20801, '어쩌니마': 20802, '숭': 20803, '바바': 20804, '아심': 20805, '하연수': 20806, '좋아흐규흐규': 20807, '874': 20808, '찌끄레기들': 20809, '동양철학': 20810, '위쇼': 20811, '에스엪': 20812, '마왕': 20813, '너구리': 20814, '셰릴': 20815, '대관': 20816, '재빨리': 20817, '주기철': 20818, '악질': 20819, '팝핀현준': 20820, '하은': 20821, '장은중': 20822, '자영': 20823, '쩌렇': 20824, 'cnm': 20825, '별세': 20826, '낚일뻔': 20827, '못만듬': 20828, '잘빠지다': 20829, '이력서': 20830, '진골': 20831, '파이스토리': 20832, '유천': 20833, '브람스': 20834, '마카로니': 20835, '선두': 20836, '에리오': 20837, '즌으로빨리': 20838, '훨나아': 20839, '티비영화': 20840, '안나왓': 20841, '광개토태왕': 20842, '임꺽정': 20843, '책사': 20844, '서림': 20845, '슬펏음': 20846, '테드': 20847, '두베': 20848, '이꽉차있음': 20849, '기차씬': 20850, '양동이': 20851, '엄': 20852, '옥택연': 20853, '니코니코니': 20854, '니코니': 20855, '뵨': 20856, 'eh': 20857, '니노미야': 20858, '처녀작': 20859, '600년': 20860, '후에도': 20861, '무제한': 20862, '컨트리송': 20863, '민요': 20864, 'ccm': 20865, '10원': 20866, '래는': 20867, '펠레': 20868, '베른': 20869, '이능룡': 20870, '닠': 20871, '백현': 20872, '무아': 20873, '릅답': 20874, '월전': 20875, '호홉': 20876, '토닥토닥': 20877, '신혜성': 20878, '반짝이다': 20879, '고다': 20880, '티끌': 20881, '속세': 20882, '흠씬': 20883, '봤네옄': 20884, '밤새우다': 20885, '본겁': 20886, '어데': 20887, '나왓': 20888, '10회': 20889, 'beyond': 20890, '달려오다': 20891, '말짱': 20892, '고스트라이더': 20893, '중고': 20894, '김씨표류기': 20895, '떡국': 20896, '안드': 20897, '뭉클뭉쿨': 20898, '거제도': 20899, 'ㅠㅠㅠㅠㅠㅠㅠㅠㅠㅠㅠㅠ': 20900, '거제': 20901, '도민': 20902, '유주얼서스펙트': 20903, 'abba': 20904, '꾸몃는데': 20905, '지심': 20906, '순영': 20907, '라임': 20908, '인디밴드': 20909, '머리글': 20910, '역임': 20911, '해밀턴': 20912, '85분': 20913, '흐헉': 20914, '소리내다': 20915, '솟구치다': 20916, '엄청재밋다': 20917, '을거': 20918, '펀집': 20919, '요시히코': 20920, '는다': 20921, '베이스': 20922, '붕어빵': 20923, '34회': 20924, '놀드형님': 20925, '코만도': 20926, '열흘': 20927, '텐진': 20928, '물감': 20929, '집주인': 20930, 'sihooyour': 20931, 'come': 20932, 'on': 20933, 'impressive': 20934, 'moved': 20935, 'lot': 20936, 'by': 20937, '중호': 20938, '주루룩': 20939, '땔': 20940, '스내치': 20941, '장음': 20942, '취음': 20943, '떨이': 20944, '쟤내': 20945, '진단': 20946, '꿋꿋': 20947, '으로밖에': 20948, '으이': 20949, '진짜재밋': 20950, '조만간': 20951, '오슬로': 20952, '토니스타크': 20953, '로버': 20954, '튿': 20955, '신의한수': 20956, '다이어리': 20957, '530': 20958, 'gp': 20959, '빅마마': 20960, '방아쇠': 20961, '검지': 20962}\n"
          ],
          "name": "stdout"
        }
      ]
    },
    {
      "cell_type": "markdown",
      "metadata": {
        "id": "5tj7SpMzDx-E"
      },
      "source": [
        "길이 0 인 문장 제거"
      ]
    },
    {
      "cell_type": "code",
      "metadata": {
        "id": "9RI8hR__DWtH"
      },
      "source": [
        "drop_train = [index for index, sentence in enumerate(X_train) if len(sentence) < 1]\n",
        "drop_val = [index for index, sentence in enumerate(X_val) if len(sentence) < 1]\n",
        "drop_test = [index for index, sentence in enumerate(X_test) if len(sentence) < 1]"
      ],
      "execution_count": null,
      "outputs": []
    },
    {
      "cell_type": "code",
      "metadata": {
        "id": "P-Q6Xt5oDfut"
      },
      "source": [
        "X_train = np.delete(X_train, drop_train, axis=0)\n",
        "y_train = np.delete(y_train, drop_train, axis=0)\n",
        "\n",
        "X_val = np.delete(X_val, drop_val, axis=0)\n",
        "y_val = np.delete(y_val, drop_val, axis=0)\n",
        "\n",
        "X_test = np.delete(X_test, drop_test, axis=0)\n",
        "y_test = np.delete(y_test, drop_test, axis=0)"
      ],
      "execution_count": null,
      "outputs": []
    },
    {
      "cell_type": "code",
      "metadata": {
        "colab": {
          "base_uri": "https://localhost:8080/"
        },
        "id": "gu-RFrKwDt9R",
        "outputId": "e68b7320-381e-4322-a630-6e8e36d6cc8a"
      },
      "source": [
        "X_train.shape, X_val.shape, X_test.shape"
      ],
      "execution_count": null,
      "outputs": [
        {
          "output_type": "execute_result",
          "data": {
            "text/plain": [
              "((14000,), (3000,), (3000,))"
            ]
          },
          "metadata": {
            "tags": []
          },
          "execution_count": 217
        }
      ]
    },
    {
      "cell_type": "markdown",
      "metadata": {
        "id": "RPzcGoQmBxgA"
      },
      "source": [
        "패딩: max length에 맞추어 길이 통일"
      ]
    },
    {
      "cell_type": "code",
      "metadata": {
        "colab": {
          "base_uri": "https://localhost:8080/"
        },
        "id": "Nl41onRQBTHP",
        "outputId": "18b511ea-c3b4-4983-afeb-55343e29adb0"
      },
      "source": [
        "print('리뷰의 최대 길이 :',max(len(l) for l in X_train))"
      ],
      "execution_count": null,
      "outputs": [
        {
          "output_type": "stream",
          "text": [
            "리뷰의 최대 길이 : 39\n"
          ],
          "name": "stdout"
        }
      ]
    },
    {
      "cell_type": "code",
      "metadata": {
        "id": "i4Bs9XJbBkof"
      },
      "source": [
        "max_len = 39\n",
        "X_train = pad_sequences(X_train, maxlen = max_len)\n",
        "X_val = pad_sequences(X_val, maxlen = max_len)\n",
        "X_test = pad_sequences(X_test, maxlen = max_len)"
      ],
      "execution_count": null,
      "outputs": []
    },
    {
      "cell_type": "code",
      "metadata": {
        "id": "tHfDevyfFw38"
      },
      "source": [
        ""
      ],
      "execution_count": null,
      "outputs": []
    },
    {
      "cell_type": "markdown",
      "metadata": {
        "id": "I5ADszoKENim"
      },
      "source": [
        "### 모델"
      ]
    },
    {
      "cell_type": "code",
      "metadata": {
        "colab": {
          "base_uri": "https://localhost:8080/"
        },
        "id": "clW3-2EzBm9O",
        "outputId": "5a99d5c8-cd9f-446a-8ef4-26724418ed4f"
      },
      "source": [
        "many_to_one = tf.keras.Sequential([\n",
        "    tf.keras.layers.Embedding(vocab_size, 100),\n",
        "    tf.keras.layers.LSTM(128,  return_sequences=False),\n",
        "    tf.keras.layers.Dense(1)\n",
        "])\n",
        "\n",
        "many_to_one.compile(loss=tf.keras.losses.BinaryCrossentropy(from_logits=True),\n",
        "              optimizer=tf.keras.optimizers.RMSprop(1e-4),\n",
        "              metrics=['accuracy'])\n",
        "\n",
        "many_to_one.summary()\n"
      ],
      "execution_count": null,
      "outputs": [
        {
          "output_type": "stream",
          "text": [
            "Model: \"sequential_6\"\n",
            "_________________________________________________________________\n",
            "Layer (type)                 Output Shape              Param #   \n",
            "=================================================================\n",
            "embedding_6 (Embedding)      (None, None, 100)         795700    \n",
            "_________________________________________________________________\n",
            "lstm_6 (LSTM)                (None, 128)               117248    \n",
            "_________________________________________________________________\n",
            "dense_6 (Dense)              (None, 1)                 129       \n",
            "=================================================================\n",
            "Total params: 913,077\n",
            "Trainable params: 913,077\n",
            "Non-trainable params: 0\n",
            "_________________________________________________________________\n"
          ],
          "name": "stdout"
        }
      ]
    },
    {
      "cell_type": "code",
      "metadata": {
        "colab": {
          "base_uri": "https://localhost:8080/"
        },
        "id": "qwfOswoCEUEH",
        "outputId": "8b0eaa36-b93b-4fcb-dfef-214e37e5b440"
      },
      "source": [
        "history = many_to_one.fit(X_train, y_train.values, epochs=10, validation_data=(X_val, y_val.values))"
      ],
      "execution_count": null,
      "outputs": [
        {
          "output_type": "stream",
          "text": [
            "Epoch 1/10\n",
            "438/438 [==============================] - 9s 21ms/step - loss: 0.6923 - accuracy: 0.5000 - val_loss: 0.6905 - val_accuracy: 0.5000\n",
            "Epoch 2/10\n",
            "438/438 [==============================] - 9s 20ms/step - loss: 0.6812 - accuracy: 0.5026 - val_loss: 0.6698 - val_accuracy: 0.5240\n",
            "Epoch 3/10\n",
            "438/438 [==============================] - 9s 20ms/step - loss: 0.6504 - accuracy: 0.5489 - val_loss: 0.6428 - val_accuracy: 0.5507\n",
            "Epoch 4/10\n",
            "438/438 [==============================] - 9s 20ms/step - loss: 0.6269 - accuracy: 0.5868 - val_loss: 0.6398 - val_accuracy: 0.5560\n",
            "Epoch 5/10\n",
            "438/438 [==============================] - 9s 20ms/step - loss: 0.6093 - accuracy: 0.6119 - val_loss: 0.6210 - val_accuracy: 0.5870\n",
            "Epoch 6/10\n",
            "438/438 [==============================] - 9s 20ms/step - loss: 0.5946 - accuracy: 0.6327 - val_loss: 0.6108 - val_accuracy: 0.5997\n",
            "Epoch 7/10\n",
            "438/438 [==============================] - 9s 20ms/step - loss: 0.5813 - accuracy: 0.6471 - val_loss: 0.6060 - val_accuracy: 0.6177\n",
            "Epoch 8/10\n",
            "438/438 [==============================] - 9s 21ms/step - loss: 0.5724 - accuracy: 0.6537 - val_loss: 0.6020 - val_accuracy: 0.6170\n",
            "Epoch 9/10\n",
            "438/438 [==============================] - 9s 21ms/step - loss: 0.5652 - accuracy: 0.6636 - val_loss: 0.6043 - val_accuracy: 0.6477\n",
            "Epoch 10/10\n",
            "438/438 [==============================] - 9s 21ms/step - loss: 0.5583 - accuracy: 0.6680 - val_loss: 0.6038 - val_accuracy: 0.6320\n"
          ],
          "name": "stdout"
        }
      ]
    },
    {
      "cell_type": "markdown",
      "metadata": {
        "id": "QdJQteYkMysR"
      },
      "source": [
        "### 학습 시각화"
      ]
    },
    {
      "cell_type": "code",
      "metadata": {
        "colab": {
          "base_uri": "https://localhost:8080/",
          "height": 534
        },
        "id": "aDcmHdlqEqJs",
        "outputId": "9def0b22-e413-4c13-953b-9dc84eab785b"
      },
      "source": [
        "import matplotlib.pyplot as plt\n",
        "\n",
        "pd.DataFrame({'acc':history.history['accuracy'], 'val_acc':history.history['val_accuracy']}).plot()\n",
        "pd.DataFrame({'loss':history.history['loss'], 'val_acc':history.history['val_loss']}).plot()\n",
        "\n",
        "\n"
      ],
      "execution_count": null,
      "outputs": [
        {
          "output_type": "execute_result",
          "data": {
            "text/plain": [
              "<matplotlib.axes._subplots.AxesSubplot at 0x7f2956ac2cf8>"
            ]
          },
          "metadata": {
            "tags": []
          },
          "execution_count": 280
        },
        {
          "output_type": "display_data",
          "data": {
            "image/png": "[encoded data removed]",
            "text/plain": [
              "<Figure size 432x288 with 1 Axes>"
            ]
          },
          "metadata": {
            "tags": [],
            "needs_background": "light"
          }
        },
        {
          "output_type": "display_data",
          "data": {
            "image/png": "[encoded data removed]",
            "text/plain": [
              "<Figure size 432x288 with 1 Axes>"
            ]
          },
          "metadata": {
            "tags": [],
            "needs_background": "light"
          }
        }
      ]
    },
    {
      "cell_type": "markdown",
      "metadata": {
        "id": "y4dIJh46M2Fb"
      },
      "source": [
        "### 예측"
      ]
    },
    {
      "cell_type": "code",
      "metadata": {
        "colab": {
          "base_uri": "https://localhost:8080/"
        },
        "id": "i8i4h95EJKSY",
        "outputId": "64e55349-c42b-43c4-b1a4-85c4ae1159d3"
      },
      "source": [
        "# test accuracy\n",
        "y_pred = pd.Series(many_to_one.predict(X_test).reshape(-1,)).map(lambda x: 1 if x>0 else 0)\n",
        "np.mean(y_pred.values == y_test.values)"
      ],
      "execution_count": null,
      "outputs": [
        {
          "output_type": "execute_result",
          "data": {
            "text/plain": [
              "0.6603333333333333"
            ]
          },
          "metadata": {
            "tags": []
          },
          "execution_count": 305
        }
      ]
    },
    {
      "cell_type": "code",
      "metadata": {
        "id": "AL4pc0NqHIGi"
      },
      "source": [
        "def sentiment_predict(new_sentence):\n",
        "  new_sentence = okt.morphs(new_sentence, stem=True) # 토큰화\n",
        "  new_sentence = [word for word in new_sentence if not word in stopwords] # 불용어 제거\n",
        "  encoded = tokenizer.texts_to_sequences([new_sentence]) # 정수 인코딩\n",
        "  pad_new = pad_sequences(encoded, maxlen = max_len) # 패딩\n",
        "  score = float(many_to_one.predict(pad_new)) # 예측\n",
        "  if(score > 0):\n",
        "    print(\"긍정 리뷰입니다\")\n",
        "  else:\n",
        "    print(\"부정 리뷰입니다\")"
      ],
      "execution_count": null,
      "outputs": []
    },
    {
      "cell_type": "code",
      "metadata": {
        "colab": {
          "base_uri": "https://localhost:8080/"
        },
        "id": "6BYa0-cyId15",
        "outputId": "6d8fe796-a363-4bc8-aaa7-d00b57ed8c42"
      },
      "source": [
        "sentiment_predict('이 영화 개노잼')"
      ],
      "execution_count": null,
      "outputs": [
        {
          "output_type": "stream",
          "text": [
            "부정 리뷰입니다\n"
          ],
          "name": "stdout"
        }
      ]
    },
    {
      "cell_type": "code",
      "metadata": {
        "colab": {
          "base_uri": "https://localhost:8080/"
        },
        "id": "zKLxx2apJFov",
        "outputId": "89de68bf-0002-41cf-b806-004c3cf0342a"
      },
      "source": [
        "sentiment_predict('이 영화 개꿀잼')"
      ],
      "execution_count": null,
      "outputs": [
        {
          "output_type": "stream",
          "text": [
            "긍정 리뷰입니다\n"
          ],
          "name": "stdout"
        }
      ]
    },
    {
      "cell_type": "code",
      "metadata": {
        "id": "ZOl9dOqXKNsr"
      },
      "source": [
        ""
      ],
      "execution_count": null,
      "outputs": []
    },
    {
      "cell_type": "markdown",
      "metadata": {
        "id": "EYt3-iBnLNpO"
      },
      "source": [
        "# CNN"
      ]
    },
    {
      "cell_type": "markdown",
      "metadata": {
        "id": "b9ujdQ4EMvqP"
      },
      "source": [
        "### 모델"
      ]
    },
    {
      "cell_type": "code",
      "metadata": {
        "id": "JFP9kOMBKQgB"
      },
      "source": [
        "from tensorflow.keras.models import Sequential\n",
        "from tensorflow.keras.layers import Embedding, Dropout, Conv1D, GlobalMaxPooling1D, Dense\n",
        "from tensorflow.keras.callbacks import EarlyStopping, ModelCheckpoint\n",
        "from tensorflow.keras.models import load_model"
      ],
      "execution_count": null,
      "outputs": []
    },
    {
      "cell_type": "code",
      "metadata": {
        "id": "PZ-JB2QDLUOJ"
      },
      "source": [
        "embedding_dim = 256\n",
        "batch_size = 256\n",
        "\n",
        "many_to_one = tf.keras.Sequential([\n",
        "    tf.keras.layers.Embedding(vocab_size, 100),\n",
        "    tf.keras.layers.LSTM(128,  return_sequences=False),\n",
        "    tf.keras.layers.Dense(1)\n",
        "])\n"
      ],
      "execution_count": null,
      "outputs": []
    },
    {
      "cell_type": "code",
      "metadata": {
        "colab": {
          "base_uri": "https://localhost:8080/"
        },
        "id": "0lZv3vC1LWOF",
        "outputId": "a77059dc-9b7b-4cbf-d513-73010c12d602"
      },
      "source": [
        "model = tf.keras.Sequential([\n",
        "      tf.keras.layers.Embedding(vocab_size, 256),\n",
        "      tf.keras.layers.Dropout(0.3),\n",
        "      tf.keras.layers.Conv1D(256, 3, padding='valid', activation='relu'),\n",
        "      tf.keras.layers.GlobalMaxPooling1D(),\n",
        "      tf.keras.layers.Dense(128, activation='relu'),\n",
        "      tf.keras.layers.Dropout(0.5),\n",
        "      tf.keras.layers.Dense(1, activation='sigmoid')\n",
        "])\n",
        "model.compile(loss=tf.keras.losses.BinaryCrossentropy(from_logits=True),\n",
        "              optimizer=tf.keras.optimizers.Adam(1e-4),\n",
        "              metrics=['accuracy'])\n",
        "\n",
        "model.summary()"
      ],
      "execution_count": null,
      "outputs": [
        {
          "output_type": "stream",
          "text": [
            "Model: \"sequential_7\"\n",
            "_________________________________________________________________\n",
            "Layer (type)                 Output Shape              Param #   \n",
            "=================================================================\n",
            "embedding_7 (Embedding)      (None, None, 256)         2036992   \n",
            "_________________________________________________________________\n",
            "dropout (Dropout)            (None, None, 256)         0         \n",
            "_________________________________________________________________\n",
            "conv1d (Conv1D)              (None, None, 256)         196864    \n",
            "_________________________________________________________________\n",
            "global_max_pooling1d (Global (None, 256)               0         \n",
            "_________________________________________________________________\n",
            "dense_7 (Dense)              (None, 128)               32896     \n",
            "_________________________________________________________________\n",
            "dropout_1 (Dropout)          (None, 128)               0         \n",
            "_________________________________________________________________\n",
            "dense_8 (Dense)              (None, 1)                 129       \n",
            "=================================================================\n",
            "Total params: 2,266,881\n",
            "Trainable params: 2,266,881\n",
            "Non-trainable params: 0\n",
            "_________________________________________________________________\n"
          ],
          "name": "stdout"
        }
      ]
    },
    {
      "cell_type": "code",
      "metadata": {
        "colab": {
          "base_uri": "https://localhost:8080/"
        },
        "id": "5iY1-cWzL35k",
        "outputId": "9893cfa2-7917-4352-d3ed-9d4cc02d3071"
      },
      "source": [
        "history = model.fit(X_train, y_train.values, epochs=10, validation_data=(X_val, y_val.values))"
      ],
      "execution_count": null,
      "outputs": [
        {
          "output_type": "stream",
          "text": [
            "Epoch 1/10\n",
            "438/438 [==============================] - 9s 21ms/step - loss: 0.6964 - accuracy: 0.5000 - val_loss: 0.6933 - val_accuracy: 0.5000\n",
            "Epoch 2/10\n",
            "438/438 [==============================] - 9s 20ms/step - loss: 0.6932 - accuracy: 0.5000 - val_loss: 0.6931 - val_accuracy: 0.5000\n",
            "Epoch 3/10\n",
            "438/438 [==============================] - 9s 20ms/step - loss: 0.6932 - accuracy: 0.5000 - val_loss: 0.6931 - val_accuracy: 0.5000\n",
            "Epoch 4/10\n",
            "438/438 [==============================] - 9s 20ms/step - loss: 0.6931 - accuracy: 0.5000 - val_loss: 0.6930 - val_accuracy: 0.5000\n",
            "Epoch 5/10\n",
            "438/438 [==============================] - 9s 20ms/step - loss: 0.6931 - accuracy: 0.5000 - val_loss: 0.6928 - val_accuracy: 0.5000\n",
            "Epoch 6/10\n",
            "438/438 [==============================] - 9s 20ms/step - loss: 0.6828 - accuracy: 0.5408 - val_loss: 0.6781 - val_accuracy: 0.5853\n",
            "Epoch 7/10\n",
            "438/438 [==============================] - 9s 20ms/step - loss: 0.6597 - accuracy: 0.6247 - val_loss: 0.6650 - val_accuracy: 0.6277\n",
            "Epoch 8/10\n",
            "438/438 [==============================] - 9s 20ms/step - loss: 0.6401 - accuracy: 0.6819 - val_loss: 0.6606 - val_accuracy: 0.6390\n",
            "Epoch 9/10\n",
            "438/438 [==============================] - 9s 20ms/step - loss: 0.6274 - accuracy: 0.7131 - val_loss: 0.6607 - val_accuracy: 0.6397\n",
            "Epoch 10/10\n",
            "438/438 [==============================] - 9s 20ms/step - loss: 0.6202 - accuracy: 0.7289 - val_loss: 0.6614 - val_accuracy: 0.6407\n"
          ],
          "name": "stdout"
        }
      ]
    },
    {
      "cell_type": "markdown",
      "metadata": {
        "id": "v4G-iKyCM6Oy"
      },
      "source": [
        "### 학습시각화"
      ]
    },
    {
      "cell_type": "code",
      "metadata": {
        "colab": {
          "base_uri": "https://localhost:8080/",
          "height": 535
        },
        "id": "YICPyt0TL5o0",
        "outputId": "cbb6171f-dca2-489c-c64b-c349ff38ef14"
      },
      "source": [
        "import matplotlib.pyplot as plt\n",
        "\n",
        "pd.DataFrame({'acc':history.history['accuracy'], 'val_acc':history.history['val_accuracy']}).plot()\n",
        "pd.DataFrame({'loss':history.history['loss'], 'val_acc':history.history['val_loss']}).plot()"
      ],
      "execution_count": null,
      "outputs": [
        {
          "output_type": "execute_result",
          "data": {
            "text/plain": [
              "<matplotlib.axes._subplots.AxesSubplot at 0x7f295658e9b0>"
            ]
          },
          "metadata": {
            "tags": []
          },
          "execution_count": 317
        },
        {
          "output_type": "display_data",
          "data": {
            "image/png": "[encoded data removed]",
            "text/plain": [
              "<Figure size 432x288 with 1 Axes>"
            ]
          },
          "metadata": {
            "tags": [],
            "needs_background": "light"
          }
        },
        {
          "output_type": "display_data",
          "data": {
            "image/png": "[encoded data removed]",
            "text/plain": [
              "<Figure size 432x288 with 1 Axes>"
            ]
          },
          "metadata": {
            "tags": [],
            "needs_background": "light"
          }
        }
      ]
    },
    {
      "cell_type": "markdown",
      "metadata": {
        "id": "97Xl9ESbM79l"
      },
      "source": [
        "### 예측"
      ]
    },
    {
      "cell_type": "code",
      "metadata": {
        "colab": {
          "base_uri": "https://localhost:8080/"
        },
        "id": "zs5xCYznL-rs",
        "outputId": "2f9bfd50-bf86-4470-ee56-70a6d224f9e8"
      },
      "source": [
        "# test accuracy\n",
        "y_pred = pd.Series(model.predict(X_test).reshape(-1,)).map(lambda x: 1 if x>0 else 0)\n",
        "np.mean(y_pred.values == y_test.values)"
      ],
      "execution_count": null,
      "outputs": [
        {
          "output_type": "execute_result",
          "data": {
            "text/plain": [
              "0.5"
            ]
          },
          "metadata": {
            "tags": []
          },
          "execution_count": 319
        }
      ]
    },
    {
      "cell_type": "code",
      "metadata": {
        "id": "aQSbNKWZMBl8"
      },
      "source": [
        "def sentiment_predict(new_sentence):\n",
        "  new_sentence = okt.morphs(new_sentence, stem=True) # 토큰화\n",
        "  new_sentence = [word for word in new_sentence if not word in stopwords] # 불용어 제거\n",
        "  encoded = tokenizer.texts_to_sequences([new_sentence]) # 정수 인코딩\n",
        "  pad_new = pad_sequences(encoded, maxlen = max_len) # 패딩\n",
        "  score = float(model.predict(pad_new)) # 예측\n",
        "  print(score)\n",
        "  if(score > 0.5):\n",
        "    print(\"긍정 리뷰입니다\")\n",
        "  else:\n",
        "    print(\"부정 리뷰입니다\")"
      ],
      "execution_count": null,
      "outputs": []
    },
    {
      "cell_type": "code",
      "metadata": {
        "colab": {
          "base_uri": "https://localhost:8080/"
        },
        "id": "TEe0QUrgMa63",
        "outputId": "07eb5b43-9c7e-48c2-9baf-96ef7dcbac81"
      },
      "source": [
        "sentiment_predict('이 영화 개노잼')"
      ],
      "execution_count": null,
      "outputs": [
        {
          "output_type": "stream",
          "text": [
            "0.0009645057725720108\n",
            "부정 리뷰입니다\n"
          ],
          "name": "stdout"
        }
      ]
    },
    {
      "cell_type": "code",
      "metadata": {
        "colab": {
          "base_uri": "https://localhost:8080/"
        },
        "id": "Tof0gaR2Mibo",
        "outputId": "74380dec-c7dc-402a-b0a7-58828593c1aa"
      },
      "source": [
        "sentiment_predict('이 영화 개꿀잼')"
      ],
      "execution_count": null,
      "outputs": [
        {
          "output_type": "stream",
          "text": [
            "0.8085392713546753\n",
            "긍정 리뷰입니다\n"
          ],
          "name": "stdout"
        }
      ]
    }
  ]
}