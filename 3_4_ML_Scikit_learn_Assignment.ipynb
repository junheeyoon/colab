{
  "nbformat": 4,
  "nbformat_minor": 0,
  "metadata": {
    "colab": {
      "name": "3-4.ML - Scikit-learn Assignment.ipynb",
      "private_outputs": true,
      "provenance": [],
      "authorship_tag": "ABX9TyPcZrsbEZs8VBao1r2oQNjd",
      "include_colab_link": true
    },
    "kernelspec": {
      "name": "python3",
      "display_name": "Python 3"
    }
  },
  "cells": [
    {
      "cell_type": "markdown",
      "metadata": {
        "id": "view-in-github",
        "colab_type": "text"
      },
      "source": [
        "<a href=\"https://colab.research.google.com/github/junheeyoon/colab/blob/main/3_4_ML_Scikit_learn_Assignment.ipynb\" target=\"_parent\"><img src=\"https://colab.research.google.com/assets/colab-badge.svg\" alt=\"Open In Colab\"/></a>"
      ]
    },
    {
      "cell_type": "markdown",
      "metadata": {
        "id": "q7pxMEnP64uF"
      },
      "source": [
        "# 데이터 읽기"
      ]
    },
    {
      "cell_type": "code",
      "metadata": {
        "id": "o2-nXBLr6QbC"
      },
      "source": [
        "from google.colab import drive\r\n",
        "drive.mount('/content/drive')"
      ],
      "execution_count": null,
      "outputs": []
    },
    {
      "cell_type": "code",
      "metadata": {
        "id": "Okfy9u717Bze"
      },
      "source": [
        "# 현재 경로 확인\r\n",
        "import os\r\n",
        "print(os.path.abspath(os.curdir))\r\n",
        "\r\n",
        "# Root 경로 설정\r\n",
        "import os\r\n",
        "os.chdir('/content/drive/MyDrive/데이터분석')"
      ],
      "execution_count": null,
      "outputs": []
    },
    {
      "cell_type": "markdown",
      "metadata": {
        "id": "QLMXVaqi7ITl"
      },
      "source": [
        "1) 데이터 읽기"
      ]
    },
    {
      "cell_type": "code",
      "metadata": {
        "id": "58BqxVIE7D_p"
      },
      "source": [
        "import pandas as pd\r\n",
        "path_to_data = './data/Titanic/train.csv'\r\n",
        "df = pd.read_csv(path_to_data, encoding='cp949')\r\n",
        "\r\n",
        "# DataFrame type 확인\r\n",
        "df.head()"
      ],
      "execution_count": null,
      "outputs": []
    },
    {
      "cell_type": "markdown",
      "metadata": {
        "id": "wZWQbvhe7GlV"
      },
      "source": [
        "##1. Scikit-learn 과제\r\n",
        "  - 타이타닉 데이터 이용\r\n",
        "  - 생존 확률을 Scikit-learn 의 logistic regression 을 이용하여 학습 & 모델을 만들 것"
      ]
    },
    {
      "cell_type": "markdown",
      "metadata": {
        "id": "j0MFi7eoGv0l"
      },
      "source": [
        "###Survived 에 상관관계가 높은 2개의 feature(Sex, Pclass)를 가지고 모델을 만들었습니다."
      ]
    },
    {
      "cell_type": "code",
      "metadata": {
        "id": "DSD5fzxFBkOP"
      },
      "source": [
        "#문자열을 숫자로 변환\r\n",
        "df['Sex'] = df['Sex'].map({'female':1,'male':0})"
      ],
      "execution_count": null,
      "outputs": []
    },
    {
      "cell_type": "code",
      "metadata": {
        "id": "9QF-mOO1CDwP"
      },
      "source": [
        "#feature 분리하기\r\n",
        "df['FirstClass'] = df['Pclass'].apply(lambda x: 1 if x == 1 else 0)\r\n",
        "df['SecondClass'] = df['Pclass'].apply(lambda x: 1 if x == 2 else 0)\r\n",
        "df['ThirdClass'] = df['Pclass'].apply(lambda x: 1 if x == 3 else 0)"
      ],
      "execution_count": null,
      "outputs": []
    },
    {
      "cell_type": "code",
      "metadata": {
        "id": "cnosprGKCawP"
      },
      "source": [
        "features = df[['Sex', 'FirstClass', 'SecondClass', 'ThirdClass']]\r\n",
        "survival = df['Survived']"
      ],
      "execution_count": null,
      "outputs": []
    },
    {
      "cell_type": "code",
      "metadata": {
        "id": "GCQx41VxFNY-"
      },
      "source": [
        "#학습세트/평가세트 분리하기\r\n",
        "from sklearn.model_selection import train_test_split\r\n",
        "\r\n",
        "train_features, test_features, train_labels, test_labels = train_test_split(features, survival)"
      ],
      "execution_count": null,
      "outputs": []
    },
    {
      "cell_type": "code",
      "metadata": {
        "id": "qydDhsTOFhXX"
      },
      "source": [
        "#데이터 정규화(스케일링) 하기\r\n",
        "#로지스틱 회귀는 실행할 때 regularation을 사용하기 때문에 데이터를 스케일링하는 작업이 필요하다.\r\n",
        "from sklearn.preprocessing import StandardScaler\r\n",
        "scaler = StandardScaler()\r\n",
        "\r\n",
        "train_features = scaler.fit_transform(train_features)\r\n",
        "test_features = scaler.transform(test_features)"
      ],
      "execution_count": null,
      "outputs": []
    },
    {
      "cell_type": "code",
      "metadata": {
        "id": "U5g-m6oHGC0M"
      },
      "source": [
        "#LogisticRegression model 생성\r\n",
        "from sklearn.linear_model import LogisticRegression\r\n",
        "\r\n",
        "model = LogisticRegression()\r\n",
        "model.fit(train_features, train_labels)"
      ],
      "execution_count": null,
      "outputs": []
    },
    {
      "cell_type": "code",
      "metadata": {
        "id": "jqky_vz1GL8E"
      },
      "source": [
        "print(model.score(train_features, train_labels))"
      ],
      "execution_count": null,
      "outputs": []
    },
    {
      "cell_type": "code",
      "metadata": {
        "id": "fbTkf4E0GP57"
      },
      "source": [
        "print(model.score(test_features, test_labels))"
      ],
      "execution_count": null,
      "outputs": []
    },
    {
      "cell_type": "code",
      "metadata": {
        "id": "bonFkAV3GUR3"
      },
      "source": [
        "#각 feature들의 계수\r\n",
        "print(model.coef_)"
      ],
      "execution_count": null,
      "outputs": []
    },
    {
      "cell_type": "markdown",
      "metadata": {
        "id": "Q2680HUFHdeK"
      },
      "source": [
        "###예측하기"
      ]
    },
    {
      "cell_type": "code",
      "metadata": {
        "id": "6GGFJFOPHbPd"
      },
      "source": [
        "import numpy as np\r\n",
        "A = np.array([0.0, 1.0, 0.0, 0.0])\r\n",
        "B = np.array([1.0, 0.0, 1.0, 0.0])\r\n",
        "C = np.array([0.0, 0.0, 0.0, 1.0])\r\n",
        "sample_passengers = np.array([A, B, C])\r\n",
        "sample_passengers = scaler.transform(sample_passengers)\r\n",
        "print(model.predict(sample_passengers))\r\n",
        "print(model.predict_proba(sample_passengers))"
      ],
      "execution_count": null,
      "outputs": []
    }
  ]
}