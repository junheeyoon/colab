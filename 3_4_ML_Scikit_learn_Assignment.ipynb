{
  "nbformat": 4,
  "nbformat_minor": 0,
  "metadata": {
    "colab": {
      "name": "3-4.ML - Scikit-learn Assignment.ipynb",
      "provenance": [],
      "authorship_tag": "ABX9TyPOHKP3DxFXMMdQFDm2W8Pq",
      "include_colab_link": true
    },
    "kernelspec": {
      "name": "python3",
      "display_name": "Python 3"
    },
    "accelerator": "GPU"
  },
  "cells": [
    {
      "cell_type": "markdown",
      "metadata": {
        "id": "view-in-github",
        "colab_type": "text"
      },
      "source": [
        "<a href=\"https://colab.research.google.com/github/junheeyoon/colab/blob/main/3_4_ML_Scikit_learn_Assignment.ipynb\" target=\"_parent\"><img src=\"https://colab.research.google.com/assets/colab-badge.svg\" alt=\"Open In Colab\"/></a>"
      ]
    },
    {
      "cell_type": "markdown",
      "metadata": {
        "id": "q7pxMEnP64uF"
      },
      "source": [
        "# 데이터 읽기"
      ]
    },
    {
      "cell_type": "code",
      "metadata": {
        "id": "o2-nXBLr6QbC",
        "colab": {
          "base_uri": "https://localhost:8080/"
        },
        "outputId": "0a665090-043e-4478-e77c-bd556dc57cec"
      },
      "source": [
        "from google.colab import drive\r\n",
        "drive.mount('/content/drive')"
      ],
      "execution_count": 1,
      "outputs": [
        {
          "output_type": "stream",
          "text": [
            "Mounted at /content/drive\n"
          ],
          "name": "stdout"
        }
      ]
    },
    {
      "cell_type": "code",
      "metadata": {
        "id": "Okfy9u717Bze",
        "colab": {
          "base_uri": "https://localhost:8080/"
        },
        "outputId": "11900229-c898-4230-a2f7-b2af4cd5d98f"
      },
      "source": [
        "# 현재 경로 확인\r\n",
        "import os\r\n",
        "print(os.path.abspath(os.curdir))\r\n",
        "\r\n",
        "# Root 경로 설정\r\n",
        "import os\r\n",
        "os.chdir('/content/drive/MyDrive/데이터분석')"
      ],
      "execution_count": 2,
      "outputs": [
        {
          "output_type": "stream",
          "text": [
            "/content\n"
          ],
          "name": "stdout"
        }
      ]
    },
    {
      "cell_type": "markdown",
      "metadata": {
        "id": "QLMXVaqi7ITl"
      },
      "source": [
        "1) 데이터 읽기"
      ]
    },
    {
      "cell_type": "code",
      "metadata": {
        "id": "58BqxVIE7D_p",
        "colab": {
          "base_uri": "https://localhost:8080/",
          "height": 202
        },
        "outputId": "f9b40448-1a47-41b6-c3b7-2c39c688de33"
      },
      "source": [
        "import pandas as pd\r\n",
        "path_to_data = './data/Titanic/train.csv'\r\n",
        "df = pd.read_csv(path_to_data, encoding='cp949')\r\n",
        "\r\n",
        "# DataFrame type 확인\r\n",
        "df.head()"
      ],
      "execution_count": 3,
      "outputs": [
        {
          "output_type": "execute_result",
          "data": {
            "text/html": [
              "<div>\n",
              "<style scoped>\n",
              "    .dataframe tbody tr th:only-of-type {\n",
              "        vertical-align: middle;\n",
              "    }\n",
              "\n",
              "    .dataframe tbody tr th {\n",
              "        vertical-align: top;\n",
              "    }\n",
              "\n",
              "    .dataframe thead th {\n",
              "        text-align: right;\n",
              "    }\n",
              "</style>\n",
              "<table border=\"1\" class=\"dataframe\">\n",
              "  <thead>\n",
              "    <tr style=\"text-align: right;\">\n",
              "      <th></th>\n",
              "      <th>PassengerId</th>\n",
              "      <th>Survived</th>\n",
              "      <th>Pclass</th>\n",
              "      <th>Name</th>\n",
              "      <th>Sex</th>\n",
              "      <th>Age</th>\n",
              "      <th>SibSp</th>\n",
              "      <th>Parch</th>\n",
              "      <th>Ticket</th>\n",
              "      <th>Fare</th>\n",
              "      <th>Cabin</th>\n",
              "      <th>Embarked</th>\n",
              "    </tr>\n",
              "  </thead>\n",
              "  <tbody>\n",
              "    <tr>\n",
              "      <th>0</th>\n",
              "      <td>1</td>\n",
              "      <td>0</td>\n",
              "      <td>3</td>\n",
              "      <td>Braund, Mr. Owen Harris</td>\n",
              "      <td>male</td>\n",
              "      <td>22.0</td>\n",
              "      <td>1</td>\n",
              "      <td>0</td>\n",
              "      <td>A/5 21171</td>\n",
              "      <td>7.2500</td>\n",
              "      <td>NaN</td>\n",
              "      <td>S</td>\n",
              "    </tr>\n",
              "    <tr>\n",
              "      <th>1</th>\n",
              "      <td>2</td>\n",
              "      <td>1</td>\n",
              "      <td>1</td>\n",
              "      <td>Cumings, Mrs. John Bradley (Florence Briggs Th...</td>\n",
              "      <td>female</td>\n",
              "      <td>38.0</td>\n",
              "      <td>1</td>\n",
              "      <td>0</td>\n",
              "      <td>PC 17599</td>\n",
              "      <td>71.2833</td>\n",
              "      <td>C85</td>\n",
              "      <td>C</td>\n",
              "    </tr>\n",
              "    <tr>\n",
              "      <th>2</th>\n",
              "      <td>3</td>\n",
              "      <td>1</td>\n",
              "      <td>3</td>\n",
              "      <td>Heikkinen, Miss. Laina</td>\n",
              "      <td>female</td>\n",
              "      <td>26.0</td>\n",
              "      <td>0</td>\n",
              "      <td>0</td>\n",
              "      <td>STON/O2. 3101282</td>\n",
              "      <td>7.9250</td>\n",
              "      <td>NaN</td>\n",
              "      <td>S</td>\n",
              "    </tr>\n",
              "    <tr>\n",
              "      <th>3</th>\n",
              "      <td>4</td>\n",
              "      <td>1</td>\n",
              "      <td>1</td>\n",
              "      <td>Futrelle, Mrs. Jacques Heath (Lily May Peel)</td>\n",
              "      <td>female</td>\n",
              "      <td>35.0</td>\n",
              "      <td>1</td>\n",
              "      <td>0</td>\n",
              "      <td>113803</td>\n",
              "      <td>53.1000</td>\n",
              "      <td>C123</td>\n",
              "      <td>S</td>\n",
              "    </tr>\n",
              "    <tr>\n",
              "      <th>4</th>\n",
              "      <td>5</td>\n",
              "      <td>0</td>\n",
              "      <td>3</td>\n",
              "      <td>Allen, Mr. William Henry</td>\n",
              "      <td>male</td>\n",
              "      <td>35.0</td>\n",
              "      <td>0</td>\n",
              "      <td>0</td>\n",
              "      <td>373450</td>\n",
              "      <td>8.0500</td>\n",
              "      <td>NaN</td>\n",
              "      <td>S</td>\n",
              "    </tr>\n",
              "  </tbody>\n",
              "</table>\n",
              "</div>"
            ],
            "text/plain": [
              "   PassengerId  Survived  Pclass  ...     Fare Cabin  Embarked\n",
              "0            1         0       3  ...   7.2500   NaN         S\n",
              "1            2         1       1  ...  71.2833   C85         C\n",
              "2            3         1       3  ...   7.9250   NaN         S\n",
              "3            4         1       1  ...  53.1000  C123         S\n",
              "4            5         0       3  ...   8.0500   NaN         S\n",
              "\n",
              "[5 rows x 12 columns]"
            ]
          },
          "metadata": {
            "tags": []
          },
          "execution_count": 3
        }
      ]
    },
    {
      "cell_type": "markdown",
      "metadata": {
        "id": "wZWQbvhe7GlV"
      },
      "source": [
        "##1. Scikit-learn 과제\r\n",
        "  - 타이타닉 데이터 이용\r\n",
        "  - 생존 확률을 Scikit-learn 의 logistic regression 을 이용하여 학습 & 모델을 만들 것"
      ]
    },
    {
      "cell_type": "markdown",
      "metadata": {
        "id": "j0MFi7eoGv0l"
      },
      "source": [
        "###Survived 에 상관관계가 높은 2개의 feature(Sex, Pclass)를 가지고 모델을 만들었습니다."
      ]
    },
    {
      "cell_type": "code",
      "metadata": {
        "id": "DSD5fzxFBkOP"
      },
      "source": [
        "#문자열을 숫자로 변환\r\n",
        "df['Sex'] = df['Sex'].map({'female':1,'male':0})"
      ],
      "execution_count": 4,
      "outputs": []
    },
    {
      "cell_type": "code",
      "metadata": {
        "id": "9QF-mOO1CDwP"
      },
      "source": [
        "#feature 분리하기\r\n",
        "df['FirstClass'] = df['Pclass'].apply(lambda x: 1 if x == 1 else 0)\r\n",
        "df['SecondClass'] = df['Pclass'].apply(lambda x: 1 if x == 2 else 0)\r\n",
        "df['ThirdClass'] = df['Pclass'].apply(lambda x: 1 if x == 3 else 0)"
      ],
      "execution_count": 5,
      "outputs": []
    },
    {
      "cell_type": "code",
      "metadata": {
        "id": "cnosprGKCawP"
      },
      "source": [
        "#features = df[['Sex', 'FirstClass', 'SecondClass', 'ThirdClass']]\r\n",
        "features = df[['Sex']]\r\n",
        "survival = df['Survived']"
      ],
      "execution_count": 6,
      "outputs": []
    },
    {
      "cell_type": "code",
      "metadata": {
        "id": "GCQx41VxFNY-"
      },
      "source": [
        "#학습세트/평가세트 분리하기\r\n",
        "from sklearn.model_selection import train_test_split\r\n",
        "\r\n",
        "train_features, test_features, train_labels, test_labels = train_test_split(features, survival)"
      ],
      "execution_count": 7,
      "outputs": []
    },
    {
      "cell_type": "code",
      "metadata": {
        "id": "qydDhsTOFhXX"
      },
      "source": [
        "#데이터 정규화(스케일링) 하기\r\n",
        "#로지스틱 회귀는 실행할 때 regularation을 사용하기 때문에 데이터를 스케일링하는 작업이 필요하다.\r\n",
        "from sklearn.preprocessing import StandardScaler\r\n",
        "scaler = StandardScaler()\r\n",
        "\r\n",
        "train_features = scaler.fit_transform(train_features)\r\n",
        "test_features = scaler.transform(test_features)"
      ],
      "execution_count": 8,
      "outputs": []
    },
    {
      "cell_type": "code",
      "metadata": {
        "id": "U5g-m6oHGC0M",
        "colab": {
          "base_uri": "https://localhost:8080/"
        },
        "outputId": "aa8dd311-4f4c-4c57-e98a-2db7305f4f8e"
      },
      "source": [
        "#LogisticRegression model 생성\r\n",
        "from sklearn.linear_model import LogisticRegression\r\n",
        "\r\n",
        "model = LogisticRegression()\r\n",
        "model.fit(train_features, train_labels)"
      ],
      "execution_count": 9,
      "outputs": [
        {
          "output_type": "execute_result",
          "data": {
            "text/plain": [
              "LogisticRegression(C=1.0, class_weight=None, dual=False, fit_intercept=True,\n",
              "                   intercept_scaling=1, l1_ratio=None, max_iter=100,\n",
              "                   multi_class='auto', n_jobs=None, penalty='l2',\n",
              "                   random_state=None, solver='lbfgs', tol=0.0001, verbose=0,\n",
              "                   warm_start=False)"
            ]
          },
          "metadata": {
            "tags": []
          },
          "execution_count": 9
        }
      ]
    },
    {
      "cell_type": "code",
      "metadata": {
        "id": "jqky_vz1GL8E",
        "colab": {
          "base_uri": "https://localhost:8080/"
        },
        "outputId": "7f28f7ae-3160-4af7-c3f2-a72ca0756fad"
      },
      "source": [
        "print(model.score(train_features, train_labels))"
      ],
      "execution_count": 10,
      "outputs": [
        {
          "output_type": "stream",
          "text": [
            "0.781437125748503\n"
          ],
          "name": "stdout"
        }
      ]
    },
    {
      "cell_type": "code",
      "metadata": {
        "id": "fbTkf4E0GP57",
        "colab": {
          "base_uri": "https://localhost:8080/"
        },
        "outputId": "6b55bcf7-70ff-4d2c-bb58-50643afd37d3"
      },
      "source": [
        "print(model.score(test_features, test_labels))"
      ],
      "execution_count": 11,
      "outputs": [
        {
          "output_type": "stream",
          "text": [
            "0.8026905829596412\n"
          ],
          "name": "stdout"
        }
      ]
    },
    {
      "cell_type": "code",
      "metadata": {
        "id": "bonFkAV3GUR3",
        "colab": {
          "base_uri": "https://localhost:8080/"
        },
        "outputId": "f24eb211-c911-46a1-daf8-4116acebccba"
      },
      "source": [
        "#각 feature들의 계수\r\n",
        "print(model.coef_)"
      ],
      "execution_count": 12,
      "outputs": [
        {
          "output_type": "stream",
          "text": [
            "[[1.15541411]]\n"
          ],
          "name": "stdout"
        }
      ]
    },
    {
      "cell_type": "markdown",
      "metadata": {
        "id": "Q2680HUFHdeK"
      },
      "source": [
        "###예측하기"
      ]
    },
    {
      "cell_type": "code",
      "metadata": {
        "id": "6GGFJFOPHbPd",
        "colab": {
          "base_uri": "https://localhost:8080/"
        },
        "outputId": "24b1a7d8-e4af-4692-c4d6-730541d2d82b"
      },
      "source": [
        "import numpy as np\r\n",
        "A = np.array([0.0])\r\n",
        "B = np.array([1.0])\r\n",
        "#A = np.array([0.0, 1.0, 0.0, 0.0])\r\n",
        "#B = np.array([1.0, 0.0, 1.0, 0.0])\r\n",
        "#C = np.array([0.0, 0.0, 0.0, 1.0])\r\n",
        "sample_passengers = np.array([A, B])\r\n",
        "sample_passengers = scaler.transform(sample_passengers)\r\n",
        "print(model.predict(sample_passengers))\r\n",
        "print(model.predict_proba(sample_passengers))"
      ],
      "execution_count": 13,
      "outputs": [
        {
          "output_type": "stream",
          "text": [
            "[0 1]\n",
            "[[0.80563073 0.19436927]\n",
            " [0.2684574  0.7315426 ]]\n"
          ],
          "name": "stdout"
        }
      ]
    }
  ]
}