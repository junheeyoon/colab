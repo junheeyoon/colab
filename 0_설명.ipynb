{
  "nbformat": 4,
  "nbformat_minor": 0,
  "metadata": {
    "colab": {
      "name": "0. 설명.ipynb",
      "provenance": [],
      "collapsed_sections": [],
      "include_colab_link": true
    },
    "kernelspec": {
      "name": "python3",
      "display_name": "Python 3"
    }
  },
  "cells": [
    {
      "cell_type": "markdown",
      "metadata": {
        "id": "view-in-github",
        "colab_type": "text"
      },
      "source": [
        "<a href=\"https://colab.research.google.com/github/junheeyoon/colab/blob/main/0_%EC%84%A4%EB%AA%85.ipynb\" target=\"_parent\"><img src=\"https://colab.research.google.com/assets/colab-badge.svg\" alt=\"Open In Colab\"/></a>"
      ]
    },
    {
      "cell_type": "markdown",
      "metadata": {
        "id": "heGIACIbhCcM"
      },
      "source": [
        "# (가제) 3일 기계학습\n",
        "## 목표\n",
        "- 파이썬 기반의 데이터 분석 방법 습득 및 코드 실습 위주\n",
        "- 이론적인 내용은 최대한 배제\n",
        "- 다양한 데이터 전처리 및 분석 경험\n",
        "\n",
        "\n",
        "## 구성\n",
        "1. Google Colaboratory 설명\n",
        "2. Pandas와 한국어 형태소 분석기를 이용한 데이터 전처리\n",
        "3. Scikit-learn 기반의 ML(Machine learning) 분석 \n",
        "  - scikit-learn에서 제공하는 데이터 전처리 및 알고리즘 사용 방법\n",
        "  - Pipeline 사용 방법\n",
        "  - 모델 평가 및 파라미터 최적화\n",
        "  - Voting 방법  \n",
        "4. Tensorflow 기반의 DL(Deep learning) 분석\n",
        "  - 사전 정의된 네트워크 사용\n",
        "  - CNN / RNN\n",
        "  - 불균형 데이터 처리 방법\n",
        "5. 실습을 통한 내용 복습"
      ]
    }
  ]
}