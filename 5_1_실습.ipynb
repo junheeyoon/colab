{
  "nbformat": 4,
  "nbformat_minor": 0,
  "metadata": {
    "colab": {
      "name": "5-1. 실습.ipynb",
      "provenance": [],
      "include_colab_link": true
    },
    "kernelspec": {
      "name": "python3",
      "display_name": "Python 3"
    }
  },
  "cells": [
    {
      "cell_type": "markdown",
      "metadata": {
        "id": "view-in-github",
        "colab_type": "text"
      },
      "source": [
        "<a href=\"https://colab.research.google.com/github/junheeyoon/colab/blob/master/5_1_%EC%8B%A4%EC%8A%B5.ipynb\" target=\"_parent\"><img src=\"https://colab.research.google.com/assets/colab-badge.svg\" alt=\"Open In Colab\"/></a>"
      ]
    },
    {
      "cell_type": "markdown",
      "metadata": {
        "id": "8Qv3Q4FtAXI7"
      },
      "source": [
        "# 실습\n",
        "\n",
        "### 1. 내용\n",
        "텍스트 데이터에 대한 분석 실습 과정을 진행. 분석 데이터는 네이버 영화 리뷰 감성 코퍼스를 활용.\n",
        "\n",
        "[Naver sentiment movie corpus](https://github.com/e9t/nsmc/)\n",
        "\n",
        "\n",
        "\n",
        "\n",
        "### 2. 분석 \n",
        "1. Git을 이용하여 데이터 다운로드\n",
        "2. Google drive mount 후 Kaggle 데이터 업로드\n",
        "3. 분석 데이터는 Drive 업로드한 데이터 활용\n",
        "4. 분석\n",
        "  - 데이터 탐색 시각화\n",
        "    - 데이터에 대한 자유로운 탐색 및 시각화(단, 탐색을 진행한 개인적인 이유 기재)\n",
        "  - 데이터 전처리\n",
        "    - Pandas와 Konlpy/Khaiii를 이용하여 데이터 전처리\n",
        "\n",
        "  - 데이터 모델링\n",
        "    - ML: \n",
        "      - Pipeline을 이용하여 최소 3개의 ML 모델에 학습\n",
        "        - 각 모델의 결과를 cross-validation으로 평가\n",
        "        - train, test 셋으로 학습 및 평가 진행\n",
        "      - 3개의 모델 결과에 대한 parameter optimization 진행\n",
        "      - 3개의 모델 결과를 hard voting과 soft voting으로 결합\n",
        "    - DL\n",
        "      - CNN, RNN을 이용하여 2개의 네트워크 구성 및 학습\n",
        "        - 네트워크의 구조 및 깊이는 자유\n",
        "        - train, validation, test 셋으로 학습 및 평가 진행\n",
        "        - CNN을 이용한 text 분석 참고 링크\n",
        "          - 개념: [논문](http://emnlp2014.org/papers/pdf/EMNLP2014181.pdf)/[블로그](https://ratsgo.github.io/natural%20language%20processing/2017/03/19/CNN/)\n",
        "          - 코드: [Github](https://github.com/ShaneTian/TextCNN) \n",
        "        - RNN을 이용한 text 분석 참고 링크\n",
        "          - 코드 및 개념: [Wikidocs](https://wikidocs.net/44249)\n",
        "      - 학습과정 history 시각화 진행\n",
        "\n",
        "\n",
        "5. 분석 후, 소스코드는 개인 Git에 upload"
      ]
    },
    {
      "cell_type": "code",
      "metadata": {
        "id": "KnK1jVbPAV2D"
      },
      "source": [
        ""
      ],
      "execution_count": null,
      "outputs": []
    }
  ]
}